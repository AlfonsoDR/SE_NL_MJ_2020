{
 "cells": [
  {
   "cell_type": "code",
   "execution_count": 15,
   "metadata": {
    "collapsed": true
   },
   "outputs": [],
   "source": [
    "import numpy as np\n",
    "import matplotlib.pyplot as plt\n",
    "import scipy.stats\n",
    "import seaborn as sns\n",
    "import scipy.io\n",
    "import time\n",
    "#from progress.bar import Bar\n",
    "\n",
    "sns.set()\n",
    "sns.set_style(\"white\")\n",
    "\n",
    "%matplotlib inline\n"
   ]
  },
  {
   "cell_type": "code",
   "execution_count": null,
   "metadata": {
    "collapsed": true
   },
   "outputs": [],
   "source": [
    "## Sensory anticipation module (SAM) implementation"
   ]
  },
  {
   "cell_type": "markdown",
   "metadata": {},
   "source": [
    "### Description of the SAM"
   ]
  },
  {
   "cell_type": "markdown",
   "metadata": {},
   "source": [
    "At a high level, the simulation alternates between two states which is encoded by a variable `s`. In the setup, `u` and `v` are two neurons that mutually inhibit each other according to this dynamics:\n",
    "\n",
    "$$ \\tau\\frac{du}{dt} = -u + \\theta \\ (W_{uI}I - W_{uv}v - sI_F)$$\n",
    "\n",
    "Similarly for $v$,\n",
    "\n",
    "$$ \\tau\\frac{dv}{dt} = -v + \\theta \\ (W_{vI}I - W_{vu}u + sI_F)$$\n",
    "\n",
    "$y$ and $z$ are read-out neurons. $y$ measures the difference between $u$ and $v$ and $z$ measures the deviation of $y$ from the threshold $y_0$.\n",
    "\n",
    "$$ \\tau\\frac{dy}{dt} = -y + u - v $$\n",
    "\n",
    "The global state is given by $s$ which is an external signal. This state alternates between two modes:\n",
    "\n",
    "* When $s = 0$, the network operates in *integration* mode\n",
    "    - $v$ receives an impulse $I_p = 50$, for a duration of one time steps. After that $I_p = 0$.\n",
    "    - $I$ remains constant (gated out, uncoupled from $y$)\n",
    "\n",
    "\n",
    "* When $s = 1$, the network operates in *update* mode\n",
    "    - $I_p$ continues to be 0.\n",
    "    - $I$ gets coupled to $y$.\n",
    "    \n",
    "    \n",
    "In particular, $ \\tau\\frac{dI}{dt} = sK(y-y_0)  $\n",
    "\n",
    "Core functions for the SAM are implemented below."
   ]
  },
  {
   "cell_type": "code",
   "execution_count": 2,
   "metadata": {
    "collapsed": true
   },
   "outputs": [],
   "source": [
    "'''\n",
    "Dictionary of network parameters,\n",
    "Wut, Wuv, Wvt, Wvu: weights of connections\n",
    "dt: interval of, in ms\n",
    "tau: time constant, in ms\n",
    "y0: threshold of SAM\n",
    "IF: input used for reset\n",
    "uinit, vinit, yinit: initial state of u, v and y\n",
    "first_duration: duration of first interval before first flash, in ms\n",
    "'''\n",
    "\n",
    "PARAMS_DICT = {'Wut': 6,\n",
    "              'Wuv': 6,\n",
    "              'Wvt': 6,\n",
    "              'Wvu': 6,\n",
    "              'dt': 10,\n",
    "              'tau': 100,\n",
    "              'y0': 0.7,\n",
    "              'IF': 100,\n",
    "              'uinit': 0.7,\n",
    "              'vinit': 0.2,\n",
    "              'yinit': 0.5,\n",
    "              'first_duration': 750}"
   ]
  },
  {
   "cell_type": "code",
   "execution_count": 3,
   "metadata": {
    "collapsed": true
   },
   "outputs": [],
   "source": [
    "def thresh_exp(x):\n",
    "    '''Sigmoid non-linearity'''\n",
    "    return 1 / (1 + np.exp(-x))\n",
    "\n",
    "def start_simulation_parallel(state_init, params, K, sigma, niter):\n",
    "    '''\n",
    "    Inputs:\n",
    "    state_init: an array which includes:\n",
    "        * I: initial current\n",
    "        * u: initial state of u\n",
    "        * v: initial state of v\n",
    "        * y: initial state of y (readout neuron)\n",
    "        * sig: state indicator (0 or 1)\n",
    "        \n",
    "    params: a dictionary of relevant parameters of the network, see PARAMS_DICT\n",
    "    niter: number of iterations\n",
    "    \n",
    "    Outputs: each list contains niter elements\n",
    "    u_lst: list of u activities \n",
    "    v_lst: list of v activities\n",
    "    y_lst: list of y activities\n",
    "    I_lst: list of I activities\n",
    "    sig_lst: list of sig in this simulation\n",
    "        \n",
    "    '''\n",
    "    \n",
    "    # Unpack parameters of the simulation\n",
    "    Wut = params['Wut']\n",
    "    Wuv = params['Wuv']\n",
    "    Wvt = params['Wvt']\n",
    "    Wvu = params['Wvu']\n",
    "    dt = params['dt']\n",
    "    tau = params['tau']\n",
    "    y0 = params['y0'] #The target (threshold) value of y\n",
    "    IF = params['IF']\n",
    "    \n",
    "    # Unpack variables\n",
    "    I, u, v, y, sig = state_init\n",
    "    \n",
    "    ntrials = len(I)\n",
    "    \n",
    "    I = I.copy()\n",
    "    u = u.copy()\n",
    "    v = v.copy()\n",
    "    y = y.copy()\n",
    "        \n",
    "    sig_lst = []\n",
    "    u_lst = []\n",
    "    v_lst = []\n",
    "    y_lst = []\n",
    "    I_lst = []\n",
    "    \n",
    "    for i in range(niter):                \n",
    "        # Update I, u, v and y\n",
    "        I += (sig * K * (y - y0)) / tau * dt\n",
    "        u += (-u + thresh_exp(Wut * I - Wuv * v - sig * IF + np.random.randn(ntrials) * sigma)) / tau * dt\n",
    "        v += (-v + thresh_exp(Wvt * I - Wvu * u + sig * IF + np.random.randn(ntrials) * sigma)) / tau * dt\n",
    "        y += (-y + u - v + np.random.randn(ntrials) * sigma) / tau * dt\n",
    "\n",
    "        v_lst.append(v.copy())\n",
    "        u_lst.append(u.copy())\n",
    "        y_lst.append(y.copy())\n",
    "        I_lst.append(I.copy())\n",
    "        sig_lst.append(sig)    \n",
    "        \n",
    "    return u_lst, v_lst, y_lst, I_lst, sig_lst"
   ]
  },
  {
   "cell_type": "code",
   "execution_count": 4,
   "metadata": {
    "collapsed": true
   },
   "outputs": [],
   "source": [
    "def plot_simulation_parallel(ulst, vlst, ylst, Ilst, siglst, params_dict):\n",
    "    '''Plot the simulations'''\n",
    "    dt = params_dict['dt']\n",
    "    nsteps = len(ulst)\n",
    "    tlst = np.arange(nsteps).astype('int')\n",
    "    sig_lst = np.floor(tlst / 100) % 2\n",
    "    sig_lst = sig_lst.astype('int')\n",
    "    \n",
    "    ulst_arr = np.array(ulst)\n",
    "    vlst_arr = np.array(vlst)\n",
    "    ylst_arr = np.array(ylst)\n",
    "    Ilst_arr = np.array(Ilst)\n",
    "    \n",
    "    wherelst = np.array(siglst) == 1.0\n",
    "    wherelst_shifted = np.concatenate((wherelst[1:], [False]))\n",
    "    wherelst += wherelst_shifted\n",
    "    \n",
    "    #wherelst2 = np.array(siglst) == 2.0\n",
    "\n",
    "    fig, ax = plt.subplots(4, 1, figsize=(10, 10))\n",
    "    ax[0].plot(np.arange(nsteps) * dt, ulst_arr, 'b', alpha=0.2)\n",
    "    ax[0].set_ylabel('u')\n",
    "    ax[0].fill_between(np.arange(nsteps) * dt, np.min(np.array(ulst)), np.max(np.array(ulst)), where=wherelst, alpha=0.5)\n",
    "    #ax[0].fill_between(np.arange(nsteps) * dt, np.min(np.array(ulst)), np.max(np.array(ulst)), where=wherelst2, alpha=0.2)\n",
    "\n",
    "    ax[1].plot(np.arange(nsteps) * dt, vlst_arr, 'b', alpha=0.2)\n",
    "    ax[1].set_ylabel('v')\n",
    "    ax[1].fill_between(np.arange(nsteps) * dt, np.min(np.array(vlst)), np.max(np.array(vlst)), where=wherelst, alpha=0.5)\n",
    "    #ax[1].fill_between(np.arange(nsteps) * dt, np.min(np.array(vlst)), np.max(np.array(vlst)), where=wherelst2, alpha=0.2)\n",
    "\n",
    "    ax[2].plot(np.arange(nsteps) * dt, ylst_arr, 'b', alpha=0.2)\n",
    "    ax[2].set_ylabel('y')\n",
    "    ax[2].fill_between(np.arange(nsteps) * dt, np.min(np.array(ylst)), np.max(np.array(ylst)), where=wherelst, alpha=0.5)\n",
    "    #ax[2].fill_between(np.arange(nsteps) * dt, np.min(np.array(ylst)), np.max(np.array(ylst)), where=wherelst2, alpha=0.2)\n",
    "    ax[2].hlines(PARAMS_DICT['y0'], 0, nsteps * dt, linestyle='dotted')\n",
    "\n",
    "    ax[3].plot(np.arange(nsteps) * dt, Ilst_arr, 'b', alpha=0.2)\n",
    "    ax[3].set_ylabel('I')\n",
    "    ax[3].fill_between(np.arange(nsteps) * dt, np.min(np.array(Ilst)), np.max(np.array(Ilst)), where=wherelst, alpha=0.5)\n",
    "    #ax[3].fill_between(np.arange(nsteps) * dt, np.min(np.array(Ilst)), np.max(np.array(Ilst)), where=wherelst2, alpha=0.2)\n",
    "    ax[3].set_xlabel('Time (ms)');"
   ]
  },
  {
   "cell_type": "code",
   "execution_count": 5,
   "metadata": {
    "collapsed": true
   },
   "outputs": [],
   "source": [
    "# Functions for using in a for loop\n",
    "def get_times_lst_from_y(ylst):\n",
    "    '''\n",
    "    Input:\n",
    "    - ylst: np array of y activations\n",
    "    \n",
    "    Output:\n",
    "    A 1d array of the times to threshold of the last behavior\n",
    "    '''\n",
    "    ndiscard = 10\n",
    "    threshold = PARAMS_DICT['y0']\n",
    "    # Discard first 10 samples\n",
    "    ylst = ylst[ndiscard:]\n",
    "    times_lst = []\n",
    "    ntrials = ylst.shape[1]\n",
    "    \n",
    "    # Find time to act\n",
    "    for k in range(ntrials):\n",
    "        # Check if the bound is reached (sometimes it's not!)\n",
    "        if np.max(ylst[:,k]) > threshold:\n",
    "            times_lst.append(np.nonzero(ylst[:, k] > threshold)[0][0])\n",
    "        else:\n",
    "            times_lst.append(np.inf)\n",
    "            #print('Bound not reached')\n",
    "    \n",
    "    return np.array(times_lst) + ndiscard\n",
    "\n",
    "def simulate_trial(ntrials, duration, nstages, sigma, K, initI):\n",
    "    # Initial run\n",
    "    first_duration = PARAMS_DICT['first_duration'] #duration in ms of first duration (500 ms + exponential with mean 250)\n",
    "    \n",
    "    nbin = int(duration / PARAMS_DICT['dt'])\n",
    "    nbinfirst = int(first_duration / PARAMS_DICT['dt'])\n",
    "    \n",
    "    uinit = PARAMS_DICT['uinit']\n",
    "    vinit = PARAMS_DICT['vinit']\n",
    "    yinit = PARAMS_DICT['yinit']\n",
    "\n",
    "    state_init = [np.ones(ntrials) * initI, \n",
    "                  np.ones(ntrials) * uinit, \n",
    "                  np.ones(ntrials) * vinit,\n",
    "                  np.ones(ntrials) * yinit,\n",
    "                  0.0]\n",
    "\n",
    "    ulst, vlst, ylst, Ilst, siglst = start_simulation_parallel(state_init, PARAMS_DICT, 0, sigma, nbinfirst)\n",
    "\n",
    "    # For subsequent runs, flip the state every 100 trials\n",
    "    for k in range((nstages - 2) * 2):\n",
    "        \n",
    "        #acoefs = 1 - acoefs\n",
    "        state_init = [Ilst[-1], ulst[-1], vlst[-1], ylst[-1], (state_init[4] + 1.0)%2]\n",
    "        #print('k = ', k, 'state_init[4] =', state_init[4])\n",
    "        if state_init[4] == 0.0:\n",
    "            ulst2, vlst2, ylst2, Ilst2, siglst2 = start_simulation_parallel(state_init, PARAMS_DICT, K, sigma, nbin)\n",
    "        else:\n",
    "            if k == 0:\n",
    "                # No update for first flash\n",
    "                ulst2, vlst2, ylst2, Ilst2, siglst2 = start_simulation_parallel(state_init, PARAMS_DICT, 0, sigma, 1)\n",
    "            else:\n",
    "                ulst2, vlst2, ylst2, Ilst2, siglst2 = start_simulation_parallel(state_init, PARAMS_DICT, K, sigma, 1)\n",
    "\n",
    "        ulst += ulst2\n",
    "        vlst += vlst2\n",
    "        ylst += ylst2\n",
    "        Ilst += Ilst2\n",
    "        siglst += siglst2\n",
    "\n",
    "    if nstages > 1:\n",
    "        state_init = [Ilst[-1], ulst[-1], vlst[-1], ylst[-1], (state_init[4] + 1.0)%2]\n",
    "        \n",
    "        if nstages == 2:\n",
    "            Keff = 0\n",
    "        else:\n",
    "            Keff = K\n",
    "        \n",
    "        # For the last run, produce the behavior when the threshold is reached\n",
    "        ulst2, vlst2, ylst2, Ilst2, siglst2 = start_simulation_parallel(state_init, PARAMS_DICT, Keff, sigma, 1)\n",
    "\n",
    "        ulst += ulst2\n",
    "        vlst += vlst2\n",
    "        ylst += ylst2\n",
    "        Ilst += Ilst2\n",
    "        siglst += siglst2\n",
    "        \n",
    "        state_init = [Ilst[-1], ulst[-1], vlst[-1], ylst[-1], (state_init[4] + 1.0)%2]\n",
    "        # For the last run, produce the behavior when the threshold is reached\n",
    "        ulst2, vlst2, ylst2, Ilst2, siglst2 = start_simulation_parallel(state_init, PARAMS_DICT, K, sigma, nbin * 2)\n",
    "\n",
    "        ulst += ulst2\n",
    "        vlst += vlst2\n",
    "        ylst += ylst2\n",
    "        Ilst += Ilst2\n",
    "        \n",
    "        siglst2[nbin] = 1\n",
    "        siglst += siglst2\n",
    "    else:\n",
    "        print(len(siglst))\n",
    "        siglst[-1] = 1\n",
    "        ylst2 = ylst\n",
    "\n",
    "    return ulst, vlst, ylst, Ilst, siglst, ylst2\n",
    "\n",
    "\n",
    "def get_time_lst(ntrials, duration, nstages, sigma, K, initI):\n",
    "    '''Simulate and return the array of times of threshold crossing'''\n",
    "    _, _, _, _, _, ylst2 = simulate_trial(ntrials=ntrials, nstages=nstages, duration=duration, \n",
    "                                                                       sigma=sigma, K=K, initI=initI)\n",
    "    Ylst2 = np.array(ylst2)\n",
    "    times = get_times_lst_from_y(np.array(Ylst2))\n",
    "    times = times[(times > 0) & (times != np.inf)]\n",
    "    return times"
   ]
  },
  {
   "cell_type": "markdown",
   "metadata": {},
   "source": [
    "## SAM simulations"
   ]
  },
  {
   "cell_type": "markdown",
   "metadata": {},
   "source": [
    "We examine the behavior of the SAM (Figure 3)"
   ]
  },
  {
   "cell_type": "code",
   "execution_count": 6,
   "metadata": {
    "scrolled": false
   },
   "outputs": [
    {
     "name": "stdout",
     "output_type": "stream",
     "text": [
      "Mean tp =  43.406666666666666 std tp =  1.1465697633472733\n"
     ]
    },
    {
     "data": {
      "image/png": "[encoded data removed]",
      "text/plain": [
       "<matplotlib.figure.Figure at 0x26576185160>"
      ]
     },
     "metadata": {},
     "output_type": "display_data"
    }
   ],
   "source": [
    "# Figure 3a\n",
    "sigma = 0.01\n",
    "I = 0.77\n",
    "K = 5.0\n",
    "duration = 400\n",
    "\n",
    "np.random.seed(2018)\n",
    "ulst, vlst, ylst, Ilst, siglst, ylst2 = simulate_trial(ntrials=300, nstages=4, duration=duration, sigma=sigma, \n",
    "                                                       K=K, initI=I)\n",
    "plot_simulation_parallel(ulst, vlst, ylst, Ilst, siglst, PARAMS_DICT)\n",
    "\n",
    "Ylst2 = np.array(ylst2)\n",
    "times = get_times_lst_from_y(np.array(Ylst2))\n",
    "times = times[(times > 0) & (times != np.inf)]\n",
    "print('Mean tp = ', np.mean(times), 'std tp = ', np.std(times))\n",
    "\n",
    "# Save the parameters in a .mat file\n",
    "#scipy.io.savemat('PlotTools/uv_simulation_data020819_K5_00_I0_77_s0_01_400ms.mat', {'ulst': ulst, 'vlst': vlst, 'ylst': ylst, \n",
    "#                                                  'Ilst': Ilst, 'siglst': siglst, 'PARAMS': PARAMS_DICT,\n",
    "#                                                   'sigma': sigma, 'K': K, 'I': I})"
   ]
  },
  {
   "cell_type": "code",
   "execution_count": 7,
   "metadata": {},
   "outputs": [
    {
     "name": "stdout",
     "output_type": "stream",
     "text": [
      "Mean tp =  88.04 std tp =  9.740212181124873\n"
     ]
    },
    {
     "data": {
      "image/png": "[encoded data removed]",
      "text/plain": [
       "<matplotlib.figure.Figure at 0x26576186978>"
      ]
     },
     "metadata": {},
     "output_type": "display_data"
    }
   ],
   "source": [
    "# Figure 3b\n",
    "sigma = 0.01\n",
    "I = 0.77\n",
    "K = 5.0\n",
    "duration = 1000\n",
    "\n",
    "np.random.seed(2018)\n",
    "ulst, vlst, ylst, Ilst, siglst, ylst2 = simulate_trial(ntrials=300, nstages=4, duration=duration, sigma=sigma, \n",
    "                                                       K=K, initI=I)\n",
    "plot_simulation_parallel(ulst, vlst, ylst, Ilst, siglst, PARAMS_DICT)\n",
    "\n",
    "Ylst2 = np.array(ylst2)\n",
    "times = get_times_lst_from_y(np.array(Ylst2))\n",
    "times = times[(times > 0) & (times != np.inf)]\n",
    "print('Mean tp = ', np.mean(times), 'std tp = ', np.std(times))\n",
    "\n",
    "# Save the parameters in a .mat file\n",
    "#scipy.io.savemat('PlotTools/uv_simulation_data020819_K5_00_I0_77_s0_01_400ms.mat', {'ulst': ulst, 'vlst': vlst, 'ylst': ylst, \n",
    "#                                                  'Ilst': Ilst, 'siglst': siglst, 'PARAMS': PARAMS_DICT,\n",
    "#                                                   'sigma': sigma, 'K': K, 'I': I})"
   ]
  },
  {
   "cell_type": "markdown",
   "metadata": {},
   "source": [
    "## Optimizing parameters of the SAM"
   ]
  },
  {
   "cell_type": "markdown",
   "metadata": {},
   "source": [
    "The SAM takes three free parameters, $I_0, K$, and $\\sigma$. Here, we examine the RMSE of the SAM's output timing for different settings of these parameters (Figure 3c, d)"
   ]
  },
  {
   "cell_type": "code",
   "execution_count": 8,
   "metadata": {
    "collapsed": true
   },
   "outputs": [],
   "source": [
    "def find_rmse(durations, ntrials, nstages, sigma, I, K, return_inf):\n",
    "    '''Do multiple simulations to find the expected mse of the given set of parameters'''\n",
    "    mse_total = 0\n",
    "    for k, dur in enumerate(durations):\n",
    "        times = get_time_lst(ntrials=ntrials, nstages=nstages,duration=dur, \n",
    "                             sigma=sigma, K=K, initI=I)\n",
    "        # Consider invalid parameters that result in infinite decision times\n",
    "        if len(times) < ntrials * 0.5:\n",
    "            return np.inf\n",
    "        mse_total += np.sum((times * 10 - dur)**2)\n",
    "    return np.sqrt(mse_total / (ntrials * len(durations)))"
   ]
  },
  {
   "cell_type": "code",
   "execution_count": 9,
   "metadata": {
    "collapsed": true
   },
   "outputs": [],
   "source": [
    "def sampling_IK_grid(sigma_lst, Ilst, Klst, durations, nstages, ntrials, return_inf=True):\n",
    "    '''Perform a simulation to find the rmse of the parameters in the grid.\n",
    "    sigma_lst, Ilst, Klst: list of sigma, I0 and K values to simulate.\n",
    "    durations: list of ts intervals in the prior\n",
    "    nstages: number of stimuli to present\n",
    "    ntrials: number of trials for averaging\n",
    "    return_inf: when set to True, returns Inf if any trial fails to reach threshold\n",
    "    Returns a list of nI x nK arrays corresponding to each sigma'''\n",
    "    # Start of main loop\n",
    "    mse_arr = np.zeros((len(sigma_lst), len(Ilst), len(Klst)))\n",
    "    for id_s, sigma in enumerate(sigma_lst):\n",
    "        print('*** sigma = ', sigma, ' ***')\n",
    "        for id_i, I in enumerate(Ilst):\n",
    "            for id_k, K in enumerate(Klst):\n",
    "                rmse = find_rmse(durations, ntrials=ntrials, nstages=nstages, \n",
    "                                 sigma=sigma, I=I, K=K, return_inf=return_inf)\n",
    "                mse_arr[id_s, id_i, id_k] = rmse\n",
    "                print('    I = %.4f, K = %.4f, RMSE = %.4f' % (I, K, rmse))\n",
    "    return mse_arr"
   ]
  },
  {
   "cell_type": "code",
   "execution_count": null,
   "metadata": {
    "collapsed": true,
    "scrolled": true
   },
   "outputs": [],
   "source": [
    "# Trial duration is uniformly sampled from in [600, 1000]\n",
    "durations = np.linspace(600, 1000, 5)\n",
    "sigma_lst = [0.005] #np.linspace(0.005, 0.03, 6)\n",
    "\n",
    "# Define the grid of I and K values\n",
    "nK = 30\n",
    "nI = 30\n",
    "Klst = np.linspace(2, 10, nK)\n",
    "Ilst = np.linspace(0.76, 0.8, nI)\n",
    "\n",
    "# Perform the grid simulation\n",
    "grid_sim_result = sampling_IK_grid(sigma_lst, Ilst, Klst, durations, nstages=4, ntrials=1000,\n",
    "                                  return_inf=False)\n",
    "\n",
    "#TODO: Deal with infinite times more properly\n",
    "\n",
    "#scipy.io.savemat('PlotTools/IK_grid_040119_1000trialsA.mat', {'MSELST': grid_sim_result,\n",
    "#                                                          'Klst': Klst,\n",
    "#                                                          'Ilst': Ilst,\n",
    "#                                                            'sigma_lst': sigma_lst})"
   ]
  },
  {
   "cell_type": "code",
   "execution_count": 11,
   "metadata": {},
   "outputs": [
    {
     "data": {
      "text/plain": [
       "<matplotlib.image.AxesImage at 0x26579a56a58>"
      ]
     },
     "execution_count": 11,
     "metadata": {},
     "output_type": "execute_result"
    },
    {
     "data": {
      "image/png": "[encoded data removed]",
      "text/plain": [
       "<matplotlib.figure.Figure at 0x26578396a90>"
      ]
     },
     "metadata": {},
     "output_type": "display_data"
    }
   ],
   "source": [
    "plt.imshow(np.log(grid_sim_result[0]), cmap='hot', vmin=3)"
   ]
  },
  {
   "cell_type": "markdown",
   "metadata": {},
   "source": [
    "We now examine how the optimal values, $I_0^*$ and $K^*$ vary with $\\sigma_n$ (figure 3d). For this, we do a random sampling of $(I, K)$."
   ]
  },
  {
   "cell_type": "code",
   "execution_count": 12,
   "metadata": {
    "collapsed": true
   },
   "outputs": [],
   "source": [
    "def sampling_IK_optimization(durations, sigma_lst, nstages, ntrials, \n",
    "                             Klow, Khigh, Ilow, Ihigh, nsamples=100, maxiter=5):\n",
    "    '''Perform optimization of (I, K), given parameters sigma'''\n",
    "    I_optimal = np.zeros((len(sigma_lst), maxiter))\n",
    "    K_optimal = np.zeros((len(sigma_lst), maxiter))\n",
    "\n",
    "    # Do simulation several times to obtain error bars\n",
    "    for id_s, sigma in enumerate(sigma_lst):\n",
    "        print('*** sigma = ', sigma, ' ***')\n",
    "        for niter in range(maxiter):\n",
    "            print('    Running iteration #', niter)\n",
    "            # For each iteration, re-pick list of I and K\n",
    "            Klst = np.random.uniform(low=Klow, high=Khigh, size=nsamples)\n",
    "            Ilst = np.random.uniform(low=Ilow, high=Ihigh, size=nsamples)\n",
    "\n",
    "            mse_lst = np.zeros(nsamples)\n",
    "            for i in range(nsamples):\n",
    "                I = Ilst[i]\n",
    "                K = Klst[i]\n",
    "                rmse = find_rmse(durations, ntrials=ntrials, nstages=nstages, \n",
    "                                 sigma=sigma, I=I, K=K, return_inf=True)\n",
    "                mse_lst[i] = rmse\n",
    "                #print('I = ', I, 'K = ', K, 'Total MSE = ', np.sqrt(np.mean(mse_total)))\n",
    "            # Determine the arg-min of the list\n",
    "            argmin = np.argsort(mse_lst)\n",
    "            Kmin = Klst[argmin[0]]\n",
    "            Imin = Ilst[argmin[0]]\n",
    "            K_optimal[id_s][niter] = Kmin\n",
    "            I_optimal[id_s][niter] = Imin\n",
    "            print('        Kmin = ', Kmin, ', Imin =', Imin)\n",
    "    return I_optimal, K_optimal"
   ]
  },
  {
   "cell_type": "code",
   "execution_count": null,
   "metadata": {
    "collapsed": true,
    "scrolled": true
   },
   "outputs": [],
   "source": [
    "durations = np.linspace(600, 1000, 5)\n",
    "sigma_lst = np.linspace(0.001, 0.04, 6)\n",
    "N_array = np.arange(3, 14)\n",
    "\n",
    "Iresults = []\n",
    "Kresults = []\n",
    "\n",
    "# At the end of the simulation, Iresults and Kresults will contain the values I0* and K*\n",
    "# Each is a list with len(N) np arrays (N = array representing number of stimuli)\n",
    "# Each np array has shape nsigma x maxiter\n",
    "\n",
    "for i in N_array:\n",
    "    print('### Number of iterations = ', i)\n",
    "    a, b = sampling_IK_optimization(durations, sigma_lst, i, ntrials=100, \n",
    "                                    Klow=1, Khigh=10, Ilow=0.77, Ihigh=0.8, \n",
    "                                    nsamples=100, maxiter=10)\n",
    "    Iresults.append(a)\n",
    "    Kresults.append(b)"
   ]
  },
  {
   "cell_type": "markdown",
   "metadata": {},
   "source": [
    "## 1-2-Go and 1-2-3-Go"
   ]
  },
  {
   "cell_type": "markdown",
   "metadata": {},
   "source": [
    "In this section, we simulate subjects' performance on the 1-2-Go and 1-2-3-Go tasks (Figure 7)"
   ]
  },
  {
   "cell_type": "markdown",
   "metadata": {},
   "source": [
    "Plotting the result of the simulation of optimized $(I, K)$ together with the fitted values."
   ]
  },
  {
   "cell_type": "markdown",
   "metadata": {},
   "source": [
    "### Behavior fitting protocol"
   ]
  },
  {
   "cell_type": "markdown",
   "metadata": {},
   "source": [
    "The protocol has two parts: (1) Fitting $(I,K)$ and (2) Fitting $\\sigma$. $(I, K)$ is fitted based on the mean of the distribution, while $\\sigma$ is fitted based on the standard deviation."
   ]
  },
  {
   "cell_type": "code",
   "execution_count": null,
   "metadata": {
    "collapsed": true
   },
   "outputs": [],
   "source": [
    "def do_IK_fitting(subject_file, sigmaval, nsamples, ntrials, Klow, Khigh, Ilow, Ihigh,\n",
    "                 print_every=10):\n",
    "    '''Inputs:\n",
    "    - subject_file: .mat file with the behavioral results of the subject\n",
    "    - sigmaval: sigma value to be used\n",
    "    - nsamples: number of random (I, K) combinations to sample\n",
    "    - Klow, Khigh, Ilow, Ihigh: ranges of I and K for sampling\n",
    "    \n",
    "    Outputs:\n",
    "    I, K: the optimal combination to minimize the mse between the mean simulated times\n",
    "    and the mean behavioral times of the subject'''\n",
    "    #print('sigmaval = ', sigmaval)\n",
    "    Klst = np.random.uniform(low=Klow, high=Khigh, size=nsamples)\n",
    "    Ilst = np.random.uniform(low=Ilow, high=Ihigh, size=nsamples)\n",
    "\n",
    "    # Load data for subject SWE(RSG/RSSG, Seth provided)\n",
    "    swedata = scipy.io.loadmat(subject_file)\n",
    "    B = swedata['B']\n",
    "    ts_vec = swedata['ts_vec']\n",
    "    ta = swedata['ta']\n",
    "    tss = swedata['tss']\n",
    "    mtp_in = swedata['mtp_in']\n",
    "    stdtp_in = swedata['stdtp_in']\n",
    "\n",
    "    target_time1 = mtp_in[:,0]\n",
    "    target_time2 = mtp_in[:,1]\n",
    "\n",
    "    b = np.mean(B[:,0])\n",
    "\n",
    "    durations = tss\n",
    "    errorlst = []\n",
    "\n",
    "    for k in range(nsamples):\n",
    "        Ival = Ilst[k]\n",
    "        Kval = Klst[k]\n",
    "\n",
    "        prod_time_lst, prod_var_lst, prod_time_lst2, prod_var_lst2 = [], [], [], []\n",
    "\n",
    "        #1,2,Go simulation\n",
    "        for i, dur in enumerate(durations):\n",
    "            times = get_time_lst(ntrials=ntrials, nstages=3, duration=dur, \n",
    "                             sigma=sigmaval, K=Kval, initI=Ival)\n",
    "            prod_time_lst.append(np.mean(times))\n",
    "            prod_var_lst.append(np.std(times))\n",
    "\n",
    "        #1,2,3,Go simulation\n",
    "        for i, dur in enumerate(durations):\n",
    "            times = get_time_lst(ntrials=ntrials, nstages=4, duration=dur, \n",
    "                             sigma=sigmaval, K=Kval, initI=Ival)\n",
    "            prod_time_lst2.append(np.mean(times))\n",
    "            prod_var_lst2.append(np.std(times))\n",
    "\n",
    "        # Continue if there is a nan   \n",
    "        error1 = (np.array(prod_time_lst) * 10 - target_time1) ** 2\n",
    "        error2 = (np.array(prod_time_lst2) * 10 - target_time2) ** 2\n",
    "        if np.sum(np.isnan(error1)) + np.sum(np.isnan(error2)) > 0:\n",
    "            error = np.inf\n",
    "            print('nan encountered')\n",
    "        else:\n",
    "        # Error function to minimize\n",
    "            error = np.sum((np.array(prod_time_lst) * 10 - target_time1) ** 2) +\\\n",
    "                    np.sum((np.array(prod_time_lst2) * 10 - target_time2) ** 2)\n",
    "        errorlst.append(error)\n",
    "\n",
    "        if k % print_every == 0: # Print every 10 lines\n",
    "            print('    I = %f, K = %f, sigma = %f, error = %f' %(Ival, Kval, sigmaval, error))\n",
    "    \n",
    "    # Find the optimal (I, K)\n",
    "    idx = np.argmin(errorlst)\n",
    "    print('Optimal (I, K) = ', Ilst[idx], Klst[idx])\n",
    "    return Ilst[idx], Klst[idx]"
   ]
  },
  {
   "cell_type": "code",
   "execution_count": null,
   "metadata": {
    "collapsed": true
   },
   "outputs": [],
   "source": [
    "def do_sigma_fitting(subject_file, Ival, Kval, nsamples, ntrials, \n",
    "                     low, high, print_every=10):\n",
    "    '''Inputs:\n",
    "    - subject_file: .mat file with the behavioral results of the subject\n",
    "    - Ival, Kval: I and K values to be used\n",
    "    - nsamples: number of random (I, K) combinations to sample\n",
    "    - Klow, Khigh, Ilow, Ihigh: ranges of I and K for sampling\n",
    "    \n",
    "    Outputs:\n",
    "    sigma: the optimal sigma to minimize the mse between the std simulated times\n",
    "    and the std behavioral times of the subject'''\n",
    "\n",
    "    sigmalst = np.linspace(low, high, nsamples)\n",
    "\n",
    "    # Load data for subject SWE(RSG/RSSG, Seth provided)\n",
    "    swedata = scipy.io.loadmat(subject_file)\n",
    "    B = swedata['B']\n",
    "    ts_vec = swedata['ts_vec']\n",
    "    ta = swedata['ta']\n",
    "    tss = swedata['tss']\n",
    "    mtp_in = swedata['mtp_in']\n",
    "    stdtp_in = swedata['stdtp_in']\n",
    "\n",
    "    target_std1 = stdtp_in[:,0]\n",
    "    target_std2 = stdtp_in[:,1]\n",
    "\n",
    "    b = np.mean(B[:,0])\n",
    "\n",
    "    durations = tss\n",
    "    errorlst = []\n",
    "\n",
    "    for k in range(nsamples):\n",
    "        sigmaval = sigmalst[k]\n",
    "        prod_time_lst, prod_var_lst, prod_time_lst2, prod_var_lst2 = [], [], [], []\n",
    "\n",
    "        #1,2,Go simulation\n",
    "        for i, dur in enumerate(durations):\n",
    "            times = get_time_lst(ntrials=100, nstages=3, duration=dur, \n",
    "                             sigma=sigmaval, K=Kval, initI=Ival)\n",
    "            prod_time_lst.append(np.mean(times))\n",
    "            prod_var_lst.append(np.std(times))\n",
    "\n",
    "        #1,2,3,Go simulation\n",
    "        for i, dur in enumerate(durations):\n",
    "            times = get_time_lst(ntrials=100, nstages=4, duration=dur, \n",
    "                             sigma=sigmaval, K=Kval, initI=Ival)\n",
    "            prod_time_lst2.append(np.mean(times))\n",
    "            prod_var_lst2.append(np.std(times))\n",
    "            \n",
    "        # Continue if there is a nan   \n",
    "        error1 = (np.array(prod_var_lst) * 10 - target_std1) ** 2\n",
    "        error2 = (np.array(prod_var_lst2) * 10 - target_std2) ** 2\n",
    "        if np.sum(np.isnan(error1)) + np.sum(np.isnan(error2)) > 0:\n",
    "            error = np.inf\n",
    "            print('nan encountered')\n",
    "        else:\n",
    "            # Error function to minimize\n",
    "            error = np.sum((np.array(prod_var_lst) * 10 - target_std1) ** 2) +\\\n",
    "                    np.sum((np.array(prod_var_lst2) * 10 - target_std2) ** 2)\n",
    "        \n",
    "        errorlst.append(error)\n",
    "\n",
    "        if k % print_every == 0: # Print every 10 lines\n",
    "            print('    I = %f, K = %f, sigma = %f, error = %f' %(Ival, Kval, sigmaval, error))\n",
    "            #print(np.sum((np.array(prod_var_lst) * 10 - target_std1) ** 2))\n",
    "            #print(np.sum((np.array(prod_var_lst2) * 10 - target_std2) ** 2))\n",
    "    \n",
    "    # Find the optimal (I, K)\n",
    "    idx = np.argmin(errorlst)\n",
    "    print('Optimal sigma = ', sigmalst[idx], 'error =', error)\n",
    "    #print(sum(target_std1))\n",
    "    #print(sum(target_std2))\n",
    "    return sigmalst[idx]"
   ]
  },
  {
   "cell_type": "code",
   "execution_count": null,
   "metadata": {
    "collapsed": true
   },
   "outputs": [],
   "source": [
    "def subject_fitting(subject_file, nsamples, nsamples2, ntrials,\n",
    "                    Klow, Khigh, Ilow, Ihigh, \n",
    "                    sigmalow, sigmahigh, print_every=10, niter=5, sigma_init=0.02):\n",
    "    '''Performs fitting of sigma, I, K for a given subject file,\n",
    "    Inputs:\n",
    "    - subject_file: name of .mat behavior file,\n",
    "    - nsamples: number of I-K combinations to sample\n",
    "    - nsamples2: number of sigma values to sample\n",
    "    - ntrials: number of trials for averaging\n",
    "    - Klow, Khigh, Ilow, Ihigh, sigmalow, sigmahigh: specify the range of K, I and sigma\n",
    "    - print_every: to print a line every x combinations\n",
    "    - niter: how many times to alternate between IK sampling and sigma sampling\n",
    "    - sigma_init: initial value of sigma\n",
    "    Returns the fitted combination (sigma, I, K)'''\n",
    "    sigmaval = sigma_init\n",
    "    for i in range(niter):\n",
    "        Ival, Kval = do_IK_fitting(subject_file, sigmaval=sigmaval, nsamples=nsamples, ntrials=ntrials,\n",
    "                                   Klow=Klow, Khigh=Khigh, Ilow=Ilow, Ihigh=Ihigh, print_every=print_every)\n",
    "        sigmaval = do_sigma_fitting(subject_file, Ival=Ival, Kval=Kval, nsamples=nsamples2, ntrials=ntrials,\n",
    "                                    low=sigmalow, high=sigmahigh, print_every=print_every)\n",
    "    # One last round of IK fitting\n",
    "    Ival, Kval = do_IK_fitting(subject_file, sigmaval=sigmaval, nsamples=nsamples, ntrials=ntrials,\n",
    "                                   Klow=Klow, Khigh=Khigh, Ilow=Ilow, Ihigh=Ihigh, print_every=print_every)\n",
    "    return sigmaval, Ival, Kval\n",
    "    \n",
    "    "
   ]
  },
  {
   "cell_type": "code",
   "execution_count": null,
   "metadata": {
    "collapsed": true,
    "scrolled": true
   },
   "outputs": [],
   "source": [
    "# Behavior files of subjects to load from\n",
    "all_subject_files = ['SWE_EKF_ObsAct0_20171105.mat', 'CV_EKF_ObsAct0_20171105.mat',\n",
    "                    'GB_EKF_ObsAct0_20171105.mat', 'LB_EKF_ObsAct0_20171105.mat',\n",
    "                    'PG_EKF_ObsAct0_20171105.mat', 'SM_EKF_ObsAct0_20171105.mat',\n",
    "                    'TA_EKF_ObsAct0_20171105.mat', 'VD_EKF_ObsAct0_20171105.mat',\n",
    "                    'VR_EKF_ObsAct0_20171105.mat']\n",
    "\n",
    "np.random.seed(123)\n",
    "\n",
    "combi_rep = []\n",
    "\n",
    "# At the end of the fitting procedure, the fitted values are stored in three arrays,\n",
    "# sigmas, Iarr, and Karr. The order of the values correspond to the order of all_subject_files\n",
    "tstart = time.time()\n",
    "for i in range(9):\n",
    "    combi_collection = []\n",
    "    for subject_file in all_subject_files:\n",
    "        print(' ********* Doing subject file %s ************' % subject_file)\n",
    "        combi = subject_fitting(subject_file, nsamples=100, nsamples2=100, ntrials=100, Klow=1.0, Khigh=8.0, \n",
    "                                Ilow=0.77, Ihigh=0.79, sigmalow=0.005, sigmahigh=0.04, print_every=50)\n",
    "        combi_collection.append(combi)\n",
    "    combi_rep.append(combi_collection)\n",
    "    \n",
    "tend = time.time()\n",
    "\n",
    "# Collate results\n",
    "combi_arr = np.array(combi_collection)\n",
    "sigmas = combi_arr[:,0]\n",
    "Iarr = combi_arr[:,1]\n",
    "Karr = combi_arr[:,2]\n",
    "\n",
    "\n",
    "# Save results\n",
    "#scipy.io.savemat('PlotTools/IK_subject_fit_040219_thres0_7_constant_stage0_750ms_5reps.mat', \n",
    "#                 {'combi_rep': np.array(combi_rep), 'all_subject_files': all_subject_files})"
   ]
  },
  {
   "cell_type": "markdown",
   "metadata": {},
   "source": [
    "After fitting, we compare model fit and actual subject behavior (figure 7b)."
   ]
  },
  {
   "cell_type": "code",
   "execution_count": null,
   "metadata": {
    "collapsed": true
   },
   "outputs": [],
   "source": [
    "# Load data for subject\n",
    "subjectID = 0 # Refer to `all_subject_files' to see which subject is being shown\n",
    "subject_file = all_subject_files[subjectID]\n",
    "\n",
    "np.random.seed(111)\n",
    "\n",
    "# Simulate circuit model behavior based on fitted values\n",
    "sigma_val = sigmas[subjectID]\n",
    "I_val = Iarr[subjectID]\n",
    "K_val = Karr[subjectID]\n",
    "\n",
    "subject_data = scipy.io.loadmat(subject_file)\n",
    "B = subject_data['B']\n",
    "ts_vec = subject_data['ts_vec']\n",
    "ta = subject_data['ta']\n",
    "tss = subject_data['tss']\n",
    "mtp_in = subject_data['mtp_in']\n",
    "stdtp_in = subject_data['stdtp_in']\n",
    "\n",
    "b = np.mean(B[:,0])\n",
    "\n",
    "# Initiate the trial with a fixed current, trial duration is randomized in [400, 600]\n",
    "durations = tss\n",
    "\n",
    "prod_time_lst = []\n",
    "prod_var_lst = []\n",
    "prod_time_lst2 = []\n",
    "prod_var_lst2 = []\n",
    "\n",
    "#1,2,Go simulation\n",
    "for i, dur in enumerate(durations):\n",
    "    times = get_time_lst(ntrials=100, nstages=3, duration=dur, \n",
    "                             sigma=sigma_val, K=K_val, initI=I_val)\n",
    "    prod_time_lst.append(np.mean(times))\n",
    "    prod_var_lst.append(np.std(times))\n",
    "\n",
    "#1,2,3,Go simulation\n",
    "for i, dur in enumerate(durations):\n",
    "    print('Doing time #', i, '=', time)\n",
    "    \n",
    "    times = get_time_lst(ntrials=100, nstages=4, duration=dur, \n",
    "                             sigma=sigma_val, K=K_val, initI=I_val)\n",
    "    prod_time_lst2.append(np.mean(times))\n",
    "    prod_var_lst2.append(np.std(times))\n",
    "    \n",
    "# Plot the result, error bars represent standard deviation\n",
    "plt.figure(figsize=(10, 5))\n",
    "plt.subplot('121')\n",
    "plt.errorbar(tss, mtp_in[:,0], stdtp_in[:,0], color='r', label='Observed')\n",
    "\n",
    "# Plot the result, error bars represent standard deviation\n",
    "plt.plot(durations, durations, '--')\n",
    "plt.errorbar(durations + 5, np.array(prod_time_lst) * 10, np.array(prod_var_lst) * 10, color='b', label='Model')\n",
    "plt.xlabel('$t_S$')\n",
    "plt.ylabel('$t_P$')\n",
    "plt.title('RSG')\n",
    "\n",
    "plt.subplot('122')\n",
    "plt.errorbar(tss, mtp_in[:,1], stdtp_in[:,1], color='r', label='Observed')\n",
    "\n",
    "# Plot the result, error bars represent standard deviation\n",
    "plt.plot(durations, durations, '--')\n",
    "plt.errorbar(durations + 5, np.array(prod_time_lst2) * 10, np.array(prod_var_lst2) * 10, color='b', label='Model')\n",
    "plt.xlabel('$t_S$')\n",
    "plt.ylabel('$t_P$')\n",
    "plt.title('RSSG')\n",
    "plt.legend()\n",
    "\n",
    "print('RSG results:')\n",
    "print('Observed mean STD = ', np.mean(stdtp_in[:,0]))\n",
    "print('Simulated mean STD = ', np.mean(np.mean(prod_var_lst)* 10))\n",
    "\n",
    "print('RSSG results:')\n",
    "print('Observed mean STD = ', np.mean(stdtp_in[:,1]))\n",
    "print('Simulated mean STD = ', np.mean(np.mean(prod_var_lst2)* 10))\n",
    "\n"
   ]
  },
  {
   "cell_type": "code",
   "execution_count": null,
   "metadata": {
    "collapsed": true
   },
   "outputs": [],
   "source": [
    "scipy.io.savemat('PlotTools/GB_sim_results_021119_with_warmup.mat', \n",
    "                 {'durations': durations, 'mtp_in': mtp_in, 'prod_time_lst': prod_time_lst,\n",
    "                 'prod_time_lst2': prod_time_lst2, 'prod_var_lst': prod_var_lst,\n",
    "                 'prod_var_lst2': prod_var_lst2, 'stdtp_in': stdtp_in, 'tss': tss})"
   ]
  },
  {
   "cell_type": "markdown",
   "metadata": {},
   "source": [
    "### Model and subject BIAS, VAR, and RMSE"
   ]
  },
  {
   "cell_type": "markdown",
   "metadata": {},
   "source": [
    "Finally, we visualize the model and subjects' BIAS and VAR (figure 7c)."
   ]
  },
  {
   "cell_type": "code",
   "execution_count": null,
   "metadata": {
    "collapsed": true
   },
   "outputs": [],
   "source": [
    "collated_bias_var = []\n",
    "\n",
    "for i in range(len(all_subject_files)):\n",
    "    print('Doing subject #%d of %d...' % (i + 1, len(all_subject_files)))\n",
    "    # Load data for subject\n",
    "    subject_file = all_subject_files[i]\n",
    "    sigmaval = combi_arr[i,0]\n",
    "    Ival = combi_arr[i,1]\n",
    "    Kval = combi_arr[i,2]\n",
    "\n",
    "    swedata = scipy.io.loadmat(subject_file)\n",
    "    B = swedata['B']\n",
    "    ts_vec = swedata['ts_vec']\n",
    "    ta = swedata['ta']\n",
    "    tss = swedata['tss']\n",
    "    mtp_in = swedata['mtp_in']\n",
    "    stdtp_in = swedata['stdtp_in']\n",
    "\n",
    "    target_time1 = mtp_in[:,0]\n",
    "    target_time2 = mtp_in[:,1]\n",
    "\n",
    "    b = np.mean(B[:,0])\n",
    "\n",
    "    durations = tss\n",
    "    errorlst = []\n",
    "\n",
    "    prod_time_lst, prod_var_lst, prod_time_lst2, prod_var_lst2 = [], [], [], []\n",
    "\n",
    "    #1,2,Go simulation\n",
    "    for i, dur in enumerate(durations):\n",
    "        times = get_time_lst(ntrials=100, nstages=3, duration=dur, \n",
    "                         sigma=sigmaval, K=Kval, initI=Ival)\n",
    "        prod_time_lst.append(np.mean(times))\n",
    "        prod_var_lst.append(np.std(times))\n",
    "\n",
    "    #1,2,3,Go simulation\n",
    "    for i, dur in enumerate(durations):\n",
    "        times = get_time_lst(ntrials=100, nstages=4, duration=dur, \n",
    "                         sigma=sigmaval, K=Kval, initI=Ival)\n",
    "        prod_time_lst2.append(np.mean(times))\n",
    "        prod_var_lst2.append(np.std(times))\n",
    "\n",
    "    # Bias\n",
    "    bias_model1 = np.sum((np.array(prod_time_lst) * 10 - tss.T)**2) / len(tss)\n",
    "    bias_subject1 = np.sum((target_time1 - tss.T)**2) / len(tss)\n",
    "    bias_model2 = np.sum((np.array(prod_time_lst2) * 10 - tss.T)**2) / len(tss)\n",
    "    bias_subject2 = np.sum((target_time2 - tss.T)**2) / len(tss)\n",
    "\n",
    "    # Variance\n",
    "    var_model1 = np.sum((np.array(prod_var_lst) * 10)**2) / len(tss)\n",
    "    var_subject1 = np.sum(stdtp_in[:,0]**2) / len(tss)\n",
    "    var_model2 = np.sum((np.array(prod_var_lst2) * 10)**2) / len(tss)\n",
    "    var_subject2 = np.sum(stdtp_in[:,1]**2) / len(tss)\n",
    "    \n",
    "    # Collate\n",
    "    collated_bias_var.append((bias_model1, bias_subject1, bias_model2, bias_subject2,\n",
    "                             var_model1, var_subject1, var_model2, var_subject2))\n",
    "\n",
    "collated_bias_var = np.sqrt(np.array(collated_bias_var))"
   ]
  },
  {
   "cell_type": "code",
   "execution_count": null,
   "metadata": {
    "collapsed": true
   },
   "outputs": [],
   "source": [
    "# Plot bias and variance\n",
    "plt.plot(collated_bias_var[:,0], collated_bias_var[:,1], 'ro', label='Bias1')\n",
    "plt.plot(collated_bias_var[:,2], collated_bias_var[:,3], 'bo', label='Bias2')\n",
    "plt.plot(collated_bias_var[:,4], collated_bias_var[:,5], 'rx', label='Var1')\n",
    "plt.plot(collated_bias_var[:,6], collated_bias_var[:,7], 'bx', label='Var2')\n",
    "plt.plot([5,150], [5, 150])\n",
    "plt.legend()"
   ]
  },
  {
   "cell_type": "code",
   "execution_count": null,
   "metadata": {
    "collapsed": true
   },
   "outputs": [],
   "source": [
    "# Save collated bias and variance\n",
    "suffix = '021119_thres0_7_constant_stage0_750ms_Krange1to8_Irange77to79_sigma005to04.mat'\n",
    "#scipy.io.savemat('PlotTools/IK_subject_fit_' + suffix, \n",
    "#                 {'combi_arr': combi_arr, 'all_subject_files': all_subject_files})\n",
    "#scipy.io.savemat('PlotTools/IK_relationship_multi_' + suffix,\n",
    "#                {'Iresults': Iresults, 'Kresults': Kresults, 'sigma_lst': sigma_lst})\n",
    "#scipy.io.savemat('PlotTools/biasvar_' + suffix, \n",
    "#                 {'collated_bias_var': collated_bias_var, 'all_subject_files': all_subject_files})"
   ]
  },
  {
   "cell_type": "code",
   "execution_count": null,
   "metadata": {
    "collapsed": true
   },
   "outputs": [],
   "source": [
    "suffix = '020719_thres0_7_constant_stage0_750ms_optimized3_Krange1to7B.mat'\n",
    "\n",
    "#scipy.io.savemat('PlotTools/IK_relationship_multi_' + suffix,\n",
    "#                {'Iresults': Iresults, 'Kresults': Kresults, 'sigma_lst': sigma_lst,\n",
    "#                'nstages': np.arange(3, 14), 'PARAMS': PARAMS_DICT})\n"
   ]
  },
  {
   "cell_type": "code",
   "execution_count": null,
   "metadata": {
    "collapsed": true
   },
   "outputs": [],
   "source": []
  }
 ],
 "metadata": {
  "kernelspec": {
   "display_name": "Python 3",
   "language": "python",
   "name": "python3"
  },
  "language_info": {
   "codemirror_mode": {
    "name": "ipython",
    "version": 3
   },
   "file_extension": ".py",
   "mimetype": "text/x-python",
   "name": "python",
   "nbconvert_exporter": "python",
   "pygments_lexer": "ipython3",
   "version": "3.5.4"
  }
 },
 "nbformat": 4,
 "nbformat_minor": 2
}
