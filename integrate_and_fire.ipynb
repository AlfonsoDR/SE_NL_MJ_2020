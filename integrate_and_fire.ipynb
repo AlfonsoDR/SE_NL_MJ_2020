{
 "cells": [
  {
   "cell_type": "markdown",
   "metadata": {},
   "source": [
    "# Integrate and fire model"
   ]
  },
  {
   "cell_type": "code",
   "execution_count": 5,
   "metadata": {
    "collapsed": true
   },
   "outputs": [],
   "source": [
    "import numpy as np\n",
    "import matplotlib.pyplot as plt\n",
    "%matplotlib inline\n",
    "import seaborn as sns"
   ]
  },
  {
   "cell_type": "code",
   "execution_count": 48,
   "metadata": {},
   "outputs": [
    {
     "data": {
      "text/plain": [
       "0"
      ]
     },
     "execution_count": 48,
     "metadata": {},
     "output_type": "execute_result"
    }
   ],
   "source": [
    "np.sum(np.nonzero([0,0,0]))"
   ]
  },
  {
   "cell_type": "code",
   "execution_count": 175,
   "metadata": {
    "collapsed": true
   },
   "outputs": [],
   "source": [
    "def update_V(spikes, s, smax, V, Vreset, Vthresh, tau_ref, C, gL, EL, gE, \n",
    "             EE, gI, EI, sigma, tau_I, dt):\n",
    "    '''Update V according to the integrate and fire model'''\n",
    "    t = len(spikes)\n",
    "    if np.sum(np.nonzero(spikes)) == 0:\n",
    "        lastfire = -np.inf\n",
    "    else:\n",
    "        lastfire = np.max(np.nonzero(spikes))\n",
    "\n",
    "    if (t - lastfire) * dt < tau_ref:\n",
    "        #print(t, lastfire, dt, tau_ref)\n",
    "        #print('Refractory')\n",
    "        return 0, Vreset, s - s / tau_I * dt\n",
    "    elif V >= Vthresh:\n",
    "        #print('Spike!')\n",
    "        return 1, Vreset, s + (smax - s) / smax\n",
    "    else:\n",
    "        #print('Update')\n",
    "        noise = np.random.normal()\n",
    "        Vdot = (gL * (EL - V) + gE * (EE - V) + gI * (EI - V) + sigma * noise) / C\n",
    "        return 0, V + dt * Vdot, s - s / tau_I * dt\n",
    "        \n",
    "    "
   ]
  },
  {
   "cell_type": "markdown",
   "metadata": {},
   "source": [
    "## Simulate a spike train with no inhibitory input"
   ]
  },
  {
   "cell_type": "code",
   "execution_count": 218,
   "metadata": {},
   "outputs": [],
   "source": [
    "C = 0.2 #nF\n",
    "gL = 10/1000 #uS\n",
    "EL = -60 #mV\n",
    "sigma = 0.6\n",
    "Vreset = -61 #mV\n",
    "Vthresh = -55 #mV\n",
    "tau_ref = 2 #ms\n",
    "EI = -75 #mV\n",
    "EE = -5 #mV\n",
    "spikes = []\n",
    "V = -56 #mV\n",
    "dt = 0.1 #ms\n",
    "gE = 100/1000\n",
    "gI = 0/1000\n",
    "\n",
    "nsteps = 10000\n",
    "Vlst = []\n",
    "slst = []\n",
    "\n",
    "# For the output\n",
    "s = 6\n",
    "tau_I = 80 #ms\n",
    "smax = 7\n",
    "\n",
    "for i in range(nsteps):\n",
    "    state, V, s = update_V(spikes, s, smax, V, Vreset, Vthresh, tau_ref, C, gL, EL, gE, \n",
    "                 EE, gI, EI, sigma, tau_I, dt)\n",
    "    spikes.append(state)\n",
    "    Vlst.append(V)\n",
    "    slst.append(s)\n",
    "    \n",
    "    "
   ]
  },
  {
   "cell_type": "code",
   "execution_count": 220,
   "metadata": {},
   "outputs": [
    {
     "data": {
      "text/plain": [
       "[<matplotlib.lines.Line2D at 0x1e63a43a908>]"
      ]
     },
     "execution_count": 220,
     "metadata": {},
     "output_type": "execute_result"
    },
    {
     "data": {
      "image/png": "[encoded data removed]",
      "text/plain": [
       "<matplotlib.figure.Figure at 0x1e63a379240>"
      ]
     },
     "metadata": {},
     "output_type": "display_data"
    }
   ],
   "source": [
    "plt.plot(Vlst[:100])"
   ]
  },
  {
   "cell_type": "code",
   "execution_count": 219,
   "metadata": {},
   "outputs": [
    {
     "data": {
      "image/png": "[encoded data removed]",
      "text/plain": [
       "<matplotlib.figure.Figure at 0x1e6393117f0>"
      ]
     },
     "metadata": {},
     "output_type": "display_data"
    }
   ],
   "source": [
    "plt.plot(np.arange(nsteps) * dt / 1000, np.array(Vlst) + np.array(spikes) * 20,\n",
    "        label='Voltage');\n",
    "plt.plot(np.arange(nsteps) * dt / 1000, np.array(slst) * 3 - 40,\n",
    "        label='Output')\n",
    "#plt.ylim(-65, -40)\n",
    "plt.xlabel('Time (s)')\n",
    "plt.ylabel('voltage (mV)');\n",
    "plt.legend();\n"
   ]
  },
  {
   "cell_type": "code",
   "execution_count": 202,
   "metadata": {},
   "outputs": [
    {
     "data": {
      "text/plain": [
       "array([ 5.09901951,  5.38516481,  6.164414  ,  8.24621125])"
      ]
     },
     "execution_count": 202,
     "metadata": {},
     "output_type": "execute_result"
    }
   ],
   "source": [
    "x = np.array([[1,2,3,4],[4,3,2,4], [3,4,5,6]])\n",
    "np.linalg.norm(x,axis=0)"
   ]
  },
  {
   "cell_type": "code",
   "execution_count": 204,
   "metadata": {},
   "outputs": [
    {
     "data": {
      "text/plain": [
       "5.3851648071345037"
      ]
     },
     "execution_count": 204,
     "metadata": {},
     "output_type": "execute_result"
    }
   ],
   "source": [
    "np.linalg.norm([2,3,4])"
   ]
  },
  {
   "cell_type": "markdown",
   "metadata": {},
   "source": [
    "## Vary the inhibitory input and observe changes in frequency"
   ]
  },
  {
   "cell_type": "code",
   "execution_count": 189,
   "metadata": {},
   "outputs": [],
   "source": [
    "C = 0.2 #nF\n",
    "gL = 0.01 #uS\n",
    "EL = -60 #mV\n",
    "sigma = 0.6\n",
    "Vreset = -61 #mV\n",
    "Vthresh = -55 #mV\n",
    "tau_ref = 2 #ms\n",
    "EI = -75 #mV\n",
    "EE = -5 #mV\n",
    "spikes = []\n",
    "V = -60 #mV\n",
    "dt = 0.1 #ms\n",
    "gE = 2.0/1000\n",
    "\n",
    "nsteps = 10000\n",
    "Vlst = []\n",
    "slst = []\n",
    "\n",
    "# For the output\n",
    "s = 6\n",
    "tau_I = 80 #ms\n",
    "smax = 7\n",
    "\n",
    "gI_list = np.arange(8) / 1000\n",
    "rate_lst = []\n",
    "\n",
    "for gI in gI_list:\n",
    "    spikes = []\n",
    "    for i in range(nsteps):\n",
    "        state, V, s = update_V(spikes, s, smax, V, Vreset, Vthresh, tau_ref, C, gL, EL, gE, \n",
    "                     EE, gI, EI, sigma, tau_I, dt)\n",
    "        spikes.append(state)\n",
    "        Vlst.append(V)\n",
    "        #slst.append(s)\n",
    "    rate_lst.append(np.sum(spikes))\n",
    "    \n",
    "    "
   ]
  },
  {
   "cell_type": "code",
   "execution_count": 190,
   "metadata": {},
   "outputs": [
    {
     "data": {
      "text/plain": [
       "<matplotlib.text.Text at 0x1e638f560f0>"
      ]
     },
     "execution_count": 190,
     "metadata": {},
     "output_type": "execute_result"
    },
    {
     "data": {
      "image/png": "[encoded data removed]",
      "text/plain": [
       "<matplotlib.figure.Figure at 0x1e6391ac4a8>"
      ]
     },
     "metadata": {},
     "output_type": "display_data"
    }
   ],
   "source": [
    "plt.plot(gI_list * 1000, rate_lst)\n",
    "plt.xlabel('gI (nS)')\n",
    "plt.ylabel('Average firing rate (Hz)')"
   ]
  },
  {
   "cell_type": "code",
   "execution_count": 186,
   "metadata": {},
   "outputs": [
    {
     "data": {
      "text/plain": [
       "0.0050000000000000001"
      ]
     },
     "execution_count": 186,
     "metadata": {},
     "output_type": "execute_result"
    }
   ],
   "source": [
    "idx"
   ]
  },
  {
   "cell_type": "code",
   "execution_count": null,
   "metadata": {
    "collapsed": true
   },
   "outputs": [],
   "source": []
  }
 ],
 "metadata": {
  "kernelspec": {
   "display_name": "Python [py36]",
   "language": "python",
   "name": "Python [py36]"
  },
  "language_info": {
   "codemirror_mode": {
    "name": "ipython",
    "version": 3
   },
   "file_extension": ".py",
   "mimetype": "text/x-python",
   "name": "python",
   "nbconvert_exporter": "python",
   "pygments_lexer": "ipython3",
   "version": "3.6.1"
  }
 },
 "nbformat": 4,
 "nbformat_minor": 1
}
