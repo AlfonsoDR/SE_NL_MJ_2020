{
 "cells": [
  {
   "cell_type": "markdown",
   "metadata": {},
   "source": [
    "# Simulation of noisy mutual inhibition\n",
    "*Nhat Le, October 2017*"
   ]
  },
  {
   "cell_type": "code",
   "execution_count": 1,
   "metadata": {
    "collapsed": true
   },
   "outputs": [],
   "source": [
    "import numpy as np\n",
    "import matplotlib.pyplot as plt\n",
    "import seaborn as sns\n",
    "%matplotlib inline"
   ]
  },
  {
   "cell_type": "code",
   "execution_count": 2,
   "metadata": {
    "collapsed": true
   },
   "outputs": [],
   "source": [
    "def thresh_tanh(activity):\n",
    "    '''Activation function for a neuron'''\n",
    "    return 1 + np.tanh(activity)\n",
    "\n",
    "def thresh_exp(x):\n",
    "    '''Activation function'''\n",
    "    return 1 / (1 + np.exp(-x))\n",
    "\n",
    "def update_u(u, v, c1, dt):\n",
    "    activation = u - (c1 * v) * dt\n",
    "    #print(activation)\n",
    "    return thresh_tanh(activation)\n",
    "\n",
    "def update_v(u, v, c2, dt):\n",
    "    activation = v - (c2 * u) * dt\n",
    "    return thresh_tanh(activation)\n",
    "\n",
    "def simulate_u_v(u_init, v_init, c1, c2, dt, niter):\n",
    "    u_lst = []\n",
    "    v_lst = []\n",
    "    u = u_init\n",
    "    v = v_init\n",
    "    for i in range(niter):\n",
    "        u = update_u(u, v, c1, dt)\n",
    "        u_lst.append(u)\n",
    "        v = update_v(u, v, c2, dt)\n",
    "        v_lst.append(v)\n",
    "    return u_lst, v_lst"
   ]
  },
  {
   "cell_type": "code",
   "execution_count": 4,
   "metadata": {
    "scrolled": true
   },
   "outputs": [
    {
     "data": {
      "image/png": "[encoded data removed]",
      "text/plain": [
       "<matplotlib.figure.Figure at 0x2889fa3ee80>"
      ]
     },
     "metadata": {},
     "output_type": "display_data"
    }
   ],
   "source": [
    "u1, v1 = simulate_u_v(1, 1, c1=2, c2=3, dt=0.1, niter=10)\n",
    "plt.plot(u1)\n",
    "plt.plot(v1);"
   ]
  },
  {
   "cell_type": "code",
   "execution_count": null,
   "metadata": {
    "collapsed": true
   },
   "outputs": [],
   "source": []
  }
 ],
 "metadata": {
  "anaconda-cloud": {},
  "kernelspec": {
   "display_name": "Python [py36]",
   "language": "python",
   "name": "Python [py36]"
  },
  "language_info": {
   "codemirror_mode": {
    "name": "ipython",
    "version": 3
   },
   "file_extension": ".py",
   "mimetype": "text/x-python",
   "name": "python",
   "nbconvert_exporter": "python",
   "pygments_lexer": "ipython3",
   "version": "3.6.1"
  }
 },
 "nbformat": 4,
 "nbformat_minor": 1
}
