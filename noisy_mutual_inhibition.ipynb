{
 "cells": [
  {
   "cell_type": "markdown",
   "metadata": {
    "nbpresent": {
     "id": "8f1e93b9-683f-49de-acdd-7191067a164a"
    }
   },
   "source": [
    "# Simulation of noisy mutual inhibition\n",
    "*Nhat Le, October 2017*"
   ]
  },
  {
   "cell_type": "code",
   "execution_count": 1,
   "metadata": {
    "collapsed": true,
    "nbpresent": {
     "id": "e26e666e-0955-4339-bd92-b6050997e66c"
    }
   },
   "outputs": [],
   "source": [
    "import numpy as np\n",
    "import matplotlib.pyplot as plt\n",
    "import seaborn as sns\n",
    "from mpl_toolkits.mplot3d import Axes3D\n",
    "%matplotlib inline"
   ]
  },
  {
   "cell_type": "code",
   "execution_count": 58,
   "metadata": {
    "collapsed": true
   },
   "outputs": [],
   "source": [
    "# Common parameters used for the entire file\n",
    "param_dict_no_theta = {'Wut': 6, 'Wvt': 6, 'Wuv': 6, 'Wvu': 6,\n",
    "              'theta': 0.6, 'tau': 100, 'dt': 10, 'ext': 0}\n",
    "\n",
    "param_dict_theta = {'Wut': 6, 'Wvt': 6, 'Wuv': 6, 'Wvu': 6,\n",
    "              'theta': 3, 'tau': 100, 'dt': 10, 'ext': 0}\n",
    "\n",
    "state_dict = {'u': 1, 'v': 0}"
   ]
  },
  {
   "cell_type": "code",
   "execution_count": 59,
   "metadata": {
    "collapsed": true,
    "nbpresent": {
     "id": "90fe23b1-051d-4435-aaf4-ac9f83184e60"
    }
   },
   "outputs": [],
   "source": [
    "def thresh_exp(x):\n",
    "    '''Activation function'''\n",
    "    return 1 / (1 + np.exp(-x))\n",
    "\n",
    "def find_u_dot(state, params):\n",
    "    '''Returns du/dt given the parameters and current state'''\n",
    "    Wuv = params['Wuv']\n",
    "    Wut = params['Wut']\n",
    "    tau = params['tau']\n",
    "    ext = params['ext']\n",
    "    theta = params['theta']\n",
    "    \n",
    "    u = state['u']\n",
    "    v = state['v']\n",
    "    return (-u + thresh_exp(Wut * theta - Wuv * v + ext)) / tau\n",
    "\n",
    "def find_v_dot(state, params):\n",
    "    '''Returns dv/dt given the parameters and current state'''\n",
    "    Wvu = params['Wvu']\n",
    "    Wvt = params['Wvt']\n",
    "    tau = params['tau']\n",
    "    ext = params['ext']\n",
    "    theta = params['theta']\n",
    "\n",
    "    \n",
    "    u = state['u']\n",
    "    v = state['v']\n",
    "    return (-v + thresh_exp(Wvt * theta - Wvu * u + ext)) / tau\n",
    "\n",
    "def update_u_exp(state, params):\n",
    "    '''Update u based on params'''\n",
    "    state_new = state.copy()\n",
    "    state_new['u'] += find_u_dot(state, params) * params['dt']\n",
    "    return state_new\n",
    "\n",
    "def update_v_exp(state, params):\n",
    "    '''Update v based on params'''\n",
    "    state_new = state.copy()\n",
    "    state_new['v'] += find_v_dot(state, params) * params['dt']\n",
    "    return state_new\n",
    "\n",
    "def simulate_u_v_exp(state_init, params, niter):\n",
    "    '''Simulate for niter iterations'''\n",
    "    curr_state = state_init.copy()\n",
    "    u_lst = [state_init['u']]\n",
    "    v_lst = [state_init['v']]\n",
    "\n",
    "    for i in range(niter):\n",
    "        curr_state = update_u_exp(curr_state, params)\n",
    "        u_lst.append(curr_state['u'])\n",
    "        curr_state = update_v_exp(curr_state, params)\n",
    "        v_lst.append(curr_state['v'])\n",
    "    return u_lst, v_lst"
   ]
  },
  {
   "cell_type": "code",
   "execution_count": 60,
   "metadata": {},
   "outputs": [
    {
     "name": "stdout",
     "output_type": "stream",
     "text": [
      "Fixed point coordinates are:  0.999993856052 0.999993856052\n"
     ]
    },
    {
     "data": {
      "image/png": "[encoded data removed]",
      "text/plain": [
       "<matplotlib.figure.Figure at 0x1c8a531a5c0>"
      ]
     },
     "metadata": {},
     "output_type": "display_data"
    }
   ],
   "source": [
    "# Find fixed points for high theta\n",
    "init_dict = {'u': 0.22, 'v': 0.22}\n",
    "ulst_theta, vlst_theta = simulate_u_v_exp(init_dict, param_dict_theta, niter=1000)\n",
    "plt.plot(ulst_theta, label='u')\n",
    "plt.plot(vlst_theta, label='v')\n",
    "plt.legend()\n",
    "print('Fixed point coordinates are: ', ulst_theta[-1], vlst_theta[-1])\n",
    "\n",
    "# Store the fixed points as dictionaries\n",
    "stable1_theta = {'u': ulst_theta[-1], 'v': vlst_theta[-1]}\n",
    "stable2_theta = {'v': ulst_theta[-1], 'u': vlst_theta[-1]}"
   ]
  },
  {
   "cell_type": "code",
   "execution_count": 57,
   "metadata": {},
   "outputs": [
    {
     "name": "stdout",
     "output_type": "stream",
     "text": [
      "Fixed point coordinates are:  0.950055797413 0.109064286175\n"
     ]
    },
    {
     "data": {
      "image/png": "[encoded data removed]",
      "text/plain": [
       "<matplotlib.figure.Figure at 0x1c8a53a7cf8>"
      ]
     },
     "metadata": {},
     "output_type": "display_data"
    }
   ],
   "source": [
    "# Find fixed points for low theta\n",
    "ulst_no_theta, vlst_no_theta = simulate_u_v_exp(init_dict, param_dict_no_theta, niter=1000)\n",
    "plt.plot(ulst_no_theta, label='u')\n",
    "plt.plot(vlst_no_theta, label='v')\n",
    "plt.legend()\n",
    "print('Fixed point coordinates are: ', ulst_no_theta[-1], vlst_no_theta[-1])\n",
    "\n",
    "# Store the fixed points as dictionaries\n",
    "stable1_no_theta = {'u': ulst_no_theta[-1], 'v': vlst_no_theta[-1]}\n",
    "stable2_no_theta = {'v': ulst_no_theta[-1], 'u': vlst_no_theta[-1]}\n"
   ]
  },
  {
   "cell_type": "code",
   "execution_count": 6,
   "metadata": {
    "collapsed": true
   },
   "outputs": [],
   "source": [
    "def find_path_integral_line(state1, state2, params, nsteps):\n",
    "    '''Perform the path integral along a straight line from \n",
    "    state1 to state2, taking n steps\n",
    "    Returns the total integral, together with the cumulative list of integrals\n",
    "    along the path'''\n",
    "    u_ids = np.linspace(state1['u'], state2['u'], nsteps)\n",
    "    v_ids = np.linspace(state1['v'], state2['v'], nsteps)\n",
    "    \n",
    "    integral, integrals = find_path_integral_list(u_ids, v_ids, params)\n",
    "        \n",
    "    return integral, np.array(integrals)\n",
    "        \n",
    "    \n",
    "def find_path_integral_list(u_pos_list, v_pos_list, params):\n",
    "    '''Perform the path integral along an arbitrary line parameterized by\n",
    "    u_pos_list and v_pos_list, taking n steps\n",
    "    Returns the total integral, together with the cumulative list of integrals\n",
    "    along the path'''    \n",
    "    # Variables for storage\n",
    "    integral = 0\n",
    "    integrals = [0]\n",
    "    nsteps = len(u_pos_list)\n",
    "    \n",
    "    for i in range(nsteps - 1):\n",
    "        ustart = u_pos_list[i]\n",
    "        uend = u_pos_list[i + 1]\n",
    "        vstart = v_pos_list[i]\n",
    "        vend = v_pos_list[i + 1]\n",
    "        \n",
    "        start_state = {'u': ustart, 'v': vstart}\n",
    "        \n",
    "        udot = find_u_dot(start_state, params)\n",
    "        vdot = find_v_dot(start_state, params)\n",
    "        \n",
    "        du = uend - ustart\n",
    "        dv = vend - vstart\n",
    "        \n",
    "        integral -= udot * du + vdot * dv\n",
    "        integrals.append(integral)\n",
    "        \n",
    "    return integral, np.array(integrals)\n",
    "    "
   ]
  },
  {
   "cell_type": "code",
   "execution_count": 7,
   "metadata": {
    "collapsed": true
   },
   "outputs": [],
   "source": [
    "stable1arr_theta = np.array([stable1_theta['u'], stable1_theta['v']])\n",
    "stable2arr_theta = np.array([stable2_theta['u'], stable2_theta['v']])\n",
    "startpt_theta = stable1arr_theta + 0.1 * np.array([1, -1])\n",
    "endpt_theta = stable2arr_theta - 0.1 * np.array([1, -1])\n",
    "startpt_dict_theta = {'u': startpt_theta[0], 'v': startpt_theta[1]}\n",
    "endpt_dict_theta = {'u': endpt_theta[0], 'v': endpt_theta[1]}\n",
    "\n",
    "stable1arr_no_theta = np.array([stable1_no_theta['u'], stable1_no_theta['v']])\n",
    "stable2arr_no_theta = np.array([stable2_no_theta['u'], stable2_no_theta['v']])\n",
    "startpt_no_theta = stable1arr_no_theta + 0.1 * np.array([1, -1])\n",
    "endpt_no_theta = stable2arr_no_theta - 0.1 * np.array([1, -1])\n",
    "startpt_dict_no_theta = {'u': startpt_no_theta[0], 'v': startpt_no_theta[1]}\n",
    "endpt_dict_no_theta = {'u': endpt_no_theta[0], 'v': endpt_no_theta[1]}\n",
    "\n",
    "integral_theta_short, integrals_theta_short = find_path_integral_line(stable1_theta, stable2_theta, \n",
    "                                                param_dict_theta, 1000)\n",
    "integral_theta_long, integrals_theta_long = find_path_integral_line(startpt_dict_theta, endpt_dict_theta, \n",
    "                                                param_dict_theta, 1000)\n",
    "integral_notheta_short, integrals_notheta_short = find_path_integral_line(stable1_no_theta, stable2_no_theta, \n",
    "                                                param_dict_no_theta, 1000)\n",
    "integral_notheta_long, integrals_notheta_long = find_path_integral_line(startpt_dict_no_theta, \n",
    "                                                endpt_dict_no_theta, param_dict_no_theta, 1000)\n",
    "\n",
    "\n",
    "difference, _ = find_path_integral_line(startpt_dict_theta, startpt_dict_no_theta, param_dict_theta, 1000)"
   ]
  },
  {
   "cell_type": "code",
   "execution_count": 9,
   "metadata": {
    "scrolled": false
   },
   "outputs": [
    {
     "data": {
      "text/plain": [
       "<matplotlib.legend.Legend at 0x1c8a4a2a320>"
      ]
     },
     "execution_count": 9,
     "metadata": {},
     "output_type": "execute_result"
    },
    {
     "data": {
      "image/png": "[encoded data removed]",
      "text/plain": [
       "<matplotlib.figure.Figure at 0x1c8a3608710>"
      ]
     },
     "metadata": {},
     "output_type": "display_data"
    }
   ],
   "source": [
    "plt.plot(integrals_notheta_long * 1000, 'b', label=r'$\\theta=0.6$')\n",
    "plt.plot(integrals_theta_long * 1000 + 0.3, 'r', label=r'$\\theta=0.8$')\n",
    "plt.xlabel('Number of steps along path')\n",
    "plt.ylabel('Energy')\n",
    "plt.title('Energy landscape of the two-neuron model')\n",
    "plt.legend()\n",
    "#plt.savefig('energy_landscape.pdf')\n"
   ]
  },
  {
   "cell_type": "markdown",
   "metadata": {},
   "source": [
    "## Energy landscapes for various values of $\\theta$"
   ]
  },
  {
   "cell_type": "code",
   "execution_count": 10,
   "metadata": {
    "collapsed": true
   },
   "outputs": [],
   "source": [
    "stable1arr_theta = np.array([stable1_theta['u'], stable1_theta['v']])\n",
    "stable2arr_theta = np.array([stable2_theta['u'], stable2_theta['v']])\n",
    "startpt_theta = stable1arr_theta + 0.1 * np.array([1, -1])\n",
    "endpt_theta = stable2arr_theta - 0.1 * np.array([1, -1])\n",
    "startpt_dict_theta = {'u': startpt_theta[0], 'v': startpt_theta[1]}\n",
    "endpt_dict_theta = {'u': endpt_theta[0], 'v': endpt_theta[1]}\n",
    "\n",
    "stable1arr_no_theta = np.array([stable1_no_theta['u'], stable1_no_theta['v']])\n",
    "stable2arr_no_theta = np.array([stable2_no_theta['u'], stable2_no_theta['v']])\n",
    "startpt_no_theta = stable1arr_no_theta + 0.1 * np.array([1, -1])\n",
    "endpt_no_theta = stable2arr_no_theta - 0.1 * np.array([1, -1])\n",
    "startpt_dict_no_theta = {'u': startpt_no_theta[0], 'v': startpt_no_theta[1]}\n",
    "endpt_dict_no_theta = {'u': endpt_no_theta[0], 'v': endpt_no_theta[1]}\n",
    "\n",
    "integral_theta_short, integrals_theta_short = find_path_integral_line(stable1_theta, stable2_theta, \n",
    "                                                param_dict_theta, 1000)\n",
    "integral_theta_long, integrals_theta_long = find_path_integral_line(startpt_dict_theta, endpt_dict_theta, \n",
    "                                                param_dict_theta, 1000)\n",
    "integral_notheta_short, integrals_notheta_short = find_path_integral_line(stable1_no_theta, stable2_no_theta, \n",
    "                                                param_dict_no_theta, 1000)\n",
    "integral_notheta_long, integrals_notheta_long = find_path_integral_line(startpt_dict_no_theta, \n",
    "                                                endpt_dict_no_theta, param_dict_no_theta, 1000)\n",
    "\n",
    "\n",
    "difference, _ = find_path_integral_line(startpt_dict_theta, startpt_dict_no_theta, param_dict_theta, 1000)"
   ]
  },
  {
   "cell_type": "markdown",
   "metadata": {},
   "source": [
    "## Stable fixed points as a function of u and v initial"
   ]
  },
  {
   "cell_type": "code",
   "execution_count": 61,
   "metadata": {},
   "outputs": [
    {
     "name": "stdout",
     "output_type": "stream",
     "text": [
      "Doing theta =  0.0\n",
      "Doing theta =  0.2\n",
      "Doing theta =  0.4\n",
      "Doing theta =  0.6\n",
      "Doing theta =  0.8\n",
      "Doing theta =  1.0\n",
      "Doing theta =  1.2\n",
      "Doing theta =  1.4\n",
      "Doing theta =  1.6\n",
      "Doing theta =  1.8\n",
      "Doing theta =  2.0\n"
     ]
    }
   ],
   "source": [
    "integral_set = []\n",
    "theta_vals = np.linspace(0, 2, 11)\n",
    "fixed_points = np.zeros((len(theta_vals), 2))\n",
    "for idx, theta_val in enumerate(theta_vals):\n",
    "    print('Doing theta = ', theta_val)\n",
    "    # Create the parameter dictionary\n",
    "    param_dict_theta_val = {'Wut': 6, 'Wvt': 6, 'Wuv': 6, 'Wvu': 6,\n",
    "                  'theta': theta_val, 'tau': 100, 'dt': 10, 'ext': 0}\n",
    "    \n",
    "    # Do simulation to find fixed points\n",
    "    # Find fixed points for high theta\n",
    "    init_dict = {'u': 0.22, 'v': 0.22}\n",
    "    ulst_theta_val, vlst_theta_val = simulate_u_v_exp(init_dict, param_dict_theta_val, niter=1000)\n",
    "    \n",
    "    # Store fixed points\n",
    "    fixed_points[idx, 0] = ulst_theta_val[-1]\n",
    "    fixed_points[idx, 1] = vlst_theta_val[-1]\n",
    "    stable1_theta_val = {'u': ulst_theta_val[-1], 'v': vlst_theta_val[-1]}\n",
    "    stable2_theta_val = {'v': ulst_theta_val[-1], 'u': vlst_theta_val[-1]}\n",
    "\n",
    "    # Perform the path integral. First set up relevant starting points\n",
    "    stable1arr_theta_val = np.array([stable1_theta_val['u'], stable1_theta_val['v']])\n",
    "    stable2arr_theta_val = np.array([stable2_theta_val['u'], stable2_theta_val['v']])\n",
    "    startpt_theta_val = stable1arr_theta_val + 0.1 * np.array([1, -1])\n",
    "    endpt_theta_val = stable2arr_theta_val - 0.1 * np.array([1, -1])\n",
    "    startpt_dict_theta_val = {'u': startpt_theta_val[0], 'v': startpt_theta_val[1]}\n",
    "    endpt_dict_theta_val = {'u': endpt_theta_val[0], 'v': endpt_theta_val[1]}\n",
    "\n",
    "    # Then do integral...\n",
    "    _, integrals_theta_val = find_path_integral_line(startpt_dict_theta_val, endpt_dict_theta_val, \n",
    "                                                    param_dict_theta_val, 1000)\n",
    "    integral_set.append(integrals_theta_val)"
   ]
  },
  {
   "cell_type": "code",
   "execution_count": 64,
   "metadata": {},
   "outputs": [
    {
     "data": {
      "text/plain": [
       "<matplotlib.text.Text at 0x1c8a34b8dd8>"
      ]
     },
     "execution_count": 64,
     "metadata": {},
     "output_type": "execute_result"
    },
    {
     "data": {
      "image/png": "[encoded data removed]",
      "text/plain": [
       "<matplotlib.figure.Figure at 0x1c8a5258630>"
      ]
     },
     "metadata": {},
     "output_type": "display_data"
    }
   ],
   "source": [
    "with sns.color_palette(\"Blues\", len(theta_vals)):\n",
    "    for i in range(len(theta_vals)):\n",
    "        plt.plot(fixed_points[i, 0], fixed_points[i, 1], '.', \n",
    "                 label=r'$\\theta=$' + str(theta_vals[i]))\n",
    "\n",
    "with sns.color_palette(\"Blues\", len(theta_vals)):\n",
    "    for i in range(len(theta_vals)):\n",
    "        plt.plot(fixed_points[i, 1], fixed_points[i, 0], '.')\n",
    "    \n",
    "# Plot y=x line\n",
    "xcoords = np.linspace(0, 1, 100)\n",
    "#plt.plot(xcoords, xcoords, 'k--')\n",
    "\n",
    "plt.legend(loc='lower left')    \n",
    "plt.axis('equal');\n",
    "plt.xlim([-0.5, 1]);\n",
    "plt.xlabel(r'$u$')\n",
    "plt.ylabel(r'$v$')\n",
    "plt.title('Location of fixed points at various levels of common input')\n",
    "#plt.savefig('fixed_pt_loc.pdf')"
   ]
  },
  {
   "cell_type": "code",
   "execution_count": 12,
   "metadata": {},
   "outputs": [
    {
     "data": {
      "image/png": "[encoded data removed]",
      "text/plain": [
       "<matplotlib.figure.Figure at 0x1c8a46c5e80>"
      ]
     },
     "metadata": {},
     "output_type": "display_data"
    }
   ],
   "source": [
    "with sns.color_palette(\"Blues\", len(theta_vals)):\n",
    "    for idx, series in enumerate(integral_set):\n",
    "        plt.plot(series* 1000 + idx * 0.1, label=r'$\\theta=$' + str(theta_vals[idx]))\n",
    "    plt.xlim(-100, 1500)\n",
    "    plt.ylim(0, 1.1)\n",
    "    plt.legend(loc='upper right')\n",
    "    plt.xlabel('Number of steps along path')\n",
    "    plt.ylabel('Energy')\n",
    "    plt.title('Energy landscape of the two-neuron model')\n",
    "\n",
    "#plt.savefig('energy_landscape_theta.pdf')"
   ]
  },
  {
   "cell_type": "code",
   "execution_count": 13,
   "metadata": {},
   "outputs": [
    {
     "ename": "TypeError",
     "evalue": "simulate_u_v_exp() got an unexpected keyword argument 'c1'",
     "output_type": "error",
     "traceback": [
      "\u001b[1;31m---------------------------------------------------------------------------\u001b[0m",
      "\u001b[1;31mTypeError\u001b[0m                                 Traceback (most recent call last)",
      "\u001b[1;32m<ipython-input-13-c3d888c770e8>\u001b[0m in \u001b[0;36m<module>\u001b[1;34m()\u001b[0m\n\u001b[0;32m     16\u001b[0m     \u001b[1;32mfor\u001b[0m \u001b[0midv\u001b[0m\u001b[1;33m,\u001b[0m \u001b[0mv\u001b[0m \u001b[1;32min\u001b[0m \u001b[0menumerate\u001b[0m\u001b[1;33m(\u001b[0m\u001b[0mvstarts\u001b[0m\u001b[1;33m)\u001b[0m\u001b[1;33m:\u001b[0m\u001b[1;33m\u001b[0m\u001b[0m\n\u001b[0;32m     17\u001b[0m         ulst, vlst = simulate_u_v_exp(u, v, c1=6, c2=6, c3=6, theta=0.5,\n\u001b[1;32m---> 18\u001b[1;33m                                       tau=100, niter=1, dt=10)\n\u001b[0m\u001b[0;32m     19\u001b[0m         \u001b[0muends_1\u001b[0m\u001b[1;33m[\u001b[0m\u001b[0midu\u001b[0m\u001b[1;33m,\u001b[0m \u001b[0midv\u001b[0m\u001b[1;33m]\u001b[0m \u001b[1;33m=\u001b[0m \u001b[0mulst\u001b[0m\u001b[1;33m[\u001b[0m\u001b[1;33m-\u001b[0m\u001b[1;36m1\u001b[0m\u001b[1;33m]\u001b[0m\u001b[1;33m\u001b[0m\u001b[0m\n\u001b[0;32m     20\u001b[0m         \u001b[0mvends_1\u001b[0m\u001b[1;33m[\u001b[0m\u001b[0midu\u001b[0m\u001b[1;33m,\u001b[0m \u001b[0midv\u001b[0m\u001b[1;33m]\u001b[0m \u001b[1;33m=\u001b[0m \u001b[0mvlst\u001b[0m\u001b[1;33m[\u001b[0m\u001b[1;33m-\u001b[0m\u001b[1;36m1\u001b[0m\u001b[1;33m]\u001b[0m\u001b[1;33m\u001b[0m\u001b[0m\n",
      "\u001b[1;31mTypeError\u001b[0m: simulate_u_v_exp() got an unexpected keyword argument 'c1'"
     ]
    }
   ],
   "source": [
    "ustarts = np.linspace(0, 1, 11)\n",
    "vstarts = np.linspace(0, 1, 11)\n",
    "uends_1 = np.zeros((len(ustarts), len(vstarts)))\n",
    "vends_1 = np.zeros((len(ustarts), len(vstarts)))\n",
    "\n",
    "uends_10 = np.zeros((len(ustarts), len(vstarts)))\n",
    "vends_10 = np.zeros((len(ustarts), len(vstarts)))\n",
    "\n",
    "uends_100 = np.zeros((len(ustarts), len(vstarts)))\n",
    "vends_100 = np.zeros((len(ustarts), len(vstarts)))\n",
    "\n",
    "uends_1000 = np.zeros((len(ustarts), len(vstarts)))\n",
    "vends_1000 = np.zeros((len(ustarts), len(vstarts)))\n",
    "\n",
    "for idu, u in enumerate(ustarts):\n",
    "    for idv, v in enumerate(vstarts):\n",
    "        ulst, vlst = simulate_u_v_exp(u, v, c1=6, c2=6, c3=6, theta=0.5,\n",
    "                                      tau=100, niter=1, dt=10)\n",
    "        uends_1[idu, idv] = ulst[-1]\n",
    "        vends_1[idu, idv] = vlst[-1]\n",
    "        \n",
    "        ulst, vlst = simulate_u_v_exp(u, v, c1=6, c2=6, c3=6, theta=0.5,\n",
    "                                      tau=100, niter=10, dt=10)\n",
    "        uends_10[idu, idv] = ulst[-1]\n",
    "        vends_10[idu, idv] = vlst[-1]\n",
    "        \n",
    "        ulst, vlst = simulate_u_v_exp(u, v, c1=6, c2=6, c3=6, theta=0.5,\n",
    "                                      tau=100, niter=100, dt=10)\n",
    "        uends_100[idu, idv] = ulst[-1]\n",
    "        vends_100[idu, idv] = vlst[-1]\n",
    "        \n",
    "        ulst, vlst = simulate_u_v_exp(u, v, c1=6, c2=6, c3=6, theta=0.5,\n",
    "                                      tau=100, niter=1000, dt=10)\n",
    "        uends_1000[idu, idv] = ulst[-1]\n",
    "        vends_1000[idu, idv] = vlst[-1]"
   ]
  },
  {
   "cell_type": "code",
   "execution_count": null,
   "metadata": {
    "collapsed": true
   },
   "outputs": [],
   "source": [
    "x,y = np.meshgrid(range(11),range(11))\n",
    "fig = plt.figure(figsize=(10,10))\n",
    "ax = fig.add_subplot(221, projection='3d')\n",
    "ax.scatter(x.ravel(), y.ravel(), uends_1.ravel())\n",
    "ax.set_title('t=1')\n",
    "\n",
    "ax = fig.add_subplot(222, projection='3d')\n",
    "ax.scatter(x.ravel(), y.ravel(), uends_10.ravel())\n",
    "ax.set_title('t=10')\n",
    "\n",
    "ax = fig.add_subplot(223, projection='3d')\n",
    "ax.scatter(x.ravel(), y.ravel(), uends_100.ravel())\n",
    "ax.set_title('t=100')\n",
    "\n",
    "ax = fig.add_subplot(224, projection='3d')\n",
    "ax.scatter(x.ravel(), y.ravel(), uends_1000.ravel())\n",
    "ax.set_title('t=1000')"
   ]
  },
  {
   "cell_type": "code",
   "execution_count": null,
   "metadata": {
    "collapsed": true
   },
   "outputs": [],
   "source": [
    "x,y = np.meshgrid(range(11),range(11))\n",
    "fig = plt.figure(figsize=(10,10))\n",
    "ax = fig.add_subplot(221, projection='3d')\n",
    "ax.scatter(x.ravel(), y.ravel(), uends_1.ravel())\n",
    "ax.set_title('t=1')\n",
    "\n",
    "ax = fig.add_subplot(222, projection='3d')\n",
    "ax.scatter(x.ravel(), y.ravel(), uends_10.ravel())\n",
    "ax.set_title('t=10')\n",
    "\n",
    "ax = fig.add_subplot(223, projection='3d')\n",
    "ax.scatter(x.ravel(), y.ravel(), uends_100.ravel())\n",
    "ax.set_title('t=100')\n",
    "\n",
    "ax = fig.add_subplot(224, projection='3d')\n",
    "ax.scatter(x.ravel(), y.ravel(), uends_1000.ravel())\n",
    "ax.set_title('t=1000')"
   ]
  },
  {
   "cell_type": "code",
   "execution_count": null,
   "metadata": {
    "collapsed": true,
    "nbpresent": {
     "id": "036bf955-5978-4653-b5b9-458d1a490a5b"
    }
   },
   "outputs": [],
   "source": [
    "# The effect of theta on the fixed points\n",
    "ulst, vlst = simulate_u_v_exp(0.6, 0.3, c1=6, c2=6, c3=6, theta=0,\n",
    "                              tau=100, niter=1000, dt=10)\n",
    "\n",
    "ulst1, vlst1 = simulate_u_v_exp(0.6, 0.3, c1=6, c2=6, c3=6, theta=0.5,\n",
    "                              tau=100, niter=1000, dt=10)\n",
    "ulst2, vlst2 = simulate_u_v_exp(0.6, 0.3, c1=6, c2=6, c3=6, theta=0,\n",
    "                              tau=100, niter=1000, dt=10)\n",
    "\n",
    "ulst1b, vlst1b = simulate_u_v_exp(0.6, 0.3, c1=6, c2=6, c3=6, theta=0.5,\n",
    "                              tau=100, niter=1000, dt=10)\n",
    "ulst2b, vlst2b = simulate_u_v_exp(0.6, 0.3, c1=6, c2=6, c3=6, theta=0,\n",
    "                              tau=100, niter=1000, dt=10)\n",
    "\n",
    "\n",
    "fig,ax = plt.subplots(1, 2, figsize=(15,8))\n",
    "ax[0].plot(ulst1, '--', color='blue', alpha=0.8, label='u, theta=1')\n",
    "ax[0].plot(vlst1, color='blue', alpha=0.8, label='v, theta=1')\n",
    "ax[0].plot(ulst2, '--', color='red', alpha=0.8, label='u, theta=0')\n",
    "ax[0].plot(vlst2 , color='red', alpha=0.8, label='v, theta=0')\n",
    "\n",
    "\n",
    "ax[0].set_ylim(0,1)\n",
    "ax[0].legend();\n",
    "\n",
    "ax[1].plot(ulst1b, '--', color='blue', alpha=0.8, label='u, theta=1')\n",
    "ax[1].plot(vlst1b, color='blue', alpha=0.8, label='v, theta=1')\n",
    "ax[1].plot(ulst2b, '--', color='red', alpha=0.8, label='u, theta=0')\n",
    "ax[1].plot(vlst2b, color='red', alpha=0.8, label='v, theta=0')\n",
    "\n",
    "\n",
    "ax[1].set_ylim(0,1)\n",
    "ax[1].legend(loc='upper right');"
   ]
  },
  {
   "cell_type": "markdown",
   "metadata": {},
   "source": [
    "## Add a 'Set' signal"
   ]
  },
  {
   "cell_type": "code",
   "execution_count": null,
   "metadata": {
    "collapsed": true
   },
   "outputs": [],
   "source": [
    "ulst, vlst = simulate_u_v_exp(0.6, 0.3, c1=6, c2=6, c3=6, theta=0,\n",
    "                              tau=100, niter=1000, dt=10)\n",
    "ulst_set, vlst_set = simulate_u_v_exp(ulst[-1], vlst[-1], c1=6, c2=6, c3=6, theta=0,\n",
    "                              tau=100, niter=10, dt=10, vext=0.75)\n",
    "ulst_relax, vlst_relax = simulate_u_v_exp(ulst_set[-1], vlst_set[-1], c1=6, c2=6, c3=6, theta=0,\n",
    "                              tau=100, niter=10000, dt=10)\n",
    "plt.plot(ulst + ulst_set + ulst_relax)\n",
    "plt.plot(vlst + vlst_set + vlst_relax);\n"
   ]
  },
  {
   "cell_type": "code",
   "execution_count": null,
   "metadata": {
    "collapsed": true
   },
   "outputs": [],
   "source": [
    "ulst_set"
   ]
  },
  {
   "cell_type": "code",
   "execution_count": null,
   "metadata": {
    "collapsed": true
   },
   "outputs": [],
   "source": [
    "ulst, vlst = simulate_u_v_exp(0.6, 0.3, c1=6, c2=6, c3=6, theta=1,\n",
    "                              tau=100, niter=1000, dt=10)\n",
    "ulst_set, vlst_set = simulate_u_v_exp(ulst[-1], vlst[-1], c1=6, c2=6, c3=6, theta=1,\n",
    "                              tau=100, niter=10, dt=10, vext=0.865)\n",
    "ulst_relax, vlst_relax = simulate_u_v_exp(ulst_set[-1], vlst_set[-1], c1=6, c2=6, c3=6, theta=1,\n",
    "                              tau=100, niter=10000, dt=10)\n",
    "plt.plot(ulst + ulst_set + ulst_relax)\n",
    "plt.plot(vlst + vlst_set + vlst_relax);"
   ]
  },
  {
   "cell_type": "code",
   "execution_count": null,
   "metadata": {
    "collapsed": true
   },
   "outputs": [],
   "source": []
  },
  {
   "cell_type": "code",
   "execution_count": null,
   "metadata": {
    "collapsed": true
   },
   "outputs": [],
   "source": [
    "ulst, vlst = simulate_u_v_exp(0.6, 0.3, c1=6, c2=6, c3=6, theta=1,\n",
    "                              tau=100, niter=4000, dt=10)\n",
    "ulst_set, vlst_set = simulate_u_v_exp(ulst[-1], vlst[-1]+0.13, c1=6, c2=6, c3=6, theta=1,\n",
    "                              tau=100, niter=8000, dt=10)\n"
   ]
  },
  {
   "cell_type": "code",
   "execution_count": null,
   "metadata": {
    "collapsed": true
   },
   "outputs": [],
   "source": [
    "np.random.normal(size=10)"
   ]
  },
  {
   "cell_type": "code",
   "execution_count": null,
   "metadata": {
    "collapsed": true
   },
   "outputs": [],
   "source": [
    "def update_u_exp_noise(u, v, c1, c2, c3, theta, tau, dt):\n",
    "    '''Update neuron u given a noise that is ~N(0, s^2)'''\n",
    "    noise = np.random.normal(scale=0.01, size=len(u))\n",
    "    du = (-u + thresh_exp(c3 * theta - c1 * v) + noise) / tau * dt\n",
    "    return u + du\n",
    "\n",
    "def update_v_exp_noise(u, v, c1, c2, c3, theta, tau, dt):\n",
    "    '''Update neuron v given a noise that is ~N(0, s^2)'''\n",
    "    noise = np.random.normal(scale=0.01, size=len(v))\n",
    "    dv = (-v + thresh_exp(c3 * theta - c2 * u) + noise) / tau * dt\n",
    "    return v + dv\n",
    "\n",
    "def simulate_u_v_exp_noise(u_init, v_init, c1, c2, c3, theta, tau, niter, dt):\n",
    "    u_lst = []\n",
    "    v_lst = []\n",
    "    u = u_init\n",
    "    v = v_init\n",
    "    for i in range(niter):\n",
    "        u = update_u_exp_noise(u, v, c1, c2, c3, theta, tau, dt)\n",
    "        #print('u = ', u)\n",
    "        u_lst.append(u)\n",
    "        v = update_v_exp_noise(u, v, c1, c2, c3, theta, tau, dt)\n",
    "        #print('v = ', v)\n",
    "        v_lst.append(v)\n",
    "    return u_lst, v_lst"
   ]
  },
  {
   "cell_type": "code",
   "execution_count": null,
   "metadata": {
    "collapsed": true
   },
   "outputs": [],
   "source": [
    "ulst[-1]"
   ]
  },
  {
   "cell_type": "code",
   "execution_count": null,
   "metadata": {
    "collapsed": true,
    "scrolled": false
   },
   "outputs": [],
   "source": [
    "u = np.array([0.1] * 100)\n",
    "v = np.array([0.3] * 100)\n",
    "plt.figure(figsize=(10, 10))\n",
    "ulst, vlst = simulate_u_v_exp_noise(u, v, c1=6, c2=6, c3=6, theta=0,\n",
    "                              tau=100, niter=5000, dt=10)\n",
    "ulst_set, vlst_set = simulate_u_v_exp_noise(ulst[-1]+0.2, vlst[-1], c1=6, c2=6, c3=6, theta=0,\n",
    "                              tau=100, niter=5000, dt=10)\n",
    "\n",
    "\n",
    "U = np.vstack(ulst + ulst_set)\n",
    "plt.plot(U, 'blue', alpha=0.05, label='u');\n",
    "\n",
    "V = np.vstack(vlst + vlst_set)\n",
    "plt.plot(V, 'red', alpha=0.05, label='v');\n",
    "plt.xlabel('Time')\n",
    "plt.ylabel('Activity')\n",
    "plt.title('Theta = 0')\n",
    "\n",
    "#plt.legend();"
   ]
  },
  {
   "cell_type": "code",
   "execution_count": null,
   "metadata": {
    "collapsed": true
   },
   "outputs": [],
   "source": [
    "U.shape"
   ]
  },
  {
   "cell_type": "code",
   "execution_count": null,
   "metadata": {
    "collapsed": true
   },
   "outputs": [],
   "source": [
    "u = np.array([0.1] * 100)\n",
    "v = np.array([0.3] * 100)\n",
    "plt.figure(figsize=(10, 10))\n",
    "ulst, vlst = simulate_u_v_exp(u, v, c1=6, c2=6, c3=6, theta=1.2,\n",
    "                              tau=100, niter=5000, dt=10)\n",
    "ulst_set, vlst_set = simulate_u_v_exp(ulst[-1]+0.2, vlst[-1], c1=6, c2=6, c3=6, theta=1.2,\n",
    "                              tau=100, niter=5000, dt=10)\n",
    "\n",
    "\n",
    "U = np.vstack(ulst + ulst_set)\n",
    "plt.plot(U[2000:, :], 'blue', alpha=0.05, label='u');\n",
    "\n",
    "V = np.vstack(vlst + vlst_set)\n",
    "plt.plot(V[2000:, :], 'red', alpha=0.05, label='v');\n",
    "#plt.ylim(0.9, 1.2)\n",
    "#plt.legend();"
   ]
  },
  {
   "cell_type": "code",
   "execution_count": null,
   "metadata": {
    "collapsed": true
   },
   "outputs": [],
   "source": [
    "plt.plot(U, 'blue');"
   ]
  },
  {
   "cell_type": "code",
   "execution_count": null,
   "metadata": {
    "collapsed": true
   },
   "outputs": [],
   "source": []
  }
 ],
 "metadata": {
  "anaconda-cloud": {},
  "kernelspec": {
   "display_name": "Python [py36]",
   "language": "python",
   "name": "Python [py36]"
  },
  "language_info": {
   "codemirror_mode": {
    "name": "ipython",
    "version": 3
   },
   "file_extension": ".py",
   "mimetype": "text/x-python",
   "name": "python",
   "nbconvert_exporter": "python",
   "pygments_lexer": "ipython3",
   "version": "3.6.1"
  },
  "nbpresent": {
   "slides": {},
   "themes": {}
  }
 },
 "nbformat": 4,
 "nbformat_minor": 1
}
