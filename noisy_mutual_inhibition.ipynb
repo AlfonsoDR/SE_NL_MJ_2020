{
 "cells": [
  {
   "cell_type": "markdown",
   "metadata": {
    "nbpresent": {
     "id": "8f1e93b9-683f-49de-acdd-7191067a164a"
    }
   },
   "source": [
    "# Simulation of noisy mutual inhibition\n",
    "*Nhat Le, October 2017*"
   ]
  },
  {
   "cell_type": "code",
   "execution_count": 6,
   "metadata": {
    "collapsed": true,
    "nbpresent": {
     "id": "e26e666e-0955-4339-bd92-b6050997e66c"
    }
   },
   "outputs": [],
   "source": [
    "import numpy as np\n",
    "import matplotlib.pyplot as plt\n",
    "import seaborn as sns\n",
    "%matplotlib inline"
   ]
  },
  {
   "cell_type": "code",
   "execution_count": null,
   "metadata": {},
   "outputs": [],
   "source": [
    "plt.plot(b)"
   ]
  },
  {
   "cell_type": "code",
   "execution_count": null,
   "metadata": {
    "collapsed": true
   },
   "outputs": [],
   "source": [
    "a = np.linspace(-10, 10, 100)\n",
    "b = thresh_exp(a)"
   ]
  },
  {
   "cell_type": "code",
   "execution_count": null,
   "metadata": {
    "collapsed": true,
    "nbpresent": {
     "id": "53831078-3b29-40ed-b318-732608cb20a8"
    }
   },
   "outputs": [],
   "source": [
    "def thresh_tanh(activity):\n",
    "    '''Activation function for a neuron'''\n",
    "    return 1 + np.tanh(activity)\n",
    "\n",
    "\n",
    "\n",
    "def update_u_tanh(u, v, c1, dt):\n",
    "    activation = u - (c1 * v) * dt\n",
    "    #print(activation)\n",
    "    return thresh_tanh(activation)\n",
    "\n",
    "def update_v_tanh(u, v, c2, dt):\n",
    "    activation = v - (c2 * u) * dt\n",
    "    return thresh_tanh(activation)\n",
    "\n",
    "def simulate_u_v_tanh(u_init, v_init, c1, c2, dt, niter):\n",
    "    u_lst = []\n",
    "    v_lst = []\n",
    "    u = u_init\n",
    "    v = v_init\n",
    "    for i in range(niter):\n",
    "        u = update_u_tanh(u, v, c1, dt)\n",
    "        u_lst.append(u)\n",
    "        v = update_v_tanh(u, v, c2, dt)\n",
    "        v_lst.append(v)\n",
    "    return u_lst, v_lst"
   ]
  },
  {
   "cell_type": "code",
   "execution_count": null,
   "metadata": {
    "nbpresent": {
     "id": "50a09366-43dd-4738-8e2d-18cfe100ce44"
    },
    "scrolled": true
   },
   "outputs": [],
   "source": [
    "u1, v1 = simulate_u_v_tanh(1, 1, c1=2, c2=3, dt=0.1, niter=10)\n",
    "plt.plot(u1)\n",
    "plt.plot(v1);\n",
    "plt.xlabel('Time')\n",
    "plt.ylabel('Activity')"
   ]
  },
  {
   "cell_type": "code",
   "execution_count": 26,
   "metadata": {
    "collapsed": true,
    "nbpresent": {
     "id": "90fe23b1-051d-4435-aaf4-ac9f83184e60"
    }
   },
   "outputs": [],
   "source": [
    "def thresh_exp(x):\n",
    "    '''Activation function'''\n",
    "    return 1 / (1 + np.exp(-x))\n",
    "\n",
    "def update_u_exp(u, v, c1, c2, c3, theta, tau, dt):\n",
    "    du = (-u + thresh_exp(c3 * theta - c1 * v)) / tau * dt\n",
    "    return u + du\n",
    "\n",
    "def update_v_exp(u, v, c1, c2, c3, theta, tau, dt):\n",
    "    dv = (-v + thresh_exp(c3 * theta - c2 * u)) / tau * dt\n",
    "    return v + dv\n",
    "\n",
    "def simulate_u_v_exp(u_init, v_init, c1, c2, c3, theta, tau, niter, dt):\n",
    "    u_lst = []\n",
    "    v_lst = []\n",
    "    u = u_init\n",
    "    v = v_init\n",
    "    for i in range(niter):\n",
    "        u = update_u_exp(u, v, c1, c2, c3, theta, tau, dt)\n",
    "        #print('u = ', u)\n",
    "        u_lst.append(u)\n",
    "        v = update_v_exp(u, v, c1, c2, c3, theta, tau, dt)\n",
    "        #print('v = ', v)\n",
    "        v_lst.append(v)\n",
    "    return u_lst, v_lst"
   ]
  },
  {
   "cell_type": "code",
   "execution_count": 29,
   "metadata": {
    "nbpresent": {
     "id": "f82b1620-06d9-49f8-96be-f0a3b31fa192"
    }
   },
   "outputs": [
    {
     "data": {
      "text/plain": [
       "<matplotlib.legend.Legend at 0x2d80847ada0>"
      ]
     },
     "execution_count": 29,
     "metadata": {},
     "output_type": "execute_result"
    },
    {
     "data": {
      "image/png": "[encoded data removed]",
      "text/plain": [
       "<matplotlib.figure.Figure at 0x2d8083dce80>"
      ]
     },
     "metadata": {},
     "output_type": "display_data"
    }
   ],
   "source": [
    "ulst, vlst = simulate_u_v_exp(1, 3, c1=6, c2=6, c3=6, theta=0,\n",
    "                              tau=100, niter=100, dt=10)\n",
    "plt.plot(ulst, label='u')\n",
    "plt.plot(vlst, label='v')\n",
    "plt.legend()"
   ]
  },
  {
   "cell_type": "code",
   "execution_count": 60,
   "metadata": {
    "nbpresent": {
     "id": "036bf955-5978-4653-b5b9-458d1a490a5b"
    }
   },
   "outputs": [
    {
     "data": {
      "text/plain": [
       "<matplotlib.legend.Legend at 0x2d80a558940>"
      ]
     },
     "execution_count": 60,
     "metadata": {},
     "output_type": "execute_result"
    },
    {
     "data": {
      "image/png": "[encoded data removed]",
      "text/plain": [
       "<matplotlib.figure.Figure at 0x2d80a3aae10>"
      ]
     },
     "metadata": {},
     "output_type": "display_data"
    }
   ],
   "source": [
    "ulst, vlst = simulate_u_v_exp(3, 4, c1=6, c2=6, c3=6, theta=0,\n",
    "                              tau=100, niter=10000, dt=10)\n",
    "plt.plot(ulst[:10000], label='u')\n",
    "plt.plot(vlst[:10000], label='v')\n",
    "plt.ylim(0,3)\n",
    "plt.legend()"
   ]
  },
  {
   "cell_type": "code",
   "execution_count": 61,
   "metadata": {
    "nbpresent": {
     "id": "7cc63cca-e437-4b20-8bd4-6aef8dd79b2c"
    },
    "scrolled": true
   },
   "outputs": [
    {
     "name": "stdout",
     "output_type": "stream",
     "text": [
      "0.288209973824 0.150682278432\n"
     ]
    }
   ],
   "source": [
    "print(vlst[-1], ulst[-1])"
   ]
  },
  {
   "cell_type": "code",
   "execution_count": null,
   "metadata": {
    "collapsed": true
   },
   "outputs": [],
   "source": [
    "u_lst = []\n",
    "v_lst = []\n",
    "theta = 0.6\n",
    "u = u_init\n",
    "v = v_init\n",
    "for i in range(niter):\n",
    "    u = update_u(u, v, c1, c2, tau, dt)\n",
    "    u_lst.append(u)\n",
    "    v = update_v(u, v, c1, c2, tau, dt)\n",
    "    v_lst.append(v)\n"
   ]
  }
 ],
 "metadata": {
  "anaconda-cloud": {},
  "kernelspec": {
   "display_name": "Python [py36]",
   "language": "python",
   "name": "Python [py36]"
  },
  "language_info": {
   "codemirror_mode": {
    "name": "ipython",
    "version": 3
   },
   "file_extension": ".py",
   "mimetype": "text/x-python",
   "name": "python",
   "nbconvert_exporter": "python",
   "pygments_lexer": "ipython3",
   "version": "3.6.1"
  },
  "nbpresent": {
   "slides": {},
   "themes": {}
  }
 },
 "nbformat": 4,
 "nbformat_minor": 1
}
