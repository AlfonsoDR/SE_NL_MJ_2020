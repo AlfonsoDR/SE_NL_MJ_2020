{
 "cells": [
  {
   "cell_type": "code",
   "execution_count": 1,
   "metadata": {},
   "outputs": [],
   "source": [
    "import numpy as np\n",
    "import matplotlib.pyplot as plt\n",
    "import seaborn as sns\n",
    "\n",
    "%matplotlib inline\n"
   ]
  },
  {
   "cell_type": "code",
   "execution_count": 2,
   "metadata": {},
   "outputs": [],
   "source": [
    "Wzx = np.matrix('-0.5, 0, 0, 0; \\\n",
    "                -0.3536 -0.3536 0 0; \\\n",
    "                0 0.5 0 0; \\\n",
    "                0.3536 0.3536 0 0;\\\n",
    "                0.5 0 0 0;\\\n",
    "                0.3536 -0.3536 0 0;\\\n",
    "                0 -0.5 0 0; \\\n",
    "                -0.3536 -0.3536 0 0')\n",
    "\n",
    "Wax = np.matrix('0 0 1 1; 0 0 1 1;\\\n",
    "                0 0 1 1; 0 0 1 1;\\\n",
    "                0 0 1 1; 0 0 1 1;\\\n",
    "                0 0 1 1; 0 0 1 1')\n",
    "\n",
    "Wbx = np.matrix('0 0 1 0; 0 0 1 0;\\\n",
    "                0 0 1 0; 0 0 1 0;\\\n",
    "                0 0 1 0; 0 0 1 0;\\\n",
    "                0 0 1 0; 0 0 1 0')\n",
    "\n",
    "num = np.cos(np.pi / 4)\n",
    "Wyy = 0.25 * np.matrix([[1, num, 0, -num, -1, -num, 0, num],\n",
    "                [num, 1, num, 0, -num, -1, -num, 0],\n",
    "                [0, num, 1, num, 0, -num, -1, -num],\n",
    "                [-num, 0, num, 1, num, 0, -num, -1],\n",
    "                [-1, -num, 0, num, 1, num, 0, -num],\n",
    "                [-num, -1, -num, 0, num, 1, num, 0],\n",
    "                [0, -num, -1, -num, 0, num, 1, num],\n",
    "                [num, 0, -num, -1, -num, 0, num, 1]])\n",
    "\n",
    "\n",
    "\n",
    "Way = 0\n",
    "Wby = 0\n",
    "cz = 0\n",
    "ca = 0\n",
    "cb = 0\n",
    "cy = 0\n",
    "\n",
    "# Time constants in ms\n",
    "ta = 10 \n",
    "tb = 10\n",
    "ty = 10\n",
    "dt = 10"
   ]
  },
  {
   "cell_type": "code",
   "execution_count": 3,
   "metadata": {},
   "outputs": [],
   "source": [
    "U,V = np.linalg.eig(Wyy)"
   ]
  },
  {
   "cell_type": "code",
   "execution_count": 4,
   "metadata": {},
   "outputs": [
    {
     "data": {
      "image/png": "[encoded data removed]",
      "text/plain": [
       "<matplotlib.figure.Figure at 0x2c9386afc50>"
      ]
     },
     "metadata": {},
     "output_type": "display_data"
    }
   ],
   "source": [
    "A = V * np.diag(U) * V.T\n",
    "plt.imshow(A)\n",
    "plt.show()"
   ]
  },
  {
   "cell_type": "code",
   "execution_count": 5,
   "metadata": {},
   "outputs": [],
   "source": [
    "posx = [0.0] * 25 + [0.2] * 75 + [0.0] * 300\n",
    "posy = [0.0] * 25 + [-0.5] * 75 + [0.0] * 300\n",
    "begin = [1.0] * 75 + [0.0] * 325\n",
    "delay = [0.0] * 300 + [1.0] * 25 + [0.0] * 75\n",
    "\n",
    "x_mat = np.matrix([posx, posy, begin, delay])\n"
   ]
  },
  {
   "cell_type": "code",
   "execution_count": 6,
   "metadata": {},
   "outputs": [],
   "source": [
    "y = np.matrix([0.0] * 8).T\n",
    "a = np.matrix([0.0] * 8).T\n",
    "b = np.matrix([0.0] * 8).T\n",
    "y = np.matrix([0.0] * 8).T\n",
    "\n",
    "ymat = [y.copy()]\n",
    "amat = [a.copy()]\n",
    "bmat = [b.copy()]\n",
    "ymat = [y.copy()]\n",
    "zmat = []\n",
    "\n",
    "for i in range(200):\n",
    "    z = Wzx * x_mat[:, i]\n",
    "    yhat = Wyy * y + cy\n",
    "    da = dt / ta * (-a + Wax * x_mat[:,i] + Way * y + ca)\n",
    "    a += da\n",
    "    \n",
    "    #print(np.sum(a))\n",
    "    #import pdb; pdb.set_trace()\n",
    "    #from IPython.core.debugger import Tracer; Tracer()()\n",
    "    \n",
    "    \n",
    "    db = dt / tb * (-b + Wbx * x_mat[:,i] + Wby * y + cb)\n",
    "    b += db\n",
    "    \n",
    "    bp =  np.maximum(b, 0)\n",
    "    ap = np.maximum(a, 0)\n",
    "    \n",
    "    dy = dt / ty * (-y + np.multiply(bp / (1 + bp),  z) + \\\n",
    "                    np.multiply((1 / (1 + ap)), yhat)) \n",
    "    y += dy\n",
    "    \n",
    "    amat.append(a.copy())\n",
    "    #print(np.sum(amat))\n",
    "    bmat.append(b.copy())\n",
    "    ymat.append(y.copy())\n",
    "    zmat.append(z.copy())\n",
    "\n",
    "Amat = np.hstack(amat)\n",
    "Bmat = np.hstack(bmat)\n",
    "Ymat = np.hstack(ymat)\n",
    "Zmat = np.hstack(zmat)"
   ]
  },
  {
   "cell_type": "code",
   "execution_count": 7,
   "metadata": {},
   "outputs": [
    {
     "data": {
      "image/png": "[encoded data removed]",
      "text/plain": [
       "<matplotlib.figure.Figure at 0x2c9386afe10>"
      ]
     },
     "metadata": {},
     "output_type": "display_data"
    }
   ],
   "source": [
    "# Plot of Y traces!\n",
    "plt.plot(Ymat.T);"
   ]
  }
 ],
 "metadata": {
  "kernelspec": {
   "display_name": "Python 3",
   "language": "python",
   "name": "python3"
  },
  "language_info": {
   "codemirror_mode": {
    "name": "ipython",
    "version": 3
   },
   "file_extension": ".py",
   "mimetype": "text/x-python",
   "name": "python",
   "nbconvert_exporter": "python",
   "pygments_lexer": "ipython3",
   "version": "3.6.4"
  }
 },
 "nbformat": 4,
 "nbformat_minor": 2
}
