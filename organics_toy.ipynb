{
 "cells": [
  {
   "cell_type": "code",
   "execution_count": 1,
   "metadata": {},
   "outputs": [],
   "source": [
    "import numpy as np\n",
    "import matplotlib.pyplot as plt\n",
    "import seaborn as sns\n",
    "\n",
    "%matplotlib inline\n"
   ]
  },
  {
   "cell_type": "markdown",
   "metadata": {},
   "source": [
    "## Original Organics formulation"
   ]
  },
  {
   "cell_type": "code",
   "execution_count": 2,
   "metadata": {},
   "outputs": [],
   "source": [
    "Wzx = np.matrix('-0.5, 0, 0, 0; \\\n",
    "                -0.3536 -0.3536 0 0; \\\n",
    "                0 0.5 0 0; \\\n",
    "                0.3536 0.3536 0 0;\\\n",
    "                0.5 0 0 0;\\\n",
    "                0.3536 -0.3536 0 0;\\\n",
    "                0 -0.5 0 0; \\\n",
    "                -0.3536 -0.3536 0 0')\n",
    "\n",
    "Wax = np.matrix('0 0 1 1; 0 0 1 1;\\\n",
    "                0 0 1 1; 0 0 1 1;\\\n",
    "                0 0 1 1; 0 0 1 1;\\\n",
    "                0 0 1 1; 0 0 1 1')\n",
    "\n",
    "Wbx = np.matrix('0 0 1 0; 0 0 1 0;\\\n",
    "                0 0 1 0; 0 0 1 0;\\\n",
    "                0 0 1 0; 0 0 1 0;\\\n",
    "                0 0 1 0; 0 0 1 0')\n",
    "\n",
    "num = np.cos(np.pi / 4)\n",
    "Wyy = 0.25 * np.matrix([[1, num, 0, -num, -1, -num, 0, num],\n",
    "                [num, 1, num, 0, -num, -1, -num, 0],\n",
    "                [0, num, 1, num, 0, -num, -1, -num],\n",
    "                [-num, 0, num, 1, num, 0, -num, -1],\n",
    "                [-1, -num, 0, num, 1, num, 0, -num],\n",
    "                [-num, -1, -num, 0, num, 1, num, 0],\n",
    "                [0, -num, -1, -num, 0, num, 1, num],\n",
    "                [num, 0, -num, -1, -num, 0, num, 1]])\n",
    "\n",
    "\n",
    "\n",
    "Way = 0\n",
    "Wby = 0\n",
    "cz = 0\n",
    "ca = 0\n",
    "cb = 0\n",
    "cy = 0\n",
    "\n",
    "# Time constants in ms\n",
    "ta = 10 \n",
    "tb = 10\n",
    "ty = 10\n",
    "dt = 10"
   ]
  },
  {
   "cell_type": "code",
   "execution_count": 3,
   "metadata": {},
   "outputs": [],
   "source": [
    "U,V = np.linalg.eig(Wyy)"
   ]
  },
  {
   "cell_type": "code",
   "execution_count": 4,
   "metadata": {},
   "outputs": [
    {
     "data": {
      "image/png": "[encoded data removed]",
      "text/plain": [
       "<matplotlib.figure.Figure at 0x1ed650ce668>"
      ]
     },
     "metadata": {},
     "output_type": "display_data"
    }
   ],
   "source": [
    "A = V * np.diag(U) * V.T\n",
    "plt.imshow(A)\n",
    "plt.show()"
   ]
  },
  {
   "cell_type": "code",
   "execution_count": 5,
   "metadata": {},
   "outputs": [],
   "source": [
    "posx = [0.0] * 25 + [0.2] * 75 + [0.0] * 300\n",
    "posy = [0.0] * 25 + [-0.5] * 75 + [0.0] * 300\n",
    "begin = [1.0] * 75 + [0.0] * 325\n",
    "delay = [0.0] * 300 + [1.0] * 25 + [0.0] * 75\n",
    "\n",
    "x_mat = np.matrix([posx, posy, begin, delay])\n"
   ]
  },
  {
   "cell_type": "code",
   "execution_count": 6,
   "metadata": {},
   "outputs": [],
   "source": [
    "y = np.matrix([0.0] * 8).T\n",
    "a = np.matrix([0.0] * 8).T\n",
    "b = np.matrix([0.0] * 8).T\n",
    "y = np.matrix([0.0] * 8).T\n",
    "\n",
    "ymat = [y.copy()]\n",
    "amat = [a.copy()]\n",
    "bmat = [b.copy()]\n",
    "ymat = [y.copy()]\n",
    "zmat = []\n",
    "\n",
    "for i in range(200):\n",
    "    z = Wzx * x_mat[:, i]\n",
    "    yhat = Wyy * y + cy\n",
    "    da = dt / ta * (-a + Wax * x_mat[:,i] + Way * y + ca)\n",
    "    a += da\n",
    "    \n",
    "    #print(np.sum(a))\n",
    "    #import pdb; pdb.set_trace()\n",
    "    #from IPython.core.debugger import Tracer; Tracer()()\n",
    "    \n",
    "    \n",
    "    db = dt / tb * (-b + Wbx * x_mat[:,i] + Wby * y + cb)\n",
    "    b += db\n",
    "    \n",
    "    bp =  np.maximum(b, 0)\n",
    "    ap = np.maximum(a, 0)\n",
    "    \n",
    "    dy = dt / ty * (-y + np.multiply(bp / (1 + bp),  z) + \\\n",
    "                    np.multiply((1 / (1 + ap)), yhat)) \n",
    "    y += dy\n",
    "    \n",
    "    amat.append(a.copy())\n",
    "    #print(np.sum(amat))\n",
    "    bmat.append(b.copy())\n",
    "    ymat.append(y.copy())\n",
    "    zmat.append(z.copy())\n",
    "\n",
    "Amat = np.hstack(amat)\n",
    "Bmat = np.hstack(bmat)\n",
    "Ymat = np.hstack(ymat)\n",
    "Zmat = np.hstack(zmat)"
   ]
  },
  {
   "cell_type": "code",
   "execution_count": 7,
   "metadata": {},
   "outputs": [
    {
     "data": {
      "image/png": "[encoded data removed]",
      "text/plain": [
       "<matplotlib.figure.Figure at 0x1ed651cebe0>"
      ]
     },
     "metadata": {},
     "output_type": "display_data"
    }
   ],
   "source": [
    "# Plot of Y traces!\n",
    "plt.plot(Ymat.T);"
   ]
  },
  {
   "cell_type": "markdown",
   "metadata": {},
   "source": [
    "## Trying to have Organics maintain a state"
   ]
  },
  {
   "cell_type": "markdown",
   "metadata": {},
   "source": [
    "Holding can be achieved by setting `Wyy = 1` (identity matrix)"
   ]
  },
  {
   "cell_type": "code",
   "execution_count": 8,
   "metadata": {},
   "outputs": [],
   "source": [
    "Wyy = 1\n",
    "\n",
    "y = np.matrix([0.0] * 8).T\n",
    "a = np.matrix([0.0] * 8).T\n",
    "b = np.matrix([0.0] * 8).T\n",
    "y = np.matrix([0.0] * 8).T\n",
    "\n",
    "ymat = [y.copy()]\n",
    "amat = [a.copy()]\n",
    "bmat = [b.copy()]\n",
    "ymat = [y.copy()]\n",
    "zmat = []\n",
    "\n",
    "for i in range(400):\n",
    "    z = Wzx * x_mat[:, i]\n",
    "    yhat = Wyy * y + cy\n",
    "    da = dt / ta * (-a + Wax * x_mat[:,i] + Way * y + ca)\n",
    "    a += da\n",
    "    \n",
    "    #print(np.sum(a))\n",
    "    #import pdb; pdb.set_trace()\n",
    "    #from IPython.core.debugger import Tracer; Tracer()()\n",
    "    \n",
    "    \n",
    "    db = dt / tb * (-b + Wbx * x_mat[:,i] + Wby * y + cb)\n",
    "    b += db\n",
    "    \n",
    "    bp =  np.maximum(b, 0)\n",
    "    ap = np.maximum(a, 0)\n",
    "    \n",
    "    dy = dt / ty * (-y + np.multiply(bp / (1 + bp),  z) + \\\n",
    "                    np.multiply((1 / (1 + ap)), yhat)) \n",
    "    y += dy\n",
    "    \n",
    "    amat.append(a.copy())\n",
    "    #print(np.sum(amat))\n",
    "    bmat.append(b.copy())\n",
    "    ymat.append(y.copy())\n",
    "    zmat.append(z.copy())\n",
    "\n",
    "Amat = np.hstack(amat)\n",
    "Bmat = np.hstack(bmat)\n",
    "Ymat = np.hstack(ymat)\n",
    "Zmat = np.hstack(zmat)"
   ]
  },
  {
   "cell_type": "code",
   "execution_count": 9,
   "metadata": {},
   "outputs": [
    {
     "data": {
      "image/png": "[encoded data removed]",
      "text/plain": [
       "<matplotlib.figure.Figure at 0x1ed65222eb8>"
      ]
     },
     "metadata": {},
     "output_type": "display_data"
    }
   ],
   "source": [
    "plt.plot(Ymat.T);"
   ]
  },
  {
   "cell_type": "markdown",
   "metadata": {},
   "source": [
    "## Gating of two-neuron module"
   ]
  },
  {
   "cell_type": "code",
   "execution_count": 10,
   "metadata": {},
   "outputs": [],
   "source": [
    "# Common parameters used for the entire file\n",
    "param_dict_no_theta = {'Wut': 6, 'Wvt': 6, 'Wuv': 6, 'Wvu': 6,\n",
    "              'theta': 0.6, 'tau': 100, 'dt': 10, 'ext': 0, 'sigma': 0.1}\n",
    "\n",
    "param_dict_theta = {'Wut': 6, 'Wvt': 6, 'Wuv': 6, 'Wvu': 6,\n",
    "              'theta': 0.8, 'tau': 100, 'dt': 10, 'ext': 0, 'sigma': 0.1}\n",
    "\n",
    "state_dict = {'u': 1, 'v': 0}"
   ]
  },
  {
   "cell_type": "code",
   "execution_count": 11,
   "metadata": {},
   "outputs": [],
   "source": [
    "def ecdf(x):\n",
    "    return np.sort(x), np.arange(len(x)) / len(x)\n",
    "\n",
    "def save_safe(filename):\n",
    "    '''Raise an error if file exists'''\n",
    "    if not os.path.isfile(filename):\n",
    "        plt.savefig(filename)\n",
    "    else:\n",
    "        raise IOError('File exists!')\n",
    "\n",
    "def thresh_exp(x):\n",
    "    '''Activation function'''\n",
    "    return 1 / (1 + np.exp(-x))\n",
    "\n",
    "def find_u_dot(state, params):\n",
    "    '''Returns du/dt given the parameters and current state'''\n",
    "    Wuv = params['Wuv']\n",
    "    Wut = params['Wut']\n",
    "    tau = params['tau']\n",
    "    ext = params['ext']\n",
    "    theta = params['theta']\n",
    "    \n",
    "    u = state['u']\n",
    "    v = state['v']\n",
    "    return (-u + thresh_exp(Wut * theta - Wuv * v + ext)) / tau\n",
    "\n",
    "def find_v_dot(state, params):\n",
    "    '''Returns dv/dt given the parameters and current state'''\n",
    "    Wvu = params['Wvu']\n",
    "    Wvt = params['Wvt']\n",
    "    tau = params['tau']\n",
    "    ext = params['ext']\n",
    "    theta = params['theta']\n",
    "\n",
    "    \n",
    "    u = state['u']\n",
    "    v = state['v']\n",
    "    return (-v + thresh_exp(Wvt * theta - Wvu * u + ext)) / tau\n",
    "\n",
    "def update_u_exp(state, params):\n",
    "    '''Update u based on params'''\n",
    "    state_new = state.copy()\n",
    "    state_new['u'] += find_u_dot(state, params) * params['dt']\n",
    "    return state_new\n",
    "\n",
    "def update_v_exp(state, params):\n",
    "    '''Update v based on params'''\n",
    "    state_new = state.copy()\n",
    "    state_new['v'] += find_v_dot(state, params) * params['dt']\n",
    "    return state_new\n",
    "\n",
    "def simulate_u_v_exp(state_init, params, niter):\n",
    "    '''Simulate for niter iterations'''\n",
    "    curr_state = state_init.copy()\n",
    "    u_lst = [state_init['u']]\n",
    "    v_lst = [state_init['v']]\n",
    "\n",
    "    for i in range(niter):\n",
    "        order = np.random.randint(0, 2)\n",
    "        if order:\n",
    "            curr_state = update_u_exp(curr_state, params)    \n",
    "            curr_state = update_v_exp(curr_state, params)\n",
    "        else:\n",
    "            curr_state = update_v_exp(curr_state, params)    \n",
    "            curr_state = update_u_exp(curr_state, params)\n",
    "        v_lst.append(curr_state['v'])\n",
    "        u_lst.append(curr_state['u'])\n",
    "    return u_lst, v_lst"
   ]
  },
  {
   "cell_type": "code",
   "execution_count": 12,
   "metadata": {},
   "outputs": [],
   "source": [
    "def thresh_exp(x):\n",
    "    '''Activation function'''\n",
    "    return 1 / (1 + np.exp(-x))"
   ]
  },
  {
   "cell_type": "code",
   "execution_count": 72,
   "metadata": {},
   "outputs": [],
   "source": [
    "def start_simulation(state_init, acoefs, niter):\n",
    "    # Parameters of the simulation\n",
    "    # TODO: put these into input of function\n",
    "    Wut = 6\n",
    "    Wuv = 6\n",
    "    Wvt = 6\n",
    "    Wvu = 6\n",
    "    dt = 10\n",
    "    tau = 100\n",
    "    ext = 0\n",
    "    y0 = 0.7 #The target value of y\n",
    "    K = 0.9\n",
    "    \n",
    "    \n",
    "    # Unpack variables\n",
    "    I = state_init[0]\n",
    "    Iref = state_init[1]\n",
    "    u = state_init[2]\n",
    "    v = state_init[3]\n",
    "    y = state_init[4]\n",
    "    \n",
    "    aI = acoefs[0]\n",
    "    ay = acoefs[1]\n",
    "    aR = acoefs[2]\n",
    "    \n",
    "    \n",
    "    u_lst = []\n",
    "    v_lst = []\n",
    "    y_lst = []\n",
    "    \n",
    "    for i in range(niter):\n",
    "        # I update here:\n",
    "        I += -I + aI * (Iref - K * (y0 - y)) + (1 - aI) * I\n",
    "        Iref += -Iref + aR * I + (1 - aR) * Iref\n",
    "\n",
    "        # u-v and y update\n",
    "        u += (-u + ay * thresh_exp(Wut * I - Wuv * v + ext) + (1 - ay) * 0.7) / tau * dt\n",
    "        v += (-v + ay * thresh_exp(Wvt * I - Wvu * u + ext) + (1 - ay) * 0.2) / tau * dt\n",
    "        y += -y + ay * (u - v) + (1 - ay) * y\n",
    "\n",
    "        v_lst.append(v)\n",
    "        u_lst.append(u)\n",
    "        y_lst.append(y)\n",
    "        \n",
    "    return u_lst, v_lst, y_lst, I, Iref"
   ]
  },
  {
   "cell_type": "code",
   "execution_count": 73,
   "metadata": {},
   "outputs": [],
   "source": [
    "state_init = [0.8, 0.8, 0.7, 0.2, 0.5]\n",
    "acoefs = np.array([0.0, 1.0, 1.0])\n",
    "ulst, vlst, ylst, I, Iref = start_simulation(state_init, acoefs, 50)\n",
    "\n",
    "# Flip the coefs\n",
    "for k in range(10):\n",
    "    acoefs = 1 - acoefs\n",
    "    state_init = [I, Iref, ulst[-1], vlst[-1], ylst[-1]]\n",
    "    ulst2, vlst2, ylst2, I, Iref = start_simulation(state_init, acoefs, 100)\n",
    "\n",
    "    ulst += ulst2\n",
    "    vlst += vlst2\n",
    "    ylst += ylst2\n",
    "    \n",
    "    acoefs = 1 - acoefs\n",
    "    state_init = [I, Iref, ulst[-1], vlst[-1], ylst[-1]]\n",
    "    #state_init = [I, Iref, 0.7, 0.2, ylst[-1]]\n",
    "    ulst2, vlst2, ylst2, I, Iref = start_simulation(state_init, acoefs, 50)\n",
    "\n",
    "    ulst += ulst2\n",
    "    vlst += vlst2\n",
    "    ylst += ylst2\n",
    "\n",
    "\n"
   ]
  },
  {
   "cell_type": "code",
   "execution_count": 74,
   "metadata": {},
   "outputs": [
    {
     "data": {
      "text/plain": [
       "[<matplotlib.lines.Line2D at 0x1ed670810b8>]"
      ]
     },
     "execution_count": 74,
     "metadata": {},
     "output_type": "execute_result"
    },
    {
     "data": {
      "image/png": "[encoded data removed]",
      "text/plain": [
       "<matplotlib.figure.Figure at 0x1ed67019470>"
      ]
     },
     "metadata": {},
     "output_type": "display_data"
    }
   ],
   "source": [
    "plt.plot(ulst)\n",
    "plt.plot(vlst)\n",
    "plt.plot(ylst)"
   ]
  }
 ],
 "metadata": {
  "kernelspec": {
   "display_name": "Python 3",
   "language": "python",
   "name": "python3"
  },
  "language_info": {
   "codemirror_mode": {
    "name": "ipython",
    "version": 3
   },
   "file_extension": ".py",
   "mimetype": "text/x-python",
   "name": "python",
   "nbconvert_exporter": "python",
   "pygments_lexer": "ipython3",
   "version": "3.6.4"
  }
 },
 "nbformat": 4,
 "nbformat_minor": 2
}
