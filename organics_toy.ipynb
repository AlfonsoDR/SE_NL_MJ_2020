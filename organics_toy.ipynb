{
 "cells": [
  {
   "cell_type": "code",
   "execution_count": 1,
   "metadata": {},
   "outputs": [],
   "source": [
    "import numpy as np\n",
    "import matplotlib.pyplot as plt\n",
    "import seaborn as sns\n",
    "\n",
    "%matplotlib notebook\n"
   ]
  },
  {
   "cell_type": "markdown",
   "metadata": {},
   "source": [
    "## Original Organics formulation"
   ]
  },
  {
   "cell_type": "code",
   "execution_count": 2,
   "metadata": {},
   "outputs": [],
   "source": [
    "Wzx = np.matrix('-0.5, 0, 0, 0; \\\n",
    "                -0.3536 -0.3536 0 0; \\\n",
    "                0 0.5 0 0; \\\n",
    "                0.3536 0.3536 0 0;\\\n",
    "                0.5 0 0 0;\\\n",
    "                0.3536 -0.3536 0 0;\\\n",
    "                0 -0.5 0 0; \\\n",
    "                -0.3536 -0.3536 0 0')\n",
    "\n",
    "Wax = np.matrix('0 0 1 1; 0 0 1 1;\\\n",
    "                0 0 1 1; 0 0 1 1;\\\n",
    "                0 0 1 1; 0 0 1 1;\\\n",
    "                0 0 1 1; 0 0 1 1')\n",
    "\n",
    "Wbx = np.matrix('0 0 1 0; 0 0 1 0;\\\n",
    "                0 0 1 0; 0 0 1 0;\\\n",
    "                0 0 1 0; 0 0 1 0;\\\n",
    "                0 0 1 0; 0 0 1 0')\n",
    "\n",
    "num = np.cos(np.pi / 4)\n",
    "Wyy = 0.25 * np.matrix([[1, num, 0, -num, -1, -num, 0, num],\n",
    "                [num, 1, num, 0, -num, -1, -num, 0],\n",
    "                [0, num, 1, num, 0, -num, -1, -num],\n",
    "                [-num, 0, num, 1, num, 0, -num, -1],\n",
    "                [-1, -num, 0, num, 1, num, 0, -num],\n",
    "                [-num, -1, -num, 0, num, 1, num, 0],\n",
    "                [0, -num, -1, -num, 0, num, 1, num],\n",
    "                [num, 0, -num, -1, -num, 0, num, 1]])\n",
    "\n",
    "\n",
    "\n",
    "Way = 0\n",
    "Wby = 0\n",
    "cz = 0\n",
    "ca = 0\n",
    "cb = 0\n",
    "cy = 0\n",
    "\n",
    "# Time constants in ms\n",
    "ta = 10 \n",
    "tb = 10\n",
    "ty = 10\n",
    "dt = 10"
   ]
  },
  {
   "cell_type": "code",
   "execution_count": 3,
   "metadata": {},
   "outputs": [],
   "source": [
    "U,V = np.linalg.eig(Wyy)"
   ]
  },
  {
   "cell_type": "code",
   "execution_count": 4,
   "metadata": {},
   "outputs": [
    {
     "data": {
      "image/png": "[encoded data removed]",
      "text/plain": [
       "<matplotlib.figure.Figure at 0x2ccec843da0>"
      ]
     },
     "metadata": {},
     "output_type": "display_data"
    }
   ],
   "source": [
    "A = V * np.diag(U) * V.T\n",
    "plt.imshow(A)\n",
    "plt.show()"
   ]
  },
  {
   "cell_type": "code",
   "execution_count": 5,
   "metadata": {},
   "outputs": [],
   "source": [
    "posx = [0.0] * 25 + [0.2] * 75 + [0.0] * 300\n",
    "posy = [0.0] * 25 + [-0.5] * 75 + [0.0] * 300\n",
    "begin = [1.0] * 75 + [0.0] * 325\n",
    "delay = [0.0] * 300 + [1.0] * 25 + [0.0] * 75\n",
    "\n",
    "x_mat = np.matrix([posx, posy, begin, delay])\n"
   ]
  },
  {
   "cell_type": "code",
   "execution_count": 6,
   "metadata": {},
   "outputs": [],
   "source": [
    "y = np.matrix([0.0] * 8).T\n",
    "a = np.matrix([0.0] * 8).T\n",
    "b = np.matrix([0.0] * 8).T\n",
    "y = np.matrix([0.0] * 8).T\n",
    "\n",
    "ymat = [y.copy()]\n",
    "amat = [a.copy()]\n",
    "bmat = [b.copy()]\n",
    "ymat = [y.copy()]\n",
    "zmat = []\n",
    "\n",
    "for i in range(200):\n",
    "    z = Wzx * x_mat[:, i]\n",
    "    yhat = Wyy * y + cy\n",
    "    da = dt / ta * (-a + Wax * x_mat[:,i] + Way * y + ca)\n",
    "    a += da\n",
    "    \n",
    "    #print(np.sum(a))\n",
    "    #import pdb; pdb.set_trace()\n",
    "    #from IPython.core.debugger import Tracer; Tracer()()\n",
    "    \n",
    "    \n",
    "    db = dt / tb * (-b + Wbx * x_mat[:,i] + Wby * y + cb)\n",
    "    b += db\n",
    "    \n",
    "    bp =  np.maximum(b, 0)\n",
    "    ap = np.maximum(a, 0)\n",
    "    \n",
    "    dy = dt / ty * (-y + np.multiply(bp / (1 + bp),  z) + \\\n",
    "                    np.multiply((1 / (1 + ap)), yhat)) \n",
    "    y += dy\n",
    "    \n",
    "    amat.append(a.copy())\n",
    "    #print(np.sum(amat))\n",
    "    bmat.append(b.copy())\n",
    "    ymat.append(y.copy())\n",
    "    zmat.append(z.copy())\n",
    "\n",
    "Amat = np.hstack(amat)\n",
    "Bmat = np.hstack(bmat)\n",
    "Ymat = np.hstack(ymat)\n",
    "Zmat = np.hstack(zmat)"
   ]
  },
  {
   "cell_type": "code",
   "execution_count": 7,
   "metadata": {},
   "outputs": [
    {
     "data": {
      "image/png": "[encoded data removed]",
      "text/plain": [
       "<matplotlib.figure.Figure at 0x2ccec843d68>"
      ]
     },
     "metadata": {},
     "output_type": "display_data"
    }
   ],
   "source": [
    "# Plot of Y traces!\n",
    "plt.figure()\n",
    "plt.plot(Ymat.T);"
   ]
  },
  {
   "cell_type": "markdown",
   "metadata": {},
   "source": [
    "## Trying to have Organics maintain a state"
   ]
  },
  {
   "cell_type": "markdown",
   "metadata": {},
   "source": [
    "Holding can be achieved by setting `Wyy = 1` (identity matrix)"
   ]
  },
  {
   "cell_type": "code",
   "execution_count": 8,
   "metadata": {},
   "outputs": [],
   "source": [
    "Wyy = 1\n",
    "\n",
    "y = np.matrix([0.0] * 8).T\n",
    "a = np.matrix([0.0] * 8).T\n",
    "b = np.matrix([0.0] * 8).T\n",
    "y = np.matrix([0.0] * 8).T\n",
    "\n",
    "ymat = [y.copy()]\n",
    "amat = [a.copy()]\n",
    "bmat = [b.copy()]\n",
    "ymat = [y.copy()]\n",
    "zmat = []\n",
    "\n",
    "for i in range(400):\n",
    "    z = Wzx * x_mat[:, i]\n",
    "    yhat = Wyy * y + cy\n",
    "    da = dt / ta * (-a + Wax * x_mat[:,i] + Way * y + ca)\n",
    "    a += da\n",
    "    \n",
    "    #print(np.sum(a))\n",
    "    #import pdb; pdb.set_trace()\n",
    "    #from IPython.core.debugger import Tracer; Tracer()()\n",
    "    \n",
    "    \n",
    "    db = dt / tb * (-b + Wbx * x_mat[:,i] + Wby * y + cb)\n",
    "    b += db\n",
    "    \n",
    "    bp =  np.maximum(b, 0)\n",
    "    ap = np.maximum(a, 0)\n",
    "    \n",
    "    dy = dt / ty * (-y + np.multiply(bp / (1 + bp),  z) + \\\n",
    "                    np.multiply((1 / (1 + ap)), yhat)) \n",
    "    y += dy\n",
    "    \n",
    "    amat.append(a.copy())\n",
    "    #print(np.sum(amat))\n",
    "    bmat.append(b.copy())\n",
    "    ymat.append(y.copy())\n",
    "    zmat.append(z.copy())\n",
    "\n",
    "Amat = np.hstack(amat)\n",
    "Bmat = np.hstack(bmat)\n",
    "Ymat = np.hstack(ymat)\n",
    "Zmat = np.hstack(zmat)"
   ]
  },
  {
   "cell_type": "code",
   "execution_count": 9,
   "metadata": {},
   "outputs": [
    {
     "data": {
      "image/png": "[encoded data removed]",
      "text/plain": [
       "<matplotlib.figure.Figure at 0x2ccedb49198>"
      ]
     },
     "metadata": {},
     "output_type": "display_data"
    }
   ],
   "source": [
    "plt.plot(Ymat.T);"
   ]
  },
  {
   "cell_type": "markdown",
   "metadata": {},
   "source": [
    "## Gating of two-neuron module"
   ]
  },
  {
   "cell_type": "code",
   "execution_count": 10,
   "metadata": {},
   "outputs": [],
   "source": [
    "PARAMS_DICT = {'Wut': 6,\n",
    "              'Wuv': 6,\n",
    "              'Wvt': 6,\n",
    "              'Wvu': 6,\n",
    "              'dt': 10,\n",
    "              'tau': 100,\n",
    "              'ext': 0,\n",
    "              'y0': 0.7,\n",
    "              'K': 0.5}"
   ]
  },
  {
   "cell_type": "code",
   "execution_count": 11,
   "metadata": {},
   "outputs": [],
   "source": [
    "def thresh_exp(x):\n",
    "    '''Activation function'''\n",
    "    return 1 / (1 + np.exp(-x))\n",
    "\n",
    "def start_simulation(state_init, params, niter):\n",
    "    '''\n",
    "    Inputs:\n",
    "    state_init: an array which includes:\n",
    "        * I: initial current\n",
    "        * Iref: initial reference current\n",
    "        * u: initial state of u\n",
    "        * v: initial state of v\n",
    "        * y: initial state of y (readout neuron)\n",
    "        * sig: state indicator (0 or 1)\n",
    "        * aI: gating variable for I\n",
    "        * ay: gating variable for y\n",
    "        * aR: gating variable for Iref\n",
    "        \n",
    "    params: a dictionary of relevant parameters\n",
    "    niter: number of iterations\n",
    "    \n",
    "    \n",
    "    Outputs: each list contains niter elements\n",
    "    u_lst: list of u activities \n",
    "    v_lst: list of v activities\n",
    "    y_lst: list of y activities\n",
    "    aI_lst, ay_lst, aR_lst: list of gating variables at each instant\n",
    "    I_lst: list of I activities\n",
    "    Iref: final reference current state\n",
    "        \n",
    "    '''\n",
    "    # Unpack parameters of the simulation\n",
    "    Wut = params['Wut']\n",
    "    Wuv = params['Wut']\n",
    "    Wvt = params['Wut']\n",
    "    Wvu = params['Wut']\n",
    "    dt = params['dt']\n",
    "    tau = params['tau']\n",
    "    ext = params['ext']\n",
    "    y0 = params['y0'] #The target (threshold) value of y\n",
    "    K = params['K']\n",
    "    \n",
    "    \n",
    "    # Unpack variables\n",
    "    I = state_init[0]\n",
    "    Iref = state_init[1]\n",
    "    u = state_init[2]\n",
    "    v = state_init[3]\n",
    "    y = state_init[4]\n",
    "    sig = state_init[5]\n",
    "    aI = state_init[6]\n",
    "    ay = state_init[7]\n",
    "    aR = state_init[8]\n",
    "    \n",
    "    aI_target = sig\n",
    "    ay_target = 1 - sig\n",
    "    aR_target = 1 - sig\n",
    "    \n",
    "    \n",
    "    \n",
    "    u_lst = []\n",
    "    v_lst = []\n",
    "    y_lst = []\n",
    "    aI_lst = []\n",
    "    ay_lst = []\n",
    "    aR_lst = []\n",
    "    I_lst = []\n",
    "    \n",
    "    for i in range(niter):\n",
    "        # Update of gating variables\n",
    "        aI += (-aI + aI_target) / 10 * dt\n",
    "        ay += (-ay + ay_target) / 10 * dt\n",
    "        aR += (-aR + aR_target) / 10 * dt\n",
    "        \n",
    "        # I update here:\n",
    "        I += -I + aI * (Iref - K * (y0 - y)) + (1 - aI) * I\n",
    "        Iref += -Iref + aR * I + (1 - aR) * Iref\n",
    "\n",
    "        # u-v and y update\n",
    "        u += (-u + ay * thresh_exp(Wut * I - Wuv * v + ext) + (1 - ay) * 0.7) / tau * dt\n",
    "        v += (-v + ay * thresh_exp(Wvt * I - Wvu * u + ext) + (1 - ay) * 0.2) / tau * dt\n",
    "        y += -y + ay * (u - v) + (1 - ay) * y\n",
    "\n",
    "        v_lst.append(v)\n",
    "        u_lst.append(u)\n",
    "        y_lst.append(y)\n",
    "        aI_lst.append(aI)\n",
    "        ay_lst.append(ay)\n",
    "        aR_lst.append(aR)\n",
    "        I_lst.append(I)\n",
    "        \n",
    "    return u_lst, v_lst, y_lst, aI_lst, ay_lst, aR_lst, I_lst, Iref"
   ]
  },
  {
   "cell_type": "markdown",
   "metadata": {},
   "source": [
    "At a high level, the simulation alternates between two states which is encoded by a variable `s`\n",
    "* When `s = 0`, the network operates in *integration* mode\n",
    "    - Neurons `u` and `v` start at the reset point and mutually inhibit each other\n",
    "    - `y = u - v` exhibits a ramp\n",
    "    - `I` remains constant\n",
    "    - `Iref` $\\leftarrow$ `I`\n",
    "\n",
    "\n",
    "\n",
    "* When `s = 1`, the network operates in *reset* mode\n",
    "    - `u` and `v` are reset\n",
    "    - `y` holds its value at the time of feedback signal\n",
    "    - `I` gets updated based on the current at the previous trial, `Iref`, the held value of `y` and the threshold, `y0`\n",
    "    \n",
    "    In particular, `I` $\\leftarrow$ `Iref - K(y0 - y)`\n",
    "    - `Iref` remains constant \n",
    "\n",
    "\n",
    "To have the network operate in these two different modes, we rely on gating variables `ay, aI` and `aR`, which control the behavior of `y, I` and `Iref`, respectively.\n",
    "\n",
    "$$ \\frac{dI}{dt} = \\frac{1}{\\tau} \\left[-I + a_I\\left(I_{ref} - K(y_0-y)\\right) + (1-a_I)I \\right] $$\n",
    "\n",
    "$$ \\frac{dI_{ref}}{dt} = \\frac{1}{\\tau} \\left[-I_{ref} + a_RI + (1-a_R)I_{ref} \\right]$$\n",
    "\n",
    "$$ \\frac{dy}{dt} = \\frac{1}{\\tau} \\left[-y + a_y(u-v) + (1-a_y)y \\right]$$\n",
    "\n",
    "The gating variables themselves can be modeled as dynamic variables that are linked to the global state $s$.\n",
    "$$ \\frac{da_I}{dt} = \\frac{1}{\\tau_I}(-a_I + s) $$\n",
    "\n",
    "$$ \\frac{da_y}{dt} = \\frac{1}{\\tau_y}(-a_y + 1 - s) $$\n",
    "\n",
    "$$ \\frac{da_R}{dt} = \\frac{1}{\\tau_R}(-a_R + 1 - s) $$\n",
    "\n",
    "\n",
    "The simulation is run below, each state lasts 100 ms."
   ]
  },
  {
   "cell_type": "code",
   "execution_count": 12,
   "metadata": {},
   "outputs": [],
   "source": [
    "# Initial run\n",
    "state_init = [0.8, 0.8, 0.7, 0.2, 0.5, 0.0, 1.0, 0.0, 0.0]\n",
    "ulst, vlst, ylst, aIlst, aylst, aRlst, Ilst, Iref = start_simulation(state_init, PARAMS_DICT, 100)\n",
    "\n",
    "# For subsequent runs, flip the state every 100 trials\n",
    "for k in range(10):\n",
    "    #acoefs = 1 - acoefs\n",
    "    state_init = [Ilst[-1], Iref, ulst[-1], vlst[-1], ylst[-1], 1 - state_init[5], \\\n",
    "                 aIlst[-1], aylst[-1], aRlst[-1]]\n",
    "    ulst2, vlst2, ylst2, aIlst2, aylst2, aRlst2, Ilst2, Iref = start_simulation(state_init, PARAMS_DICT, 100)\n",
    "\n",
    "    ulst += ulst2\n",
    "    vlst += vlst2\n",
    "    ylst += ylst2\n",
    "    aIlst += aIlst2\n",
    "    aRlst += aRlst2\n",
    "    aylst += aylst2\n",
    "    Ilst += Ilst2"
   ]
  },
  {
   "cell_type": "markdown",
   "metadata": {},
   "source": [
    "We plot the behavior of various elements of the network, namely `u, v, y` and `I`. The shaded area indicates when `s = 1`."
   ]
  },
  {
   "cell_type": "code",
   "execution_count": 13,
   "metadata": {},
   "outputs": [
    {
     "data": {
      "image/png": "[encoded data removed]",
      "text/plain": [
       "<matplotlib.figure.Figure at 0x2ccedd54668>"
      ]
     },
     "metadata": {},
     "output_type": "display_data"
    }
   ],
   "source": [
    "nsteps = len(ulst)\n",
    "tlst = np.arange(nsteps).astype('int')\n",
    "sig_lst = np.floor(tlst / 100) % 2\n",
    "sig_lst = sig_lst.astype('int')\n",
    "\n",
    "fig, ax = plt.subplots(4, 1, figsize=(10, 10))\n",
    "ax[0].plot(ulst)\n",
    "ax[0].set_ylabel('u')\n",
    "ax[0].fill_between(np.arange(nsteps), 0.7, 1, where=sig_lst, alpha=0.1)\n",
    "\n",
    "ax[1].plot(vlst)\n",
    "ax[1].set_ylabel('v')\n",
    "ax[1].fill_between(np.arange(nsteps), 0.2, 0.4, where=sig_lst, alpha=0.1)\n",
    "\n",
    "ax[2].plot(ylst)\n",
    "ax[2].set_ylabel('y')\n",
    "ax[2].fill_between(np.arange(nsteps), 0.4, 0.8, where=sig_lst, alpha=0.1)\n",
    "ax[2].hlines(0.7, 0, nsteps, linestyle='dotted')\n",
    "\n",
    "ax[3].plot(Ilst)\n",
    "ax[3].set_ylabel('I')\n",
    "ax[3].fill_between(np.arange(nsteps), 0.77, 0.8, where=sig_lst, alpha=0.1)\n",
    "ax[3].set_xlabel('Time (ms)');"
   ]
  }
 ],
 "metadata": {
  "kernelspec": {
   "display_name": "Python 3",
   "language": "python",
   "name": "python3"
  },
  "language_info": {
   "codemirror_mode": {
    "name": "ipython",
    "version": 3
   },
   "file_extension": ".py",
   "mimetype": "text/x-python",
   "name": "python",
   "nbconvert_exporter": "python",
   "pygments_lexer": "ipython3",
   "version": "3.6.4"
  }
 },
 "nbformat": 4,
 "nbformat_minor": 2
}
