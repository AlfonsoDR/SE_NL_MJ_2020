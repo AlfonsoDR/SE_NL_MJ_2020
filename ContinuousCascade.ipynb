{
 "cells": [
  {
   "cell_type": "markdown",
   "metadata": {},
   "source": [
    "ContinuousCascade\n",
    "Runs a cascade of two computational units in the style of Egger et. al., but designed such that both units opperate simultaneouly. The goal is to study what the patterns of input required to achieve updating behavior without assuming au fait transitions between computational units."
   ]
  },
  {
   "cell_type": "markdown",
   "metadata": {},
   "source": [
    "Import libraries"
   ]
  },
  {
   "cell_type": "code",
   "execution_count": 1,
   "metadata": {},
   "outputs": [],
   "source": [
    "import numpy as np\n",
    "import matplotlib.pyplot as plt\n",
    "import seaborn as sns\n",
    "from mpl_toolkits.mplot3d import Axes3D\n",
    "import scipy.optimize\n",
    "import os\n",
    "from sklearn import datasets, linear_model\n",
    "from sklearn.metrics import mean_squared_error, r2_score\n",
    "\n",
    "%matplotlib inline"
   ]
  },
  {
   "cell_type": "markdown",
   "metadata": {},
   "source": [
    "Definte parameters"
   ]
  },
  {
   "cell_type": "code",
   "execution_count": 2,
   "metadata": {},
   "outputs": [],
   "source": [
    "# Common parameters used for the entire file\n",
    "param_dict_theta = {'W': np.matrix('0 -0.001 0 0; -0.001 0 0 0; -0.001 0.001 0 -0.001; -0.001 0.001 -0.001 0'),\n",
    "              'tau': 300, 'dt': 10, 'epsi': np.matrix('0; 0.0001; 0 0.0001')}\n",
    "\n",
    "state_dict = {'x': np.matrix('1; 0; 1; 0')}"
   ]
  },
  {
   "cell_type": "markdown",
   "metadata": {},
   "source": [
    "Define functions"
   ]
  },
  {
   "cell_type": "code",
   "execution_count": null,
   "metadata": {},
   "outputs": [],
   "source": [
    "def thresh_exp(x):\n",
    "    '''Activation function'''\n",
    "    return 1 / (1 + np.exp(-x))\n",
    "\n",
    "def find_dx(state, params):\n",
    "    '''Returns dx/dt given the parameters and current state'''\n",
    "    W = params['W']\n",
    "    tau = params['tau']\n",
    "    epsi = params['epsi']\n",
    "    I0 = params['I0']\n",
    "    \n",
    "    x = state['x']\n",
    "    dx = (-x + thresh_exp(W * x + epsi + I0)) / tau\n",
    "    return dx\n",
    "\n",
    "def update_x(state, params):\n",
    "    '''Update u based on params'''\n",
    "    nextState = state.copy()\n",
    "    nextState['x'] += find_dx(state, params) * params['dt']\n",
    "    return nextState\n",
    "\n",
    "def simulate_x(state_init, params, niter):\n",
    "    '''Simulate for niter iterations'''\n",
    "    curr_state = state_init.copy()\n",
    "    u_lst = [state_init['u']]\n",
    "    v_lst = [state_init['v']]\n",
    "\n",
    "    for i in range(niter):\n",
    "        order = np.random.randint(0, 2)\n",
    "        if order:\n",
    "            curr_state = update_u_exp(curr_state, params)    \n",
    "            curr_state = update_v_exp(curr_state, params)\n",
    "        else:\n",
    "            curr_state = update_v_exp(curr_state, params)    \n",
    "            curr_state = update_u_exp(curr_state, params)\n",
    "        v_lst.append(curr_state['v'])\n",
    "        u_lst.append(curr_state['u'])\n",
    "    return u_lst, v_lst"
   ]
  }
 ],
 "metadata": {
  "kernelspec": {
   "display_name": "Python 3",
   "language": "python",
   "name": "python3"
  },
  "language_info": {
   "codemirror_mode": {
    "name": "ipython",
    "version": 3
   },
   "file_extension": ".py",
   "mimetype": "text/x-python",
   "name": "python",
   "nbconvert_exporter": "python",
   "pygments_lexer": "ipython3",
   "version": "3.6.3"
  }
 },
 "nbformat": 4,
 "nbformat_minor": 2
}
