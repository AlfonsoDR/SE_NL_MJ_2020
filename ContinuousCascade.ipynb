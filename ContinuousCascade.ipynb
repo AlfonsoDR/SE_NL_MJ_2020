{
 "cells": [
  {
   "cell_type": "markdown",
   "metadata": {},
   "source": [
    "ContinuousCascade\n",
    "Runs a cascade of two computational units in the style of Egger et. al., but designed such that both units opperate simultaneouly. The goal is to study what the patterns of input required to achieve updating behavior without assuming au fait transitions between computational units."
   ]
  },
  {
   "cell_type": "markdown",
   "metadata": {},
   "source": [
    "Import libraries"
   ]
  },
  {
   "cell_type": "code",
   "execution_count": 1,
   "metadata": {
    "collapsed": true
   },
   "outputs": [],
   "source": [
    "import numpy as np\n",
    "import matplotlib.pyplot as plt\n",
    "import seaborn as sns\n",
    "from mpl_toolkits.mplot3d import Axes3D\n",
    "import scipy.optimize\n",
    "import os\n",
    "from sklearn import datasets, linear_model\n",
    "from sklearn.metrics import mean_squared_error, r2_score\n",
    "\n",
    "%matplotlib inline"
   ]
  },
  {
   "cell_type": "markdown",
   "metadata": {},
   "source": [
    "Definte parameters"
   ]
  },
  {
   "cell_type": "code",
   "execution_count": 188,
   "metadata": {},
   "outputs": [
    {
     "data": {
      "text/plain": [
       "[<matplotlib.lines.Line2D at 0x1277cd4e0>]"
      ]
     },
     "execution_count": 188,
     "metadata": {},
     "output_type": "execute_result"
    },
    {
     "data": {
      "image/png": "[encoded data removed]",
      "text/plain": [
       "<matplotlib.figure.Figure at 0x126178438>"
      ]
     },
     "metadata": {},
     "output_type": "display_data"
    }
   ],
   "source": [
    "# Common parameters used for the entire file\n",
    "epsis = np.matrix(np.array(np.zeros((4,2000))))\n",
    "epsis[0:1,0:1000] = 0.1\n",
    "epsis[2:4,1001:2000] = 0.1\n",
    "param_dict = {'W': np.matrix('0 -1 0 0; -1 0 0 0; -0.01 0.01 0 -1; -0.01 0.01 -1 0')*10,\n",
    "              'tau': 100, 'dt': 1, 'I0': np.matrix('1.5')}\n",
    "\n",
    "state_dict = {'x': np.matrix('1; 0; 1; 0')}\n",
    "\n",
    "plt.plot(np.asarray(epsis[1,].T))"
   ]
  },
  {
   "cell_type": "markdown",
   "metadata": {},
   "source": [
    "Define functions"
   ]
  },
  {
   "cell_type": "code",
   "execution_count": 174,
   "metadata": {},
   "outputs": [],
   "source": [
    "def thresh_exp(x):\n",
    "    '''Activation function'''\n",
    "    return 1 / (1 + np.exp(-x))\n",
    "\n",
    "def find_dx(state, epsi, params):\n",
    "    '''Returns dx/dt given the parameters and current state'''\n",
    "    W = params['W']\n",
    "    tau = params['tau']\n",
    "    I0 = params['I0']\n",
    "    \n",
    "    x = state\n",
    "    dx = (-x + thresh_exp(W * x + epsi + I0)) / tau\n",
    "    return dx\n",
    "\n",
    "def update_x(state, epsi, params):\n",
    "    '''Update u based on params'''\n",
    "    nextState = state\n",
    "    nextState += find_dx(state, epsi, params) * params['dt']\n",
    "    return nextState\n",
    "\n",
    "def simulate_x(state_init, epsis, params, niter):\n",
    "    '''Simulate for niter iterations'''\n",
    "    curr_state = state_init\n",
    "    x_lst = state_init\n",
    "    \n",
    "    for i in range(niter):\n",
    "        epsi = epsis[0:4,i]\n",
    "        curr_state = update_x(curr_state, epsi, params)\n",
    "        x_lst = np.append(x_lst,curr_state, axis=1)\n",
    "        \n",
    "    return x_lst"
   ]
  },
  {
   "cell_type": "markdown",
   "metadata": {},
   "source": [
    "Now lets try runing it for a few iterations"
   ]
  },
  {
   "cell_type": "code",
   "execution_count": 175,
   "metadata": {},
   "outputs": [
    {
     "data": {
      "image/png": "[encoded data removed]",
      "text/plain": [
       "<matplotlib.figure.Figure at 0x12bfa6d30>"
      ]
     },
     "metadata": {},
     "output_type": "display_data"
    },
    {
     "data": {
      "image/png": "[encoded data removed]",
      "text/plain": [
       "<matplotlib.figure.Figure at 0x12c057a58>"
      ]
     },
     "metadata": {},
     "output_type": "display_data"
    }
   ],
   "source": [
    "x_init = np.matrix('0.5; 0.5; 0.5; 0.5')\n",
    "x_lst = simulate_x(x_init, epsis, param_dict, niter=2000)\n",
    "plt.figure\n",
    "plt.plot(np.asarray(x_lst[0,].T))\n",
    "plt.plot(np.asarray(x_lst[1,].T))\n",
    "plt.plot(np.asarray(x_lst[2,].T))\n",
    "plt.plot(np.asarray(x_lst[3,].T))\n",
    "plt.show()\n",
    "\n",
    "plt.figure\n",
    "plt.plot(np.asarray(x_lst[0,].T),np.asarray(x_lst[1,].T))\n",
    "plt.plot(np.asarray(x_lst[2,].T),np.asarray(x_lst[3,].T))\n",
    "plt.show()"
   ]
  },
  {
   "cell_type": "code",
   "execution_count": null,
   "metadata": {
    "collapsed": true
   },
   "outputs": [],
   "source": []
  }
 ],
 "metadata": {
  "kernelspec": {
   "display_name": "Python 3",
   "language": "python",
   "name": "python3"
  },
  "language_info": {
   "codemirror_mode": {
    "name": "ipython",
    "version": 3
   },
   "file_extension": ".py",
   "mimetype": "text/x-python",
   "name": "python",
   "nbconvert_exporter": "python",
   "pygments_lexer": "ipython3",
   "version": "3.5.0"
  }
 },
 "nbformat": 4,
 "nbformat_minor": 2
}
