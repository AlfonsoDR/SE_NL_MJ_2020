{
 "cells": [
  {
   "cell_type": "code",
   "execution_count": 1,
   "metadata": {},
   "outputs": [],
   "source": [
    "import numpy as np\n",
    "import matplotlib.pyplot as plt\n",
    "\n",
    "%matplotlib inline"
   ]
  },
  {
   "cell_type": "code",
   "execution_count": 58,
   "metadata": {
    "scrolled": false
   },
   "outputs": [
    {
     "name": "stdout",
     "output_type": "stream",
     "text": [
      "iteration # 0 current ISI =  0.4\n",
      "yS =  0.6000000000000001 IS_new =  1.7999999999999996\n",
      "tp =   0.4666666666666666\n",
      "y_out =  0.8399999999999997\n",
      "IP =  1.9399999999999995\n",
      "iteration # 1 current ISI =  0.8\n",
      "yS =  0.7199999999999999 IS_new =  1.7399999999999998\n",
      "tp =   0.3608247422680413\n",
      "y_out =  0.7438350515463915\n",
      "IP =  1.7838350515463914\n",
      "iteration # 2 current ISI =  1.2000000000000002\n",
      "yS =  0.696 IS_new =  1.7519999999999998\n",
      "tp =   0.3924129640760091\n",
      "y_out =  0.7356724615147762\n",
      "IP =  1.7876724615147759\n",
      "iteration # 3 current ISI =  1.6\n",
      "yS =  0.7008 IS_new =  1.7495999999999996\n",
      "tp =   0.39157061210578714\n",
      "y_out =  0.7199166339598353\n",
      "IP =  1.769516633959835\n",
      "tp =   0.3955882564570957\n",
      "IP =  2.0496\n",
      "tp =   0.34153005464480873\n",
      "IP =  2.0496\n",
      "tp =   0.34153005464480873\n",
      "IP =  2.0496\n",
      "tp =   0.34153005464480873\n",
      "IP =  2.0496\n",
      "tp =   0.34153005464480873\n",
      "IP =  2.0496\n"
     ]
    }
   ],
   "source": [
    "# Ramping with I\n",
    "ISIs = [0.4] * 4\n",
    "ISI_pts = np.cumsum(ISIs)\n",
    "\n",
    "# Constants\n",
    "I0 = 1.5\n",
    "beta = 3.0\n",
    "alpha = 1.0\n",
    "\n",
    "# Initialize\n",
    "IS = I0\n",
    "IP = I0\n",
    "y0 = 0.7\n",
    "\n",
    "# For storage\n",
    "yS_lst = []\n",
    "IS_lst = []\n",
    "IP_lst = []\n",
    "productions = []\n",
    "\n",
    "# Synchronization\n",
    "for i in range(len(ISIs)):\n",
    "    print('iteration #', i, 'current ISI = ', ISI_pts[i])\n",
    "    # Period adjustment\n",
    "    yS = IS * ISIs[i]\n",
    "    IS_new = IS - beta * (yS - y0)\n",
    "    print('yS = ', yS, 'IS_new = ', IS_new)\n",
    "    yS_lst.append(yS)\n",
    "    IS_lst.append(IS_new)\n",
    "    \n",
    "    # Make production\n",
    "    tp = y0 / IP\n",
    "    productions.append(tp)\n",
    "    print('tp =  ', tp)\n",
    "    \n",
    "    # Phase adjustments\n",
    "    # Calculate y_out of SAM\n",
    "    if i == 0:\n",
    "        y_out = IS_new * (np.sum(productions)) # Assume ISI_pts[i-1] = 0 here\n",
    "    else:\n",
    "        if ISI_pts[i] < np.sum(productions):\n",
    "            y_out = IS_new * (np.sum(productions) - ISI_pts[i-1])\n",
    "        else:\n",
    "            y_out = IS_new * (np.sum(productions) - ISI_pts[i-1])\n",
    "    \n",
    "    print('y_out = ', y_out)\n",
    "    \n",
    "    IP = IS_new - alpha * (y0 - y_out)\n",
    "    IS = IS_new\n",
    "    IP_lst.append(IP)\n",
    "    print('IP = ', IP)\n",
    "    \n",
    "    \n",
    "    \n",
    "# Continuation\n",
    "n_continuation = 5\n",
    "yS_inf = 1.0\n",
    "for i in range(n_continuation):\n",
    "    # Period adjustment: IS unchanged since no stimulus is observed\n",
    "    yout = yS_inf\n",
    "    \n",
    "    # Make production\n",
    "    tp = y0 / IP\n",
    "    productions.append(tp)\n",
    "    print('tp =  ', tp)\n",
    "    \n",
    "    # Phase adjustments\n",
    "    IP = IS - alpha * (y0 - yout)\n",
    "    IP_lst.append(IP)\n",
    "    print('IP = ', IP)\n",
    "    \n",
    "\n",
    "    \n",
    "\n",
    "\n",
    "\n",
    "\n",
    "\n",
    "\n"
   ]
  },
  {
   "cell_type": "code",
   "execution_count": 59,
   "metadata": {},
   "outputs": [
    {
     "data": {
      "text/plain": [
       "[<matplotlib.lines.Line2D at 0x23b2c8afcf8>]"
      ]
     },
     "execution_count": 59,
     "metadata": {},
     "output_type": "execute_result"
    },
    {
     "data": {
      "image/png": "[encoded data removed]",
      "text/plain": [
       "<Figure size 432x288 with 1 Axes>"
      ]
     },
     "metadata": {
      "needs_background": "light"
     },
     "output_type": "display_data"
    }
   ],
   "source": [
    "# Plot the result\n",
    "plt.plot(np.cumsum(productions), np.ones(len(productions)), '.')\n",
    "plt.plot(ISI_pts, np.ones(len(ISI_pts)) * 1.0, 'r.')"
   ]
  },
  {
   "cell_type": "code",
   "execution_count": 68,
   "metadata": {
    "scrolled": true
   },
   "outputs": [
    {
     "data": {
      "text/plain": [
       "<matplotlib.collections.LineCollection at 0x27d2dcceba8>"
      ]
     },
     "execution_count": 68,
     "metadata": {},
     "output_type": "execute_result"
    },
    {
     "data": {
      "image/png": "[encoded data removed]",
      "text/plain": [
       "<Figure size 432x288 with 1 Axes>"
      ]
     },
     "metadata": {
      "needs_background": "light"
     },
     "output_type": "display_data"
    }
   ],
   "source": [
    "plt.plot(np.cumsum(productions) - ISI_pts)\n",
    "plt.hlines(0.04, 0, len(ISI_pts))"
   ]
  },
  {
   "cell_type": "code",
   "execution_count": 5,
   "metadata": {},
   "outputs": [
    {
     "data": {
      "text/plain": [
       "array([ 400,  800, 1200, 1600], dtype=int32)"
      ]
     },
     "execution_count": 5,
     "metadata": {},
     "output_type": "execute_result"
    }
   ],
   "source": [
    "ISI_pts"
   ]
  },
  {
   "cell_type": "code",
   "execution_count": 44,
   "metadata": {
    "collapsed": true
   },
   "outputs": [],
   "source": [
    "plt.hlines?"
   ]
  },
  {
   "cell_type": "markdown",
   "metadata": {},
   "source": [
    "## Discrete updating algorithm\n",
    "\n",
    "### Continuous time definitions\n",
    "$y_{\\textrm{ref}}$ : Reference level\n",
    "\n",
    "$y_{\\textrm{SAM}}$ : Output of SAM\n",
    "\n",
    "$y_{\\textrm{MPM}}$ : Output of of MPM\n",
    "\n",
    "$I_{\\textrm{SAM}}$ : Input to SAM\n",
    "\n",
    "$I_{\\textrm{MPM}}$ : Input to MPM\n",
    "\n",
    "\n",
    "### Translation into discrete time\n",
    "$i$ will index *time-points* and *intervals*\n",
    "\n",
    "$t_p^i$ : time of $i$th production\n",
    "\n",
    "$t_s^i$ : time of $i$th stimulus\n",
    "\n",
    "$\\textrm{ISI}^i$ = $t_s^{i+1} - t_s^i$\n",
    "\n",
    "$\\textrm{IPI}^i$ = $t_p^{i+1} - t_p^i$\n",
    "\n",
    "$y_{\\textrm{SAM}}^i=I_{\\textrm{SAM}}^i*\\textrm{ISI}^i$\n",
    "\n",
    "$I_{\\textrm{SAM}}^{i+1}=I_{\\textrm{SAM}}^i+\\beta(y_{\\textrm{ref}}-y_{\\textrm{SAM}}^i)$\n",
    "\n",
    "$I_{\\textrm{MPM}}^{i+1} = I_{\\textrm{SAM}}^{i+1} + \\alpha(y_{\\textrm{out}}^i-y_{\\textrm{MPM}}^i)$\n",
    "\n",
    "$\\textrm{IPI}^i=y_{\\textrm{ref}}/I_{\\textrm{MPM}}$\n",
    "\n",
    "$t_p^{i+1}=t_p^i+\\textrm{IPI}^i$\n",
    "\n",
    "By definition $y_{\\textrm{MPM}}^i=y_{\\textrm{ref}}$ (output of $y_{\\textrm{MPM}}$ at ith production)\n",
    "\n",
    "The value of $y_{\\textrm{out}}^i$ represents the output of the SAM at the time of the $i$th production. During synchronization that will be:\n",
    "\n",
    "if $t_s^{i}<t_p^i$\n",
    "\n",
    "$y_{\\textrm{out}}^i = I_{\\textrm{SAM}}^i*(t_p^{i}-t_s^{i})$\n",
    "\n",
    "else\n",
    "\n",
    "$y_{\\textrm{out}}^i = I_{\\textrm{SAM}}^i*(t_p^i-t_s^{i-1})$\n",
    "\n",
    "\n",
    "During continuation:\n",
    "\n",
    "$y_{\\textrm{out}}^i = y_{\\textrm{SAM}}^\\infty$\n",
    "\n",
    "with $y_{\\textrm{SAM}}^\\infty$ representing the terminal output of the SAM module."
   ]
  },
  {
   "cell_type": "code",
   "execution_count": 208,
   "metadata": {},
   "outputs": [],
   "source": [
    "# Definitions\n",
    "def I_s_update(I_s_in,beta,y_ref,y_s):\n",
    "    I_s_out = I_s_in + beta*(y_ref - y_s)\n",
    "    \n",
    "    return I_s_out\n",
    "\n",
    "def I_p_update(I_s,alpha,y_p,y_out):\n",
    "    I_p_out = I_s + alpha*(y_out-y_p)\n",
    "    \n",
    "    return I_p_out\n",
    "\n",
    "def I_p_update_modified(I_s,alpha,y_p,y_out):\n",
    "    I_p_out = I_s - alpha*(y_out-y_p)\n",
    "    \n",
    "    return I_p_out\n",
    "\n",
    "def discreteAlgorithm(ISI, beta=0.5, alpha=0.1, y_ref=1, I_s_init=0.8):\n",
    "\n",
    "    t_s = np.zeros(len(ISI)+1)\n",
    "    t_s[1:len(ISI)+1] = np.cumsum(ISI)\n",
    "    IPI = np.zeros((len(t_s)))\n",
    "    t_p = np.zeros((len(t_s)))\n",
    "    I_s = np.zeros((len(t_s)))\n",
    "    I_p = np.zeros((len(t_s)))\n",
    "    y_s = np.zeros((len(t_s)))\n",
    "    I_p[0] = I_s_init\n",
    "    I_s[0] = I_s_init\n",
    "\n",
    "    for i in range(len(ISI)):\n",
    "\n",
    "        IPI[i] = y_ref/I_p[i]\n",
    "        if i > 0:\n",
    "            t_p[i+1] = t_p[i] + IPI[i]\n",
    "        else:\n",
    "            t_p[i+1] = IPI[i]\n",
    "\n",
    "        y_s[i] = I_s[i]*ISI[i]\n",
    "\n",
    "        I_s[i+1] = I_s_update(I_s[i],beta,y_ref,y_s[i])\n",
    "\n",
    "        if t_s[i] < t_p[i]:\n",
    "            y_out = I_s[i]*(t_p[i]-t_s[i])\n",
    "        else:\n",
    "            if i == 0:\n",
    "                y_out = y_ref\n",
    "            else:\n",
    "                y_out = I_s[i]*(t_p[i]-t_s[i-1])\n",
    "            #print(i,y_out)\n",
    "\n",
    "\n",
    "        I_p[i+1] = I_p_update(I_s[i+1],alpha,y_ref,y_out)\n",
    "        #print(t_s[i],t_p[i],IPI[i])\n",
    "    \n",
    "    return t_s, t_p, IPI, I_s, I_p, y_s\n",
    "\n",
    "def discreteAlgorithm_modified(ISI, beta=0.5, alpha=0.1, y_ref=1, I_s_init=0.8):\n",
    "\n",
    "    t_s = np.zeros(len(ISI)+1)\n",
    "    t_s[1:len(ISI)+1] = np.cumsum(ISI)\n",
    "    IPI = np.zeros((len(t_s)))\n",
    "    t_p = np.zeros((len(t_s)))\n",
    "    I_s = np.zeros((len(t_s)))\n",
    "    I_p = np.zeros((len(t_s)))\n",
    "    y_s = np.zeros((len(t_s)))\n",
    "    I_p[0] = I_s_init\n",
    "    I_s[0] = I_s_init\n",
    "\n",
    "    for i in range(len(ISI)):\n",
    "\n",
    "        IPI[i] = y_ref/I_p[i]\n",
    "        if i > 0:\n",
    "            t_p[i+1] = t_p[i] + IPI[i]\n",
    "        else:\n",
    "            t_p[i+1] = IPI[i]\n",
    "\n",
    "        y_s[i] = I_s[i]*ISI[i]\n",
    "        print('i = ', i,'y_s = ', y_s[i], 'I_s = ', I_s[i])\n",
    "\n",
    "        I_s[i+1] = I_s_update(I_s[i],beta,y_ref,y_s[i])\n",
    "\n",
    "        if t_s[i] < t_p[i]:\n",
    "            y_out = I_s[i]*(t_p[i]-t_s[i-1])\n",
    "        else:\n",
    "            if i == 0:\n",
    "                y_out = y_ref\n",
    "            else:\n",
    "                y_out = I_s[i]*(t_p[i]-t_s[i-1])\n",
    "            #print(i,y_out)\n",
    "\n",
    "\n",
    "        print('yout = ', y_out)\n",
    "        I_p[i+1] = I_p_update_modified(I_s[i+1],alpha,y_ref,y_out)\n",
    "        #print(t_s[i],t_p[i],IPI[i])\n",
    "    \n",
    "    return t_s, t_p, IPI, I_s, I_p, y_s"
   ]
  },
  {
   "cell_type": "markdown",
   "metadata": {},
   "source": [
    "## Synchronization to a constant ISI"
   ]
  },
  {
   "cell_type": "code",
   "execution_count": 209,
   "metadata": {},
   "outputs": [
    {
     "name": "stdout",
     "output_type": "stream",
     "text": [
      "i =  0 y_s =  1.142857142857143 I_s =  2.857142857142857\n",
      "yout =  1\n",
      "i =  1 y_s =  0.9714285714285712 I_s =  2.428571428571428\n",
      "yout =  0.8499999999999998\n",
      "i =  2 y_s =  1.0057142857142858 I_s =  2.5142857142857142\n",
      "yout =  0.9095798319327733\n",
      "i =  3 y_s =  0.9988571428571428 I_s =  2.497142857142857\n",
      "yout =  0.8918127339046319\n",
      "i =  4 y_s =  1.0002285714285715 I_s =  2.5005714285714284\n",
      "yout =  0.890568782411266\n",
      "i =  5 y_s =  0.9999542857142857 I_s =  2.499885714285714\n",
      "yout =  0.8857893767543891\n",
      "i =  6 y_s =  1.000009142857143 I_s =  2.500022857142857\n",
      "yout =  0.8815250782724212\n",
      "i =  7 y_s =  0.9999981714285714 I_s =  2.4999954285714283\n",
      "yout =  0.8769587059617002\n",
      "i =  8 y_s =  1.0000003657142857 I_s =  2.5000009142857142\n",
      "yout =  0.8722457952002439\n",
      "i =  9 y_s =  0.9999999268571429 I_s =  2.4999998171428572\n",
      "yout =  0.86734750288953\n",
      "i =  10 y_s =  1.0000000146285715 I_s =  2.5000000365714286\n",
      "yout =  0.8622634642039185\n",
      "i =  11 y_s =  0.9999999970742857 I_s =  2.499999992685714\n",
      "yout =  0.8569853408168238\n",
      "i =  12 y_s =  1.0000000005851428 I_s =  2.500000001462857\n",
      "yout =  0.8515060731307612\n",
      "i =  13 y_s =  0.9999999998829715 I_s =  2.4999999997074287\n",
      "yout =  0.8458180245541085\n",
      "i =  14 y_s =  1.0000000000234057 I_s =  2.500000000058514\n",
      "yout =  0.8399133401062475\n",
      "i =  15 y_s =  0.9999999999953189 I_s =  2.499999999988297\n",
      "yout =  0.8337838632355359\n",
      "i =  16 y_s =  1.0000000000009361 I_s =  2.5000000000023404\n",
      "yout =  0.8274211403314454\n",
      "i =  17 y_s =  0.9999999999998128 I_s =  2.499999999999532\n",
      "yout =  0.8208164073867792\n",
      "i =  18 y_s =  1.0000000000000373 I_s =  2.5000000000000933\n",
      "yout =  0.8139605798364361\n",
      "i =  19 y_s =  0.9999999999999926 I_s =  2.4999999999999813\n",
      "yout =  0.8068442413755001\n",
      "i =  20 y_s =  1.0000000000000016 I_s =  2.5000000000000036\n",
      "yout =  0.7994576325856217\n",
      "i =  21 y_s =  0.9999999999999997 I_s =  2.499999999999999\n",
      "yout =  0.791790639197609\n",
      "i =  22 y_s =  1.0 I_s =  2.5\n",
      "yout =  0.7838327800178124\n",
      "i =  23 y_s =  1.0 I_s =  2.5\n",
      "yout =  0.7755731945065092\n",
      "i =  24 y_s =  1.0 I_s =  2.5\n",
      "yout =  0.7670006300046817\n",
      "i =  25 y_s =  1.0 I_s =  2.5\n",
      "yout =  0.7581034286044641\n",
      "i =  26 y_s =  1.0 I_s =  2.5\n",
      "yout =  0.7488695136592449\n",
      "i =  27 y_s =  1.0 I_s =  2.5\n",
      "yout =  0.7392863759298196\n",
      "i =  28 y_s =  1.0 I_s =  2.5\n",
      "yout =  0.7293410593636329\n",
      "i =  29 y_s =  1.0 I_s =  2.5\n",
      "yout =  0.719020146504632\n",
      "i =  30 y_s =  1.0 I_s =  2.5\n",
      "yout =  0.7083097435320695\n",
      "i =  31 y_s =  1.0 I_s =  2.5\n",
      "yout =  0.6971954649272183\n",
      "i =  32 y_s =  1.0 I_s =  2.5\n",
      "yout =  0.6856624177678494\n",
      "i =  33 y_s =  1.0 I_s =  2.5\n",
      "yout =  0.6736951856512263\n",
      "i =  34 y_s =  1.0 I_s =  2.5\n",
      "yout =  0.6612778122472784\n",
      "i =  35 y_s =  1.0 I_s =  2.5\n",
      "yout =  0.6483937844848109\n",
      "i =  36 y_s =  1.0 I_s =  2.5\n",
      "yout =  0.6350260153746357\n",
      "i =  37 y_s =  1.0 I_s =  2.5\n",
      "yout =  0.6211568264748779\n",
      "i =  38 y_s =  1.0 I_s =  2.5\n",
      "yout =  0.606767930005021\n",
      "i =  39 y_s =  1.0 I_s =  2.5\n",
      "yout =  0.591840410616733\n"
     ]
    }
   ],
   "source": [
    "# Simple synchronization\n",
    "ISI = [0.4] * 40\n",
    "t_s, t_p, IPI, I_s, I_p, y_s = discreteAlgorithm_modified(ISI, beta=3.0, alpha=0.1, y_ref=1, I_s_init=1/0.35)\n",
    "\n",
    "#for i in range(len(t_s)):\n",
    "#    print(t_s[i],t_p[i],IPI[i])"
   ]
  },
  {
   "cell_type": "code",
   "execution_count": 207,
   "metadata": {},
   "outputs": [
    {
     "data": {
      "text/plain": [
       "[<matplotlib.lines.Line2D at 0x23b35ae85c0>]"
      ]
     },
     "execution_count": 207,
     "metadata": {},
     "output_type": "execute_result"
    },
    {
     "data": {
      "image/png": "[encoded data removed]",
      "text/plain": [
       "<Figure size 1440x720 with 1 Axes>"
      ]
     },
     "metadata": {
      "needs_background": "light"
     },
     "output_type": "display_data"
    }
   ],
   "source": [
    "plt.figure(figsize=(20,10))\n",
    "plt.plot(t_s, np.ones(len(t_s)), '.')\n",
    "plt.plot(t_p, np.ones(len(t_s)),'r.')"
   ]
  },
  {
   "cell_type": "code",
   "execution_count": 196,
   "metadata": {},
   "outputs": [
    {
     "data": {
      "text/plain": [
       "[<matplotlib.lines.Line2D at 0x23b3513ec18>]"
      ]
     },
     "execution_count": 196,
     "metadata": {},
     "output_type": "execute_result"
    },
    {
     "data": {
      "image/png": "[encoded data removed]",
      "text/plain": [
       "<Figure size 432x288 with 1 Axes>"
      ]
     },
     "metadata": {
      "needs_background": "light"
     },
     "output_type": "display_data"
    }
   ],
   "source": [
    "plt.plot(ISI)\n",
    "plt.plot(IPI)"
   ]
  },
  {
   "cell_type": "code",
   "execution_count": 197,
   "metadata": {},
   "outputs": [
    {
     "data": {
      "text/plain": [
       "[<matplotlib.lines.Line2D at 0x23b35436f98>]"
      ]
     },
     "execution_count": 197,
     "metadata": {},
     "output_type": "execute_result"
    },
    {
     "data": {
      "image/png": "[encoded data removed]",
      "text/plain": [
       "<Figure size 432x288 with 1 Axes>"
      ]
     },
     "metadata": {
      "needs_background": "light"
     },
     "output_type": "display_data"
    }
   ],
   "source": [
    "plt.plot(t_p-t_s)"
   ]
  },
  {
   "cell_type": "code",
   "execution_count": null,
   "metadata": {},
   "outputs": [],
   "source": []
  },
  {
   "cell_type": "code",
   "execution_count": null,
   "metadata": {},
   "outputs": [],
   "source": []
  }
 ],
 "metadata": {
  "kernelspec": {
   "display_name": "Python 3",
   "language": "python",
   "name": "python3"
  },
  "language_info": {
   "codemirror_mode": {
    "name": "ipython",
    "version": 3
   },
   "file_extension": ".py",
   "mimetype": "text/x-python",
   "name": "python",
   "nbconvert_exporter": "python",
   "pygments_lexer": "ipython3",
   "version": "3.7.3"
  }
 },
 "nbformat": 4,
 "nbformat_minor": 4
}
