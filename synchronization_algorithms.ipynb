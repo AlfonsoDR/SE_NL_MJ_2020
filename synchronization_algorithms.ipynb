{
 "cells": [
  {
   "cell_type": "code",
   "execution_count": 2,
   "metadata": {},
   "outputs": [],
   "source": [
    "import numpy as np\n",
    "import matplotlib.pyplot as plt\n",
    "\n",
    "%matplotlib inline"
   ]
  },
  {
   "cell_type": "code",
   "execution_count": 3,
   "metadata": {},
   "outputs": [
    {
     "name": "stdout",
     "output_type": "stream",
     "text": [
      "0 1.6\n",
      "yS =  0.6000000000000001 IS =  1.5\n",
      "tp =   0.4666666666666666\n",
      "IP =  1.65\n",
      "1 0.4\n",
      "yS =  0.66 IS =  1.65\n",
      "tp =   0.42424242424242425\n",
      "*** Production total:  0.8909090909090909\n",
      "*** ISI total:  0.8242424242424242\n",
      "IP =  2.043333333333333\n",
      "2 0.8\n",
      "yS =  0.6839999999999999 IS =  1.7099999999999997\n",
      "tp =   0.3425774877650898\n",
      "*** Production total:  1.2334865786741807\n",
      "*** ISI total:  1.209356725146199\n",
      "IP =  1.8546492676399082\n",
      "3 1.2000000000000002\n",
      "yS =  0.6936 IS =  1.7339999999999998\n",
      "tp =   0.3774298527563484\n",
      "*** Production total:  1.610916431430529\n",
      "*** ISI total:  1.603690888119954\n",
      "IP =  1.7797277165528749\n",
      "tp =   0.3933185922146666\n",
      "IP =  2.2436\n",
      "tp =   0.31199857372080586\n",
      "IP =  2.2436\n",
      "tp =   0.31199857372080586\n",
      "IP =  2.2436\n",
      "tp =   0.31199857372080586\n",
      "IP =  2.2436\n",
      "tp =   0.31199857372080586\n",
      "IP =  2.2436\n"
     ]
    }
   ],
   "source": [
    "# Ramping with I\n",
    "ISIs = [0.4] * 4\n",
    "ISI_pts = np.cumsum(ISIs)\n",
    "\n",
    "# Constants\n",
    "I0 = 1.5\n",
    "beta = 1.5\n",
    "alpha = 5\n",
    "\n",
    "# Initialize\n",
    "IS = I0\n",
    "IP = I0\n",
    "y0 = 0.7\n",
    "\n",
    "# For storage\n",
    "yS_lst = []\n",
    "IS_lst = []\n",
    "IP_lst = []\n",
    "productions = []\n",
    "\n",
    "# Synchronization\n",
    "for i in range(len(ISIs)):\n",
    "    print(i, ISI_pts[i-1])\n",
    "    # Period adjustment\n",
    "    yS = IS * ISIs[i]\n",
    "    IS_new = IS - beta * (yS - y0)\n",
    "    print('yS = ', yS, 'IS = ', IS)\n",
    "    yS_lst.append(yS)\n",
    "    IS_lst.append(IS_new)\n",
    "    \n",
    "    # Make production\n",
    "    tp = y0 / IP\n",
    "    productions.append(tp)\n",
    "    print('tp =  ', tp)\n",
    "    \n",
    "    # Phase adjustments\n",
    "    if i == 0:\n",
    "        IP = IS_new + alpha * (np.sum(productions) - (y0 / IS))\n",
    "    else:\n",
    "        print('*** Production total: ', np.sum(productions))\n",
    "        print('*** ISI total: ', ISI_pts[i - 1] + y0/IS)\n",
    "        IP = IS_new + alpha * (np.sum(productions) - (ISI_pts[i - 1] + y0 / IS))\n",
    "    IS = IS_new\n",
    "    IP_lst.append(IP)\n",
    "    print('IP = ', IP)\n",
    "    \n",
    "    \n",
    "# Continuation\n",
    "n_continuation = 5\n",
    "continuation_const = 0.1\n",
    "for i in range(n_continuation):\n",
    "    # Period adjustment: IS unchanged since no stimulus is observed\n",
    "    IS_new = IS\n",
    "    \n",
    "    # Make production\n",
    "    tp = y0 / IP\n",
    "    productions.append(tp)\n",
    "    print('tp =  ', tp)\n",
    "    \n",
    "    # Phase adjustments\n",
    "    IP = IS_new + alpha * (continuation_const)\n",
    "    IS = IS_new\n",
    "    IP_lst.append(IP)\n",
    "    print('IP = ', IP)\n",
    "    \n",
    "\n",
    "    \n",
    "\n",
    "\n",
    "\n",
    "\n",
    "\n",
    "\n"
   ]
  },
  {
   "cell_type": "code",
   "execution_count": 82,
   "metadata": {},
   "outputs": [
    {
     "data": {
      "text/plain": [
       "[<matplotlib.lines.Line2D at 0x27d2f2ba668>]"
      ]
     },
     "execution_count": 82,
     "metadata": {},
     "output_type": "execute_result"
    },
    {
     "data": {
      "image/png": "[encoded data removed]",
      "text/plain": [
       "<Figure size 432x288 with 1 Axes>"
      ]
     },
     "metadata": {
      "needs_background": "light"
     },
     "output_type": "display_data"
    }
   ],
   "source": [
    "# Plot the result\n",
    "plt.plot(np.cumsum(productions), np.ones(len(productions)), '.')\n",
    "plt.plot(ISI_pts, np.ones(len(ISI_pts)) * 2, '.')"
   ]
  },
  {
   "cell_type": "code",
   "execution_count": 68,
   "metadata": {
    "scrolled": true
   },
   "outputs": [
    {
     "data": {
      "text/plain": [
       "<matplotlib.collections.LineCollection at 0x27d2dcceba8>"
      ]
     },
     "execution_count": 68,
     "metadata": {},
     "output_type": "execute_result"
    },
    {
     "data": {
      "image/png": "[encoded data removed]",
      "text/plain": [
       "<Figure size 432x288 with 1 Axes>"
      ]
     },
     "metadata": {
      "needs_background": "light"
     },
     "output_type": "display_data"
    }
   ],
   "source": [
    "plt.plot(np.cumsum(productions) - ISI_pts)\n",
    "plt.hlines(0.04, 0, len(ISI_pts))"
   ]
  },
  {
   "cell_type": "code",
   "execution_count": 5,
   "metadata": {},
   "outputs": [
    {
     "data": {
      "text/plain": [
       "array([ 400,  800, 1200, 1600], dtype=int32)"
      ]
     },
     "execution_count": 5,
     "metadata": {},
     "output_type": "execute_result"
    }
   ],
   "source": [
    "ISI_pts"
   ]
  },
  {
   "cell_type": "code",
   "execution_count": 44,
   "metadata": {},
   "outputs": [],
   "source": [
    "plt.hlines?"
   ]
  },
  {
   "cell_type": "markdown",
   "metadata": {},
   "source": [
    "## Discrete updating algorithm\n",
    "\n",
    "### Continuous time definitions\n",
    "$y_{\\textrm{ref}}$ : Reference level\n",
    "\n",
    "$y_{\\textrm{SAM}}$ : Output of SAM\n",
    "\n",
    "$y_{\\textrm{MPM}}$ : Output of of MPM\n",
    "\n",
    "$I_{\\textrm{SAM}}$ : Input to SAM\n",
    "\n",
    "$I_{\\textrm{MPM}}$ : Input to MPM\n",
    "\n",
    "\n",
    "### Translation into discrete time\n",
    "$i$ will index *time-points* and *intervals*\n",
    "\n",
    "$t_p^i$ : time of $i$th production\n",
    "\n",
    "$t_s^i$ : time of $i$th stimulus\n",
    "\n",
    "$\\textrm{ISI}^i$ = $t_s^{i+1} - t_s^i$\n",
    "\n",
    "$\\textrm{IPI}^i$ = $t_p^{i+1} - t_p^i$\n",
    "\n",
    "$y_{\\textrm{SAM}}^i=I_{\\textrm{SAM}}^i*\\textrm{ISI}^i$\n",
    "\n",
    "$I_{\\textrm{SAM}}^{i+1}=I_{\\textrm{SAM}}^i+\\beta(y_{\\textrm{ref}}-y_{\\textrm{SAM}}^i)$\n",
    "\n",
    "$I_{\\textrm{MPM}}^{i+1} = I_{\\textrm{SAM}}^{i+1} + \\alpha(y_{\\textrm{MPM}}^i-y_{\\textrm{out}}^i)$\n",
    "\n",
    "$\\textrm{IPI}^i=y_{\\textrm{ref}}/I_{\\textrm{MPM}}$\n",
    "\n",
    "$t_p^{i+1}=t_p^i+\\textrm{IPI}^i$\n",
    "\n",
    "By definition $y_{\\textrm{MPM}}^i=y_{\\textrm{ref}}$ (output of $y_{\\textrm{MPM}}$ at ith production)\n",
    "\n",
    "The value of $y_{\\textrm{out}}^i$ represents the output of the SAM at the time of the $i$th production. During synchronization that will be:\n",
    "\n",
    "if $t_s^{i}<t_p^i$\n",
    "\n",
    "$y_{\\textrm{out}}^i = I_{\\textrm{SAM}}^i*(t_p^{i}-t_s^{i})$\n",
    "\n",
    "else\n",
    "\n",
    "$y_{\\textrm{out}}^i = I_{\\textrm{SAM}}^i*(t_p^i-t_s^{i-1})$\n",
    "\n",
    "\n",
    "During continuation:\n",
    "\n",
    "$y_{\\textrm{out}}^i = y_{\\textrm{SAM}}^\\infty$\n",
    "\n",
    "with $y_{\\textrm{SAM}}^\\infty$ representing the terminal output of the SAM module."
   ]
  },
  {
   "cell_type": "code",
   "execution_count": null,
   "metadata": {},
   "outputs": [],
   "source": []
  }
 ],
 "metadata": {
  "kernelspec": {
   "display_name": "Python 3",
   "language": "python",
   "name": "python3"
  },
  "language_info": {
   "codemirror_mode": {
    "name": "ipython",
    "version": 3
   },
   "file_extension": ".py",
   "mimetype": "text/x-python",
   "name": "python",
   "nbconvert_exporter": "python",
   "pygments_lexer": "ipython3",
   "version": "3.7.4"
  }
 },
 "nbformat": 4,
 "nbformat_minor": 4
}
