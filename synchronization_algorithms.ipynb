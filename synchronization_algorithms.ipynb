{
 "cells": [
  {
   "cell_type": "code",

   "execution_count": 1,
   "metadata": {
    "collapsed": true
   },
   "outputs": [],
   "source": [
    "import numpy as np\n",
    "import matplotlib.pyplot as plt\n",
    "\n",
    "%matplotlib inline"
   ]
  },
  {
   "cell_type": "code",
   "execution_count": 2,
   "metadata": {
    "scrolled": false
   },
   "outputs": [
    {
     "name": "stdout",
     "output_type": "stream",
     "text": [
      "iteration # 0 current ISI =  0.4\n",
      "yS =  0.6000000000000001 IS_new =  1.7999999999999996\n",
      "tp =   0.4666666666666666\n",
      "y_out =  0.8399999999999997\n",
      "IP =  1.9399999999999995\n",
      "iteration # 1 current ISI =  0.8\n",
      "yS =  0.7199999999999999 IS_new =  1.7399999999999998\n",
      "tp =   0.3608247422680413\n",
      "y_out =  0.7438350515463915\n",
      "IP =  1.7838350515463914\n",
      "iteration # 2 current ISI =  1.2000000000000002\n",
      "yS =  0.696 IS_new =  1.7519999999999998\n",
      "tp =   0.3924129640760091\n",
      "y_out =  0.7356724615147762\n",
      "IP =  1.7876724615147759\n",
      "iteration # 3 current ISI =  1.6\n",
      "yS =  0.7008 IS_new =  1.7495999999999996\n",
      "tp =   0.39157061210578714\n",
      "y_out =  0.7199166339598353\n",
      "IP =  1.769516633959835\n",
      "tp =   0.3955882564570957\n",
      "IP =  2.0496\n",
      "tp =   0.34153005464480873\n",
      "IP =  2.0496\n",
      "tp =   0.34153005464480873\n",
      "IP =  2.0496\n",
      "tp =   0.34153005464480873\n",
      "IP =  2.0496\n",
      "tp =   0.34153005464480873\n",
      "IP =  2.0496\n"
     ]
    }
   ],
   "source": [
    "# Ramping with I\n",
    "ISIs = [0.4] * 4\n",
    "ISI_pts = np.cumsum(ISIs)\n",
    "\n",
    "# Constants\n",
    "I0 = 1.5\n",
    "beta = 3.0\n",
    "alpha = 1.0\n",
    "\n",
    "# Initialize\n",
    "IS = I0\n",
    "IP = I0\n",
    "y0 = 0.7\n",
    "\n",
    "# For storage\n",
    "yS_lst = []\n",
    "IS_lst = []\n",
    "IP_lst = []\n",
    "productions = []\n",
    "\n",
    "# Synchronization\n",
    "for i in range(len(ISIs)):\n",
    "    print('iteration #', i, 'current ISI = ', ISI_pts[i])\n",
    "    # Period adjustment\n",
    "    yS = IS * ISIs[i]\n",
    "    IS_new = IS - beta * (yS - y0)\n",
    "    print('yS = ', yS, 'IS_new = ', IS_new)\n",
    "    yS_lst.append(yS)\n",
    "    IS_lst.append(IS_new)\n",
    "    \n",
    "    # Make production\n",
    "    tp = y0 / IP\n",
    "    productions.append(tp)\n",
    "    print('tp =  ', tp)\n",
    "    \n",
    "    # Phase adjustments\n",
    "    # Calculate y_out of SAM\n",
    "    if i == 0:\n",
    "        y_out = IS_new * (np.sum(productions)) # Assume ISI_pts[i-1] = 0 here\n",
    "    else:\n",
    "        if ISI_pts[i] < np.sum(productions):\n",
    "            y_out = IS_new * (np.sum(productions) - ISI_pts[i-1])\n",
    "        else:\n",
    "            y_out = IS_new * (np.sum(productions) - ISI_pts[i-1])\n",
    "    \n",
    "    print('y_out = ', y_out)\n",
    "    \n",
    "    IP = IS_new - alpha * (y0 - y_out)\n",
    "    IS = IS_new\n",
    "    IP_lst.append(IP)\n",
    "    print('IP = ', IP)\n",
    "    \n",
    "    \n",
    "    \n",
    "# Continuation\n",
    "n_continuation = 5\n",
    "yS_inf = 1.0\n",
    "for i in range(n_continuation):\n",
    "    # Period adjustment: IS unchanged since no stimulus is observed\n",
    "    yout = yS_inf\n",
    "    \n",
    "    # Make production\n",
    "    tp = y0 / IP\n",
    "    productions.append(tp)\n",
    "    print('tp =  ', tp)\n",
    "    \n",
    "    # Phase adjustments\n",
    "    IP = IS - alpha * (y0 - yout)\n",
    "    IP_lst.append(IP)\n",
    "    print('IP = ', IP)\n",
    "    \n",
    "\n",
    "    \n",
    "\n",
    "\n",
    "\n",
    "\n",
    "\n",
    "\n"
   ]
  },
  {
   "cell_type": "code",
   "execution_count": 3,
   "metadata": {},
   "outputs": [
    {
     "data": {
      "text/plain": [
       "[<matplotlib.lines.Line2D at 0x272d32e59b0>]"
      ]
     },
     "execution_count": 3,
     "metadata": {},
     "output_type": "execute_result"
    },
    {
     "data": {
      "image/png": "[encoded data removed]",
      "text/plain": [
       "<Figure size 432x288 with 1 Axes>"
      ]
     },
     "metadata": {},
     "output_type": "display_data"
    }
   ],
   "source": [
    "# Plot the result\n",
    "plt.plot(np.cumsum(productions), np.ones(len(productions)), '.')\n",
    "plt.plot(ISI_pts, np.ones(len(ISI_pts)) * 1.0, 'r.')"
   ]
  },
  {
   "cell_type": "markdown",
   "metadata": {},
   "source": [
    "## Discrete updating algorithm\n",
    "\n",
    "### Continuous time definitions\n",
    "$y_{\\textrm{ref}}$ : Reference level\n",
    "\n",
    "$y_{\\textrm{SAM}}$ : Output of SAM\n",
    "\n",
    "$y_{\\textrm{MPM}}$ : Output of of MPM\n",
    "\n",
    "$I_{\\textrm{SAM}}$ : Input to SAM\n",
    "\n",
    "$I_{\\textrm{MPM}}$ : Input to MPM\n",
    "\n",
    "\n",
    "### Translation into discrete time\n",
    "$i$ will index *time-points* and *intervals*\n",
    "\n",
    "$t_p^i$ : time of $i$th production\n",
    "\n",
    "$t_s^i$ : time of $i$th stimulus\n",
    "\n",
    "$\\textrm{ISI}^i$ = $t_s^{i+1} - t_s^i$\n",
    "\n",
    "$\\textrm{IPI}^i$ = $t_p^{i+1} - t_p^i$\n",
    "\n",
    "$y_{\\textrm{SAM}}^i=I_{\\textrm{SAM}}^i*\\textrm{ISI}^i$\n",
    "\n",
    "$I_{\\textrm{SAM}}^{i+1}=I_{\\textrm{SAM}}^i+\\beta(y_{\\textrm{ref}}-y_{\\textrm{SAM}}^i)$\n",
    "\n",
    "$I_{\\textrm{MPM}}^{i+1} = I_{\\textrm{SAM}}^{i+1} + \\alpha(y_{\\textrm{out}}^i-y_{\\textrm{MPM}}^i)$\n",
    "\n",
    "$\\textrm{IPI}^i=y_{\\textrm{ref}}/I_{\\textrm{MPM}}$\n",
    "\n",
    "$t_p^{i+1}=t_p^i+\\textrm{IPI}^i$\n",
    "\n",
    "By definition $y_{\\textrm{MPM}}^i=y_{\\textrm{ref}}$ (output of $y_{\\textrm{MPM}}$ at ith production)\n",
    "\n",
    "The value of $y_{\\textrm{out}}^i$ represents the output of the SAM at the time of the $i$th production. During synchronization that will be:\n",
    "\n",
    "if $t_s^{i}<t_p^i$\n",
    "\n",
    "$y_{\\textrm{out}}^i = I_{\\textrm{SAM}}^i*(t_p^{i}-t_s^{i})$\n",
    "\n",
    "else\n",
    "\n",
    "$y_{\\textrm{out}}^i = I_{\\textrm{SAM}}^i*(t_p^i-t_s^{i-1})$\n",
    "\n",
    "\n",
    "During continuation:\n",
    "\n",
    "$y_{\\textrm{out}}^i = y_{\\textrm{SAM}}^\\infty$\n",
    "\n",
    "with $y_{\\textrm{SAM}}^\\infty$ representing the terminal output of the SAM module."
   ]
  },
  {
   "cell_type": "code",
   "execution_count": 79,
   "metadata": {
    "collapsed": true
   },
   "outputs": [],
   "source": [
    "# Definitions\n",
    "def I_s_update(I_s_in,beta,y_ref,y_s):\n",
    "    I_s_out = I_s_in + beta*(y_ref - y_s)\n",
    "    \n",
    "    return I_s_out\n",
    "\n",
    "def I_p_update(I_s,alpha,y_p,y_out):\n",
    "    I_p_out = I_s + alpha*(y_out-y_p)\n",
    "    \n",
    "    return I_p_out\n",
    "\n",
    "def discreteAlgorithm(ISI, beta=0.5, alpha=0.1, y_ref=1, I_s_init=0.8, y_s_infty=1.5):\n",
    "\n",
    "    t_s = np.zeros(len(ISI)+1)\n",
    "    t_s[1:len(ISI)+1] = np.cumsum(ISI)\n",
    "    IPI = np.zeros((len(t_s)))\n",
    "    t_p = np.zeros((len(t_s)))\n",
    "    I_s = np.zeros((len(t_s)))\n",
    "    I_p = np.zeros((len(t_s)))\n",
    "    y_s = np.zeros((len(t_s)))\n",
    "    I_p[0] = I_s_init\n",
    "    I_s[0] = I_s_init\n",
    "\n",
    "    for i in range(len(ISI)):\n",
    "\n",
    "        IPI[i] = y_ref/I_p[i]\n",
    "        if i > 0:\n",
    "            t_p[i+1] = t_p[i] + IPI[i]\n",
    "        else:\n",
    "            t_p[i+1] = IPI[i]\n",
    "        \n",
    "        if np.isnan(ISI[i]):\n",
    "            y_s[i] = y_s_infty\n",
    "            I_s[i+1] = I_s[i]\n",
    "        else:\n",
    "            y_s[i] = I_s[i]*ISI[i]\n",
    "            I_s[i+1] = I_s_update(I_s[i],beta,y_ref,y_s[i])\n",
    "\n",
    "        \n",
    "        if np.isnan(ISI[i]):\n",
    "            y_out = y_s_infty\n",
    "        else:\n",
    "            if t_s[i] < t_p[i]:\n",
    "                y_out = I_s[i]*(t_p[i]-t_s[i])\n",
    "            else:\n",
    "                if i == 0:\n",
    "                    y_out = y_ref\n",
    "                else:\n",
    "                    y_out = I_s[i]*(t_p[i]-t_s[i-1])\n",
    "                #print(i,y_out)\n",
    "\n",
    "\n",
    "        I_p[i+1] = I_p_update(I_s[i+1],alpha,y_ref,y_out)\n",
    "        #print(t_s[i],t_p[i],IPI[i])\n",
    "    \n",
    "    return t_s, t_p, IPI, I_s, I_p, y_s\n",
    "\n",
    "def discreteAlgorithm_modified(ISI, beta=0.5, alpha=0.1, y_ref=1, I_s_init=0.8):\n",
    "\n",
    "    t_s = np.zeros(len(ISI)+1)\n",
    "    t_s[1:len(ISI)+1] = np.cumsum(ISI)\n",
    "    IPI = np.zeros((len(t_s)))\n",
    "    t_p = np.zeros((len(t_s)))\n",
    "    I_s = np.zeros((len(t_s)))\n",
    "    I_p = np.zeros((len(t_s)))\n",
    "    y_s = np.zeros((len(t_s)))\n",
    "    I_p[0] = I_s_init\n",
    "    I_s[0] = I_s_init\n",
    "\n",
    "    for i in range(len(ISI)):\n",
    "\n",
    "        IPI[i] = y_ref/I_p[i]\n",
    "        if i > 0:\n",
    "            t_p[i+1] = t_p[i] + IPI[i]\n",
    "        else:\n",
    "            t_p[i+1] = IPI[i]\n",
    "\n",
    "        y_s[i] = I_s[i]*ISI[i]\n",
    "        #print('i = ', i,'y_s = ', y_s[i], 'I_s = ', I_s[i])\n",
    "\n",
    "        I_s[i+1] = I_s_update(I_s[i],beta,y_ref,y_s[i])\n",
    "\n",
    "        if t_s[i] < t_p[i]:\n",
    "            y_out = I_s[i]*(t_p[i]-t_s[i-1])\n",
    "        else:\n",
    "            if i == 0:\n",
    "                y_out = y_ref\n",
    "            else:\n",
    "                y_out = I_s[i]*(t_p[i]-t_s[i-1])\n",
    "            #print(i,y_out)\n",
    "\n",
    "\n",
    "        #print('yout = ', y_out)\n",
    "        I_p[i+1] = I_p_update(I_s[i+1],alpha,y_ref,y_out)\n",
    "        #print(t_s[i],t_p[i],IPI[i])\n",
    "    \n",
    "    return t_s, t_p, IPI, I_s, I_p, y_s"
   ]
  },
  {
   "cell_type": "markdown",
   "metadata": {},
   "source": [
    "## Synchronization to a constant ISI"
   ]
  },
  {
   "cell_type": "markdown",
   "metadata": {},
   "source": [
    "### Algorithm with $t_p[i]-t_s[i]$ and $t_p[i]-t_s[i-1]$"
   ]
  },
  {
   "cell_type": "code",
   "execution_count": 89,
   "metadata": {},
   "outputs": [],
   "source": [
    "# Simple synchronization\n",
    "ISI_short = [0.5] * 10\n",
    "ISI_long = [0.7] * 10\n",
    "\n",
    "t_s1, t_p1, IPI1, _, _, _ = discreteAlgorithm(ISI_short, beta=2.0, alpha=0.1, y_ref=1, I_s_init=1/0.6)\n",
    "t_s2, t_p2, IPI2, _, _, _ = discreteAlgorithm(ISI_long, beta=2.0, alpha=0.1, y_ref=1, I_s_init=1/0.6)\n",
    "\n"
   ]
  },
  {
   "cell_type": "code",
   "execution_count": 90,
   "metadata": {},
   "outputs": [
    {
     "data": {
      "text/plain": [
       "<matplotlib.legend.Legend at 0x272dda5acf8>"
      ]
     },
     "execution_count": 90,
     "metadata": {},
     "output_type": "execute_result"
    },
    {
     "data": {
      "image/png": "[encoded data removed]",
      "text/plain": [
       "<Figure size 1440x720 with 2 Axes>"
      ]
     },
     "metadata": {},
     "output_type": "display_data"
    }
   ],
   "source": [
    "plt.figure(figsize=(20,10))\n",
    "plt.subplot(121)\n",
    "plt.plot(t_s1, np.ones(len(t_s1)), '.')\n",
    "plt.plot(t_p1, np.ones(len(t_s1)),'r.')\n",
    "plt.title('ISI = 0.5')\n",
    "\n",
    "plt.subplot(122)\n",
    "plt.plot(t_s2, np.ones(len(t_s2)), '.')\n",
    "plt.plot(t_p2, np.ones(len(t_s2)),'r.')\n",
    "plt.title('ISI = 0.7')\n",
    "plt.legend(['Stimulus', 'Production'])"
   ]
  },
  {
   "cell_type": "code",
   "execution_count": 91,
   "metadata": {},
   "outputs": [
    {
     "data": {
      "text/plain": [
       "<matplotlib.legend.Legend at 0x272ddaf72e8>"
      ]
     },
     "execution_count": 91,
     "metadata": {},
     "output_type": "execute_result"
    },
    {
     "data": {
      "image/png": "[encoded data removed]",
      "text/plain": [
       "<Figure size 432x288 with 1 Axes>"
      ]
     },
     "metadata": {},
     "output_type": "display_data"
    }
   ],
   "source": [
    "plt.plot(t_p1-t_s1)\n",
    "plt.plot(t_p2 - t_s2)\n",
    "plt.legend(['ISI = 0.5', 'ISI = 0.7'])"
   ]
  },
  {
   "cell_type": "markdown",
   "metadata": {},
   "source": [
    "### Algorithm with $t_p[i]-t_s[i-1]$ only"
   ]
  },
  {
   "cell_type": "code",
   "execution_count": 92,
   "metadata": {
    "collapsed": true
   },
   "outputs": [],
   "source": [
    "# Simple synchronization\n",
    "ISI_short = [0.5] * 10\n",
    "ISI_long = [0.7] * 10\n",
    "\n",
    "t_s1, t_p1, IPI1, _, _, _ = discreteAlgorithm_modified(ISI_short, beta=2.0, alpha=0.1, y_ref=1, I_s_init=1/0.6)\n",
    "t_s2, t_p2, IPI2, _, _, _ = discreteAlgorithm_modified(ISI_long, beta=2.0, alpha=0.1, y_ref=1, I_s_init=1/0.6)"
   ]
  },
  {
   "cell_type": "code",
   "execution_count": 93,
   "metadata": {},
   "outputs": [
    {
     "data": {
      "text/plain": [
       "<matplotlib.legend.Legend at 0x272ddb81d30>"
      ]
     },
     "execution_count": 93,
     "metadata": {},
     "output_type": "execute_result"
    },
    {
     "data": {
      "image/png": "[encoded data removed]",
      "text/plain": [
       "<Figure size 1440x720 with 2 Axes>"
      ]
     },
     "metadata": {},
     "output_type": "display_data"
    }
   ],
   "source": [
    "plt.figure(figsize=(20,10))\n",
    "plt.subplot(121)\n",
    "plt.plot(t_s1, np.ones(len(t_s1)), '.')\n",
    "plt.plot(t_p1, np.ones(len(t_s1)),'r.')\n",
    "plt.title('ISI = 0.5')\n",
    "\n",
    "plt.subplot(122)\n",
    "plt.plot(t_s2, np.ones(len(t_s2)), '.')\n",
    "plt.plot(t_p2, np.ones(len(t_s2)),'r.')\n",
    "plt.title('ISI = 0.7')\n",
    "plt.legend(['Stimulus', 'Production'])"
   ]
  },
  {
   "cell_type": "code",
   "execution_count": 94,
   "metadata": {},
   "outputs": [
    {
     "data": {
      "text/plain": [
       "<matplotlib.legend.Legend at 0x272ddc28e48>"
      ]
     },
     "execution_count": 94,
     "metadata": {},
     "output_type": "execute_result"
    },
    {
     "data": {
      "image/png": "[encoded data removed]",
      "text/plain": [
       "<Figure size 432x288 with 1 Axes>"
      ]
     },
     "metadata": {},
     "output_type": "display_data"
    }
   ],
   "source": [
    "plt.plot(t_p1-t_s1)\n",
    "plt.plot(t_p2 - t_s2)\n",
    "plt.legend(['ISI = 0.5', 'ISI = 0.7'])"
   ]
  },
  {
   "cell_type": "code",
   "execution_count": null,
   "metadata": {
    "collapsed": true
   },
   "outputs": [],
   "source": []
  }
 ],
 "metadata": {
  "kernelspec": {
   "display_name": "Python 3",
   "language": "python",
   "name": "python3"
  },
  "language_info": {
   "codemirror_mode": {
    "name": "ipython",
    "version": 3
   },
   "file_extension": ".py",
   "mimetype": "text/x-python",
   "name": "python",
   "nbconvert_exporter": "python",
   "pygments_lexer": "ipython3",
   "version": "3.6.3"
  }
 },
 "nbformat": 4,
 "nbformat_minor": 4
}
