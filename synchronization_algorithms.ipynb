{
 "cells": [
  {
   "cell_type": "code",
   "execution_count": 1,
   "metadata": {},
   "outputs": [],
   "source": [
    "import numpy as np\n",
    "import matplotlib.pyplot as plt\n",
    "\n",
    "%matplotlib inline"
   ]
  },
  {
   "cell_type": "code",
   "execution_count": 7,
   "metadata": {
    "scrolled": false
   },
   "outputs": [
    {
     "name": "stdout",
     "output_type": "stream",
     "text": [
      "0 1.6\n",
      "yS =  0.6000000000000001 IS_new =  1.65\n",
      "tp =   0.4666666666666666\n",
      "ISI_i-1 =  1.6\n",
      "IP =  11.200000000000003\n",
      "1 0.4\n",
      "yS =  0.66 IS_new =  1.7099999999999997\n",
      "tp =   0.06249999999999998\n",
      "ISI_i-1 =  0.4\n",
      "IP =  4.105625000000001\n",
      "2 0.8\n",
      "yS =  0.6839999999999999 IS_new =  1.7339999999999998\n",
      "tp =   0.17049779266250567\n",
      "ISI_i-1 =  0.8\n",
      "IP =  2.6359091376160766\n",
      "3 1.2000000000000002\n",
      "yS =  0.6936 IS_new =  1.7435999999999998\n",
      "tp =   0.2655630234026511\n",
      "ISI_i-1 =  1.2000000000000002\n",
      "IP =  3.8031468055439652\n",
      "tp =   0.18405810656049043\n",
      "IP =  2.2436\n",
      "tp =   0.31199857372080586\n",
      "IP =  2.2436\n",
      "tp =   0.31199857372080586\n",
      "IP =  2.2436\n",
      "tp =   0.31199857372080586\n",
      "IP =  2.2436\n",
      "tp =   0.31199857372080586\n",
      "IP =  2.2436\n"
     ]
    }
   ],
   "source": [
    "# Ramping with I\n",
    "ISIs = [0.4] * 4\n",
    "ISI_pts = np.cumsum(ISIs)\n",
    "\n",
    "# Constants\n",
    "I0 = 1.5\n",
    "beta = 1.5\n",
    "alpha = 5\n",
    "\n",
    "# Initialize\n",
    "IS = I0\n",
    "IP = I0\n",
    "y0 = 0.7\n",
    "\n",
    "# For storage\n",
    "yS_lst = []\n",
    "IS_lst = []\n",
    "IP_lst = []\n",
    "productions = []\n",
    "\n",
    "# Synchronization\n",
    "for i in range(len(ISIs)):\n",
    "    print(i, ISI_pts[i-1])\n",
    "    # Period adjustment\n",
    "    yS = IS * ISIs[i]\n",
    "    IS_new = IS - beta * (yS - y0)\n",
    "    print('yS = ', yS, 'IS_new = ', IS_new)\n",
    "    yS_lst.append(yS)\n",
    "    IS_lst.append(IS_new)\n",
    "    \n",
    "    # Make production\n",
    "    tp = y0 / IP\n",
    "    productions.append(tp)\n",
    "    print('tp =  ', tp)\n",
    "    \n",
    "    # Phase adjustments\n",
    "    # Calculate y_out of SAM\n",
    "    if i == 0:\n",
    "        \n",
    "    print('ISI_i-1 = ', ISI_pts[i-1])\n",
    "    if ISI_pts[i-1] < np.sum(productions):\n",
    "        y_out = IS_new * (np.sum(productions) - ISI_pts[i-1])\n",
    "    else:\n",
    "        y_out = IS_new * (np.sum(productions) - ISI_pts[i-2])\n",
    "    \n",
    "    IP = IS_new + alpha * (y0 - y_out)\n",
    "    IS = IS_new\n",
    "    IP_lst.append(IP)\n",
    "    print('IP = ', IP)\n",
    "    \n",
    "    \n",
    "    \n",
    "# Continuation\n",
    "n_continuation = 5\n",
    "continuation_const = 0.1\n",
    "for i in range(n_continuation):\n",
    "    # Period adjustment: IS unchanged since no stimulus is observed\n",
    "    IS_new = IS\n",
    "    \n",
    "    # Make production\n",
    "    tp = y0 / IP\n",
    "    productions.append(tp)\n",
    "    print('tp =  ', tp)\n",
    "    \n",
    "    # Phase adjustments\n",
    "    IP = IS_new + alpha * (continuation_const)\n",
    "    IS = IS_new\n",
    "    IP_lst.append(IP)\n",
    "    print('IP = ', IP)\n",
    "    \n",
    "\n",
    "    \n",
    "\n",
    "\n",
    "\n",
    "\n",
    "\n",
    "\n"
   ]
  },
  {
   "cell_type": "code",
   "execution_count": 8,
   "metadata": {},
   "outputs": [
    {
     "data": {
      "text/plain": [
       "4"
      ]
     },
     "execution_count": 8,
     "metadata": {},
     "output_type": "execute_result"
    }
   ],
   "source": [
    "a = [1, 2,3, 4, 5]\n",
    "a[-2]"
   ]
  },
  {
   "cell_type": "code",
   "execution_count": 4,
   "metadata": {},
   "outputs": [
    {
     "data": {
      "text/plain": [
       "[<matplotlib.lines.Line2D at 0x21ec83c6128>]"
      ]
     },
     "execution_count": 4,
     "metadata": {},
     "output_type": "execute_result"
    },
    {
     "data": {
      "image/png": "[encoded data removed]",
      "text/plain": [
       "<Figure size 432x288 with 1 Axes>"
      ]
     },
     "metadata": {
      "needs_background": "light"
     },
     "output_type": "display_data"
    }
   ],
   "source": [
    "# Plot the result\n",
    "plt.plot(np.cumsum(productions), np.ones(len(productions)), '.')\n",
    "plt.plot(ISI_pts, np.ones(len(ISI_pts)) * 2, '.')"
   ]
  },
  {
   "cell_type": "code",
   "execution_count": 68,
   "metadata": {
    "scrolled": true
   },
   "outputs": [
    {
     "data": {
      "text/plain": [
       "<matplotlib.collections.LineCollection at 0x27d2dcceba8>"
      ]
     },
     "execution_count": 68,
     "metadata": {},
     "output_type": "execute_result"
    },
    {
     "data": {
      "image/png": "[encoded data removed]",
      "text/plain": [
       "<Figure size 432x288 with 1 Axes>"
      ]
     },
     "metadata": {
      "needs_background": "light"
     },
     "output_type": "display_data"
    }
   ],
   "source": [
    "plt.plot(np.cumsum(productions) - ISI_pts)\n",
    "plt.hlines(0.04, 0, len(ISI_pts))"
   ]
  },
  {
   "cell_type": "code",
   "execution_count": 5,
   "metadata": {},
   "outputs": [
    {
     "data": {
      "text/plain": [
       "array([ 400,  800, 1200, 1600], dtype=int32)"
      ]
     },
     "execution_count": 5,
     "metadata": {},
     "output_type": "execute_result"
    }
   ],
   "source": [
    "ISI_pts"
   ]
  },
  {
   "cell_type": "code",
   "execution_count": 44,
   "metadata": {
    "collapsed": true
   },
   "outputs": [],
   "source": [
    "plt.hlines?"
   ]
  },
  {
   "cell_type": "markdown",
   "metadata": {},
   "source": [
    "## Discrete updating algorithm\n",
    "\n",
    "### Continuous time definitions\n",
    "$y_{\\textrm{ref}}$ : Reference level\n",
    "\n",
    "$y_{\\textrm{SAM}}$ : Output of SAM\n",
    "\n",
    "$y_{\\textrm{MPM}}$ : Output of of MPM\n",
    "\n",
    "$I_{\\textrm{SAM}}$ : Input to SAM\n",
    "\n",
    "$I_{\\textrm{MPM}}$ : Input to MPM\n",
    "\n",
    "\n",
    "### Translation into discrete time\n",
    "$i$ will index *time-points* and *intervals*\n",
    "\n",
    "$t_p^i$ : time of $i$th production\n",
    "\n",
    "$t_s^i$ : time of $i$th stimulus\n",
    "\n",
    "$\\textrm{ISI}^i$ = $t_s^{i+1} - t_s^i$\n",
    "\n",
    "$\\textrm{IPI}^i$ = $t_p^{i+1} - t_p^i$\n",
    "\n",
    "$y_{\\textrm{SAM}}^i=I_{\\textrm{SAM}}^i*\\textrm{ISI}^i$\n",
    "\n",
    "$I_{\\textrm{SAM}}^{i+1}=I_{\\textrm{SAM}}^i+\\beta(y_{\\textrm{ref}}-y_{\\textrm{SAM}}^i)$\n",
    "\n",
    "$I_{\\textrm{MPM}}^{i+1} = I_{\\textrm{SAM}}^{i+1} + \\alpha(y_{\\textrm{out}}^i-y_{\\textrm{MPM}}^i)$\n",
    "\n",
    "$\\textrm{IPI}^i=y_{\\textrm{ref}}/I_{\\textrm{MPM}}$\n",
    "\n",
    "$t_p^{i+1}=t_p^i+\\textrm{IPI}^i$\n",
    "\n",
    "By definition $y_{\\textrm{MPM}}^i=y_{\\textrm{ref}}$ (output of $y_{\\textrm{MPM}}$ at ith production)\n",
    "\n",
    "The value of $y_{\\textrm{out}}^i$ represents the output of the SAM at the time of the $i$th production. During synchronization that will be:\n",
    "\n",
    "if $t_s^{i}<t_p^i$\n",
    "\n",
    "$y_{\\textrm{out}}^i = I_{\\textrm{SAM}}^i*(t_p^{i}-t_s^{i})$\n",
    "\n",
    "else\n",
    "\n",
    "$y_{\\textrm{out}}^i = I_{\\textrm{SAM}}^i*(t_p^i-t_s^{i-1})$\n",
    "\n",
    "\n",
    "During continuation:\n",
    "\n",
    "$y_{\\textrm{out}}^i = y_{\\textrm{SAM}}^\\infty$\n",
    "\n",
    "with $y_{\\textrm{SAM}}^\\infty$ representing the terminal output of the SAM module."
   ]
  },
  {
   "cell_type": "code",
   "execution_count": 140,
   "metadata": {},
   "outputs": [],
   "source": [
    "# Definitions\n",
    "def I_s_update(I_s_in,beta,y_ref,y_s):\n",
    "    I_s_out = I_s_in + beta*(y_ref - y_s)\n",
    "    \n",
    "    return I_s_out\n",
    "\n",
    "def I_p_update(I_s,alpha,y_p,y_out):\n",
    "    I_p_out = I_s + alpha*(y_out-y_p)\n",
    "    \n",
    "    return I_p_out\n",
    "\n",
    "def discreteAlgorithm(ISI, beta=0.5, alpha=0.1, y_ref=1, I_s_init=0.8):\n",
    "\n",
    "    t_s = np.zeros(len(ISI)+1)\n",
    "    t_s[1:len(ISI)+1] = np.cumsum(ISI)\n",
    "    IPI = np.zeros((len(t_s)))\n",
    "    t_p = np.zeros((len(t_s)))\n",
    "    I_s = np.zeros((len(t_s)))\n",
    "    I_p = np.zeros((len(t_s)))\n",
    "    y_s = np.zeros((len(t_s)))\n",
    "    I_p[0] = I_s_init\n",
    "    I_s[0] = I_s_init\n",
    "\n",
    "    for i in range(len(ISI)):\n",
    "\n",
    "        IPI[i] = y_ref/I_p[i]\n",
    "        if i > 0:\n",
    "            t_p[i+1] = t_p[i] + IPI[i]\n",
    "        else:\n",
    "            t_p[i+1] = IPI[i]\n",
    "\n",
    "        y_s[i] = I_s[i]*ISI[i]\n",
    "\n",
    "        I_s[i+1] = I_s_update(I_s[i],beta,y_ref,y_s[i])\n",
    "\n",
    "        if t_s[i] < t_p[i]:\n",
    "            y_out = I_s[i]*(t_p[i]-t_s[i])\n",
    "        else:\n",
    "            if i == 0:\n",
    "                y_out = y_ref\n",
    "            else:\n",
    "                y_out = I_s[i]*(t_p[i]-t_s[i-1])\n",
    "            #print(i,y_out)\n",
    "\n",
    "\n",
    "        I_p[i+1] = I_p_update(I_s[i+1],alpha,y_ref,y_out)\n",
    "        print(t_s[i],t_p[i],IPI[i])\n",
    "    \n",
    "    return t_s, t_p, IPI, I_s, I_p, y_s"
   ]
  },
  {
   "cell_type": "markdown",
   "metadata": {},
   "source": [
    "## Synchronization to a constant ISI"
   ]
  },
  {
   "cell_type": "code",
   "execution_count": 147,
   "metadata": {},
   "outputs": [
    {
     "name": "stdout",
     "output_type": "stream",
     "text": [
      "0.0 0.0 0.35\n",
      "0.4 0.35 0.353535353535\n",
      "0.8 0.703535353535 0.356978938243\n",
      "1.2 1.06051429178 0.361904206453\n",
      "1.6 1.42241849823 0.366538256556\n",
      "2.0 1.78895675479 0.370826134496\n",
      "2.4 2.15978288928 0.374778553378\n",
      "2.8 2.53456144266 0.378409922469\n",
      "3.2 2.91297136513 0.381735674128\n",
      "3.6 3.29470703926 0.384771871412\n",
      "4.0 3.67947891067 0.387534934289\n",
      "4.4 4.06701384496 0.390041402322\n",
      "4.8 4.45705524728 0.392307730735\n",
      "5.2 4.84936297802 0.39435011884\n",
      "5.6 5.24371309686 0.39618436911\n",
      "6.0 5.63989746597 0.397825774609\n",
      "6.4 6.03772324058 0.399289032109\n",
      "6.8 6.43701227268 0.400588178056\n",
      "7.2 6.83760045074 0.401736544487\n",
      "7.6 7.23933699523 0.40274673208\n",
      "8.0 7.64208372731 0.403630597645\n",
      "8.4 8.04571432495 0.404399253594\n",
      "8.8 8.45011357855 0.405063077126\n",
      "9.2 8.85517665567 0.405631727145\n",
      "9.6 9.26080838282 0.406114167139\n",
      "10.0 9.66692254996 0.406518692524\n",
      "10.4 10.0734412425 0.406852961163\n",
      "10.8 10.4802942036 0.40712402597\n",
      "11.2 10.8874182296 0.407338368733\n",
      "11.6 11.2947565983 0.4075019344\n",
      "12.0 11.7022585327 0.40762016527\n",
      "12.4 12.109878698 0.407698034625\n",
      "12.8 12.5175767326 0.407740079451\n",
      "13.2 12.9253168121 0.407750431985\n",
      "13.6 13.3330672441 0.40773284991\n",
      "14.0 13.740800094 0.407690745067\n",
      "14.4 14.1484908391 0.407627210608\n",
      "14.8 14.5561180497 0.407545046557\n",
      "15.2 14.9636630962 0.407446783772\n",
      "15.6 15.37110988 0.407334706325\n",
      "16.0 15.7784445863 0.407210872355\n",
      "16.4 16.1856554587 0.407077133423\n",
      "16.8 16.5927325921 0.406935152447\n",
      "17.2 16.9996677445 0.406786420282\n",
      "17.6 17.4064541648 0.406632271018\n",
      "18.0 17.8130864358 0.406473896073\n",
      "18.4 18.2195603319 0.406312357145\n",
      "18.8 18.6258726891 0.406148598115\n",
      "19.2 19.0320212872 0.405983455961\n",
      "19.6 19.4380047431 0.405817670758\n"
     ]
    }
   ],
   "source": [
    "# Simple synchronization\n",
    "ISI = [0.4] * 50\n",
    "del t_p\n",
    "del t_s\n",
    "del IPI\n",
    "del I_s\n",
    "del I_p\n",
    "del y_s\n",
    "t_s, t_p, IPI, I_s, I_p, y_s = discreteAlgorithm(ISI, beta=0.2, alpha=0.1, y_ref=1, I_s_init=1/0.35)\n",
    "\n",
    "#for i in range(len(t_s)):\n",
    "#    print(t_s[i],t_p[i],IPI[i])"
   ]
  },
  {
   "cell_type": "code",
   "execution_count": 148,
   "metadata": {},
   "outputs": [
    {
     "data": {
      "text/plain": [
       "[<matplotlib.lines.Line2D at 0x1100ccf28>]"
      ]
     },
     "execution_count": 148,
     "metadata": {},
     "output_type": "execute_result"
    },
    {
     "data": {
      "image/png": "[encoded data removed]",
      "text/plain": [
       "<Figure size 432x288 with 1 Axes>"
      ]
     },
     "metadata": {},
     "output_type": "display_data"
    }
   ],
   "source": [
    "plt.plot(ISI)\n",
    "plt.plot(IPI)"
   ]
  },
  {
   "cell_type": "code",
   "execution_count": 149,
   "metadata": {},
   "outputs": [
    {
     "data": {
      "text/plain": [
       "[<matplotlib.lines.Line2D at 0x110192588>]"
      ]
     },
     "execution_count": 149,
     "metadata": {},
     "output_type": "execute_result"
    },
    {
     "data": {
      "image/png": "[encoded data removed]",
      "text/plain": [
       "<Figure size 432x288 with 1 Axes>"
      ]
     },
     "metadata": {},
     "output_type": "display_data"
    }
   ],
   "source": [
    "plt.plot(t_p-t_s)"
   ]
  },
  {
   "cell_type": "code",
   "execution_count": null,
   "metadata": {
    "collapsed": true
   },
   "outputs": [],
   "source": []
  }
 ],
 "metadata": {
  "kernelspec": {
   "display_name": "Python 3",
   "language": "python",
   "name": "python3"
  },
  "language_info": {
   "codemirror_mode": {
    "name": "ipython",
    "version": 3
   },
   "file_extension": ".py",
   "mimetype": "text/x-python",
   "name": "python",
   "nbconvert_exporter": "python",
   "pygments_lexer": "ipython3",
   "version": "3.7.3"
  }
 },
 "nbformat": 4,
 "nbformat_minor": 4
}
