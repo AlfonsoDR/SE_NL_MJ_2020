{
 "cells": [
  {
   "cell_type": "code",
   "execution_count": 1,
   "metadata": {
    "collapsed": true
   },
   "outputs": [],
   "source": [
    "import numpy as np\n",
    "import numpy.matlib\n",
    "import matplotlib.pyplot as plt\n",
    "\n",
    "%matplotlib inline"
   ]
  },
  {
   "cell_type": "markdown",
   "metadata": {},
   "source": [
    "## Discrete updating algorithm\n",
    "\n",
    "### Continuous time definitions\n",
    "$y_{\\textrm{ref}}$ : Reference level\n",
    "\n",
    "$y_{\\textrm{SAM}}$ : Output of SAM\n",
    "\n",
    "$y_{\\textrm{MPM}}$ : Output of of MPM\n",
    "\n",
    "$I_{\\textrm{SAM}}$ : Input to SAM\n",
    "\n",
    "$I_{\\textrm{MPM}}$ : Input to MPM\n",
    "\n",
    "\n",
    "### Translation into discrete time\n",
    "$i$ will index *time-points* and *intervals*\n",
    "\n",
    "$t_p^i$ : time of $i$th production\n",
    "\n",
    "$t_s^i$ : time of $i$th stimulus\n",
    "\n",
    "$\\textrm{ISI}^i$ = $t_s^{i+1} - t_s^i$\n",
    "\n",
    "$\\textrm{IPI}^i$ = $t_p^{i+1} - t_p^i$\n",
    "\n",
    "$y_{\\textrm{SAM}}^i=I_{\\textrm{SAM}}^i*\\textrm{ISI}^i$\n",
    "\n",
    "$I_{\\textrm{SAM}}^{i+1}=I_{\\textrm{SAM}}^i+\\beta(y_{\\textrm{ref}}-y_{\\textrm{SAM}}^i)$\n",
    "\n",
    "$I_{\\textrm{MPM}}^{i+1} = I_{\\textrm{SAM}}^{i+1} + \\alpha(y_{\\textrm{out}}^i-y_{\\textrm{MPM}}^i)$\n",
    "\n",
    "$\\textrm{IPI}^i=y_{\\textrm{ref}}/I_{\\textrm{MPM}}$\n",
    "\n",
    "$t_p^{i+1}=t_p^i+\\textrm{IPI}^i$\n",
    "\n",
    "By definition $y_{\\textrm{MPM}}^i=y_{\\textrm{ref}}$ (output of $y_{\\textrm{MPM}}$ at ith production)\n",
    "\n",
    "The value of $y_{\\textrm{out}}^i$ represents the output of the SAM at the time of the $i$th production. During synchronization that will be:\n",
    "\n",
    "$y_{\\textrm{out}}^i = I_{\\textrm{SAM}}^i*(t_p^i-t_s^{i-1})$\n",
    "\n",
    "During continuation:\n",
    "\n",
    "$y_{\\textrm{out}}^i = y_{\\textrm{SAM}}^\\infty$\n",
    "\n",
    "with $y_{\\textrm{SAM}}^\\infty$ representing the terminal output of the SAM module."
   ]
  },
  {
   "cell_type": "code",
   "execution_count": 2,
   "metadata": {
    "collapsed": true
   },
   "outputs": [],
   "source": [
    "# Definitions\n",
    "def I_s_update(I_s_in,beta,y_ref,y_s):\n",
    "    I_s_out = I_s_in + beta*(y_ref - y_s)\n",
    "    \n",
    "    return I_s_out\n",
    "\n",
    "def I_p_update(I_s,alpha,y_p,y_out):\n",
    "    I_p_out = I_s + alpha*(y_out-y_p)\n",
    "    \n",
    "    return I_p_out\n",
    "\n",
    "def discreteAlgorithm_multiple(ISI, n, beta=0.5, alpha=0.1, y_ref=1, \n",
    "                               I_s_init=0.8, y_s_infty=1.5, sigma=0):\n",
    "    '''Perform multiple simulations of the discrete algorithm\n",
    "    Returns: an array of size n x T'''\n",
    "    IPIs = []\n",
    "    for i in range(n):\n",
    "        _, t_p, IPI, _, _, _ = discreteAlgorithm(ISI, beta, alpha, y_ref, I_s_init,\n",
    "                                                        y_s_infty, sigma)\n",
    "        #print('tp and IPI')\n",
    "        #print(t_p)\n",
    "        #print(IPI)\n",
    "        #print(np.diff(t_p))\n",
    "        IPI_noise = np.diff(t_p)\n",
    "        IPIs.append(IPI_noise)\n",
    "        \n",
    "    return np.array(IPIs)\n",
    "    \n",
    "\n",
    "\n",
    "def discreteAlgorithm(ISI, beta=0.5, alpha=0.1, y_ref=1, I_s_init=0.8, y_s_infty=1.5, sigma=0):\n",
    "\n",
    "    t_s = np.zeros(len(ISI)+1)\n",
    "    t_s[1:len(ISI)+1] = np.cumsum(ISI)\n",
    "    IPI = np.zeros((len(t_s))-1)\n",
    "    t_p = np.zeros((len(t_s)))\n",
    "    I_s = np.zeros((len(t_s)))\n",
    "    I_p = np.zeros((len(t_s)))\n",
    "    y_s = np.zeros((len(t_s)))\n",
    "    I_p[0] = I_s_init\n",
    "    I_s[0] = I_s_init\n",
    "\n",
    "    for i in range(len(ISI)):\n",
    "        \n",
    "        IPI[i] = y_ref/I_p[i]\n",
    "        if i > 0:\n",
    "            noise = np.random.randn() * sigma\n",
    "            \n",
    "            t_p[i+1] = t_p[i] + IPI[i] + noise\n",
    "            #print(t_p)\n",
    "            #print(IPI)\n",
    "        else:\n",
    "            #print(i, 'here2')\n",
    "            t_p[i+1] = IPI[i] + np.random.randn() * sigma\n",
    "        \n",
    "        if np.isnan(ISI[i]):\n",
    "            y_s[i] = y_s_infty\n",
    "            I_s[i+1] = I_s[i]\n",
    "        else:\n",
    "            y_s[i] = I_s[i]*ISI[i]\n",
    "            I_s[i+1] = I_s_update(I_s[i],beta,y_ref,y_s[i])\n",
    "\n",
    "        \n",
    "        if np.isnan(ISI[i]):\n",
    "            y_out = y_s_infty\n",
    "        else:\n",
    "            if i == 0:\n",
    "                y_out = y_ref\n",
    "            else:\n",
    "                y_out = I_s[i]*(t_p[i]-t_s[i-1])\n",
    "            #print(i,y_out)\n",
    "\n",
    "        # Standard code for algorithm, implementing integration of differences over time\n",
    "        I_p[i+1] = I_p_update(I_s[i+1],alpha,y_ref,y_out)\n",
    "        \n",
    "        # Code that does not integrate differences over time\n",
    "        #if np.isnan(t_s[i]):\n",
    "        #    I_p[i+1] = I_p_update(I_s[i+1],alpha,t_p[i],t_p[i]+0.4)\n",
    "        #else:       \n",
    "        #    I_p[i+1] = I_p_update(I_s[i+1],alpha,t_p[i],t_s[i])\n",
    "        \n",
    "        #print(t_s[i],t_p[i],IPI[i])\n",
    "    #print(t_p)\n",
    "    return t_s, t_p, IPI, I_s, I_p, y_s"
   ]
  },
  {
   "cell_type": "code",
   "execution_count": 3,
   "metadata": {},
   "outputs": [
    {
     "data": {
      "text/plain": [
       "array([[1.34259565, 0.87662785, 0.73471699, 0.6350674 , 0.56009243,\n",
       "        0.42209181, 0.62668589, 0.5912564 , 0.62557417, 0.7003255 ,\n",
       "        0.55876178],\n",
       "       [1.31937329, 0.92168113, 0.80541113, 0.64207007, 0.56073485,\n",
       "        0.54811414, 0.6804806 , 0.64253204, 0.5720136 , 0.62235459,\n",
       "        0.90160351],\n",
       "       [1.1494938 , 0.96269328, 0.87151006, 0.65784151, 0.53253502,\n",
       "        0.66716351, 0.5748572 , 0.66778332, 0.69234515, 0.62737714,\n",
       "        0.69179374]])"
      ]
     },
     "execution_count": 3,
     "metadata": {},
     "output_type": "execute_result"
    }
   ],
   "source": [
    "discreteAlgorithm_multiple([0.5] * 4 + [np.nan] * 7, 3, sigma=0.1)"
   ]
  },
  {
   "cell_type": "markdown",
   "metadata": {},
   "source": [
    "## Synchronization to a constant ISI"
   ]
  },
  {
   "cell_type": "code",
   "execution_count": 4,
   "metadata": {},
   "outputs": [],
   "source": [
    "# Simple synchronization\n",
    "ISI = [0.4] * 500\n",
    "t_s, t_p, IPI, I_s, I_p, y_s = discreteAlgorithm(ISI, beta=0.2, alpha=0.1, y_ref=1, I_s_init=1/0.35, sigma=0)\n",
    "\n",
    "#for i in range(len(t_s)):\n",
    "#    print(t_s[i],t_p[i],IPI[i])"
   ]
  },
  {
   "cell_type": "code",
   "execution_count": 5,
   "metadata": {},
   "outputs": [
    {
     "data": {
      "text/plain": [
       "[<matplotlib.lines.Line2D at 0x19849cab748>]"
      ]
     },
     "execution_count": 5,
     "metadata": {},
     "output_type": "execute_result"
    },
    {
     "data": {
      "image/png": "[encoded data removed]",
      "text/plain": [
       "<Figure size 432x288 with 1 Axes>"
      ]
     },
     "metadata": {},
     "output_type": "display_data"
    }
   ],
   "source": [
    "plt.plot(ISI)\n",
    "plt.plot(IPI)"
   ]
  },
  {
   "cell_type": "code",
   "execution_count": 6,
   "metadata": {},
   "outputs": [
    {
     "data": {
      "text/plain": [
       "[<matplotlib.lines.Line2D at 0x1984bdcc828>]"
      ]
     },
     "execution_count": 6,
     "metadata": {},
     "output_type": "execute_result"
    },
    {
     "data": {
      "image/png": "[encoded data removed]",
      "text/plain": [
       "<Figure size 432x288 with 1 Axes>"
      ]
     },
     "metadata": {},
     "output_type": "display_data"
    }
   ],
   "source": [
    "plt.plot(t_p-t_s)"
   ]
  },
  {
   "cell_type": "markdown",
   "metadata": {},
   "source": [
    "## Step Change"
   ]
  },
  {
   "cell_type": "code",
   "execution_count": 7,
   "metadata": {
    "collapsed": true
   },
   "outputs": [],
   "source": [
    "# Step change\n",
    "ISI = np.concatenate((0.80*np.ones(100),1.00*np.ones(30)))\n",
    "del t_p\n",
    "del t_s\n",
    "del IPI\n",
    "del I_s\n",
    "del I_p\n",
    "del y_s\n",
    "t_s, t_p, IPI, I_s, I_p, y_s = discreteAlgorithm(ISI, beta=0.5, alpha=0.1, y_ref=1, I_s_init=1/0.8, sigma=0)"
   ]
  },
  {
   "cell_type": "code",
   "execution_count": 8,
   "metadata": {},
   "outputs": [
    {
     "data": {
      "text/plain": [
       "[<matplotlib.lines.Line2D at 0x1984bdcccc0>]"
      ]
     },
     "execution_count": 8,
     "metadata": {},
     "output_type": "execute_result"
    },
    {
     "data": {
      "image/png": "[encoded data removed]",
      "text/plain": [
       "<Figure size 432x288 with 1 Axes>"
      ]
     },
     "metadata": {},
     "output_type": "display_data"
    }
   ],
   "source": [
    "plt.plot(ISI)\n",
    "plt.plot(IPI)"
   ]
  },
  {
   "cell_type": "code",
   "execution_count": 9,
   "metadata": {},
   "outputs": [
    {
     "data": {
      "text/plain": [
       "[<matplotlib.lines.Line2D at 0x1984be8ee10>]"
      ]
     },
     "execution_count": 9,
     "metadata": {},
     "output_type": "execute_result"
    },
    {
     "data": {
      "image/png": "[encoded data removed]",
      "text/plain": [
       "<Figure size 432x288 with 1 Axes>"
      ]
     },
     "metadata": {},
     "output_type": "display_data"
    }
   ],
   "source": [
    "plt.plot(t_p-t_s)"
   ]
  },
  {
   "cell_type": "markdown",
   "metadata": {},
   "source": [
    "## Phase shift"
   ]
  },
  {
   "cell_type": "code",
   "execution_count": 10,
   "metadata": {
    "collapsed": true
   },
   "outputs": [],
   "source": [
    "# Phase shift\n",
    "ISI = np.concatenate((0.80*np.ones(50),0.9*np.ones(1),0.80*np.ones(50)))\n",
    "del t_p\n",
    "del t_s\n",
    "del IPI\n",
    "del I_s\n",
    "del I_p\n",
    "del y_s\n",
    "t_s, t_p, IPI, I_s, I_p, y_s = discreteAlgorithm(ISI, beta=0.7, alpha=0.1, y_ref=1, I_s_init=1/0.8, sigma=0)"
   ]
  },
  {
   "cell_type": "code",
   "execution_count": 11,
   "metadata": {},
   "outputs": [
    {
     "data": {
      "text/plain": [
       "[<matplotlib.lines.Line2D at 0x1984be0a5f8>]"
      ]
     },
     "execution_count": 11,
     "metadata": {},
     "output_type": "execute_result"
    },
    {
     "data": {
      "image/png": "[encoded data removed]",
      "text/plain": [
       "<Figure size 432x288 with 1 Axes>"
      ]
     },
     "metadata": {},
     "output_type": "display_data"
    }
   ],
   "source": [
    "plt.plot(ISI)\n",
    "plt.plot(IPI)"
   ]
  },
  {
   "cell_type": "code",
   "execution_count": 12,
   "metadata": {},
   "outputs": [
    {
     "data": {
      "text/plain": [
       "[<matplotlib.lines.Line2D at 0x1984bf5a5c0>]"
      ]
     },
     "execution_count": 12,
     "metadata": {},
     "output_type": "execute_result"
    },
    {
     "data": {
      "image/png": "[encoded data removed]",
      "text/plain": [
       "<Figure size 432x288 with 1 Axes>"
      ]
     },
     "metadata": {},
     "output_type": "display_data"
    }
   ],
   "source": [
    "plt.plot(t_p-t_s)"
   ]
  },
  {
   "cell_type": "markdown",
   "metadata": {},
   "source": [
    "## Stimulus jitter"
   ]
  },
  {
   "cell_type": "code",
   "execution_count": 13,
   "metadata": {
    "collapsed": true
   },
   "outputs": [],
   "source": [
    "# Stimulus jitter\n",
    "ISI = np.concatenate((0.80*np.ones(50),0.9*np.ones(1), 0.7*np.ones(1), 0.80*np.ones(49)))\n",
    "del t_p\n",
    "del t_s\n",
    "del IPI\n",
    "del I_s\n",
    "del I_p\n",
    "del y_s\n",
    "t_s, t_p, IPI, I_s, I_p, y_s = discreteAlgorithm(ISI, beta=0.7, alpha=0.1, y_ref=1, I_s_init=1/0.8, sigma=0)"
   ]
  },
  {
   "cell_type": "code",
   "execution_count": 14,
   "metadata": {},
   "outputs": [
    {
     "data": {
      "text/plain": [
       "[<matplotlib.lines.Line2D at 0x1984bf5ae10>]"
      ]
     },
     "execution_count": 14,
     "metadata": {},
     "output_type": "execute_result"
    },
    {
     "data": {
      "image/png": "[encoded data removed]",
      "text/plain": [
       "<Figure size 432x288 with 1 Axes>"
      ]
     },
     "metadata": {},
     "output_type": "display_data"
    }
   ],
   "source": [
    "plt.plot(ISI)\n",
    "plt.plot(IPI)"
   ]
  },
  {
   "cell_type": "code",
   "execution_count": 15,
   "metadata": {},
   "outputs": [
    {
     "data": {
      "text/plain": [
       "[<matplotlib.lines.Line2D at 0x1984c0262e8>]"
      ]
     },
     "execution_count": 15,
     "metadata": {},
     "output_type": "execute_result"
    },
    {
     "data": {
      "image/png": "[encoded data removed]",
      "text/plain": [
       "<Figure size 432x288 with 1 Axes>"
      ]
     },
     "metadata": {},
     "output_type": "display_data"
    }
   ],
   "source": [
    "plt.plot(t_p-t_s)"
   ]
  },
  {
   "cell_type": "markdown",
   "metadata": {},
   "source": [
    "## 1-2-Go, 1-2-3-Go"
   ]
  },
  {
   "cell_type": "code",
   "execution_count": 97,
   "metadata": {},
   "outputs": [],
   "source": [
    "def simulate_123Go(nstages=3,beta=0.75,alpha=0.0,ISI0=0.8,y_ref=1,ISImin=0.600,\n",
    "                   ISImax=1.000,number=5, sigma=0):\n",
    "    # 1-2-Go, 1-2-3-Go\n",
    "    ISIs = np.linspace(ISImin,ISImax,num=number)\n",
    "    ISI_list = np.nan*np.ones((len(ISIs),nstages))\n",
    "    IPI_list = np.nan*np.ones((len(ISIs),nstages))\n",
    "    t_s_list = []\n",
    "    t_p_list = []\n",
    "    for i in range(len(ISIs)):\n",
    "        ISI_list[i,:] = ISIs[i]*np.ones(nstages)\n",
    "        ISI = ISI_list[i,:]\n",
    "        t_s, t_p, IPI, I_s, I_p, y_s = discreteAlgorithm(ISI, beta=beta, alpha=alpha, \n",
    "                                                         y_ref=y_ref, I_s_init=1/ISI0,\n",
    "                                                        sigma=sigma)\n",
    "\n",
    "        t_s_list.append(t_s)\n",
    "        t_p_list.append(t_p)\n",
    "        IPI_list[i,:] = IPI\n",
    "    \n",
    "    return IPI_list, ISIs\n",
    "\n",
    "\n",
    "def simulate_123Go_noise(nstages=3,beta=0.75,alpha=0.0,ISI0=0.8,y_ref=1,ISImin=0.600,\n",
    "                   ISImax=1.000,number=5, sigma=0, ntrials=100):\n",
    "    # 1-2-Go, 1-2-3-Go\n",
    "    ISIs = np.linspace(ISImin,ISImax,num=number)\n",
    "    meanIPIs = []\n",
    "    stdIPIs = []\n",
    "    \n",
    "    for i in range(len(ISIs)): \n",
    "        ISI = ISIs[i]*np.ones(nstages)\n",
    "        IPIs = discreteAlgorithm_multiple(ISI, ntrials,\n",
    "                                    beta=beta, alpha=alpha, \n",
    "                                    y_ref=y_ref, I_s_init=1/ISI0,\n",
    "                                    sigma=sigma)[:,-1]\n",
    "        meanIPIs.append(np.mean(IPIs))\n",
    "        stdIPIs.append(np.std(IPIs))\n",
    "\n",
    "    \n",
    "    return np.array(meanIPIs), np.array(stdIPIs)\n"
   ]
  },
  {
   "cell_type": "code",
   "execution_count": 94,
   "metadata": {},
   "outputs": [
    {
     "name": "stdout",
     "output_type": "stream",
     "text": [
      "(5, 3)\n",
      "[0.02264993 0.0029196  0.00044439]\n"
     ]
    }
   ],
   "source": [
    "print(IPI_list.shape)\n",
    "tempISIs = np.matlib.repmat(ISIs,3,1)\n",
    "sqErrs = np.square(IPI_list - np.transpose(tempISIs))\n",
    "sqBIAS = sqErrs.sum(axis=0)/len(ISIs)\n",
    "print(sqBIAS)"
   ]
  },
  {
   "cell_type": "code",
   "execution_count": 95,
   "metadata": {},
   "outputs": [
    {
     "data": {
      "text/plain": [
       "[<matplotlib.lines.Line2D at 0x1984f236240>,\n",
       " <matplotlib.lines.Line2D at 0x1984f263710>,\n",
       " <matplotlib.lines.Line2D at 0x1984f263860>]"
      ]
     },
     "execution_count": 95,
     "metadata": {},
     "output_type": "execute_result"
    },
    {
     "data": {
      "image/png": "[encoded data removed]",
      "text/plain": [
       "<Figure size 432x288 with 2 Axes>"
      ]
     },
     "metadata": {},
     "output_type": "display_data"
    }
   ],
   "source": [
    "plt.subplot(121)\n",
    "plt.plot(sqBIAS[1:3])\n",
    "\n",
    "plt.subplot(122)\n",
    "plt.plot(np.transpose(tempISIs),IPI_list)"
   ]
  },
  {
   "cell_type": "markdown",
   "metadata": {},
   "source": [
    "## Synchronization/continuation"
   ]
  },
  {
   "cell_type": "code",
   "execution_count": 19,
   "metadata": {},
   "outputs": [
    {
     "name": "stdout",
     "output_type": "stream",
     "text": [
      "[0.55    0.61675 0.6835  0.75025 0.817  ]\n"
     ]
    }
   ],
   "source": [
    "# Synchronization/continuation\n",
    "ISIs = np.linspace(0.550,0.817,num=5)\n",
    "print(ISIs)\n",
    "ISI_list = np.nan*np.ones((len(ISIs),12))\n",
    "IPI_list = np.nan*np.ones((len(ISIs),12))\n",
    "t_s_list = []\n",
    "t_p_list = []\n",
    "for i in range(len(ISIs)):\n",
    "    ISI_list[i,:] = np.concatenate((ISIs[i]*np.ones(4),np.nan*np.ones(8)))\n",
    "    del t_p\n",
    "    del t_s\n",
    "    del IPI\n",
    "    del I_s\n",
    "    del I_p\n",
    "    del y_s\n",
    "    ISI = ISI_list[i,:]\n",
    "    t_s, t_p, IPI, I_s, I_p, y_s = discreteAlgorithm(ISI, beta=0.75, alpha=0.1, y_ref=1, \n",
    "                                                     I_s_init=1/0.6835, y_s_infty=1.5,\n",
    "                                                    sigma=0)\n",
    "    \n",
    "    t_s_list.append(t_s)\n",
    "    t_p_list.append(t_p)\n",
    "    IPI_list[i,:] = IPI"
   ]
  },
  {
   "cell_type": "code",
   "execution_count": 20,
   "metadata": {},
   "outputs": [
    {
     "data": {
      "text/plain": [
       "[<matplotlib.lines.Line2D at 0x1984c0f0908>]"
      ]
     },
     "execution_count": 20,
     "metadata": {},
     "output_type": "execute_result"
    },
    {
     "data": {
      "image/png": "[encoded data removed]",
      "text/plain": [
       "<Figure size 432x288 with 1 Axes>"
      ]
     },
     "metadata": {},
     "output_type": "display_data"
    }
   ],
   "source": [
    "plt.plot(ISI)\n",
    "plt.plot(IPI)"
   ]
  },
  {
   "cell_type": "code",
   "execution_count": 21,
   "metadata": {},
   "outputs": [
    {
     "data": {
      "text/plain": [
       "[<matplotlib.lines.Line2D at 0x1984d1847f0>]"
      ]
     },
     "execution_count": 21,
     "metadata": {},
     "output_type": "execute_result"
    },
    {
     "data": {
      "image/png": "[encoded data removed]",
      "text/plain": [
       "<Figure size 432x288 with 1 Axes>"
      ]
     },
     "metadata": {},
     "output_type": "display_data"
    }
   ],
   "source": [
    "plt.plot(t_p-t_s)"
   ]
  },
  {
   "cell_type": "code",
   "execution_count": 22,
   "metadata": {},
   "outputs": [
    {
     "name": "stdout",
     "output_type": "stream",
     "text": [
      "[8.91112500e-03 2.09892614e-03 3.95389908e-04 4.58888671e-05\n",
      " 3.99369634e-05 5.65980556e-04 5.65980556e-04 5.65980556e-04\n",
      " 5.65980556e-04 5.65980556e-04 5.65980556e-04 5.65980556e-04]\n"
     ]
    }
   ],
   "source": [
    "tempISIs = np.matlib.repmat(ISIs,12,1)\n",
    "sqErrs = np.square(IPI_list - np.transpose(tempISIs))\n",
    "sqBIAS = sqErrs.sum(axis=0)/len(ISIs)\n",
    "print(sqBIAS)"
   ]
  },
  {
   "cell_type": "code",
   "execution_count": 23,
   "metadata": {},
   "outputs": [
    {
     "name": "stdout",
     "output_type": "stream",
     "text": [
      "(12, 5)\n"
     ]
    },
    {
     "data": {
      "text/plain": [
       "[<matplotlib.lines.Line2D at 0x1984d2256a0>,\n",
       " <matplotlib.lines.Line2D at 0x1984d2257b8>,\n",
       " <matplotlib.lines.Line2D at 0x1984d225908>]"
      ]
     },
     "execution_count": 23,
     "metadata": {},
     "output_type": "execute_result"
    },
    {
     "data": {
      "image/png": "[encoded data removed]",
      "text/plain": [
       "<Figure size 432x288 with 2 Axes>"
      ]
     },
     "metadata": {},
     "output_type": "display_data"
    }
   ],
   "source": [
    "plt.subplot(121)\n",
    "plt.plot(sqBIAS[1:12])\n",
    "\n",
    "plt.subplot(122)\n",
    "print(tempISIs.shape)\n",
    "plt.plot(np.transpose(tempISIs[(0,4,10),:]),IPI_list[:,(0,4,10)])"
   ]
  },
  {
   "cell_type": "markdown",
   "metadata": {
    "collapsed": true
   },
   "source": [
    "### Fit to behavior"
   ]
  },
  {
   "cell_type": "markdown",
   "metadata": {},
   "source": [
    "#### Synchronization/continuation"
   ]
  },
  {
   "cell_type": "code",
   "execution_count": 24,
   "metadata": {
    "collapsed": true
   },
   "outputs": [],
   "source": [
    "import scipy.io\n",
    "import glob\n",
    "\n",
    "def find_bias_arr(filename, tmax):\n",
    "    '''filename: SynCon_ITIs file name\n",
    "    tmax: max number of taps to consider\n",
    "    \n",
    "    Returns: the bias array, tmax x number of intervals in prior'''\n",
    "    data = scipy.io.loadmat(filename)\n",
    "    durs = data['durs'].flatten()\n",
    "    splits = data['allDur_splits']\n",
    "    IPI_mean = data['allDur_mean'][0]\n",
    "    \n",
    "    Bias = np.zeros((tmax, 5))\n",
    "\n",
    "    for i in range(len(IPI_mean)):\n",
    "        IPI_single = IPI_mean[i].flatten()[:tmax]\n",
    "        bias_single = IPI_single - durs[i]\n",
    "        Bias[:,i] = bias_single\n",
    "    \n",
    "    return Bias\n",
    "\n",
    "def plot_subject_ts_tp(filename):\n",
    "    bias_arr = find_bias_arr(filename, 20)\n",
    "    std_arr = find_std_arr(filename, 20)\n",
    "    data = scipy.io.loadmat(filename)\n",
    "    durs = data['durs'].flatten()\n",
    "\n",
    "    # Plot ts-tp dependence (subject)\n",
    "    bias_first = bias_arr[0,:]\n",
    "    std_first = std_arr[0,:]\n",
    "    bias_third = bias_arr[2,:]\n",
    "    std_third = std_arr[2,:]\n",
    "    bias_fifth = bias_arr[4,:]\n",
    "    std_fifth = std_arr[4,:]\n",
    "\n",
    "    plt.errorbar(durs, durs + bias_third, std_third)\n",
    "    plt.errorbar(durs, durs + bias_fifth, std_fifth)\n",
    "    plt.plot(durs, durs, '--')\n",
    "\n",
    "def find_std_arr(filename, tmax):\n",
    "    '''filename: SynCon_ITIs file name\n",
    "    tmax: max number of taps to consider\n",
    "    \n",
    "    Returns: the bias array, tmax x number of intervals in prior'''\n",
    "    data = scipy.io.loadmat(filename)\n",
    "    durs = data['durs'].flatten()\n",
    "    splits = data['allDur_splits']\n",
    "    IPI_std = data['allDur_std'][0]\n",
    "    \n",
    "    STD = np.zeros((tmax, 5))\n",
    "\n",
    "    for i in range(len(IPI_std)):\n",
    "        std_single = IPI_std[i].flatten()[:tmax]\n",
    "        STD[:,i] = std_single\n",
    "    \n",
    "    return STD\n",
    "    \n",
    "def simulate_sync_cont_bias(ISIs, ntrials, beta, alpha, ISI0, sigma):\n",
    "    meanITIs = []\n",
    "\n",
    "    for i in range(len(ISIs)):\n",
    "        ISI_list = np.concatenate((ISIs[i]*np.ones(4),np.nan*np.ones(17)))        \n",
    "        IPI_lst = discreteAlgorithm_multiple(ISI_list, ntrials, beta, alpha, y_ref=1, \n",
    "                               I_s_init=ISI0, y_s_infty=1.5, sigma=sigma)\n",
    "        #print(IPI_lst)\n",
    "        meanIPI = np.mean(IPI_lst, axis=0)\n",
    "        meanITIs.append(meanIPI)\n",
    "        \n",
    "    meanITIs = np.array(meanITIs)\n",
    "    bias_individual = meanITIs - ISIs[:,np.newaxis]\n",
    "    bias_all_sim = np.mean(bias_individual**2, axis=0)\n",
    "    return np.sqrt(bias_all_sim)[1:]\n",
    "\n",
    "def minimizer_noise(filename,ISIs,nsamples,betaRange,alphaRange,ISI0Range,sigma):\n",
    "    bias_arr = find_bias_arr(filename, 20)\n",
    "    betas = np.random.uniform(low=betaRange[0], high=betaRange[1], size=nsamples)\n",
    "    alphas = np.random.uniform(low=alphaRange[0], high=alphaRange[1], size=nsamples)\n",
    "    ISI0s = np.random.uniform(low=ISI0Range[0], high=ISI0Range[1], size=nsamples)\n",
    "    mse = np.nan*np.ones((nsamples,1))\n",
    "    \n",
    "    ntrials = 21\n",
    "    for j in range(nsamples):\n",
    "        biasSim = simulate_sync_cont_bias(ISIs, ntrials, betas[j], \n",
    "                                          alphas[j], 1/ISI0s[j], sigma)\n",
    "        biasObs = np.sqrt( np.nanmean(bias_arr**2,axis=1) )\n",
    "        mse[j] = np.nanmean((biasObs - biasSim)**2)\n",
    "        \n",
    "    id = np.argmin(mse)\n",
    "    print(id)\n",
    "    beta = betas[id]\n",
    "    alpha = alphas[id]\n",
    "    ISI0 = ISI0s[id]\n",
    "    return beta, alpha, ISI0\n",
    "\n",
    "def minimizer(filename,ISIs,nsamples,betaRange,alphaRange,ISI0Range):\n",
    "    bias_arr = find_bias_arr(filename, 20)\n",
    "    \n",
    "    betas = np.random.uniform(low=betaRange[0], high=betaRange[1], size=nsamples)\n",
    "    alphas = np.random.uniform(low=alphaRange[0], high=alphaRange[1], size=nsamples)\n",
    "    ISI0s = np.random.uniform(low=ISI0Range[0], high=ISI0Range[1], size=nsamples)\n",
    "    mse = np.nan*np.ones((nsamples,1))\n",
    "    for j in range(nsamples):\n",
    "        ISI_list = np.nan*np.ones((len(ISIs),21))\n",
    "        ISI_list2 = np.nan*np.ones((len(ISIs),21))\n",
    "        IPI_list = np.nan*np.ones((len(ISIs),21))\n",
    "        t_s_list = []\n",
    "        t_p_list = []\n",
    "        for i in range(len(ISIs)):\n",
    "            ISI_list[i,:] = np.concatenate((ISIs[i]*np.ones(4),np.nan*np.ones(17)))\n",
    "            ISI_list2[i,:] = ISIs[i]*np.ones(21)\n",
    "            ISI = ISI_list[i,:]\n",
    "            _, _, IPI, _, _, _ = discreteAlgorithm(ISI, beta=betas[j], alpha=alphas[j], y_ref=1,\n",
    "                                                             I_s_init=1/ISI0s[j], y_s_infty=1.5, sigma=0)\n",
    "            IPI_list[i,:] = IPI\n",
    "            \n",
    "        biasSim = np.sqrt( np.nanmean((IPI_list[:,1:]-ISI_list2[:,1:])**2,axis=0) )\n",
    "        biasObs = np.sqrt( np.nanmean(bias_arr**2,axis=1) )\n",
    "        mse[j] = np.nanmean((biasObs - biasSim)**2)\n",
    "           \n",
    "    id = np.argmin(mse)\n",
    "    print(id)\n",
    "    beta = betas[id]\n",
    "    alpha = alphas[id]\n",
    "    ISI0 = ISI0s[id]\n",
    "    return beta, alpha, ISI0"
   ]
  },
  {
   "cell_type": "code",
   "execution_count": 25,
   "metadata": {},
   "outputs": [
    {
     "name": "stdout",
     "output_type": "stream",
     "text": [
      "C:\\Users\\Le\\Dropbox (MIT)\\Jazayeri\\SyncContData\\FK_2_20170721_SynCon_ITIs.mat\n",
      "591\n"
     ]
    }
   ],
   "source": [
    "ISIs = np.linspace(0.550,0.817,num=5)\n",
    "dirlst = glob.glob('C:\\\\Users\\\\Le\\\\Dropbox (MIT)\\\\Jazayeri\\\\SyncContData\\\\*_2_*ITIs.mat')\n",
    "#dirlst = glob.glob('/Users/swe/Dropbox (MIT)/CircuitModel/Data/*_2_*ITIs.mat')\n",
    "filename = dirlst[4] #'/Users/swe/Dropbox (MIT)/CircuitModel/Data/FK_2_20170721_SynCon_ITIs.mat'\n",
    "print(filename)\n",
    "beta, alpha, ISI0 = minimizer(filename, ISIs,nsamples=1000, betaRange=[0,0.8], alphaRange=[0,0.8], ISI0Range=[0.5,0.9])\n"
   ]
  },
  {
   "cell_type": "code",
   "execution_count": 26,
   "metadata": {},
   "outputs": [
    {
     "name": "stdout",
     "output_type": "stream",
     "text": [
      "C:\\Users\\Le\\Dropbox (MIT)\\Jazayeri\\SyncContData\\AL_2_20170719_SynCon_ITIs.mat\n",
      "255\n",
      "C:\\Users\\Le\\Dropbox (MIT)\\Jazayeri\\SyncContData\\BG_2_20170719_SynCon_ITIs.mat\n",
      "333\n",
      "C:\\Users\\Le\\Dropbox (MIT)\\Jazayeri\\SyncContData\\CA_2_20170719_SynCon_ITIs.mat\n",
      "67\n",
      "C:\\Users\\Le\\Dropbox (MIT)\\Jazayeri\\SyncContData\\ER_2_20170718_SynCon_ITIs.mat\n",
      "356\n",
      "C:\\Users\\Le\\Dropbox (MIT)\\Jazayeri\\SyncContData\\FK_2_20170721_SynCon_ITIs.mat\n",
      "742\n",
      "C:\\Users\\Le\\Dropbox (MIT)\\Jazayeri\\SyncContData\\KL_2_20170721_SynCon_ITIs.mat\n",
      "205\n",
      "C:\\Users\\Le\\Dropbox (MIT)\\Jazayeri\\SyncContData\\MW_2_20170720_SynCon_ITIs.mat\n",
      "319\n",
      "C:\\Users\\Le\\Dropbox (MIT)\\Jazayeri\\SyncContData\\RC_2_20170721_SynCon_ITIs.mat\n",
      "206\n"
     ]
    }
   ],
   "source": [
    "BETAS = np.zeros((len(dirlst),1))\n",
    "ALPHAS = np.zeros((len(dirlst),1))\n",
    "ISIinits = np.zeros((len(dirlst),1))\n",
    "for filei in range(len(dirlst)):\n",
    "    filename = dirlst[filei] #'/Users/swe/Dropbox (MIT)/CircuitModel/Data/FK_2_20170721_SynCon_ITIs.mat'\n",
    "    print(filename)\n",
    "    beta, alpha, ISI0 = minimizer_noise(filename, ISIs,nsamples=1000, \n",
    "                                        betaRange=[0,0.8], alphaRange=[0,0.8], \n",
    "                                        ISI0Range=[0.5,0.9], sigma=0.06)\n",
    "    \n",
    "    BETAS[filei] = beta\n",
    "    ALPHAS[filei] = alpha\n",
    "    ISIinits[filei] = ISI0"
   ]
  },
  {
   "cell_type": "markdown",
   "metadata": {},
   "source": [
    "With the fitted values, we now perform the simulations."
   ]
  },
  {
   "cell_type": "code",
   "execution_count": 27,
   "metadata": {},
   "outputs": [
    {
     "name": "stderr",
     "output_type": "stream",
     "text": [
      "C:\\Users\\Le\\Anaconda3b\\lib\\site-packages\\ipykernel_launcher.py:26: MatplotlibDeprecationWarning: Adding an axes using the same arguments as a previous axes currently reuses the earlier instance.  In a future version, a new instance will always be created and returned.  Meanwhile, this warning can be suppressed, and the future behavior ensured, by passing a unique label to each axes instance.\n",
      "C:\\Users\\Le\\Anaconda3b\\lib\\site-packages\\ipykernel_launcher.py:29: MatplotlibDeprecationWarning: Adding an axes using the same arguments as a previous axes currently reuses the earlier instance.  In a future version, a new instance will always be created and returned.  Meanwhile, this warning can be suppressed, and the future behavior ensured, by passing a unique label to each axes instance.\n"
     ]
    },
    {
     "data": {
      "image/png": "[encoded data removed]",
      "text/plain": [
       "<Figure size 432x288 with 2 Axes>"
      ]
     },
     "metadata": {},
     "output_type": "display_data"
    }
   ],
   "source": [
    "plotlst = [0,3,4,5,6,7]\n",
    "\n",
    "Bias_sim_mean = np.zeros((6, 20))\n",
    "\n",
    "\n",
    "\n",
    "for idx, filei in enumerate(plotlst):\n",
    "    # Perform the simulation\n",
    "    ISI_list = np.nan*np.ones((len(ISIs),21))\n",
    "    IPI_list = np.nan*np.ones((len(ISIs),21))\n",
    "    t_s_list = []\n",
    "    t_p_list = []\n",
    "    \n",
    "    beta = BETAS[filei, 0]\n",
    "    alpha = ALPHAS[filei, 0]\n",
    "    ISI0 = ISIinits[filei, 0]\n",
    "    filename = dirlst[filei]\n",
    "\n",
    "\n",
    "    bias_arr = find_bias_arr(filename, 20)\n",
    "    biasObs = np.sqrt(np.nanmean(bias_arr**2,axis=1))\n",
    "\n",
    "\n",
    "    biasModel = simulate_sync_cont_bias(ISIs, ntrials=21, beta=beta, \n",
    "                                        alpha=alpha, ISI0=1/ISI0, sigma=0.06)\n",
    "    plt.subplot(121)\n",
    "    plt.plot(biasModel)\n",
    "    \n",
    "    plt.subplot(122)\n",
    "    plt.plot(biasObs)\n",
    "\n",
    "    Bias_sim_mean[idx, :] = biasModel * 1000\n",
    "    #plt.plot(np.transpose(tempISIs[(3,5),:]),IPI_list[:,(3,5)])\n",
    "    #plot_subject_ts_tp(filename)"
   ]
  },
  {
   "cell_type": "code",
   "execution_count": 28,
   "metadata": {
    "collapsed": true
   },
   "outputs": [],
   "source": [
    "#scipy.io.savemat('PlotTools/sync_cont_figure_algorithmic_circuit_012120c.mat', {'alphasummary': ALPHAS,\n",
    "#                                                             'Isummary': ISIinits,\n",
    "#                                                             'Ksummary': BETAS,\n",
    "#                                                             'Bias_sim_mean': Bias_sim_mean})"
   ]
  },
  {
   "cell_type": "code",
   "execution_count": 30,
   "metadata": {},
   "outputs": [],
   "source": [
    "# For figure 8b & 8c\n",
    "plotlst = [0,3,4,5,6,7]\n",
    "\n",
    "meanITI_model = []\n",
    "stdITI_model = []\n",
    "\n",
    "ntrials = 21\n",
    "\n",
    "for idx, filei in enumerate(plotlst):\n",
    "    # Perform the simulation\n",
    "    beta = BETAS[filei, 0]\n",
    "    alpha = ALPHAS[filei, 0]\n",
    "    ISI0 = ISIinits[filei, 0]\n",
    "    filename = dirlst[filei]\n",
    "    sigma = 0.06\n",
    "    \n",
    "    meanITIs = []\n",
    "    stdITIs = []\n",
    "\n",
    "    for i in range(len(ISIs)):\n",
    "        ISI_list = np.concatenate((ISIs[i]*np.ones(4),np.nan*np.ones(17)))        \n",
    "        IPI_lst = discreteAlgorithm_multiple(ISI_list, ntrials, beta, alpha, y_ref=1, \n",
    "                               I_s_init=1/ISI0, y_s_infty=1.5, sigma=sigma)\n",
    "        #print(IPI_lst)\n",
    "        meanIPI = np.mean(IPI_lst, axis=0)\n",
    "        stdIPI = np.std(IPI_lst, axis=0)\n",
    "        meanITIs.append(meanIPI)\n",
    "        stdITIs.append(stdIPI)\n",
    "        \n",
    "    meanITI_model.append(np.array(meanITIs)[:,1:] * 1000)\n",
    "    stdITI_model.append(np.array(stdITIs)[:,1:] * 1000)"
   ]
  },
  {
   "cell_type": "code",
   "execution_count": 31,
   "metadata": {
    "collapsed": true
   },
   "outputs": [],
   "source": [
    "#scipy.io.savemat('PlotTools/subject_ts_tp_sync_cont_discreteAlgo_012220.mat',\n",
    "#                {'durs': ISIs, 'meanITI_model': meanITI_model, \n",
    "#                 'stdITI_model': stdITI_model})"
   ]
  },
  {
   "cell_type": "markdown",
   "metadata": {},
   "source": [
    "### 1-2-Go/1-2-3-Go"
   ]
  },
  {
   "cell_type": "code",
   "execution_count": 167,
   "metadata": {},
   "outputs": [],
   "source": [
    "def get_time_lst(nstages, beta, alpha, ISI0):\n",
    "    '''Simulate and return the array of times of threshold crossing'''\n",
    "    IPI_list, ISIs = simulate_123Go(nstages=nstages,beta=beta,alpha=alpha,ISI0=ISI0)\n",
    "    times = 1000*IPI_list[:,-1]\n",
    "\n",
    "    return times\n",
    "    \n",
    "\n",
    "def do_beta_alpha_ISI0_fitting(subject_file, nsamples, ntrials, betalow, betahigh, \n",
    "                               alphalow, alphahigh, ISI0low, ISI0high, sigma):\n",
    "    '''Inputs:\n",
    "    - subject_file: .mat file with the behavioral results of the subject\n",
    "    - nsamples: number of random (beta,alpha,ISI0) combinations to sample\n",
    "    - betalow, betahigh, alphalow, alphahigh, ISI0low, ISI0high: ranges of beta, alpha, and ISI0 for sampling\n",
    "    \n",
    "    Outputs:\n",
    "    beta, alpha, ISI0: the optimal combination to minimize the mse between the mean simulated times\n",
    "    and the mean behavioral times of the subject'''\n",
    "    #print('sigmaval = ', sigmaval)\n",
    "    betalst = np.random.uniform(low=betalow, high=betahigh, size=nsamples)\n",
    "    alphalst = np.random.uniform(low=alphalow, high=alphahigh, size=nsamples)\n",
    "    ISI0lst = np.random.uniform(low=ISI0low, high=ISI0high, size=nsamples)\n",
    "\n",
    "    # Load data for subject SWE(RSG/RSSG, Seth provided)\n",
    "    swedata = scipy.io.loadmat(subject_file)\n",
    "    mtp_in = swedata['mtp_in']\n",
    "    stdtp_in = swedata['stdtp_in']\n",
    "\n",
    "    target_time1 = mtp_in[:,0]\n",
    "    target_time2 = mtp_in[:,1]\n",
    "\n",
    "    errorlst = []\n",
    "\n",
    "    for k in range(nsamples):\n",
    "        ISI0val = ISI0lst[k]\n",
    "        betaval = betalst[k]\n",
    "        alphaval = alphalst[k]\n",
    "\n",
    "        #1,2,Go simulation\n",
    "        prod_time_lst, _ = simulate_123Go_noise(nstages=2, ntrials=ntrials,\n",
    "                                    beta=betaval, alpha=alphaval, ISI0=ISI0val,\n",
    "                                               sigma=sigma)\n",
    "\n",
    "        #1,2,3,Go simulation\n",
    "        prod_time_lst2, _ = simulate_123Go_noise(nstages=3, ntrials=ntrials,\n",
    "                                    beta=betaval, alpha=alphaval, ISI0=ISI0val,\n",
    "                                                sigma=sigma)\n",
    "\n",
    "        # Continue if there is a nan   \n",
    "        error1 = (np.transpose(prod_time_lst) * 1000 - target_time1) ** 2\n",
    "        error2 = (np.transpose(prod_time_lst2) * 1000 - target_time2) ** 2\n",
    "        \n",
    "        if np.sum(np.isnan(error1)) + np.sum(np.isnan(error2)) > 0:\n",
    "            error = np.inf\n",
    "            print('nan encountered')\n",
    "        else:\n",
    "        # Error function to minimize\n",
    "            error = np.sum(error1) + np.sum(error2)\n",
    "        errorlst.append(error)\n",
    "\n",
    "\n",
    "    idx = np.argmin(errorlst)\n",
    "    #print(errorlst)\n",
    "    return betalst[idx], alphalst[idx], ISI0lst[idx]\n",
    "\n",
    "\n",
    "def do_sigma_fitting(subject_file, nsamples, ntrials, sigmalow, sigmahigh, \n",
    "                               beta, alpha, ISI0):\n",
    "    '''Inputs:\n",
    "    - subject_file: .mat file with the behavioral results of the subject\n",
    "    - nsamples: number of random (beta,alpha,ISI0) combinations to sample\n",
    "    - sigmalow, sigmahigh: ranges of sigma for sampling\n",
    "    \n",
    "    Outputs:\n",
    "    sigma: the optimal sigma value to minimize the mse between the std simulated times\n",
    "    and the mean behavioral times of the subject'''\n",
    "    sigmalst = np.linspace(sigmalow, sigmahigh, nsamples)\n",
    "\n",
    "    # Load data for subject SWE(RSG/RSSG, Seth provided)\n",
    "    swedata = scipy.io.loadmat(subject_file)\n",
    "    mtp_in = swedata['mtp_in']\n",
    "    stdtp_in = swedata['stdtp_in']\n",
    "\n",
    "    target_std1 = stdtp_in[:,0]\n",
    "    target_std2 = stdtp_in[:,1]\n",
    "\n",
    "    errorlst = []\n",
    "\n",
    "    for k in range(nsamples):\n",
    "        sigmaval = sigmalst[k]\n",
    "\n",
    "        #1,2,Go simulation\n",
    "        _, prod_std_lst = simulate_123Go_noise(nstages=2, ntrials=ntrials,\n",
    "                                    beta=beta, alpha=alpha, ISI0=ISI0, sigma=sigmaval)\n",
    "\n",
    "        #1,2,3,Go simulation\n",
    "        _, prod_std_lst2 = simulate_123Go_noise(nstages=3, ntrials=ntrials,\n",
    "                                    beta=beta, alpha=alpha, ISI0=ISI0, sigma=sigmaval)\n",
    "\n",
    "        # Continue if there is a nan   \n",
    "        error1 = (np.transpose(prod_std_lst) * 1000 - target_std1) ** 2\n",
    "        error2 = (np.transpose(prod_std_lst2) * 1000 - target_std2) ** 2\n",
    "        \n",
    "        if np.sum(np.isnan(error1)) + np.sum(np.isnan(error2)) > 0:\n",
    "            error = np.inf\n",
    "            print('nan encountered')\n",
    "        else:\n",
    "        # Error function to minimize\n",
    "            error = np.sum(error1) + np.sum(error2)\n",
    "        errorlst.append(error)\n",
    "\n",
    "\n",
    "    idx = np.argmin(errorlst)\n",
    "    #print(errorlst)\n",
    "    return sigmalst[idx]\n",
    "\n",
    "def subject_fitting(subject_file, nsamples, nsamples2, ntrials,\n",
    "                    betalow, betahigh, alphalow, alphahigh, ISI0low, ISI0high,\n",
    "                    sigmalow, sigmahigh, niter=5, sigma_init=0):\n",
    "    '''Performs fitting of sigma, I, K for a given subject file,\n",
    "    Inputs:\n",
    "    - subject_file: name of .mat behavior file,\n",
    "    - nsamples: number of I-K combinations to sample\n",
    "    - nsamples2: number of sigma values to sample\n",
    "    - ntrials: number of trials for averaging\n",
    "    - Klow, Khigh, Ilow, Ihigh, sigmalow, sigmahigh: specify the range of K, I and sigma\n",
    "    - print_every: to print a line every x combinations\n",
    "    - niter: how many times to alternate between IK sampling and sigma sampling\n",
    "    - sigma_init: initial value of sigma\n",
    "    Returns the fitted combination (sigma, I, K)'''\n",
    "    sigmaval = sigma_init\n",
    "    for i in range(niter):\n",
    "        print('Iteration #', i)\n",
    "        beta, alpha, ISI0 = do_beta_alpha_ISI0_fitting(subject_file, nsamples=nsamples, \n",
    "                                                       ntrials=ntrials,\n",
    "                                               betalow=betalow, betahigh=betahigh, \n",
    "                                               alphalow=alphalow, alphahigh=alphahigh, \n",
    "                                               ISI0low=ISI0low, ISI0high=ISI0high,\n",
    "                                              sigma=sigmaval)\n",
    "\n",
    "        sigmaval = do_sigma_fitting(subject_file, nsamples=nsamples2, ntrials=ntrials,\n",
    "                        sigmalow=sigmalow, sigmahigh=sigmahigh, \n",
    "                                 beta=beta, alpha=alpha, ISI0=ISI0)\n",
    "        \n",
    "    # One last round of IK fitting\n",
    "    beta, alpha, ISI0 = do_beta_alpha_ISI0_fitting(subject_file, nsamples=nsamples, \n",
    "                                                       ntrials=ntrials,\n",
    "                                               betalow=betalow, betahigh=betahigh, \n",
    "                                               alphalow=alphalow, alphahigh=alphahigh, \n",
    "                                               ISI0low=ISI0low, ISI0high=ISI0high,\n",
    "                                              sigma=sigmaval)\n",
    "    return beta, alpha, ISI0, sigma"
   ]
  },
  {
   "cell_type": "code",
   "execution_count": 159,
   "metadata": {},
   "outputs": [
    {
     "name": "stdout",
     "output_type": "stream",
     "text": [
      "C:/Users/Le/Dropbox (MIT)/Jazayeri/CircuitModel/Data\\SWE_EKF_ObsAct0_20171105.mat\n"
     ]
    }
   ],
   "source": [
    "dirlst = glob.glob('C:/Users/Le/Dropbox (MIT)/Jazayeri/CircuitModel/Data/*_EKF_*.mat')\n",
    "np.random.seed(123)\n",
    "#dirlst = glob.glob('/Users/swe/Dropbox (MIT)/CircuitModel/Data/*_EKF_*.mat')\n",
    "filename = dirlst[5]\n",
    "print(filename)\n",
    "beta, alpha, ISI0 = do_beta_alpha_ISI0_fitting(filename, nsamples=100, ntrials=100,\n",
    "                                               betalow=0.0, betahigh=0.9, \n",
    "                                               alphalow=0, alphahigh=0.01, \n",
    "                                               ISI0low=0.500, ISI0high=1.100,\n",
    "                                              sigma=0)\n",
    "\n",
    "sigma = do_sigma_fitting(filename, nsamples=100, ntrials=100,\n",
    "                        sigmalow=0, sigmahigh=0.1, beta=beta, alpha=alpha, ISI0=ISI0)\n"
   ]
  },
  {
   "cell_type": "code",
   "execution_count": 169,
   "metadata": {},
   "outputs": [
    {
     "name": "stdout",
     "output_type": "stream",
     "text": [
      "Iteration # 0\n",
      "Iteration # 1\n",
      "Iteration # 2\n",
      "Iteration # 3\n",
      "Iteration # 4\n"
     ]
    }
   ],
   "source": [
    "beta, alpha, ISI0, sigma = subject_fitting(filename, nsamples=100, nsamples2=100, ntrials=100,\n",
    "                    betalow=0, betahigh=0.9, alphalow=0, alphahigh=0.01, ISI0low=0.5, ISI0high=1.1,\n",
    "                    sigmalow=0, sigmahigh=0.1, sigma_init=0, niter=5)"
   ]
  },
  {
   "cell_type": "code",
   "execution_count": 182,
   "metadata": {},
   "outputs": [
    {
     "name": "stdout",
     "output_type": "stream",
     "text": [
      " ********* Doing subject file C:/Users/Le/Dropbox (MIT)/Jazayeri/CircuitModel/Data\\CV_EKF_ObsAct0_20171105.mat ************\n",
      "Iteration # 0\n",
      "Iteration # 1\n",
      "Iteration # 2\n",
      "Iteration # 3\n",
      "Iteration # 4\n",
      " ********* Doing subject file C:/Users/Le/Dropbox (MIT)/Jazayeri/CircuitModel/Data\\GB_EKF_ObsAct0_20171105.mat ************\n",
      "Iteration # 0\n",
      "Iteration # 1\n",
      "Iteration # 2\n",
      "Iteration # 3\n",
      "Iteration # 4\n",
      " ********* Doing subject file C:/Users/Le/Dropbox (MIT)/Jazayeri/CircuitModel/Data\\LB_EKF_ObsAct0_20171105.mat ************\n",
      "Iteration # 0\n",
      "Iteration # 1\n",
      "Iteration # 2\n",
      "Iteration # 3\n",
      "Iteration # 4\n",
      " ********* Doing subject file C:/Users/Le/Dropbox (MIT)/Jazayeri/CircuitModel/Data\\PG_EKF_ObsAct0_20171105.mat ************\n",
      "Iteration # 0\n",
      "Iteration # 1\n",
      "Iteration # 2\n",
      "Iteration # 3\n",
      "Iteration # 4\n",
      " ********* Doing subject file C:/Users/Le/Dropbox (MIT)/Jazayeri/CircuitModel/Data\\SM_EKF_ObsAct0_20171105.mat ************\n",
      "Iteration # 0\n",
      "Iteration # 1\n",
      "Iteration # 2\n",
      "Iteration # 3\n",
      "Iteration # 4\n",
      " ********* Doing subject file C:/Users/Le/Dropbox (MIT)/Jazayeri/CircuitModel/Data\\SWE_EKF_ObsAct0_20171105.mat ************\n",
      "Iteration # 0\n",
      "Iteration # 1\n",
      "Iteration # 2\n",
      "Iteration # 3\n",
      "Iteration # 4\n",
      " ********* Doing subject file C:/Users/Le/Dropbox (MIT)/Jazayeri/CircuitModel/Data\\TA_EKF_ObsAct0_20171105.mat ************\n",
      "Iteration # 0\n",
      "Iteration # 1\n",
      "Iteration # 2\n",
      "Iteration # 3\n",
      "Iteration # 4\n",
      " ********* Doing subject file C:/Users/Le/Dropbox (MIT)/Jazayeri/CircuitModel/Data\\VD_EKF_ObsAct0_20171105.mat ************\n",
      "Iteration # 0\n",
      "Iteration # 1\n",
      "Iteration # 2\n",
      "Iteration # 3\n",
      "Iteration # 4\n",
      " ********* Doing subject file C:/Users/Le/Dropbox (MIT)/Jazayeri/CircuitModel/Data\\VR_EKF_ObsAct0_20171105.mat ************\n",
      "Iteration # 0\n",
      "Iteration # 1\n",
      "Iteration # 2\n",
      "Iteration # 3\n",
      "Iteration # 4\n"
     ]
    }
   ],
   "source": [
    "combi_collection = []\n",
    "for subject_file in dirlst:\n",
    "    print(' ********* Doing subject file %s ************' % subject_file)\n",
    "    combi = subject_fitting(subject_file, nsamples=100, nsamples2=100, ntrials=100,\n",
    "                betalow=0, betahigh=0.9, alphalow=0, alphahigh=0.01, ISI0low=0.5, ISI0high=1.1,\n",
    "                sigmalow=0, sigmahigh=0.1, sigma_init=0, niter=5)\n",
    "    combi_collection.append(combi)\n",
    "    \n",
    "combi_arr = np.array(combi_collection)\n",
    "betas = combi_arr[:,0]\n",
    "alphas = combi_arr[:,1]\n",
    "ISI0s = combi_arr[:,2]\n",
    "sigmas = combi_arr[:,3]"
   ]
  },
  {
   "cell_type": "code",
   "execution_count": 183,
   "metadata": {},
   "outputs": [],
   "source": [
    "scipy.io.savemat('discreteAlgorithm_123Go.mat', \n",
    "                 {'combi_arr': combi_arr, 'filenames': dirlst})"
   ]
  },
  {
   "cell_type": "code",
   "execution_count": 199,
   "metadata": {},
   "outputs": [
    {
     "name": "stdout",
     "output_type": "stream",
     "text": [
      "C:/Users/Le/Dropbox (MIT)/Jazayeri/CircuitModel/Data\\GB_EKF_ObsAct0_20171105.mat\n",
      "0.008212700354828217 0.1445568600068506 0.788334885635581 0.06363636363636363\n"
     ]
    },
    {
     "data": {
      "text/plain": [
       "Text(0.5, 1.0, 'Subject')"
      ]
     },
     "execution_count": 199,
     "metadata": {},
     "output_type": "execute_result"
    },
    {
     "data": {
      "image/png": "[encoded data removed]",
      "text/plain": [
       "<Figure size 432x288 with 2 Axes>"
      ]
     },
     "metadata": {},
     "output_type": "display_data"
    }
   ],
   "source": [
    "id = 1\n",
    "filename = dirlst[id]\n",
    "print(filename)\n",
    "swedata = scipy.io.loadmat(filename)\n",
    "mtp_in = swedata['mtp_in']\n",
    "stdtp_in = swedata['stdtp_in']\n",
    "\n",
    "beta = combi_arr[id, 0]\n",
    "alpha = combi_arr[id, 1]\n",
    "ISI0 = combi_arr[id, 2]\n",
    "sigma = combi_arr[id , 3]\n",
    "\n",
    "print(alpha,beta,ISI0, sigma)\n",
    "prod_time_lst, prod_std_lst = simulate_123Go_noise(nstages=2,ntrials=100,\n",
    "                                      beta=beta,alpha=alpha,ISI0=ISI0, sigma=sigma)\n",
    "prod_time_lst2, prod_std_lst2 = simulate_123Go_noise(nstages=3,ntrials=100,\n",
    "                                      beta=beta,alpha=alpha,ISI0=ISI0, sigma=sigma)\n",
    "\n",
    "\n",
    "plt.subplot(121)\n",
    "plt.errorbar(ISIs, 1000*prod_time_lst, 1000 * prod_std_lst)\n",
    "plt.errorbar(ISIs, 1000*prod_time_lst2, 1000 * prod_std_lst2)\n",
    "#plt.ylim([600, 1000])\n",
    "plt.title('Model')\n",
    "\n",
    "plt.subplot(122)\n",
    "plt.errorbar(ISIs, mtp_in[:,0], stdtp_in[:,0])\n",
    "plt.errorbar(ISIs, mtp_in[:,1], stdtp_in[:,1])\n",
    "plt.ylim([600, 1000])\n",
    "plt.title('Subject')"
   ]
  },
  {
   "cell_type": "code",
   "execution_count": 200,
   "metadata": {},
   "outputs": [
    {
     "name": "stdout",
     "output_type": "stream",
     "text": [
      "C:/Users/Le/Dropbox (MIT)/Jazayeri/CircuitModel/Data\\CV_EKF_ObsAct0_20171105.mat\n",
      "0.009568577894500893 0.34591158083478685 0.7987846467669821 0.06363636363636363\n",
      "C:/Users/Le/Dropbox (MIT)/Jazayeri/CircuitModel/Data\\GB_EKF_ObsAct0_20171105.mat\n",
      "0.008212700354828217 0.1445568600068506 0.788334885635581 0.06363636363636363\n",
      "C:/Users/Le/Dropbox (MIT)/Jazayeri/CircuitModel/Data\\LB_EKF_ObsAct0_20171105.mat\n",
      "0.008925068417611908 0.8841897538320337 0.7610654220259444 0.06363636363636363\n",
      "C:/Users/Le/Dropbox (MIT)/Jazayeri/CircuitModel/Data\\PG_EKF_ObsAct0_20171105.mat\n",
      "0.004316811636535324 0.3347543027423416 0.7618717305554903 0.06363636363636363\n",
      "C:/Users/Le/Dropbox (MIT)/Jazayeri/CircuitModel/Data\\SM_EKF_ObsAct0_20171105.mat\n",
      "0.0044997957551647675 0.809769447261367 0.752522330495637 0.06363636363636363\n",
      "C:/Users/Le/Dropbox (MIT)/Jazayeri/CircuitModel/Data\\SWE_EKF_ObsAct0_20171105.mat\n",
      "0.006672255519488197 0.7331763650226637 0.7650101829688939 0.06363636363636363\n",
      "C:/Users/Le/Dropbox (MIT)/Jazayeri/CircuitModel/Data\\TA_EKF_ObsAct0_20171105.mat\n",
      "0.0017592020582504308 0.25931718573945195 0.8240766794006114 0.06363636363636363\n",
      "C:/Users/Le/Dropbox (MIT)/Jazayeri/CircuitModel/Data\\VD_EKF_ObsAct0_20171105.mat\n",
      "0.001973939050330339 0.13374088748128912 0.7677844731825033 0.06363636363636363\n",
      "C:/Users/Le/Dropbox (MIT)/Jazayeri/CircuitModel/Data\\VR_EKF_ObsAct0_20171105.mat\n",
      "0.00691339403213477 0.20924328325129002 0.7173375832773988 0.06363636363636363\n"
     ]
    }
   ],
   "source": [
    "# Find subject bias and variance for model\n",
    "mtp_in_all = []\n",
    "stdtp_in_all = []\n",
    "prod_time_lst_all = []\n",
    "prod_std_lst_all = []\n",
    "prod_time_lst2_all = []\n",
    "prod_std_lst2_all = []\n",
    "\n",
    "for id in range(len(dirlst)):\n",
    "    filename = dirlst[id]\n",
    "    print(filename)\n",
    "    swedata = scipy.io.loadmat(filename)\n",
    "    mtp_in = swedata['mtp_in']\n",
    "    stdtp_in = swedata['stdtp_in']\n",
    "\n",
    "    beta = combi_arr[id, 0]\n",
    "    alpha = combi_arr[id, 1]\n",
    "    ISI0 = combi_arr[id, 2]\n",
    "    sigma = combi_arr[id , 3]\n",
    "\n",
    "    print(alpha,beta,ISI0, sigma)\n",
    "    prod_time_lst, prod_std_lst = simulate_123Go_noise(nstages=2,ntrials=100,\n",
    "                                          beta=beta,alpha=alpha,ISI0=ISI0, sigma=sigma)\n",
    "    prod_time_lst2, prod_std_lst2 = simulate_123Go_noise(nstages=3,ntrials=100,\n",
    "                                          beta=beta,alpha=alpha,ISI0=ISI0, sigma=sigma)\n",
    "\n",
    "    # Aggregate the lists\n",
    "    mtp_in_all.append(mtp_in)\n",
    "    stdtp_in_all.append(stdtp_in)\n",
    "    prod_time_lst_all.append(prod_time_lst)\n",
    "    prod_std_lst_all.append(prod_std_lst)\n",
    "    prod_time_lst2_all.append(prod_time_lst2)\n",
    "    prod_std_lst2_all.append(prod_std_lst2)\n",
    "    "
   ]
  },
  {
   "cell_type": "code",
   "execution_count": 211,
   "metadata": {},
   "outputs": [],
   "source": [
    "scipy.io.savemat('subject_biasvar_discreteAlgo.mat', \n",
    "                 {'combi_arr': combi_arr, 'filenames': dirlst,\n",
    "                'mtp_in_all': mtp_in_all, 'stdtp_in_all': stdtp_in_all,\n",
    "                'prod_time_lst_all': prod_time_lst_all, 'prod_std_lst_all': prod_std_lst_all,\n",
    "                'prod_time_lst2_all': prod_time_lst2_all, 'prod_std_lst2_all': prod_std_lst2_all})"
   ]
  }
 ],
 "metadata": {
  "kernelspec": {
   "display_name": "Python 3",
   "language": "python",
   "name": "python3"
  },
  "language_info": {
   "codemirror_mode": {
    "name": "ipython",
    "version": 3
   },
   "file_extension": ".py",
   "mimetype": "text/x-python",
   "name": "python",
   "nbconvert_exporter": "python",
   "pygments_lexer": "ipython3",
   "version": "3.6.3"
  }
 },
 "nbformat": 4,
 "nbformat_minor": 4
}
