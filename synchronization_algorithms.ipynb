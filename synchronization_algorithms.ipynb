{
 "cells": [
  {
   "cell_type": "code",
   "execution_count": null,
   "metadata": {
    "collapsed": true
   },
   "outputs": [],
   "source": [
    "import numpy as np\n",
    "import numpy.matlib\n",
    "import matplotlib.pyplot as plt\n",
    "\n",
    "%matplotlib inline"
   ]
  },
  {
   "cell_type": "code",
   "execution_count": null,
   "metadata": {
    "scrolled": false
   },
   "outputs": [],
   "source": [
    "# Ramping with I\n",
    "ISIs = [0.4] * 4\n",
    "ISI_pts = np.cumsum(ISIs)\n",
    "\n",
    "# Constants\n",
    "I0 = 1.5\n",
    "beta = 3.0\n",
    "alpha = 1.0\n",
    "\n",
    "# Initialize\n",
    "IS = I0\n",
    "IP = I0\n",
    "y0 = 0.7\n",
    "\n",
    "# For storage\n",
    "yS_lst = []\n",
    "IS_lst = []\n",
    "IP_lst = []\n",
    "productions = []\n",
    "\n",
    "# Synchronization\n",
    "for i in range(len(ISIs)):\n",
    "    print('iteration #', i, 'current ISI = ', ISI_pts[i])\n",
    "    # Period adjustment\n",
    "    yS = IS * ISIs[i]\n",
    "    IS_new = IS - beta * (yS - y0)\n",
    "    print('yS = ', yS, 'IS_new = ', IS_new)\n",
    "    yS_lst.append(yS)\n",
    "    IS_lst.append(IS_new)\n",
    "    \n",
    "    # Make production\n",
    "    tp = y0 / IP\n",
    "    productions.append(tp)\n",
    "    print('tp =  ', tp)\n",
    "    \n",
    "    # Phase adjustments\n",
    "    # Calculate y_out of SAM\n",
    "    if i == 0:\n",
    "        y_out = IS_new * (np.sum(productions)) # Assume ISI_pts[i-1] = 0 here\n",
    "    else:\n",
    "        if ISI_pts[i] < np.sum(productions):\n",
    "            y_out = IS_new * (np.sum(productions) - ISI_pts[i-1])\n",
    "        else:\n",
    "            y_out = IS_new * (np.sum(productions) - ISI_pts[i-1])\n",
    "    \n",
    "    print('y_out = ', y_out)\n",
    "    \n",
    "    IP = IS_new - alpha * (y0 - y_out)\n",
    "    IS = IS_new\n",
    "    IP_lst.append(IP)\n",
    "    print('IP = ', IP)\n",
    "    \n",
    "    \n",
    "    \n",
    "# Continuation\n",
    "n_continuation = 5\n",
    "yS_inf = 1.0\n",
    "for i in range(n_continuation):\n",
    "    # Period adjustment: IS unchanged since no stimulus is observed\n",
    "    yout = yS_inf\n",
    "    \n",
    "    # Make production\n",
    "    tp = y0 / IP\n",
    "    productions.append(tp)\n",
    "    print('tp =  ', tp)\n",
    "    \n",
    "    # Phase adjustments\n",
    "    IP = IS - alpha * (y0 - yout)\n",
    "    IP_lst.append(IP)\n",
    "    print('IP = ', IP)\n",
    "    \n",
    "\n",
    "    \n",
    "\n",
    "\n",
    "\n",
    "\n",
    "\n",
    "\n"
   ]
  },
  {
   "cell_type": "code",
   "execution_count": null,
   "metadata": {},
   "outputs": [],
   "source": [
    "# Plot the result\n",
    "plt.plot(np.cumsum(productions), np.ones(len(productions)), '.')\n",
    "plt.plot(ISI_pts, np.ones(len(ISI_pts)) * 1.0, 'r.')"
   ]
  },
  {
   "cell_type": "markdown",
   "metadata": {},
   "source": [
    "## Discrete updating algorithm\n",
    "\n",
    "### Continuous time definitions\n",
    "$y_{\\textrm{ref}}$ : Reference level\n",
    "\n",
    "$y_{\\textrm{SAM}}$ : Output of SAM\n",
    "\n",
    "$y_{\\textrm{MPM}}$ : Output of of MPM\n",
    "\n",
    "$I_{\\textrm{SAM}}$ : Input to SAM\n",
    "\n",
    "$I_{\\textrm{MPM}}$ : Input to MPM\n",
    "\n",
    "\n",
    "### Translation into discrete time\n",
    "$i$ will index *time-points* and *intervals*\n",
    "\n",
    "$t_p^i$ : time of $i$th production\n",
    "\n",
    "$t_s^i$ : time of $i$th stimulus\n",
    "\n",
    "$\\textrm{ISI}^i$ = $t_s^{i+1} - t_s^i$\n",
    "\n",
    "$\\textrm{IPI}^i$ = $t_p^{i+1} - t_p^i$\n",
    "\n",
    "$y_{\\textrm{SAM}}^i=I_{\\textrm{SAM}}^i*\\textrm{ISI}^i$\n",
    "\n",
    "$I_{\\textrm{SAM}}^{i+1}=I_{\\textrm{SAM}}^i+\\beta(y_{\\textrm{ref}}-y_{\\textrm{SAM}}^i)$\n",
    "\n",
    "$I_{\\textrm{MPM}}^{i+1} = I_{\\textrm{SAM}}^{i+1} + \\alpha(y_{\\textrm{out}}^i-y_{\\textrm{MPM}}^i)$\n",
    "\n",
    "$\\textrm{IPI}^i=y_{\\textrm{ref}}/I_{\\textrm{MPM}}$\n",
    "\n",
    "$t_p^{i+1}=t_p^i+\\textrm{IPI}^i$\n",
    "\n",
    "By definition $y_{\\textrm{MPM}}^i=y_{\\textrm{ref}}$ (output of $y_{\\textrm{MPM}}$ at ith production)\n",
    "\n",
    "The value of $y_{\\textrm{out}}^i$ represents the output of the SAM at the time of the $i$th production. During synchronization that will be:\n",
    "\n",
    "if $t_s^{i}<t_p^i$\n",
    "\n",
    "$y_{\\textrm{out}}^i = I_{\\textrm{SAM}}^i*(t_p^{i}-t_s^{i})$\n",
    "\n",
    "else\n",
    "\n",
    "$y_{\\textrm{out}}^i = I_{\\textrm{SAM}}^i*(t_p^i-t_s^{i-1})$\n",
    "\n",
    "\n",
    "During continuation:\n",
    "\n",
    "$y_{\\textrm{out}}^i = y_{\\textrm{SAM}}^\\infty$\n",
    "\n",
    "with $y_{\\textrm{SAM}}^\\infty$ representing the terminal output of the SAM module."
   ]
  },
  {
   "cell_type": "code",
   "execution_count": null,
   "metadata": {
    "collapsed": true
   },
   "outputs": [],
   "source": [
    "# Definitions\n",
    "def I_s_update(I_s_in,beta,y_ref,y_s):\n",
    "    I_s_out = I_s_in + beta*(y_ref - y_s)\n",
    "    \n",
    "    return I_s_out\n",
    "\n",
    "def I_p_update(I_s,alpha,y_p,y_out):\n",
    "    I_p_out = I_s + alpha*(y_out-y_p)\n",
    "    \n",
    "    return I_p_out\n",
    "\n",
    "def discreteAlgorithm(ISI, beta=0.5, alpha=0.1, y_ref=1, I_s_init=0.8, y_s_infty=1.5):\n",
    "\n",
    "    t_s = np.zeros(len(ISI)+1)\n",
    "    t_s[1:len(ISI)+1] = np.cumsum(ISI)\n",
    "    IPI = np.zeros((len(t_s)))\n",
    "    t_p = np.zeros((len(t_s)))\n",
    "    I_s = np.zeros((len(t_s)))\n",
    "    I_p = np.zeros((len(t_s)))\n",
    "    y_s = np.zeros((len(t_s)))\n",
    "    I_p[0] = I_s_init\n",
    "    I_s[0] = I_s_init\n",
    "\n",
    "    for i in range(len(ISI)):\n",
    "\n",
    "        IPI[i] = y_ref/I_p[i]\n",
    "        if i > 0:\n",
    "            t_p[i+1] = t_p[i] + IPI[i]\n",
    "        else:\n",
    "            t_p[i+1] = IPI[i]\n",
    "        \n",
    "        if np.isnan(ISI[i]):\n",
    "            y_s[i] = y_s_infty\n",
    "            I_s[i+1] = I_s[i]\n",
    "        else:\n",
    "            y_s[i] = I_s[i]*ISI[i]\n",
    "            I_s[i+1] = I_s_update(I_s[i],beta,y_ref,y_s[i])\n",
    "\n",
    "        \n",
    "        if np.isnan(ISI[i]):\n",
    "            y_out = y_s_infty\n",
    "        else:\n",
    "            if t_s[i] < t_p[i]:\n",
    "                y_out = I_s[i]*(t_p[i]-t_s[i])\n",
    "            else:\n",
    "                if i == 0:\n",
    "                    y_out = y_ref\n",
    "                else:\n",
    "                    y_out = I_s[i]*(t_p[i]-t_s[i-1])\n",
    "                #print(i,y_out)\n",
    "\n",
    "\n",
    "        I_p[i+1] = I_p_update(I_s[i+1],alpha,y_ref,y_out)\n",
    "        #print(t_s[i],t_p[i],IPI[i])\n",
    "    \n",
    "    return t_s, t_p, IPI, I_s, I_p, y_s\n",
    "\n",
    "def discreteAlgorithm_modified(ISI, beta=0.5, alpha=0.1, y_ref=1, I_s_init=0.8):\n",
    "\n",
    "    t_s = np.zeros(len(ISI)+1)\n",
    "    t_s[1:len(ISI)+1] = np.cumsum(ISI)\n",
    "    IPI = np.zeros((len(t_s)))\n",
    "    t_p = np.zeros((len(t_s)))\n",
    "    I_s = np.zeros((len(t_s)))\n",
    "    I_p = np.zeros((len(t_s)))\n",
    "    y_s = np.zeros((len(t_s)))\n",
    "    I_p[0] = I_s_init\n",
    "    I_s[0] = I_s_init\n",
    "\n",
    "    for i in range(len(ISI)):\n",
    "\n",
    "        IPI[i] = y_ref/I_p[i]\n",
    "        if i > 0:\n",
    "            t_p[i+1] = t_p[i] + IPI[i]\n",
    "        else:\n",
    "            t_p[i+1] = IPI[i]\n",
    "\n",
    "        y_s[i] = I_s[i]*ISI[i]\n",
    "        #print('i = ', i,'y_s = ', y_s[i], 'I_s = ', I_s[i])\n",
    "\n",
    "        I_s[i+1] = I_s_update(I_s[i],beta,y_ref,y_s[i])\n",
    "\n",
    "        if t_s[i] < t_p[i]:\n",
    "            y_out = I_s[i]*(t_p[i]-t_s[i-1])\n",
    "        else:\n",
    "            if i == 0:\n",
    "                y_out = y_ref\n",
    "            else:\n",
    "                y_out = I_s[i]*(t_p[i]-t_s[i-1])\n",
    "            #print(i,y_out)\n",
    "\n",
    "\n",
    "        #print('yout = ', y_out)\n",
    "        I_p[i+1] = I_p_update(I_s[i+1],alpha,y_ref,y_out)\n",
    "        #print(t_s[i],t_p[i],IPI[i])\n",
    "    \n",
    "    return t_s, t_p, IPI, I_s, I_p, y_s"
   ]
  },
  {
   "cell_type": "markdown",
   "metadata": {},
   "source": [
    "## Synchronization to a constant ISI"
   ]
  },
  {
   "cell_type": "markdown",
   "metadata": {},
   "source": [
    "### Algorithm with $t_p[i]-t_s[i]$ and $t_p[i]-t_s[i-1]$"
   ]
  },
  {
   "cell_type": "code",
   "execution_count": null,
   "metadata": {
    "collapsed": true
   },
   "outputs": [],
   "source": [
    "# Simple synchronization\n",
    "ISI_short = [0.5] * 10\n",
    "ISI_long = [0.7] * 10\n",
    "\n",
    "t_s1, t_p1, IPI1, _, _, _ = discreteAlgorithm(ISI_short, beta=2.0, alpha=0.1, y_ref=1, I_s_init=1/0.6)\n",
    "t_s2, t_p2, IPI2, _, _, _ = discreteAlgorithm(ISI_long, beta=2.0, alpha=0.1, y_ref=1, I_s_init=1/0.6)\n",
    "\n"
   ]
  },
  {
   "cell_type": "code",
   "execution_count": null,
   "metadata": {},
   "outputs": [],
   "source": [
    "plt.figure(figsize=(20,10))\n",
    "plt.subplot(121)\n",
    "plt.plot(t_s1, np.ones(len(t_s1)), '.')\n",
    "plt.plot(t_p1, np.ones(len(t_s1)),'r.')\n",
    "plt.title('ISI = 0.5')\n",
    "\n",
    "plt.subplot(122)\n",
    "plt.plot(t_s2, np.ones(len(t_s2)), '.')\n",
    "plt.plot(t_p2, np.ones(len(t_s2)),'r.')\n",
    "plt.title('ISI = 0.7')\n",
    "plt.legend(['Stimulus', 'Production'])"
   ]
  },
  {
   "cell_type": "code",
   "execution_count": null,
   "metadata": {},
   "outputs": [],
   "source": [
    "plt.plot(t_p1-t_s1)\n",
    "plt.plot(t_p2 - t_s2)\n",
    "plt.legend(['ISI = 0.5', 'ISI = 0.7'])"
   ]
  },
  {
   "cell_type": "markdown",
   "metadata": {},
   "source": [
    "### Algorithm with $t_p[i]-t_s[i-1]$ only"
   ]
  },
  {
   "cell_type": "code",
   "execution_count": null,
   "metadata": {
    "collapsed": true
   },
   "outputs": [],
   "source": [
    "# Simple synchronization\n",
    "ISI_short = [0.5] * 10\n",
    "ISI_long = [0.7] * 10\n",
    "\n",
    "t_s1, t_p1, IPI1, _, _, _ = discreteAlgorithm_modified(ISI_short, beta=2.0, alpha=0.1, y_ref=1, I_s_init=1/0.6)\n",
    "t_s2, t_p2, IPI2, _, _, _ = discreteAlgorithm_modified(ISI_long, beta=2.0, alpha=0.1, y_ref=1, I_s_init=1/0.6)"
   ]
  },
  {
   "cell_type": "code",
   "execution_count": null,
   "metadata": {},
   "outputs": [],
   "source": [
    "plt.figure(figsize=(20,10))\n",
    "plt.subplot(121)\n",
    "plt.plot(t_s1, np.ones(len(t_s1)), '.')\n",
    "plt.plot(t_p1, np.ones(len(t_s1)),'r.')\n",
    "plt.title('ISI = 0.5')\n",
    "\n",
    "plt.subplot(122)\n",
    "plt.plot(t_s2, np.ones(len(t_s2)), '.')\n",
    "plt.plot(t_p2, np.ones(len(t_s2)),'r.')\n",
    "plt.title('ISI = 0.7')\n",
    "plt.legend(['Stimulus', 'Production'])"
   ]
  },
  {
   "cell_type": "code",
   "execution_count": null,
   "metadata": {},
   "outputs": [],
   "source": [
    "plt.plot(t_p1-t_s1)\n",
    "plt.plot(t_p2 - t_s2)\n",
    "plt.legend(['ISI = 0.5', 'ISI = 0.7'])"
   ]
  },
  {
   "cell_type": "markdown",
   "metadata": {},
   "source": [
    "## Discrete updating algorithm (Including Nhat's revision)\n",
    "\n",
    "### Continuous time definitions\n",
    "$y_{\\textrm{ref}}$ : Reference level\n",
    "\n",
    "$y_{\\textrm{SAM}}$ : Output of SAM\n",
    "\n",
    "$y_{\\textrm{MPM}}$ : Output of of MPM\n",
    "\n",
    "$I_{\\textrm{SAM}}$ : Input to SAM\n",
    "\n",
    "$I_{\\textrm{MPM}}$ : Input to MPM\n",
    "\n",
    "\n",
    "### Translation into discrete time\n",
    "$i$ will index *time-points* and *intervals*\n",
    "\n",
    "$t_p^i$ : time of $i$th production\n",
    "\n",
    "$t_s^i$ : time of $i$th stimulus\n",
    "\n",
    "$\\textrm{ISI}^i$ = $t_s^{i+1} - t_s^i$\n",
    "\n",
    "$\\textrm{IPI}^i$ = $t_p^{i+1} - t_p^i$\n",
    "\n",
    "$y_{\\textrm{SAM}}^i=I_{\\textrm{SAM}}^i*\\textrm{ISI}^i$\n",
    "\n",
    "$I_{\\textrm{SAM}}^{i+1}=I_{\\textrm{SAM}}^i+\\beta(y_{\\textrm{ref}}-y_{\\textrm{SAM}}^i)$\n",
    "\n",
    "$I_{\\textrm{MPM}}^{i+1} = I_{\\textrm{SAM}}^{i+1} + \\alpha(y_{\\textrm{out}}^i-y_{\\textrm{MPM}}^i)$\n",
    "\n",
    "$\\textrm{IPI}^i=y_{\\textrm{ref}}/I_{\\textrm{MPM}}$\n",
    "\n",
    "$t_p^{i+1}=t_p^i+\\textrm{IPI}^i$\n",
    "\n",
    "By definition $y_{\\textrm{MPM}}^i=y_{\\textrm{ref}}$ (output of $y_{\\textrm{MPM}}$ at ith production)\n",
    "\n",
    "The value of $y_{\\textrm{out}}^i$ represents the output of the SAM at the time of the $i$th production. During synchronization that will be:\n",
    "\n",
    "$y_{\\textrm{out}}^i = I_{\\textrm{SAM}}^i*(t_p^i-t_s^{i-1})$\n",
    "\n",
    "During continuation:\n",
    "\n",
    "$y_{\\textrm{out}}^i = y_{\\textrm{SAM}}^\\infty$\n",
    "\n",
    "with $y_{\\textrm{SAM}}^\\infty$ representing the terminal output of the SAM module."
   ]
  },
  {
   "cell_type": "code",
   "execution_count": null,
   "metadata": {
    "collapsed": true
   },
   "outputs": [],
   "source": [
    "# Definitions\n",
    "def I_s_update(I_s_in,beta,y_ref,y_s):\n",
    "    I_s_out = I_s_in + beta*(y_ref - y_s)\n",
    "    \n",
    "    return I_s_out\n",
    "\n",
    "def I_p_update(I_s,alpha,y_p,y_out):\n",
    "    I_p_out = I_s + alpha*(y_out-y_p)\n",
    "    \n",
    "    return I_p_out\n",
    "\n",
    "def discreteAlgorithm(ISI, beta=0.5, alpha=0.1, y_ref=1, I_s_init=0.8, y_s_infty=1.5):\n",
    "\n",
    "    t_s = np.zeros(len(ISI)+1)\n",
    "    t_s[1:len(ISI)+1] = np.cumsum(ISI)\n",
    "    IPI = np.zeros((len(t_s)))\n",
    "    t_p = np.zeros((len(t_s)))\n",
    "    I_s = np.zeros((len(t_s)))\n",
    "    I_p = np.zeros((len(t_s)))\n",
    "    y_s = np.zeros((len(t_s)))\n",
    "    I_p[0] = I_s_init\n",
    "    I_s[0] = I_s_init\n",
    "\n",
    "    for i in range(len(ISI)):\n",
    "\n",
    "        IPI[i] = y_ref/I_p[i]\n",
    "        if i > 0:\n",
    "            t_p[i+1] = t_p[i] + IPI[i]\n",
    "        else:\n",
    "            t_p[i+1] = IPI[i]\n",
    "        \n",
    "        if np.isnan(ISI[i]):\n",
    "            y_s[i] = y_s_infty\n",
    "            I_s[i+1] = I_s[i]\n",
    "        else:\n",
    "            y_s[i] = I_s[i]*ISI[i]\n",
    "            I_s[i+1] = I_s_update(I_s[i],beta,y_ref,y_s[i])\n",
    "\n",
    "        \n",
    "        if np.isnan(ISI[i]):\n",
    "            y_out = y_s_infty\n",
    "        else:\n",
    "            if i == 0:\n",
    "                y_out = y_ref\n",
    "            else:\n",
    "                y_out = I_s[i]*(t_p[i]-t_s[i-1])\n",
    "            #print(i,y_out)\n",
    "\n",
    "        # Standard code for algorithm, implementing integration of differences over time\n",
    "        I_p[i+1] = I_p_update(I_s[i+1],alpha,y_ref,y_out)\n",
    "        \n",
    "        # Code that does not integrate differences over time\n",
    "        #if np.isnan(t_s[i]):\n",
    "        #    I_p[i+1] = I_p_update(I_s[i+1],alpha,t_p[i],t_p[i]+0.4)\n",
    "        #else:       \n",
    "        #    I_p[i+1] = I_p_update(I_s[i+1],alpha,t_p[i],t_s[i])\n",
    "        \n",
    "        #print(t_s[i],t_p[i],IPI[i])\n",
    "    \n",
    "    return t_s, t_p, IPI, I_s, I_p, y_s"
   ]
  },
  {
   "cell_type": "markdown",
   "metadata": {},
   "source": [
    "## Synchronization to a constant ISI"
   ]
  },
  {
   "cell_type": "code",
   "execution_count": null,
   "metadata": {
    "collapsed": true
   },
   "outputs": [],
   "source": [
    "# Simple synchronization\n",
    "ISI = [0.4] * 500\n",
    "t_s, t_p, IPI, I_s, I_p, y_s = discreteAlgorithm(ISI, beta=0.2, alpha=0.1, y_ref=1, I_s_init=1/0.35)\n",
    "\n",
    "#for i in range(len(t_s)):\n",
    "#    print(t_s[i],t_p[i],IPI[i])"
   ]
  },
  {
   "cell_type": "code",
   "execution_count": null,
   "metadata": {},
   "outputs": [],
   "source": [
    "plt.plot(ISI)\n",
    "plt.plot(IPI)"
   ]
  },
  {
   "cell_type": "code",
   "execution_count": null,
   "metadata": {},
   "outputs": [],
   "source": [
    "plt.plot(t_p-t_s)"
   ]
  },
  {
   "cell_type": "markdown",
   "metadata": {},
   "source": [
    "## Step Change"
   ]
  },
  {
   "cell_type": "code",
   "execution_count": null,
   "metadata": {
    "collapsed": true
   },
   "outputs": [],
   "source": [
    "# Step change\n",
    "ISI = np.concatenate((0.80*np.ones(100),1.00*np.ones(30)))\n",
    "del t_p\n",
    "del t_s\n",
    "del IPI\n",
    "del I_s\n",
    "del I_p\n",
    "del y_s\n",
    "t_s, t_p, IPI, I_s, I_p, y_s = discreteAlgorithm(ISI, beta=0.5, alpha=0.1, y_ref=1, I_s_init=1/0.8)"
   ]
  },
  {
   "cell_type": "code",
   "execution_count": null,
   "metadata": {},
   "outputs": [],
   "source": [
    "plt.plot(ISI)\n",
    "plt.plot(IPI)"
   ]
  },
  {
   "cell_type": "code",
   "execution_count": null,
   "metadata": {},
   "outputs": [],
   "source": [
    "plt.plot(t_p-t_s)"
   ]
  },
  {
   "cell_type": "code",
   "execution_count": null,
   "metadata": {
    "collapsed": true
   },
   "outputs": [],
   "source": [
    "ISI = np.concatenate((0.80*np.ones(4),1.00*np.ones(9)))\n",
    "betas = [0.5,0.7,0.9]\n",
    "alpha = 0.3\n",
    "TS = np.zeros((14,len(betas)))\n",
    "TP = np.zeros((14,len(betas)))\n",
    "IPIs = np.zeros((14,len(betas)))\n",
    "for betai in range(len(betas)):\n",
    "    t_s, t_p, IPI, I_s, I_p, y_s = discreteAlgorithm(ISI, beta=betas[betai], alpha=alpha, y_ref=1, I_s_init=1/0.8)\n",
    "    TS[:,betai] = t_s\n",
    "    TP[:,betai] = t_p\n",
    "    IPIs[:,betai] = IPI\n",
    "    "
   ]
  },
  {
   "cell_type": "code",
   "execution_count": null,
   "metadata": {},
   "outputs": [],
   "source": [
    "print(ISI,IPIs[0:-1,0])\n",
    "plt.plot(ISI)\n",
    "plt.plot(IPIs[0:-1,:])"
   ]
  },
  {
   "cell_type": "code",
   "execution_count": null,
   "metadata": {},
   "outputs": [],
   "source": [
    "plt.plot(TP-TS)"
   ]
  },
  {
   "cell_type": "markdown",
   "metadata": {},
   "source": [
    "## Phase shift"
   ]
  },
  {
   "cell_type": "code",
   "execution_count": null,
   "metadata": {
    "collapsed": true
   },
   "outputs": [],
   "source": [
    "# Phase shift\n",
    "ISI = np.concatenate((0.80*np.ones(50),0.9*np.ones(1),0.80*np.ones(50)))\n",
    "del t_p\n",
    "del t_s\n",
    "del IPI\n",
    "del I_s\n",
    "del I_p\n",
    "del y_s\n",
    "t_s, t_p, IPI, I_s, I_p, y_s = discreteAlgorithm(ISI, beta=0.7, alpha=0.1, y_ref=1, I_s_init=1/0.8)"
   ]
  },
  {
   "cell_type": "code",
   "execution_count": null,
   "metadata": {},
   "outputs": [],
   "source": [
    "plt.plot(ISI)\n",
    "plt.plot(IPI)"
   ]
  },
  {
   "cell_type": "code",
   "execution_count": null,
   "metadata": {},
   "outputs": [],
   "source": [
    "plt.plot(t_p-t_s)"
   ]
  },
  {
   "cell_type": "code",
   "execution_count": null,
   "metadata": {
    "collapsed": true
   },
   "outputs": [],
   "source": [
    "ISI = np.concatenate((0.80*np.ones(4),0.9*np.ones(1),0.80*np.ones(8)))\n",
    "beta = 0.7\n",
    "alphas = [0.1,0.2,0.3]\n",
    "TS = np.zeros((14,len(betas)))\n",
    "TP = np.zeros((14,len(betas)))\n",
    "IPIs = np.zeros((14,len(betas)))\n",
    "for alphai in range(len(alphas)):\n",
    "    t_s, t_p, IPI, I_s, I_p, y_s = discreteAlgorithm(ISI, beta=beta, alpha=alphas[alphai], y_ref=1, I_s_init=1/0.8)\n",
    "    TS[:,alphai] = t_s\n",
    "    TP[:,alphai] = t_p\n",
    "    IPIs[:,alphai] = IPI"
   ]
  },
  {
   "cell_type": "code",
   "execution_count": null,
   "metadata": {},
   "outputs": [],
   "source": [
    "plt.plot(ISI)\n",
    "plt.plot(IPIs)"
   ]
  },
  {
   "cell_type": "code",
   "execution_count": null,
   "metadata": {},
   "outputs": [],
   "source": [
    "plt.plot(TP-TS)"
   ]
  },
  {
   "cell_type": "markdown",
   "metadata": {},
   "source": [
    "## Stimulus jitter"
   ]
  },
  {
   "cell_type": "code",
   "execution_count": null,
   "metadata": {
    "collapsed": true
   },
   "outputs": [],
   "source": [
    "# Stimulus jitter\n",
    "ISI = np.concatenate((0.80*np.ones(50),0.9*np.ones(1), 0.7*np.ones(1), 0.80*np.ones(49)))\n",
    "del t_p\n",
    "del t_s\n",
    "del IPI\n",
    "del I_s\n",
    "del I_p\n",
    "del y_s\n",
    "t_s, t_p, IPI, I_s, I_p, y_s = discreteAlgorithm(ISI, beta=0.7, alpha=0.1, y_ref=1, I_s_init=1/0.8)"
   ]
  },
  {
   "cell_type": "code",
   "execution_count": null,
   "metadata": {},
   "outputs": [],
   "source": [
    "plt.plot(ISI)\n",
    "plt.plot(IPI)"
   ]
  },
  {
   "cell_type": "code",
   "execution_count": null,
   "metadata": {},
   "outputs": [],
   "source": [
    "plt.plot(t_p-t_s)"
   ]
  },
  {
   "cell_type": "code",
   "execution_count": null,
   "metadata": {
    "collapsed": true
   },
   "outputs": [],
   "source": [
    "ISI = np.concatenate((0.80*np.ones(4),0.9*np.ones(1), 0.7*np.ones(1), 0.80*np.ones(7)))\n",
    "beta = 0.7\n",
    "alphas = [0.1,0.2,0.3]\n",
    "TS = np.zeros((14,len(betas)))\n",
    "TP = np.zeros((14,len(betas)))\n",
    "IPIs = np.zeros((14,len(betas)))\n",
    "for alphai in range(len(alphas)):\n",
    "    t_s, t_p, IPI, I_s, I_p, y_s = discreteAlgorithm(ISI, beta=beta, alpha=alphas[alphai], y_ref=1, I_s_init=1/0.8)\n",
    "    TS[:,alphai] = t_s\n",
    "    TP[:,alphai] = t_p\n",
    "    IPIs[:,alphai] = IPI"
   ]
  },
  {
   "cell_type": "code",
   "execution_count": null,
   "metadata": {},
   "outputs": [],
   "source": [
    "plt.plot(ISI)\n",
    "plt.plot(IPIs)"
   ]
  },
  {
   "cell_type": "code",
   "execution_count": null,
   "metadata": {},
   "outputs": [],
   "source": [
    "plt.plot(TP-TS)"
   ]
  },
  {
   "cell_type": "markdown",
   "metadata": {},
   "source": [
    "## 1-2-Go, 1-2-3-Go"
   ]
  },
  {
   "cell_type": "code",
   "execution_count": null,
   "metadata": {
    "collapsed": true
   },
   "outputs": [],
   "source": [
    "def simulate_123Go(nstages=3,beta=0.75,alpha=0.0,ISI0=0.8,y_ref=1,ISImin=0.600,ISImax=1.000,number=5):\n",
    "    # 1-2-Go, 1-2-3-Go\n",
    "    ISIs = np.linspace(ISImin,ISImax,num=number)\n",
    "    ISI_list = np.nan*np.ones((len(ISIs),nstages))\n",
    "    IPI_list = np.nan*np.ones((len(ISIs),nstages+1))\n",
    "    t_s_list = []\n",
    "    t_p_list = []\n",
    "    for i in range(len(ISIs)):\n",
    "        ISI_list[i,:] = ISIs[i]*np.ones(nstages)\n",
    "        ISI = ISI_list[i,:]\n",
    "        t_s, t_p, IPI, I_s, I_p, y_s = discreteAlgorithm(ISI, beta=beta, alpha=alpha, y_ref=y_ref, I_s_init=1/ISI0)\n",
    "\n",
    "        t_s_list.append(t_s)\n",
    "        t_p_list.append(t_p)\n",
    "        IPI_list[i,:] = IPI\n",
    "    \n",
    "    return IPI_list, ISIs\n",
    "\n",
    "IPI_list, ISIs = simulate_123Go()"
   ]
  },
  {
   "cell_type": "code",
   "execution_count": null,
   "metadata": {
    "collapsed": true
   },
   "outputs": [],
   "source": [
    "print(IPI_list.shape)\n",
    "tempISIs = np.matlib.repmat(ISIs,4,1)\n",
    "sqErrs = np.square(IPI_list - np.transpose(tempISIs))\n",
    "sqBIAS = sqErrs.sum(axis=0)/len(ISIs)\n",
    "print(sqBIAS)"
   ]
  },
  {
   "cell_type": "code",
   "execution_count": null,
   "metadata": {
    "collapsed": true
   },
   "outputs": [],
   "source": [
    "plt.subplot(121)\n",
    "plt.plot(sqBIAS[1:3])\n",
    "\n",
    "plt.subplot(122)\n",
    "plt.plot(np.transpose(tempISIs),IPI_list)"
   ]
  },
  {
   "cell_type": "markdown",
   "metadata": {},
   "source": [
    "## Synchronization/continuation"
   ]
  },
  {
   "cell_type": "code",
   "execution_count": null,
   "metadata": {
    "collapsed": true
   },
   "outputs": [],
   "source": [
    "# Synchronization/continuation\n",
    "ISIs = np.linspace(0.550,0.817,num=5)\n",
    "print(ISIs)\n",
    "ISI_list = np.nan*np.ones((len(ISIs),12))\n",
    "IPI_list = np.nan*np.ones((len(ISIs),13))\n",
    "t_s_list = []\n",
    "t_p_list = []\n",
    "for i in range(len(ISIs)):\n",
    "    ISI_list[i,:] = np.concatenate((ISIs[i]*np.ones(4),np.nan*np.ones(8)))\n",
    "    del t_p\n",
    "    del t_s\n",
    "    del IPI\n",
    "    del I_s\n",
    "    del I_p\n",
    "    del y_s\n",
    "    ISI = ISI_list[i,:]\n",
    "    t_s, t_p, IPI, I_s, I_p, y_s = discreteAlgorithm(ISI, beta=0.75, alpha=0.1, y_ref=1, I_s_init=1/0.6835, y_s_infty=1.5)\n",
    "    \n",
    "    t_s_list.append(t_s)\n",
    "    t_p_list.append(t_p)\n",
    "    IPI_list[i,:] = IPI"
   ]
  },
  {
   "cell_type": "code",
   "execution_count": null,
   "metadata": {
    "collapsed": true
   },
   "outputs": [],
   "source": [
    "plt.plot(ISI)\n",
    "plt.plot(IPI)"
   ]
  },
  {
   "cell_type": "code",
   "execution_count": null,
   "metadata": {
    "collapsed": true
   },
   "outputs": [],
   "source": [
    "plt.plot(t_p-t_s)"
   ]
  },
  {
   "cell_type": "code",
   "execution_count": null,
   "metadata": {
    "collapsed": true
   },
   "outputs": [],
   "source": [
    "tempISIs = np.matlib.repmat(ISIs,13,1)\n",
    "sqErrs = np.square(IPI_list - np.transpose(tempISIs))\n",
    "sqBIAS = sqErrs.sum(axis=0)/len(ISIs)\n",
    "print(sqBIAS)"
   ]
  },
  {
   "cell_type": "code",
   "execution_count": null,
   "metadata": {
    "collapsed": true
   },
   "outputs": [],
   "source": [
    "plt.subplot(121)\n",
    "plt.plot(sqBIAS[1:12])\n",
    "\n",
    "plt.subplot(122)\n",
    "print(tempISIs.shape)\n",
    "plt.plot(np.transpose(tempISIs[(0,4,10),:]),IPI_list[:,(0,4,10)])"
   ]
  },
  {
   "cell_type": "markdown",
   "metadata": {
    "collapsed": true
   },
   "source": [
    "### Fit to behavior"
   ]
  },
  {
   "cell_type": "markdown",
   "metadata": {},
   "source": [
    "#### Synchronization/continuation"
   ]
  },
  {
   "cell_type": "code",
   "execution_count": null,
   "metadata": {
    "collapsed": true
   },
   "outputs": [],
   "source": [
    "import scipy.io\n",
    "import glob\n",
    "\n",
    "def find_bias_arr(filename, tmax):\n",
    "    '''filename: SynCon_ITIs file name\n",
    "    tmax: max number of taps to consider\n",
    "    \n",
    "    Returns: the bias array, tmax x number of intervals in prior'''\n",
    "    data = scipy.io.loadmat(filename)\n",
    "    durs = data['durs'].flatten()\n",
    "    splits = data['allDur_splits']\n",
    "    IPI_mean = data['allDur_mean'][0]\n",
    "    \n",
    "    Bias = np.zeros((tmax, 5))\n",
    "\n",
    "    for i in range(len(IPI_mean)):\n",
    "        IPI_single = IPI_mean[i].flatten()[:tmax]\n",
    "        bias_single = IPI_single - durs[i]\n",
    "        Bias[:,i] = bias_single\n",
    "    \n",
    "    return Bias\n",
    "\n",
    "def plot_subject_ts_tp(filename):\n",
    "    bias_arr = find_bias_arr(filename, 20)\n",
    "    std_arr = find_std_arr(filename, 20)\n",
    "    data = scipy.io.loadmat(filename)\n",
    "    durs = data['durs'].flatten()\n",
    "\n",
    "    # Plot ts-tp dependence (subject)\n",
    "    bias_first = bias_arr[0,:]\n",
    "    std_first = std_arr[0,:]\n",
    "    bias_third = bias_arr[2,:]\n",
    "    std_third = std_arr[2,:]\n",
    "    bias_fifth = bias_arr[4,:]\n",
    "    std_fifth = std_arr[4,:]\n",
    "\n",
    "    plt.errorbar(durs, durs + bias_third, std_third)\n",
    "    plt.errorbar(durs, durs + bias_fifth, std_fifth)\n",
    "    plt.plot(durs, durs, '--')\n",
    "\n",
    "def find_std_arr(filename, tmax):\n",
    "    '''filename: SynCon_ITIs file name\n",
    "    tmax: max number of taps to consider\n",
    "    \n",
    "    Returns: the bias array, tmax x number of intervals in prior'''\n",
    "    data = scipy.io.loadmat(filename)\n",
    "    durs = data['durs'].flatten()\n",
    "    splits = data['allDur_splits']\n",
    "    IPI_std = data['allDur_std'][0]\n",
    "    \n",
    "    STD = np.zeros((tmax, 5))\n",
    "\n",
    "    for i in range(len(IPI_std)):\n",
    "        std_single = IPI_std[i].flatten()[:tmax]\n",
    "        STD[:,i] = std_single\n",
    "    \n",
    "    return STD\n",
    "    \n",
    "def minimizer(filename,ISIs,nsamples,betaRange,alphaRange,ISI0Range):\n",
    "    bias_arr = find_bias_arr(filename, 20)\n",
    "    \n",
    "    betas = np.random.uniform(low=betaRange[0], high=betaRange[1], size=nsamples)\n",
    "    alphas = np.random.uniform(low=alphaRange[0], high=alphaRange[1], size=nsamples)\n",
    "    ISI0s = np.random.uniform(low=ISI0Range[0], high=ISI0Range[1], size=nsamples)\n",
    "    mse = np.nan*np.ones((nsamples,1))\n",
    "    for j in range(nsamples):\n",
    "        ISI_list = np.nan*np.ones((len(ISIs),21))\n",
    "        ISI_list2 = np.nan*np.ones((len(ISIs),21))\n",
    "        IPI_list = np.nan*np.ones((len(ISIs),22))\n",
    "        t_s_list = []\n",
    "        t_p_list = []\n",
    "        for i in range(len(ISIs)):\n",
    "            ISI_list[i,:] = np.concatenate((ISIs[i]*np.ones(4),np.nan*np.ones(17)))\n",
    "            ISI_list2[i,:] = ISIs[i]*np.ones(21)\n",
    "            ISI = ISI_list[i,:]\n",
    "            t_s, t_p, IPI, I_s, I_p, y_s = discreteAlgorithm(ISI, beta=betas[j], alpha=alphas[j], y_ref=1, I_s_init=1/ISI0s[j], y_s_infty=1.5)\n",
    "\n",
    "            t_s_list.append(t_s)\n",
    "            t_p_list.append(t_p)\n",
    "            IPI_list[i,:] = IPI\n",
    "            \n",
    "        biasSim = np.sqrt( np.nanmean((IPI_list[:,1:-1]-ISI_list2[:,1:])**2,axis=0) )\n",
    "        biasObs = np.sqrt( np.nanmean(bias_arr**2,axis=1) )\n",
    "        mse[j] = np.nanmean((biasObs - biasSim)**2)\n",
    "           \n",
    "    id = np.argmin(mse)\n",
    "    print(id)\n",
    "    beta = betas[id]\n",
    "    alpha = alphas[id]\n",
    "    ISI0 = ISI0s[id]\n",
    "    return beta, alpha, ISI0"
   ]
  },
  {
   "cell_type": "code",
   "execution_count": null,
   "metadata": {
    "collapsed": true
   },
   "outputs": [],
   "source": [
    "ISIs = np.linspace(0.550,0.817,num=5)\n",
    "dirlst = glob.glob('/Users/swe/Dropbox (MIT)/CircuitModel/Data/*_2_*ITIs.mat')\n",
    "filename = dirlst[4] #'/Users/swe/Dropbox (MIT)/CircuitModel/Data/FK_2_20170721_SynCon_ITIs.mat'\n",
    "print(filename)\n",
    "beta, alpha, ISI0 = minimizer(filename, ISIs,nsamples=1000, betaRange=[0,0.8], alphaRange=[0,0.8], ISI0Range=[0.5,0.9])\n"
   ]
  },
  {
   "cell_type": "code",
   "execution_count": null,
   "metadata": {
    "collapsed": true
   },
   "outputs": [],
   "source": [
    "print(beta,alpha,ISI0)"
   ]
  },
  {
   "cell_type": "code",
   "execution_count": null,
   "metadata": {
    "collapsed": true
   },
   "outputs": [],
   "source": [
    "ISI_list = np.nan*np.ones((len(ISIs),12))\n",
    "IPI_list = np.nan*np.ones((len(ISIs),13))\n",
    "t_s_list = []\n",
    "t_p_list = []\n",
    "for i in range(len(ISIs)):\n",
    "    ISI_list[i,:] = np.concatenate((ISIs[i]*np.ones(4),np.nan*np.ones(8)))\n",
    "    del t_p\n",
    "    del t_s\n",
    "    del IPI\n",
    "    del I_s\n",
    "    del I_p\n",
    "    del y_s\n",
    "    ISI = ISI_list[i,:]\n",
    "    t_s, t_p, IPI, I_s, I_p, y_s = discreteAlgorithm(ISI, beta=beta, alpha=alpha, y_ref=1, I_s_init=1/ISI0, y_s_infty=1.5)\n",
    "    \n",
    "    t_s_list.append(t_s)\n",
    "    t_p_list.append(t_p)\n",
    "    IPI_list[i,:] = IPI\n",
    "\n",
    "\n",
    "bias_arr = find_bias_arr(filename, 20)\n",
    "biasObs = np.sqrt(np.nanmean(bias_arr**2,axis=1))\n",
    "tempISIs = np.matlib.repmat(ISIs,13,1)\n",
    "sqErrs = np.square(IPI_list - np.transpose(tempISIs))\n",
    "sqBIAS = sqErrs.sum(axis=0)/len(ISIs)\n",
    "\n",
    "plt.subplot(121)\n",
    "plt.plot(np.sqrt(sqBIAS[1:12]))\n",
    "plt.plot(biasObs[0:11])\n",
    "\n",
    "plt.subplot(122)\n",
    "plt.plot(np.transpose(tempISIs[(3,5),:]),IPI_list[:,(3,5)])\n",
    "plot_subject_ts_tp(filename)"
   ]
  },
  {
   "cell_type": "code",
   "execution_count": null,
   "metadata": {
    "collapsed": true
   },
   "outputs": [],
   "source": [
    "BETAS = np.zeros((len(dirlst),1))\n",
    "ALPHAS = np.zeros((len(dirlst),1))\n",
    "ISIinits = np.zeros((len(dirlst),1))\n",
    "for filei in range(len(dirlst)):\n",
    "    filename = dirlst[filei] #'/Users/swe/Dropbox (MIT)/CircuitModel/Data/FK_2_20170721_SynCon_ITIs.mat'\n",
    "    print(filename)\n",
    "    beta, alpha, ISI0 = minimizer(filename, ISIs,nsamples=1000, betaRange=[0,0.8], alphaRange=[0,0.8], ISI0Range=[0.5,0.9])\n",
    "    \n",
    "    BETAS[filei] = beta\n",
    "    ALPHAS[filei] = alpha\n",
    "    ISIinits[filei] = ISI0"
   ]
  },
  {
   "cell_type": "code",
   "execution_count": null,
   "metadata": {
    "collapsed": true
   },
   "outputs": [],
   "source": [
    "print(BETAS,ALPHAS,ISIinits)"
   ]
  },
  {
   "cell_type": "markdown",
   "metadata": {},
   "source": [
    "#### 1-2-Go/1-2-3-Go"
   ]
  },
  {
   "cell_type": "code",
   "execution_count": null,
   "metadata": {
    "collapsed": true
   },
   "outputs": [],
   "source": [
    "def get_time_lst(nstages, beta, alpha, ISI0):\n",
    "    '''Simulate and return the array of times of threshold crossing'''\n",
    "    IPI_list, ISIs = simulate_123Go(nstages=nstages,beta=beta,alpha=alpha,ISI0=ISI0)\n",
    "    times = 1000*IPI_list[:,-2:-1]\n",
    "\n",
    "    return times\n",
    "\n",
    "def do_beta_alpha_ISI0_fitting(subject_file, nsamples, betalow, betahigh, alphalow, alphahigh, ISI0low, ISI0high,\n",
    "                 print_every=10):\n",
    "    '''Inputs:\n",
    "    - subject_file: .mat file with the behavioral results of the subject\n",
    "    - nsamples: number of random (beta,alpha,ISI0) combinations to sample\n",
    "    - betalow, betahigh, alphalow, alphahigh, ISI0low, ISI0high: ranges of beta, alpha, and ISI0 for sampling\n",
    "    \n",
    "    Outputs:\n",
    "    beta, alpha, ISI0: the optimal combination to minimize the mse between the mean simulated times\n",
    "    and the mean behavioral times of the subject'''\n",
    "    #print('sigmaval = ', sigmaval)\n",
    "    betalst = np.random.uniform(low=betalow, high=betahigh, size=nsamples)\n",
    "    alphalst = np.random.uniform(low=alphalow, high=alphahigh, size=nsamples)\n",
    "    ISI0lst = np.random.uniform(low=ISI0low, high=ISI0high, size=nsamples)\n",
    "\n",
    "    # Load data for subject SWE(RSG/RSSG, Seth provided)\n",
    "    swedata = scipy.io.loadmat(subject_file)\n",
    "    B = swedata['B']\n",
    "    ts_vec = swedata['ts_vec']\n",
    "    ta = swedata['ta']\n",
    "    tss = swedata['tss']\n",
    "    mtp_in = swedata['mtp_in']\n",
    "    stdtp_in = swedata['stdtp_in']\n",
    "\n",
    "    target_time1 = mtp_in[:,0]\n",
    "    target_time2 = mtp_in[:,1]\n",
    "\n",
    "    b = np.mean(B[:,0])\n",
    "\n",
    "    durations = tss\n",
    "    errorlst = []\n",
    "\n",
    "    for k in range(nsamples):\n",
    "        ISI0val = ISI0lst[k]\n",
    "        betaval = betalst[k]\n",
    "        alphaval = alphalst[k]\n",
    "\n",
    "        prod_time_lst, prod_var_lst, prod_time_lst2, prod_var_lst2 = [], [], [], []\n",
    "\n",
    "        #1,2,Go simulation\n",
    "        prod_time_lst = get_time_lst(nstages=2, beta=betaval, alpha=alphaval, ISI0=ISI0val)\n",
    "\n",
    "        #1,2,3,Go simulation\n",
    "        prod_time_lst2 = get_time_lst(nstages=3, beta=betaval, alpha=alphaval, ISI0=ISI0val)\n",
    "\n",
    "        # Continue if there is a nan   \n",
    "        error1 = (np.transpose(prod_time_lst) - target_time1) ** 2\n",
    "        error2 = (np.transpose(prod_time_lst2) - target_time2) ** 2\n",
    "        \n",
    "        if np.sum(np.isnan(error1)) + np.sum(np.isnan(error2)) > 0:\n",
    "            error = np.inf\n",
    "            print('nan encountered')\n",
    "        else:\n",
    "        # Error function to minimize\n",
    "            error = np.sum((np.transpose(prod_time_lst) - target_time1) ** 2) +\\\n",
    "                    np.sum((np.transpose(prod_time_lst2) - target_time2) ** 2)\n",
    "        errorlst.append(error)\n",
    "\n",
    "        #if k % print_every == 0: # Print every 10 lines\n",
    "        #    print('    alpha = %f, beta = %f, ISI0 = %f, error = %f' %(alphaval, betaval, ISI0val, error))\n",
    "    \n",
    "    # Find the optimal\n",
    "    plt.scatter(betalst,alphalst,c=np.sqrt(errorlst))\n",
    "    idx = np.argmin(errorlst)\n",
    "    return betalst[idx], alphalst[idx], ISI0lst[idx]"
   ]
  },
  {
   "cell_type": "code",
   "execution_count": null,
   "metadata": {
    "collapsed": true
   },
   "outputs": [],
   "source": [
    "dirlst = glob.glob('/Users/swe/Dropbox (MIT)/CircuitModel/Data/*_EKF_*.mat')\n",
    "filename = dirlst[-2]\n",
    "print(filename)\n",
    "beta, alpha, ISI0 = do_beta_alpha_ISI0_fitting(filename, nsamples=10000, betalow=0.0, betahigh=0.9, alphalow=0, alphahigh=0.01, ISI0low=0.500, ISI0high=1.100)\n"
   ]
  },
  {
   "cell_type": "code",
   "execution_count": null,
   "metadata": {
    "collapsed": true
   },
   "outputs": [],
   "source": [
    "print(filename)\n",
    "swedata = scipy.io.loadmat(filename)\n",
    "mtp_in = swedata['mtp_in']\n",
    "\n",
    "\n",
    "print(alpha,beta,ISI0)\n",
    "IPI_list, ISIs = simulate_123Go(nstages=3,beta=beta,alpha=alpha,ISI0=ISI0)\n",
    "\n",
    "tempISIs = np.matlib.repmat(1000*ISIs,4,1)\n",
    "sqErrs = np.square(1000*IPI_list - np.transpose(tempISIs))\n",
    "sqBIAS = sqErrs.sum(axis=0)/len(ISIs)\n",
    "\n",
    "plt.subplot(121)\n",
    "plt.plot(sqBIAS[1:3])\n",
    "\n",
    "plt.subplot(122)\n",
    "plt.plot(np.transpose(tempISIs[:2,:]),1000*IPI_list[:,1:3])\n",
    "plt.plot(np.transpose(tempISIs[:2,:]),mtp_in)"
   ]
  },
  {
   "cell_type": "code",
   "execution_count": null,
   "metadata": {
    "collapsed": true,
    "scrolled": true
   },
   "outputs": [],
   "source": [
    "BETAS = np.zeros((len(dirlst),1))\n",
    "ALPHAS = np.zeros((len(dirlst),1))\n",
    "ISIinits = np.zeros((len(dirlst),1))\n",
    "IPImodel = np.nan*np.ones((5,2,len(dirlst)))\n",
    "IPIsubjects = np.nan*np.ones((5,2,len(dirlst)))\n",
    "IPIsubjects_std = np.nan*np.ones((5,2,len(dirlst)))\n",
    "for filei in range(len(dirlst)):\n",
    "    filename = dirlst[filei] #'/Users/swe/Dropbox (MIT)/CircuitModel/Data/FK_2_20170721_SynCon_ITIs.mat'\n",
    "    print(filename)\n",
    "    swedata = scipy.io.loadmat(filename)\n",
    "    mtp_in = swedata['mtp_in']\n",
    "    stdtp_in = swedata['stdtp_in']\n",
    "    beta, alpha, ISI0 = do_beta_alpha_ISI0_fitting(filename, nsamples=1000, betalow=0.1, betahigh=0.9, alphalow=0.01, alphahigh=0.9, ISI0low=0.600, ISI0high=1.000)\n",
    "    \n",
    "    BETAS[filei] = beta\n",
    "    ALPHAS[filei] = alpha\n",
    "    ISIinits[filei] = ISI0\n",
    "    \n",
    "    IPI_list, ISIs = simulate_123Go(nstages=3,beta=beta,alpha=alpha,ISI0=ISI0)\n",
    "    \n",
    "    IPImodel[:,:,filei] = IPI_list[:,1:3]\n",
    "    IPIsubjects[:,:,filei] = mtp_in\n",
    "    IPIsubjects_std[:,:,filei] = stdtp_in"
   ]
  },
  {
   "cell_type": "code",
   "execution_count": null,
   "metadata": {
    "collapsed": true
   },
   "outputs": [],
   "source": [
    "print(IPImodel[:,:,0],BETAS[0])"
   ]
  },
  {
   "cell_type": "code",
   "execution_count": null,
   "metadata": {
    "collapsed": true
   },
   "outputs": [],
   "source": [
    "scipy.io.savemat('/Users/swe/Dropbox (MIT)/CircuitModel/ModelResults/discreteAlgorithm_123Go.mat', \n",
    "                 {'IPIsubjects': IPIsubjects, 'IPIsubjects_std': IPIsubjects_std,\n",
    "                 'IPImodel': IPImodel, 'BETAS': BETAS,\n",
    "                 'ALPHAS': ALPHAS, 'INIinits': ISIinits})"
   ]
  },
  {
   "cell_type": "markdown",
   "metadata": {
    "collapsed": true
   },
   "source": [
    "# Continuous time algorithm"
   ]
  },
  {
   "cell_type": "code",
   "execution_count": null,
   "metadata": {},
   "outputs": [],
   "source": [
    "def integratorModule(y,I,dt):\n",
    "    y = y + I*dt\n",
    "    \n",
    "    return y\n",
    "\n",
    "def continuousTimeAlgorithm(ISI,beta,alpha,I0,dt):\n",
    "    \n",
    "    totalT = sum(ISI)\n",
    "    t_s = np.zeros(len(ISI)+1)\n",
    "    t_s[1:len(ISI)+1] = np.cumsum(ISI)\n",
    "    t_p = np.zeros(len(ISI)+1)\n",
    "    t_p_ind = 0\n",
    "    t_s_ind = 0\n",
    "    tSteps = int(totalT/dt)\n",
    "    \n",
    "    y_s = np.zeros(tSteps+1)\n",
    "    y_p = np.zeros(tSteps+1)\n",
    "    I = I0*np.ones(tSteps+1)\n",
    "    I[0] = I0\n",
    "    I_p = I\n",
    "    \n",
    "    for ti in range(tSteps):\n",
    "        if t_s[t_s_ind] < ti*dt:\n",
    "            simulatorError = 1 - y_s[ti]\n",
    "            I[ti] = I[ti-1] + beta*simulatorError  # Update input into integrator input\n",
    "            y_s[ti+1] = 0         # Reset simulator on stimulus input\n",
    "            t_s_ind = t_s_ind+1\n",
    "        else:\n",
    "            I[ti] = I[ti-1]\n",
    "            y_s[ti+1] = integratorModule(y_s[ti],I[ti],dt)\n",
    "            \n",
    "        deltaI = alpha*(y_s[ti]-y_p[ti])\n",
    "        I_p[ti] = I[ti]+deltaI\n",
    "        \n",
    "        if y_p[ti] > 1:\n",
    "            t_p[t_p_ind] = ti*dt\n",
    "            t_p_ind = t_p_ind+1\n",
    "            y_p[ti+1] = 0\n",
    "        else:\n",
    "            y_p[ti+1] = integratorModule(y_p[ti],I_p[ti],dt)\n",
    "        \n",
    "        \n",
    "    return y_s, y_p, I, I_p, t_p, t_s"
   ]
  },
  {
   "cell_type": "code",
   "execution_count": null,
   "metadata": {},
   "outputs": [],
   "source": [
    "ISI = [0.4] * 50\n",
    "y_s, y_p, I, I_p, t_p, t_s = continuousTimeAlgorithm(ISI,beta=0.5,alpha=0,I0=1/0.600,dt=0.01)"
   ]
  },
  {
   "cell_type": "code",
   "execution_count": null,
   "metadata": {},
   "outputs": [],
   "source": [
    "IPI = np.diff(t_p)\n",
    "plt.plot(y_p)"
   ]
  },
  {
   "cell_type": "code",
   "execution_count": null,
   "metadata": {
    "collapsed": true
   },
   "outputs": [],
   "source": []
  },
  {
   "cell_type": "code",
   "execution_count": null,
   "metadata": {
    "collapsed": true
   },
   "outputs": [],
   "source": []
  }
 ],
 "metadata": {
  "kernelspec": {
   "display_name": "Python 3",
   "language": "python",
   "name": "python3"
  },
  "language_info": {
   "codemirror_mode": {
    "name": "ipython",
    "version": 3
   },
   "file_extension": ".py",
   "mimetype": "text/x-python",
   "name": "python",
   "nbconvert_exporter": "python",
   "pygments_lexer": "ipython3",
   "version": "3.5.4"
  }
 },
 "nbformat": 4,
 "nbformat_minor": 4
}
