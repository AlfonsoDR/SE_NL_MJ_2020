{
 "cells": [
  {
   "cell_type": "code",
   "execution_count": 1,
   "metadata": {
    "collapsed": true
   },
   "outputs": [],
   "source": [
    "import numpy as np\n",
    "import matplotlib.pyplot as plt\n",
    "import seaborn as sns\n",
    "sns.set()\n",
    "\n",
    "%matplotlib inline\n"
   ]
  },
  {
   "cell_type": "markdown",
   "metadata": {},
   "source": [
    "## Original Organics formulation"
   ]
  },
  {
   "cell_type": "code",
   "execution_count": 2,
   "metadata": {
    "collapsed": true
   },
   "outputs": [],
   "source": [
    "Wzx = np.matrix('-0.5, 0, 0, 0; \\\n",
    "                -0.3536 -0.3536 0 0; \\\n",
    "                0 0.5 0 0; \\\n",
    "                0.3536 0.3536 0 0;\\\n",
    "                0.5 0 0 0;\\\n",
    "                0.3536 -0.3536 0 0;\\\n",
    "                0 -0.5 0 0; \\\n",
    "                -0.3536 -0.3536 0 0')\n",
    "\n",
    "Wax = np.matrix('0 0 1 1; 0 0 1 1;\\\n",
    "                0 0 1 1; 0 0 1 1;\\\n",
    "                0 0 1 1; 0 0 1 1;\\\n",
    "                0 0 1 1; 0 0 1 1')\n",
    "\n",
    "Wbx = np.matrix('0 0 1 0; 0 0 1 0;\\\n",
    "                0 0 1 0; 0 0 1 0;\\\n",
    "                0 0 1 0; 0 0 1 0;\\\n",
    "                0 0 1 0; 0 0 1 0')\n",
    "\n",
    "num = np.cos(np.pi / 4)\n",
    "Wyy = 0.25 * np.matrix([[1, num, 0, -num, -1, -num, 0, num],\n",
    "                [num, 1, num, 0, -num, -1, -num, 0],\n",
    "                [0, num, 1, num, 0, -num, -1, -num],\n",
    "                [-num, 0, num, 1, num, 0, -num, -1],\n",
    "                [-1, -num, 0, num, 1, num, 0, -num],\n",
    "                [-num, -1, -num, 0, num, 1, num, 0],\n",
    "                [0, -num, -1, -num, 0, num, 1, num],\n",
    "                [num, 0, -num, -1, -num, 0, num, 1]])\n",
    "\n",
    "\n",
    "\n",
    "Way = 0\n",
    "Wby = 0\n",
    "cz = 0\n",
    "ca = 0\n",
    "cb = 0\n",
    "cy = 0\n",
    "\n",
    "# Time constants in ms\n",
    "ta = 10 \n",
    "tb = 10\n",
    "ty = 10\n",
    "dt = 10"
   ]
  },
  {
   "cell_type": "code",
   "execution_count": 3,
   "metadata": {
    "collapsed": true
   },
   "outputs": [],
   "source": [
    "U,V = np.linalg.eig(Wyy)"
   ]
  },
  {
   "cell_type": "code",
   "execution_count": 4,
   "metadata": {},
   "outputs": [
    {
     "data": {
      "image/png": "[encoded data removed]",
      "text/plain": [
       "<matplotlib.figure.Figure at 0x27c37ac4780>"
      ]
     },
     "metadata": {},
     "output_type": "display_data"
    }
   ],
   "source": [
    "A = V * np.diag(U) * V.T\n",
    "plt.imshow(A)\n",
    "plt.show()"
   ]
  },
  {
   "cell_type": "code",
   "execution_count": 5,
   "metadata": {
    "collapsed": true
   },
   "outputs": [],
   "source": [
    "posx = [0.0] * 25 + [0.2] * 75 + [0.0] * 300\n",
    "posy = [0.0] * 25 + [-0.5] * 75 + [0.0] * 300\n",
    "begin = [1.0] * 75 + [0.0] * 325\n",
    "delay = [0.0] * 300 + [1.0] * 25 + [0.0] * 75\n",
    "\n",
    "x_mat = np.matrix([posx, posy, begin, delay])\n"
   ]
  },
  {
   "cell_type": "code",
   "execution_count": 6,
   "metadata": {
    "collapsed": true
   },
   "outputs": [],
   "source": [
    "y = np.matrix([0.0] * 8).T\n",
    "a = np.matrix([0.0] * 8).T\n",
    "b = np.matrix([0.0] * 8).T\n",
    "y = np.matrix([0.0] * 8).T\n",
    "\n",
    "ymat = [y.copy()]\n",
    "amat = [a.copy()]\n",
    "bmat = [b.copy()]\n",
    "ymat = [y.copy()]\n",
    "zmat = []\n",
    "\n",
    "for i in range(200):\n",
    "    z = Wzx * x_mat[:, i]\n",
    "    yhat = Wyy * y + cy\n",
    "    da = dt / ta * (-a + Wax * x_mat[:,i] + Way * y + ca)\n",
    "    a += da\n",
    "    \n",
    "    #print(np.sum(a))\n",
    "    #import pdb; pdb.set_trace()\n",
    "    #from IPython.core.debugger import Tracer; Tracer()()\n",
    "    \n",
    "    \n",
    "    db = dt / tb * (-b + Wbx * x_mat[:,i] + Wby * y + cb)\n",
    "    b += db\n",
    "    \n",
    "    bp =  np.maximum(b, 0)\n",
    "    ap = np.maximum(a, 0)\n",
    "    \n",
    "    dy = dt / ty * (-y + np.multiply(bp / (1 + bp),  z) + \\\n",
    "                    np.multiply((1 / (1 + ap)), yhat)) \n",
    "    y += dy\n",
    "    \n",
    "    amat.append(a.copy())\n",
    "    #print(np.sum(amat))\n",
    "    bmat.append(b.copy())\n",
    "    ymat.append(y.copy())\n",
    "    zmat.append(z.copy())\n",
    "\n",
    "Amat = np.hstack(amat)\n",
    "Bmat = np.hstack(bmat)\n",
    "Ymat = np.hstack(ymat)\n",
    "Zmat = np.hstack(zmat)"
   ]
  },
  {
   "cell_type": "code",
   "execution_count": 7,
   "metadata": {},
   "outputs": [
    {
     "data": {
      "image/png": "[encoded data removed]",
      "text/plain": [
       "<matplotlib.figure.Figure at 0x27c37ac4e80>"
      ]
     },
     "metadata": {},
     "output_type": "display_data"
    }
   ],
   "source": [
    "# Plot of Y traces!\n",
    "plt.figure()\n",
    "plt.plot(Ymat.T);"
   ]
  },
  {
   "cell_type": "markdown",
   "metadata": {},
   "source": [
    "## Trying to have Organics maintain a state"
   ]
  },
  {
   "cell_type": "markdown",
   "metadata": {},
   "source": [
    "Holding can be achieved by setting `Wyy = 1` (identity matrix)"
   ]
  },
  {
   "cell_type": "code",
   "execution_count": 8,
   "metadata": {
    "collapsed": true
   },
   "outputs": [],
   "source": [
    "Wyy = 1\n",
    "\n",
    "y = np.matrix([0.0] * 8).T\n",
    "a = np.matrix([0.0] * 8).T\n",
    "b = np.matrix([0.0] * 8).T\n",
    "y = np.matrix([0.0] * 8).T\n",
    "\n",
    "ymat = [y.copy()]\n",
    "amat = [a.copy()]\n",
    "bmat = [b.copy()]\n",
    "ymat = [y.copy()]\n",
    "zmat = []\n",
    "\n",
    "for i in range(400):\n",
    "    z = Wzx * x_mat[:, i]\n",
    "    yhat = Wyy * y + cy\n",
    "    da = dt / ta * (-a + Wax * x_mat[:,i] + Way * y + ca)\n",
    "    a += da\n",
    "    \n",
    "    #print(np.sum(a))\n",
    "    #import pdb; pdb.set_trace()\n",
    "    #from IPython.core.debugger import Tracer; Tracer()()\n",
    "    \n",
    "    \n",
    "    db = dt / tb * (-b + Wbx * x_mat[:,i] + Wby * y + cb)\n",
    "    b += db\n",
    "    \n",
    "    bp =  np.maximum(b, 0)\n",
    "    ap = np.maximum(a, 0)\n",
    "    \n",
    "    dy = dt / ty * (-y + np.multiply(bp / (1 + bp),  z) + \\\n",
    "                    np.multiply((1 / (1 + ap)), yhat)) \n",
    "    y += dy\n",
    "    \n",
    "    amat.append(a.copy())\n",
    "    #print(np.sum(amat))\n",
    "    bmat.append(b.copy())\n",
    "    ymat.append(y.copy())\n",
    "    zmat.append(z.copy())\n",
    "\n",
    "Amat = np.hstack(amat)\n",
    "Bmat = np.hstack(bmat)\n",
    "Ymat = np.hstack(ymat)\n",
    "Zmat = np.hstack(zmat)"
   ]
  },
  {
   "cell_type": "code",
   "execution_count": 9,
   "metadata": {},
   "outputs": [
    {
     "data": {
      "image/png": "[encoded data removed]",
      "text/plain": [
       "<matplotlib.figure.Figure at 0x27c33fd46d8>"
      ]
     },
     "metadata": {},
     "output_type": "display_data"
    }
   ],
   "source": [
    "plt.plot(Ymat.T);"
   ]
  },
  {
   "cell_type": "markdown",
   "metadata": {},
   "source": [
    "## Gating of two-neuron module"
   ]
  },
  {
   "cell_type": "code",
   "execution_count": 46,
   "metadata": {
    "collapsed": true
   },
   "outputs": [],
   "source": [
    "PARAMS_DICT = {'Wut': 6,\n",
    "              'Wuv': 6,\n",
    "              'Wvt': 6,\n",
    "              'Wvu': 6,\n",
    "              'dt': 10,\n",
    "              'tau': 100,\n",
    "              'ext': 0,\n",
    "              'y0': 0.7,\n",
    "              'K': 1.5}"
   ]
  },
  {
   "cell_type": "code",
   "execution_count": 55,
   "metadata": {
    "collapsed": true
   },
   "outputs": [],
   "source": [
    "def thresh_exp(x):\n",
    "    '''Activation function'''\n",
    "    return 1 / (1 + np.exp(-x))\n",
    "\n",
    "def start_simulation(state_init, params, niter):\n",
    "    '''\n",
    "    Inputs:\n",
    "    state_init: an array which includes:\n",
    "        * I: initial current\n",
    "        * Iref: initial reference current\n",
    "        * u: initial state of u\n",
    "        * v: initial state of v\n",
    "        * y: initial state of y (readout neuron)\n",
    "        * sig: state indicator (0 or 1)\n",
    "        * aI: gating variable for I\n",
    "        * ay: gating variable for y\n",
    "        * aR: gating variable for Iref\n",
    "        * z: initial state of z\n",
    "        \n",
    "    params: a dictionary of relevant parameters\n",
    "    niter: number of iterations\n",
    "    \n",
    "    \n",
    "    Outputs: each list contains niter elements\n",
    "    u_lst: list of u activities \n",
    "    v_lst: list of v activities\n",
    "    y_lst: list of y activities\n",
    "    aI_lst, ay_lst, aR_lst: list of gating variables at each instant\n",
    "    I_lst: list of I activities\n",
    "    Iref: final reference current state\n",
    "        \n",
    "    '''\n",
    "    # Unpack parameters of the simulation\n",
    "    Wut = params['Wut']\n",
    "    Wuv = params['Wut']\n",
    "    Wvt = params['Wut']\n",
    "    Wvu = params['Wut']\n",
    "    dt = params['dt']\n",
    "    tau = params['tau']\n",
    "    ext = params['ext']\n",
    "    y0 = params['y0'] #The target (threshold) value of y\n",
    "    K = params['K']\n",
    "    \n",
    "    \n",
    "    # Unpack variables\n",
    "    I, u, v, y, sig, aI = state_init\n",
    "        \n",
    "    sig_lst = []\n",
    "    u_lst = []\n",
    "    v_lst = []\n",
    "    y_lst = []\n",
    "    aI_lst = []\n",
    "    I_lst = []\n",
    "    \n",
    "    for i in range(niter):\n",
    "        # Update of gating variables\n",
    "        if sig < 1:\n",
    "            aI = 0.0\n",
    "        else:\n",
    "            aI = 1.0\n",
    "                \n",
    "        # I update here:\n",
    "        I += (aI * K * (y - y0)) / tau * dt\n",
    "\n",
    "        # u-v and y update\n",
    "        if sig <= 1:\n",
    "            u += (-u + thresh_exp(Wut * I - Wuv * v + 0)) / tau * dt\n",
    "            v += (-v + thresh_exp(Wvt * I - Wvu * u + 0)) / tau * dt\n",
    "        else:\n",
    "            u += (-u + thresh_exp(Wut * I - Wuv * v + 0)) / tau * dt\n",
    "            v += (-v + thresh_exp(Wvt * I - Wvu * u + 5)) / tau * dt\n",
    "\n",
    "        y += (-y + u - v) / 100 * dt\n",
    "\n",
    "        v_lst.append(v)\n",
    "        u_lst.append(u)\n",
    "        y_lst.append(y)\n",
    "        aI_lst.append(aI)\n",
    "        I_lst.append(I)\n",
    "        sig_lst.append(sig)\n",
    "        \n",
    "    return u_lst, v_lst, y_lst, aI_lst, I_lst, sig_lst"
   ]
  },
  {
   "cell_type": "markdown",
   "metadata": {},
   "source": [
    "### Updates from previous meeting\n",
    "\n",
    "Changes from the previous meeting:\n",
    "\n",
    "1. Moved threshold y0 to a z-neuron with $z = y - y_0$\n",
    "\n",
    "2. Removed $I_{ref}$. Previous equation\n",
    "\n",
    "3. 'Reseting' is implemented by an impulse given to $v$ at the start of the trial\n",
    "\n"
   ]
  },
  {
   "cell_type": "markdown",
   "metadata": {},
   "source": [
    "### Description of the current model"
   ]
  },
  {
   "cell_type": "markdown",
   "metadata": {},
   "source": [
    "At a high level, the simulation alternates between two states which is encoded by a variable `s`. In the setup, `u` and `v` are two neurons that mutually inhibit each other according to this dynamics:\n",
    "\n",
    "$$ \\tau\\frac{du}{dt} = -u + \\theta \\ (W_{uI}I - W_{uv}v)$$\n",
    "\n",
    "Similarly for $v$,\n",
    "\n",
    "$$ \\tau\\frac{dv}{dt} = -v + \\theta \\ (W_{vI}I - W_{vu}u + I_p)$$\n",
    "\n",
    "$y$ and $z$ are read-out neurons. $y$ measures the difference between $u$ and $v$ and $z$ measures the deviation of $y$ from the threshold $y_0$.\n",
    "\n",
    "$$ \\tau\\frac{dy}{dt} = -y + u - v $$\n",
    "\n",
    "and for $z$,\n",
    "\n",
    "$$ \\tau\\frac{dz}{dt} = -z + y - y_0$$\n",
    "\n",
    "The global state is given by $s$ which is an external signal. This state alternates between two modes:\n",
    "\n",
    "* When $s = 0$, the network operates in *integration* mode\n",
    "    - $v$ receives an impulse $I_p = 5$, for a duration of two time steps. After that $I_p = 0$.\n",
    "    - $I$ remains constant (gated out, uncoupled from $z$)\n",
    "\n",
    "\n",
    "* When $s = 1$, the network operates in *update* mode\n",
    "    - $I_p$ continues to be 0.\n",
    "    - $I$ gets coupled to $z$.\n",
    "    \n",
    "    In particular, $ \\tau\\frac{dI}{dt} = K(y-y_0)  $\n",
    "\n",
    "\n",
    "The behavior of $I$ is different in these two different modes. To achieve this, we rely on the gating variables $a_I$, and require that\n",
    "\n",
    "$$ \\tau\\frac{dI}{dt} = a_IK(y - y_0) $$\n",
    "\n",
    "\n",
    "The gating $a_I$ itself can be modeled as a dynamic variable that is linked to the global state $s$.\n",
    "$$ \\frac{da_I}{dt} = \\frac{1}{\\tau_I}(-a_I + s) $$\n",
    "\n",
    "The simulation is run below, each state lasts 100 ms."
   ]
  },
  {
   "cell_type": "code",
   "execution_count": 56,
   "metadata": {},
   "outputs": [],
   "source": [
    "def plot_simulation(ulst, vlst, ylst, Ilst, siglst, params_dict):\n",
    "    '''Plot the simulations'''\n",
    "    dt = params_dict['dt']\n",
    "    nsteps = len(ulst)\n",
    "    tlst = np.arange(nsteps).astype('int')\n",
    "    sig_lst = np.floor(tlst / 100) % 2\n",
    "    sig_lst = sig_lst.astype('int')\n",
    "    wherelst = np.array(siglst) == 1.0\n",
    "    wherelst2 = np.array(siglst) == 2.0\n",
    "\n",
    "    fig, ax = plt.subplots(4, 1, figsize=(10, 10))\n",
    "    ax[0].plot(np.arange(nsteps) * dt, ulst)\n",
    "    ax[0].set_ylabel('u')\n",
    "    ax[0].fill_between(np.arange(nsteps) * dt, min(ulst), max(ulst), where=wherelst, alpha=0.1)\n",
    "    ax[0].fill_between(np.arange(nsteps) * dt, min(ulst), max(ulst), where=wherelst2, alpha=0.2)\n",
    "\n",
    "    ax[1].plot(np.arange(nsteps) * dt, vlst)\n",
    "    ax[1].set_ylabel('v')\n",
    "    ax[1].fill_between(np.arange(nsteps) * dt, min(vlst), max(vlst), where=wherelst, alpha=0.1)\n",
    "    ax[1].fill_between(np.arange(nsteps) * dt, min(vlst), max(vlst), where=wherelst2, alpha=0.2)\n",
    "\n",
    "    ax[2].plot(np.arange(nsteps) * dt, ylst)\n",
    "    ax[2].set_ylabel('y')\n",
    "    ax[2].fill_between(np.arange(nsteps) * dt, min(ylst), max(ylst), where=wherelst, alpha=0.1)\n",
    "    ax[2].fill_between(np.arange(nsteps) * dt, min(ylst), max(ylst), where=wherelst2, alpha=0.2)\n",
    "    ax[2].hlines(0.7, 0, nsteps * dt, linestyle='dotted')\n",
    "\n",
    "    ax[3].plot(np.arange(nsteps) * dt, Ilst)\n",
    "    ax[3].set_ylabel('I')\n",
    "    ax[3].fill_between(np.arange(nsteps) * dt, min(Ilst), max(Ilst), where=wherelst, alpha=0.1)\n",
    "    ax[3].fill_between(np.arange(nsteps) * dt, min(Ilst), max(Ilst), where=wherelst2, alpha=0.2)\n",
    "    ax[3].set_xlabel('Time (ms)');"
   ]
  },
  {
   "cell_type": "code",
   "execution_count": 57,
   "metadata": {
    "scrolled": false
   },
   "outputs": [
    {
     "data": {
      "image/png": "[encoded data removed]",
      "text/plain": [
       "<matplotlib.figure.Figure at 0x27c3818ff28>"
      ]
     },
     "metadata": {},
     "output_type": "display_data"
    }
   ],
   "source": [
    "# Initial run\n",
    "state_init = [0.7, 0.7, 0.2, 0.5, 0.0, 1.0]\n",
    "ulst, vlst, ylst, aIlst, Ilst, siglst = start_simulation(state_init, PARAMS_DICT, 60)\n",
    "\n",
    "# For subsequent runs, flip the state every 100 trials\n",
    "for k in range(20):\n",
    "    #acoefs = 1 - acoefs\n",
    "    state_init = [Ilst[-1], ulst[-1], vlst[-1], ylst[-1], (state_init[4] + 1.0)%3, \\\n",
    "                 aIlst[-1]]\n",
    "    if state_init[4] == 0.0:\n",
    "        ulst2, vlst2, ylst2, aIlst2, Ilst2, siglst2 = start_simulation(state_init, PARAMS_DICT, 60)\n",
    "    elif state_init[4] == 1.0:\n",
    "        ulst2, vlst2, ylst2, aIlst2, Ilst2, siglst2 = start_simulation(state_init, PARAMS_DICT, 2)\n",
    "    else:\n",
    "        ulst2, vlst2, ylst2, aIlst2, Ilst2, siglst2 = start_simulation(state_init, PARAMS_DICT, 2)\n",
    "\n",
    "    ulst += ulst2\n",
    "    vlst += vlst2\n",
    "    ylst += ylst2\n",
    "    aIlst += aIlst2\n",
    "    Ilst += Ilst2\n",
    "    siglst += siglst2\n",
    "plot_simulation(ulst, vlst, ylst, Ilst, siglst, PARAMS_DICT)"
   ]
  },
  {
   "cell_type": "code",
   "execution_count": null,
   "metadata": {
    "collapsed": true
   },
   "outputs": [],
   "source": []
  },
  {
   "cell_type": "code",
   "execution_count": null,
   "metadata": {
    "collapsed": true
   },
   "outputs": [],
   "source": []
  },
  {
   "cell_type": "code",
   "execution_count": null,
   "metadata": {
    "collapsed": true
   },
   "outputs": [],
   "source": []
  }
 ],
 "metadata": {
  "kernelspec": {
   "display_name": "Python 3",
   "language": "python",
   "name": "python3"
  },
  "language_info": {
   "codemirror_mode": {
    "name": "ipython",
    "version": 3
   },
   "file_extension": ".py",
   "mimetype": "text/x-python",
   "name": "python",
   "nbconvert_exporter": "python",
   "pygments_lexer": "ipython3",
   "version": "3.6.3"
  }
 },
 "nbformat": 4,
 "nbformat_minor": 2
}
