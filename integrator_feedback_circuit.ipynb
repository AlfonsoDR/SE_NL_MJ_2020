{
 "cells": [
  {
   "cell_type": "code",
   "execution_count": 1,
   "metadata": {},
   "outputs": [],
   "source": [
    "import numpy as np\n",
    "import matplotlib.pyplot as plt\n",
    "import scipy.stats\n",
    "import seaborn as sns\n",
    "import scipy.io\n",
    "#from progress.bar import Bar\n",
    "\n",
    "sns.set()\n",
    "sns.set_style(\"white\")\n",
    "\n",
    "%matplotlib inline\n"
   ]
  },
  {
   "cell_type": "markdown",
   "metadata": {},
   "source": [
    "## Simulation module implementation"
   ]
  },
  {
   "cell_type": "markdown",
   "metadata": {},
   "source": [
    "### Description of the simulation module"
   ]
  },
  {
   "cell_type": "markdown",
   "metadata": {},
   "source": [
    "At a high level, the simulation alternates between two states which is encoded by a variable `s`. In the setup, `u` and `v` are two neurons that mutually inhibit each other according to this dynamics:\n",
    "\n",
    "$$ \\tau\\frac{du}{dt} = -u + \\theta \\ (W_{uI}I - W_{uv}v - sI_F)$$\n",
    "\n",
    "Similarly for $v$,\n",
    "\n",
    "$$ \\tau\\frac{dv}{dt} = -v + \\theta \\ (W_{vI}I - W_{vu}u + sI_F)$$\n",
    "\n",
    "$y$ and $z$ are read-out neurons. $y$ measures the difference between $u$ and $v$ and $z$ measures the deviation of $y$ from the threshold $y_0$.\n",
    "\n",
    "$$ \\tau\\frac{dy}{dt} = -y + u - v $$\n",
    "\n",
    "The global state is given by $s$ which is an external signal. This state alternates between two modes:\n",
    "\n",
    "* When $s = 0$, the network operates in *integration* mode\n",
    "    - $v$ receives an impulse $I_p = 50$, for a duration of one time steps. After that $I_p = 0$.\n",
    "    - $I$ remains constant (gated out, uncoupled from $y$)\n",
    "\n",
    "\n",
    "* When $s = 1$, the network operates in *update* mode\n",
    "    - $I_p$ continues to be 0.\n",
    "    - $I$ gets coupled to $y$.\n",
    "    \n",
    "    \n",
    "In particular, $ \\tau\\frac{dI}{dt} = sK(y-y_0)  $"
   ]
  },
  {
   "cell_type": "code",
   "execution_count": 2,
   "metadata": {},
   "outputs": [],
   "source": [
    "PARAMS_DICT = {'Wut': 6,\n",
    "              'Wuv': 6,\n",
    "              'Wvt': 6,\n",
    "              'Wvu': 6,\n",
    "              'dt': 10,\n",
    "              'tau': 100,\n",
    "              'ext': 0,\n",
    "              'y0': 0.6,\n",
    "              'K': 3.0,\n",
    "              'sigma': 0.0,\n",
    "              'IF': 50}"
   ]
  },
  {
   "cell_type": "code",
   "execution_count": 3,
   "metadata": {},
   "outputs": [],
   "source": [
    "def thresh_exp(x):\n",
    "    '''Sigmoid non-linearity'''\n",
    "    return 1 / (1 + np.exp(-x))\n",
    "\n",
    "def start_simulation_parallel(state_init, params, K, sigma, niter):\n",
    "    '''\n",
    "    Inputs:\n",
    "    state_init: an array which includes:\n",
    "        * I: initial current\n",
    "        * u: initial state of u\n",
    "        * v: initial state of v\n",
    "        * y: initial state of y (readout neuron)\n",
    "        * sig: state indicator (0 or 1)\n",
    "        \n",
    "    params: a dictionary of relevant parameters\n",
    "    niter: number of iterations\n",
    "    \n",
    "    Outputs: each list contains niter elements\n",
    "    u_lst: list of u activities \n",
    "    v_lst: list of v activities\n",
    "    y_lst: list of y activities\n",
    "    I_lst: list of I activities\n",
    "    sig_lst: list of sig in this simulation\n",
    "        \n",
    "    '''\n",
    "    \n",
    "    # Unpack parameters of the simulation\n",
    "    Wut = params['Wut']\n",
    "    Wuv = params['Wut']\n",
    "    Wvt = params['Wut']\n",
    "    Wvu = params['Wut']\n",
    "    dt = params['dt']\n",
    "    tau = params['tau']\n",
    "    ext = params['ext']\n",
    "    y0 = params['y0'] #The target (threshold) value of y\n",
    "    IF = params['IF']\n",
    "    \n",
    "    # Unpack variables\n",
    "    I, u, v, y, sig = state_init\n",
    "    \n",
    "    ntrials = len(I)\n",
    "    \n",
    "    I = I.copy()\n",
    "    u = u.copy()\n",
    "    v = v.copy()\n",
    "    y = y.copy()\n",
    "        \n",
    "    sig_lst = []\n",
    "    u_lst = []\n",
    "    v_lst = []\n",
    "    y_lst = []\n",
    "    I_lst = []\n",
    "    \n",
    "    for i in range(niter):                \n",
    "        # Update I, u, v and y\n",
    "        I += (sig * K * (y - y0)) / tau * dt\n",
    "        u += (-u + thresh_exp(Wut * I - Wuv * v - sig * IF + np.random.randn(ntrials) * sigma)) / tau * dt\n",
    "        v += (-v + thresh_exp(Wvt * I - Wvu * u + sig * IF + np.random.randn(ntrials) * sigma)) / tau * dt\n",
    "        y += (-y + u - v + np.random.randn(ntrials) * sigma) / tau * dt\n",
    "\n",
    "        v_lst.append(v.copy())\n",
    "        u_lst.append(u.copy())\n",
    "        y_lst.append(y.copy())\n",
    "        I_lst.append(I.copy())\n",
    "        sig_lst.append(sig)    \n",
    "        \n",
    "    return u_lst, v_lst, y_lst, I_lst, sig_lst"
   ]
  },
  {
   "cell_type": "code",
   "execution_count": 4,
   "metadata": {},
   "outputs": [],
   "source": [
    "def plot_simulation_parallel(ulst, vlst, ylst, Ilst, siglst, params_dict):\n",
    "    '''Plot the simulations'''\n",
    "    dt = params_dict['dt']\n",
    "    nsteps = len(ulst)\n",
    "    tlst = np.arange(nsteps).astype('int')\n",
    "    sig_lst = np.floor(tlst / 100) % 2\n",
    "    sig_lst = sig_lst.astype('int')\n",
    "    \n",
    "    ulst_arr = np.array(ulst)\n",
    "    vlst_arr = np.array(vlst)\n",
    "    ylst_arr = np.array(ylst)\n",
    "    Ilst_arr = np.array(Ilst)\n",
    "    \n",
    "    wherelst = np.array(siglst) == 1.0\n",
    "    wherelst_shifted = np.concatenate((wherelst[1:], [False]))\n",
    "    wherelst += wherelst_shifted\n",
    "    \n",
    "    #wherelst2 = np.array(siglst) == 2.0\n",
    "\n",
    "    fig, ax = plt.subplots(4, 1, figsize=(10, 10))\n",
    "    ax[0].plot(np.arange(nsteps) * dt, ulst_arr, 'b', alpha=0.2)\n",
    "    ax[0].set_ylabel('u')\n",
    "    ax[0].fill_between(np.arange(nsteps) * dt, np.min(np.array(ulst)), np.max(np.array(ulst)), where=wherelst, alpha=0.5)\n",
    "    #ax[0].fill_between(np.arange(nsteps) * dt, np.min(np.array(ulst)), np.max(np.array(ulst)), where=wherelst2, alpha=0.2)\n",
    "\n",
    "    ax[1].plot(np.arange(nsteps) * dt, vlst_arr, 'b', alpha=0.2)\n",
    "    ax[1].set_ylabel('v')\n",
    "    ax[1].fill_between(np.arange(nsteps) * dt, np.min(np.array(vlst)), np.max(np.array(vlst)), where=wherelst, alpha=0.5)\n",
    "    #ax[1].fill_between(np.arange(nsteps) * dt, np.min(np.array(vlst)), np.max(np.array(vlst)), where=wherelst2, alpha=0.2)\n",
    "\n",
    "    ax[2].plot(np.arange(nsteps) * dt, ylst_arr, 'b', alpha=0.2)\n",
    "    ax[2].set_ylabel('y')\n",
    "    ax[2].fill_between(np.arange(nsteps) * dt, np.min(np.array(ylst)), np.max(np.array(ylst)), where=wherelst, alpha=0.5)\n",
    "    #ax[2].fill_between(np.arange(nsteps) * dt, np.min(np.array(ylst)), np.max(np.array(ylst)), where=wherelst2, alpha=0.2)\n",
    "    ax[2].hlines(PARAMS_DICT['y0'], 0, nsteps * dt, linestyle='dotted')\n",
    "\n",
    "    ax[3].plot(np.arange(nsteps) * dt, Ilst_arr, 'b', alpha=0.2)\n",
    "    ax[3].set_ylabel('I')\n",
    "    ax[3].fill_between(np.arange(nsteps) * dt, np.min(np.array(Ilst)), np.max(np.array(Ilst)), where=wherelst, alpha=0.5)\n",
    "    #ax[3].fill_between(np.arange(nsteps) * dt, np.min(np.array(Ilst)), np.max(np.array(Ilst)), where=wherelst2, alpha=0.2)\n",
    "    ax[3].set_xlabel('Time (ms)');"
   ]
  },
  {
   "cell_type": "code",
   "execution_count": 5,
   "metadata": {},
   "outputs": [],
   "source": [
    "# Functions for using in a for loop\n",
    "def get_times_lst_from_y(ylst):\n",
    "    '''\n",
    "    Input:\n",
    "    - ylst: np array of y activations\n",
    "    \n",
    "    Output:\n",
    "    A 1d array of the times to threshold of the last behavior\n",
    "    '''\n",
    "    \n",
    "    ndiscard = 10\n",
    "    threshold = PARAMS_DICT['y0']\n",
    "    # Discard first 10 samples\n",
    "    ylst = ylst[ndiscard:]\n",
    "    times_lst = []\n",
    "    ntrials = ylst.shape[1]\n",
    "    \n",
    "    # Find time to act\n",
    "    for k in range(ntrials):\n",
    "        # Check if the bound is reached (sometimes it's not!)\n",
    "        if np.max(ylst[:,k]) > threshold:\n",
    "            times_lst.append(np.nonzero(ylst[:, k] > threshold)[0][0])\n",
    "        else:\n",
    "            times_lst.append(np.inf)\n",
    "            #print('Bound not reached')\n",
    "    \n",
    "    return np.array(times_lst) + ndiscard\n",
    "\n",
    "def simulate_trial(ntrials=1000, duration=600, nstages=10, sigma=0, K=3.0, initI=0.7):\n",
    "    # Initial run\n",
    "    #ntrials = 1000\n",
    "    #duration = 600 #ms\n",
    "    #nstages = 10\n",
    "    PARAMS_DICT['sigma'] = sigma\n",
    "    PARAMS_DICT['K'] = K\n",
    "    \n",
    "    nbin = int(duration / PARAMS_DICT['dt'])\n",
    "    print(nbin)\n",
    "\n",
    "    state_init = [np.ones(ntrials) * initI, \n",
    "                  np.ones(ntrials) * 0.7, \n",
    "                  np.ones(ntrials) * 0.2,\n",
    "                  np.ones(ntrials) * 0.5,\n",
    "                  0.0]\n",
    "\n",
    "    ulst, vlst, ylst, Ilst, siglst = start_simulation_parallel(state_init, PARAMS_DICT, K, sigma, nbin)\n",
    "\n",
    "    # For subsequent runs, flip the state every 100 trials\n",
    "    for k in range((nstages - 2) * 2):\n",
    "        #acoefs = 1 - acoefs\n",
    "        state_init = [Ilst[-1], ulst[-1], vlst[-1], ylst[-1], (state_init[4] + 1.0)%2]\n",
    "        if state_init[4] == 0.0:\n",
    "            ulst2, vlst2, ylst2, Ilst2, siglst2 = start_simulation_parallel(state_init, PARAMS_DICT, K, sigma, nbin)\n",
    "        else:\n",
    "            ulst2, vlst2, ylst2, Ilst2, siglst2 = start_simulation_parallel(state_init, PARAMS_DICT, K, sigma, 1)\n",
    "\n",
    "        ulst += ulst2\n",
    "        vlst += vlst2\n",
    "        ylst += ylst2\n",
    "        Ilst += Ilst2\n",
    "        siglst += siglst2\n",
    "\n",
    "    if nstages > 1:\n",
    "        state_init = [Ilst[-1], ulst[-1], vlst[-1], ylst[-1], (state_init[4] + 1.0)%2]\n",
    "        # For the last run, produce the behavior when the threshold is reached\n",
    "        ulst2, vlst2, ylst2, Ilst2, siglst2 = start_simulation_parallel(state_init, PARAMS_DICT, K, sigma, 1)\n",
    "\n",
    "        ulst += ulst2\n",
    "        vlst += vlst2\n",
    "        ylst += ylst2\n",
    "        Ilst += Ilst2\n",
    "        siglst += siglst2\n",
    "        \n",
    "        state_init = [Ilst[-1], ulst[-1], vlst[-1], ylst[-1], (state_init[4] + 1.0)%2]\n",
    "        # For the last run, produce the behavior when the threshold is reached\n",
    "        ulst2, vlst2, ylst2, Ilst2, siglst2 = start_simulation_parallel(state_init, PARAMS_DICT, K, sigma, nbin * 2)\n",
    "\n",
    "        ulst += ulst2\n",
    "        vlst += vlst2\n",
    "        ylst += ylst2\n",
    "        Ilst += Ilst2\n",
    "        \n",
    "        siglst2[nbin] = 1\n",
    "        siglst += siglst2\n",
    "    else:\n",
    "        print(len(siglst))\n",
    "        siglst[-1] = 1\n",
    "        ylst2 = ylst\n",
    "\n",
    "    return ulst, vlst, ylst, Ilst, siglst, ylst2"
   ]
  },
  {
   "cell_type": "code",
   "execution_count": 11,
   "metadata": {
    "scrolled": false
   },
   "outputs": [
    {
     "name": "stdout",
     "output_type": "stream",
     "text": [
      "60\n",
      "Mean decision time is  58.54666666666667\n"
     ]
    },
    {
     "data": {
      "image/png": "[encoded data removed]",
      "text/plain": [
       "<Figure size 720x720 with 4 Axes>"
      ]
     },
     "metadata": {
      "needs_background": "light"
     },
     "output_type": "display_data"
    }
   ],
   "source": [
    "sigma = 0.018\n",
    "K = 1.1\n",
    "I = 0.83\n",
    "duration = 600\n",
    "\n",
    "#ulst, vlst, ylst, Ilst, siglst, ylst2 = simulate_trial(nstages=3, sigma=sigma, K=K, initI=0.766)\n",
    "np.random.seed(2018)\n",
    "ulst, vlst, ylst, Ilst, siglst, ylst2 = simulate_trial(ntrials=300, nstages=8, duration=duration, sigma=sigma, \n",
    "                                                       K=K, initI=I)\n",
    "plot_simulation_parallel(ulst, vlst, ylst, Ilst, siglst, PARAMS_DICT)\n",
    "\n",
    "Ylst2 = np.array(ylst2)\n",
    "times = get_times_lst_from_y(np.array(Ylst2))\n",
    "times = times[(times > 0) & (times != np.inf)]\n",
    "print('Mean decision time is ', np.mean(times))\n",
    "\n",
    "# Save the parameters in a .mat file\n",
    "#scipy.io.savemat('PlotTools/uv_simulation_data012619_K3_164_I0_7825_s0_0136_1000ms.mat', {'ulst': ulst, 'vlst': vlst, 'ylst': ylst, \n",
    "#                                                  'Ilst': Ilst, 'siglst': siglst, 'PARAMS': PARAMS_DICT,\n",
    "#                                                   'sigma': sigma, 'K': K, 'I': I})"
   ]
  },
  {
   "cell_type": "code",
   "execution_count": 43,
   "metadata": {},
   "outputs": [],
   "source": [
    "# initI = 0.766 for correct time in 600 ms"
   ]
  },
  {
   "cell_type": "code",
   "execution_count": 21,
   "metadata": {},
   "outputs": [
    {
     "name": "stdout",
     "output_type": "stream",
     "text": [
      "Working on K =  0.0\n",
      "Working on K =  0.21052631578947367\n",
      "Working on K =  0.42105263157894735\n",
      "Working on K =  0.631578947368421\n",
      "Working on K =  0.8421052631578947\n",
      "Working on K =  1.0526315789473684\n",
      "Working on K =  1.263157894736842\n",
      "Working on K =  1.4736842105263157\n",
      "Working on K =  1.6842105263157894\n",
      "Working on K =  1.894736842105263\n",
      "Working on K =  2.1052631578947367\n",
      "Working on K =  2.3157894736842106\n",
      "Working on K =  2.526315789473684\n",
      "Working on K =  2.7368421052631575\n",
      "Working on K =  2.9473684210526314\n",
      "Working on K =  3.1578947368421053\n",
      "Working on K =  3.3684210526315788\n",
      "Working on K =  3.578947368421052\n",
      "Working on K =  3.789473684210526\n",
      "Working on K =  4.0\n",
      "Working on K =  0.0\n",
      "Working on K =  0.21052631578947367\n",
      "Working on K =  0.42105263157894735\n",
      "Working on K =  0.631578947368421\n",
      "Working on K =  0.8421052631578947\n",
      "Working on K =  1.0526315789473684\n",
      "Working on K =  1.263157894736842\n",
      "Working on K =  1.4736842105263157\n",
      "Working on K =  1.6842105263157894\n",
      "Working on K =  1.894736842105263\n",
      "Working on K =  2.1052631578947367\n",
      "Working on K =  2.3157894736842106\n",
      "Working on K =  2.526315789473684\n",
      "Working on K =  2.7368421052631575\n",
      "Working on K =  2.9473684210526314\n",
      "Working on K =  3.1578947368421053\n",
      "Working on K =  3.3684210526315788\n",
      "Working on K =  3.578947368421052\n",
      "Working on K =  3.789473684210526\n",
      "Working on K =  4.0\n",
      "Working on K =  0.0\n",
      "Working on K =  0.21052631578947367\n",
      "Working on K =  0.42105263157894735\n",
      "Working on K =  0.631578947368421\n",
      "Working on K =  0.8421052631578947\n",
      "Working on K =  1.0526315789473684\n",
      "Working on K =  1.263157894736842\n",
      "Working on K =  1.4736842105263157\n",
      "Working on K =  1.6842105263157894\n",
      "Working on K =  1.894736842105263\n",
      "Working on K =  2.1052631578947367\n",
      "Working on K =  2.3157894736842106\n",
      "Working on K =  2.526315789473684\n",
      "Working on K =  2.7368421052631575\n",
      "Working on K =  2.9473684210526314\n",
      "Working on K =  3.1578947368421053\n",
      "Working on K =  3.3684210526315788\n",
      "Working on K =  3.578947368421052\n",
      "Working on K =  3.789473684210526\n",
      "Working on K =  4.0\n",
      "Working on K =  0.0\n",
      "Working on K =  0.21052631578947367\n",
      "Working on K =  0.42105263157894735\n",
      "Working on K =  0.631578947368421\n",
      "Working on K =  0.8421052631578947\n",
      "Working on K =  1.0526315789473684\n",
      "Working on K =  1.263157894736842\n",
      "Working on K =  1.4736842105263157\n",
      "Working on K =  1.6842105263157894\n",
      "Working on K =  1.894736842105263\n",
      "Working on K =  2.1052631578947367\n",
      "Working on K =  2.3157894736842106\n",
      "Working on K =  2.526315789473684\n",
      "Working on K =  2.7368421052631575\n",
      "Working on K =  2.9473684210526314\n",
      "Working on K =  3.1578947368421053\n",
      "Working on K =  3.3684210526315788\n",
      "Working on K =  3.578947368421052\n",
      "Working on K =  3.789473684210526\n",
      "Working on K =  4.0\n",
      "Working on K =  0.0\n",
      "Working on K =  0.21052631578947367\n",
      "Working on K =  0.42105263157894735\n",
      "Working on K =  0.631578947368421\n",
      "Working on K =  0.8421052631578947\n",
      "Working on K =  1.0526315789473684\n",
      "Working on K =  1.263157894736842\n",
      "Working on K =  1.4736842105263157\n",
      "Working on K =  1.6842105263157894\n",
      "Working on K =  1.894736842105263\n",
      "Working on K =  2.1052631578947367\n",
      "Working on K =  2.3157894736842106\n",
      "Working on K =  2.526315789473684\n",
      "Working on K =  2.7368421052631575\n",
      "inf encountered\n",
      "Working on K =  2.9473684210526314\n",
      "Working on K =  3.1578947368421053\n",
      "Working on K =  3.3684210526315788\n",
      "inf encountered\n",
      "Working on K =  3.578947368421052\n",
      "Working on K =  3.789473684210526\n",
      "Working on K =  4.0\n",
      "Working on K =  0.0\n",
      "Working on K =  0.21052631578947367\n",
      "Working on K =  0.42105263157894735\n",
      "Working on K =  0.631578947368421\n",
      "Working on K =  0.8421052631578947\n",
      "Working on K =  1.0526315789473684\n",
      "Working on K =  1.263157894736842\n",
      "Working on K =  1.4736842105263157\n",
      "Working on K =  1.6842105263157894\n",
      "Working on K =  1.894736842105263\n",
      "Working on K =  2.1052631578947367\n",
      "Working on K =  2.3157894736842106\n",
      "Working on K =  2.526315789473684\n",
      "Working on K =  2.7368421052631575\n",
      "Working on K =  2.9473684210526314\n",
      "Working on K =  3.1578947368421053\n",
      "Working on K =  3.3684210526315788\n",
      "inf encountered\n",
      "Working on K =  3.578947368421052\n",
      "inf encountered\n",
      "Working on K =  3.789473684210526\n",
      "Working on K =  4.0\n",
      "inf encountered\n"
     ]
    }
   ],
   "source": [
    "np.random.seed(123)\n",
    "Klst = np.linspace(0, 4, 20)\n",
    "sigma_lst = np.linspace(0.01, 0.1, 6)\n",
    "\n",
    "meanlst = np.zeros((len(sigma_lst), len(Klst)))\n",
    "varlst = np.zeros((len(sigma_lst), len(Klst)))\n",
    "\n",
    "for i in range(len(sigma_lst)):\n",
    "    for j in range(len(Klst)):\n",
    "        sigma = sigma_lst[i]\n",
    "        K = Klst[j]\n",
    "        print('Working on K = ', K)\n",
    "        ulst, vlst, ylst, Ilst, siglst, ylst2 = simulate_trial(ntrials=20000, nstages=3, sigma=sigma, K=K, initI=0.778)\n",
    "        times = get_times_lst_from_y(np.array(ylst2), 0.7)\n",
    "        times_filt = times[(times > 0) & (times != np.inf)]\n",
    "        \n",
    "        if len(times_filt) < len(times):\n",
    "            print('inf encountered')\n",
    "            meanlst[i][j] = np.NAN\n",
    "            varlst[i][j] = np.NAN\n",
    "        else:\n",
    "            meanlst[i][j] = np.mean(times)\n",
    "            varlst[i][j] = np.std(times)"
   ]
  },
  {
   "cell_type": "code",
   "execution_count": 21,
   "metadata": {},
   "outputs": [
    {
     "data": {
      "text/plain": [
       "Text(0,0.5,'$\\\\sigma$')"
      ]
     },
     "execution_count": 21,
     "metadata": {},
     "output_type": "execute_result"
    },
    {
     "data": {
      "image/png": "[encoded data removed]",
      "text/plain": [
       "<matplotlib.figure.Figure at 0x2877e012908>"
      ]
     },
     "metadata": {},
     "output_type": "display_data"
    }
   ],
   "source": [
    "plt.figure(figsize=(10, 5))\n",
    "plt.subplot(1, 2, 1)\n",
    "plt.imshow(np.flipud((meanlst - 60)), cmap='RdBu_r', extent=[7, 14, 0, 0.2], aspect='auto')\n",
    "plt.xlabel('K')\n",
    "plt.ylabel(r'$\\sigma$')\n",
    "\n",
    "plt.subplot(1, 2, 2)\n",
    "plt.imshow(np.flipud(varlst), extent=[7, 14, 0, 0.2], cmap='hot', aspect='auto')\n",
    "plt.xlabel('K')\n",
    "plt.ylabel(r'$\\sigma$')"
   ]
  },
  {
   "cell_type": "code",
   "execution_count": 22,
   "metadata": {
    "scrolled": false
   },
   "outputs": [
    {
     "data": {
      "image/png": "[encoded data removed]",
      "text/plain": [
       "<matplotlib.figure.Figure at 0x2877e1977b8>"
      ]
     },
     "metadata": {},
     "output_type": "display_data"
    }
   ],
   "source": [
    "rmselst = np.sqrt((meanlst - 60) ** 2 + varlst**2)\n",
    "\n",
    "fig, ax = plt.subplots(1, 6, figsize=(15, 5))\n",
    "for i in range(6):\n",
    "    sq_bias = (meanlst[i]-400)**2\n",
    "    biasid = np.argmin(sq_bias)\n",
    "    varid = np.argmin(varlst[i])\n",
    "    ax[i].plot(Klst, varlst[i], color='b', label='Std. Dev.')\n",
    "    ax[i].plot(Klst, meanlst[i] - 60, color='g', label='Bias')\n",
    "    ax[i].plot(Klst, rmselst[i], color='k', label='Bias + var')\n",
    "    ax[i].set_ylim((-5, 10))\n",
    "    ax[i].set_xlabel(r'$K$')\n",
    "    ax[i].set_title(r'$\\sigma=$' + str(np.round(sigma_lst[i], 3)))\n",
    "    ax[i].hlines(0, min(Klst), max(Klst), linestyles='--')\n",
    "    #ax[i-1].axvline(x=Klst[biasid], linestyle='--', color='g')\n",
    "    #ax[i-1].axvline(x=Klst[varid], linestyle='--', color='b')\n",
    "\n",
    "ax[0].set_ylabel('Bias and Std. Dev')\n",
    "ax[0].legend(loc='lower left');\n",
    "#save_safe('bias_variance_sigma_sigma.pdf')"
   ]
  },
  {
   "cell_type": "code",
   "execution_count": 23,
   "metadata": {
    "scrolled": false
   },
   "outputs": [
    {
     "data": {
      "image/png": "[encoded data removed]",
      "text/plain": [
       "<matplotlib.figure.Figure at 0x2870058a1d0>"
      ]
     },
     "metadata": {},
     "output_type": "display_data"
    }
   ],
   "source": [
    "sns.set(font_scale=1.5)\n",
    "sns.set_style('white')\n",
    "\n",
    "colorsR = sns.color_palette('OrRd', 6)\n",
    "colorsB = sns.color_palette('Blues', 6)\n",
    "colorsG = sns.color_palette('Greys', 6)\n",
    "\n",
    "rmsemins = np.min(rmselst, axis=1)\n",
    "rmseargmins = np.argmin(rmselst, axis=1)\n",
    "\n",
    "fig, ax = plt.subplots(1, 3, figsize=(15, 5))\n",
    "for i in range(6):\n",
    "    sq_bias = (meanlst[i]-400)**2\n",
    "    biasid = np.argmin(sq_bias)\n",
    "    varid = np.argmin(varlst[i])\n",
    "    #ax[0].plot(Klst, varlst[i], color='b', label='Std. Dev.')\n",
    "    ax[0].plot(Klst, meanlst[i] - 60, color=colorsG[i], \n",
    "               label=r'$\\sigma$ =' + str(np.round(sigma_lst[i], 3)))\n",
    "    #ax[0].plot(Klst, np.sqrt((meanlst[i] - 60) ** 2 + varlst[i]**2), color='k')\n",
    "    ax[0].set_ylim((-5, 20))\n",
    "    ax[0].set_xlabel(r'$K$')\n",
    "    ax[0].set_title('Bias')\n",
    "    ax[0].hlines(0, min(Klst), max(Klst), linestyles='--')\n",
    "    #ax[i-1].axvline(x=Klst[biasid], linestyle='--', color='g')\n",
    "    #ax[i-1].axvline(x=Klst[varid], linestyle='--', color='b')\n",
    "    \n",
    "for i in range(6):\n",
    "    sq_bias = (meanlst[i]-400)**2\n",
    "    biasid = np.argmin(sq_bias)\n",
    "    varid = np.argmin(varlst[i])\n",
    "    ax[1].plot(Klst, varlst[i], color=colorsG[i])\n",
    "    #ax[1].plot(Klst, meanlst[i] - 60, color='g', label='Bias')\n",
    "    #x[1].plot(Klst, np.sqrt((meanlst[i] - 60) ** 2 + varlst[i]**2), color='k')\n",
    "    ax[1].set_ylim((-5, 20))\n",
    "    ax[1].set_xlabel(r'$K$')\n",
    "    ax[1].set_title('Variance')\n",
    "    ax[1].hlines(0, min(Klst), max(Klst), linestyles='--')\n",
    "    #ax[i-1].axvline(x=Klst[biasid], linestyle='--', color='g')\n",
    "    #ax[i-1].axvline(x=Klst[varid], linestyle='--', color='b')\n",
    "    \n",
    "for i in range(6):\n",
    "    sq_bias = (meanlst[i]-400)**2\n",
    "    biasid = np.argmin(sq_bias)\n",
    "    varid = np.argmin(varlst[i])\n",
    "    #ax[0].plot(Klst, varlst[i], color='b', label='Std. Dev.')\n",
    "    #ax[0].plot(Klst, meanlst[i] - 60, color='g', label='Bias')\n",
    "    ax[2].plot(Klst, rmselst[i], color=colorsG[i])\n",
    "    ax[2].set_ylim((-5, 20))\n",
    "    ax[2].set_xlabel(r'$K$')\n",
    "    ax[2].set_title('RMSE')\n",
    "    ax[2].hlines(0, min(Klst), max(Klst), linestyles='--')\n",
    "    #ax[2].plot(Klst[rmseargmins], rmsemins, '--', color=[1,0,0])\n",
    "    ax[2].plot(Klst[rmseargmins], rmsemins, 'o', color=[1,0,0])\n",
    "    ax[2].axvline(x=Klst[rmseargmins[0]], linestyle='--', color=[1,0,0])\n",
    "    #ax[i-1].axvline(x=Klst[varid], linestyle='--', color='b')\n",
    "\n",
    "#ax[0].set_ylabel('Bias and Std. Dev')\n",
    "ax[0].legend(loc='upper right',\n",
    "               prop={'size': 13});\n",
    "plt.savefig('bias_variance_rmse_by_sigma.pdf')"
   ]
  },
  {
   "cell_type": "code",
   "execution_count": 24,
   "metadata": {},
   "outputs": [
    {
     "data": {
      "text/plain": [
       "array([14, 15, 13, 10,  7,  6], dtype=int64)"
      ]
     },
     "execution_count": 24,
     "metadata": {},
     "output_type": "execute_result"
    }
   ],
   "source": [
    "mselst = (meanlst - 60) ** 2 + varlst ** 2\n",
    "mselst[np.isnan(mselst)] = np.inf\n",
    "np.argmin(mselst, axis=1)\n",
    "\n",
    "# TODO: simulate multiple times and take the average"
   ]
  },
  {
   "cell_type": "markdown",
   "metadata": {},
   "source": [
    "### Sampling from a prior"
   ]
  },
  {
   "cell_type": "code",
   "execution_count": 25,
   "metadata": {},
   "outputs": [
    {
     "name": "stdout",
     "output_type": "stream",
     "text": [
      "Working on K =  0.0\n",
      "Working on K =  0.210526315789\n",
      "Working on K =  0.421052631579\n",
      "Working on K =  0.631578947368\n",
      "Working on K =  0.842105263158\n",
      "Working on K =  1.05263157895\n",
      "Working on K =  1.26315789474\n",
      "Working on K =  1.47368421053\n",
      "Working on K =  1.68421052632\n",
      "Working on K =  1.89473684211\n",
      "Working on K =  2.10526315789\n",
      "Working on K =  2.31578947368\n",
      "Working on K =  2.52631578947\n",
      "Working on K =  2.73684210526\n",
      "Working on K =  2.94736842105\n",
      "Working on K =  3.15789473684\n",
      "Working on K =  3.36842105263\n",
      "Working on K =  3.57894736842\n",
      "Working on K =  3.78947368421\n",
      "Working on K =  4.0\n",
      "Working on K =  0.0\n",
      "Working on K =  0.210526315789\n",
      "Working on K =  0.421052631579\n",
      "Working on K =  0.631578947368\n",
      "Working on K =  0.842105263158\n",
      "Working on K =  1.05263157895\n",
      "Working on K =  1.26315789474\n",
      "Working on K =  1.47368421053\n",
      "Working on K =  1.68421052632\n",
      "Working on K =  1.89473684211\n",
      "Working on K =  2.10526315789\n",
      "Working on K =  2.31578947368\n",
      "Working on K =  2.52631578947\n",
      "Working on K =  2.73684210526\n",
      "Working on K =  2.94736842105\n",
      "Working on K =  3.15789473684\n",
      "Working on K =  3.36842105263\n",
      "Working on K =  3.57894736842\n",
      "Working on K =  3.78947368421\n",
      "Working on K =  4.0\n",
      "Working on K =  0.0\n",
      "Working on K =  0.210526315789\n",
      "Working on K =  0.421052631579\n",
      "Working on K =  0.631578947368\n",
      "Working on K =  0.842105263158\n",
      "Working on K =  1.05263157895\n",
      "Working on K =  1.26315789474\n",
      "Working on K =  1.47368421053\n",
      "Working on K =  1.68421052632\n",
      "Working on K =  1.89473684211\n",
      "Working on K =  2.10526315789\n",
      "Working on K =  2.31578947368\n",
      "Working on K =  2.52631578947\n",
      "Working on K =  2.73684210526\n",
      "Working on K =  2.94736842105\n",
      "Working on K =  3.15789473684\n",
      "Working on K =  3.36842105263\n",
      "Working on K =  3.57894736842\n",
      "Working on K =  3.78947368421\n",
      "Working on K =  4.0\n",
      "Working on K =  0.0\n",
      "Working on K =  0.210526315789\n",
      "Working on K =  0.421052631579\n",
      "Working on K =  0.631578947368\n",
      "Working on K =  0.842105263158\n",
      "Working on K =  1.05263157895\n",
      "Working on K =  1.26315789474\n",
      "Working on K =  1.47368421053\n",
      "Working on K =  1.68421052632\n",
      "Working on K =  1.89473684211\n",
      "Working on K =  2.10526315789\n",
      "Working on K =  2.31578947368\n",
      "Working on K =  2.52631578947\n",
      "Working on K =  2.73684210526\n",
      "Working on K =  2.94736842105\n",
      "Working on K =  3.15789473684\n",
      "Working on K =  3.36842105263\n",
      "Working on K =  3.57894736842\n",
      "Working on K =  3.78947368421\n",
      "Working on K =  4.0\n",
      "Working on K =  0.0\n",
      "Working on K =  0.210526315789\n",
      "Working on K =  0.421052631579\n",
      "Working on K =  0.631578947368\n",
      "Working on K =  0.842105263158\n",
      "Working on K =  1.05263157895\n",
      "Working on K =  1.26315789474\n",
      "Working on K =  1.47368421053\n",
      "Working on K =  1.68421052632\n",
      "Working on K =  1.89473684211\n",
      "Working on K =  2.10526315789\n",
      "Working on K =  2.31578947368\n",
      "Working on K =  2.52631578947\n",
      "Working on K =  2.73684210526\n",
      "inf encountered\n",
      "Working on K =  2.94736842105\n",
      "Working on K =  3.15789473684\n",
      "Working on K =  3.36842105263\n",
      "inf encountered\n",
      "Working on K =  3.57894736842\n",
      "Working on K =  3.78947368421\n",
      "Working on K =  4.0\n",
      "Working on K =  0.0\n",
      "Working on K =  0.210526315789\n",
      "Working on K =  0.421052631579\n",
      "Working on K =  0.631578947368\n",
      "Working on K =  0.842105263158\n",
      "Working on K =  1.05263157895\n",
      "Working on K =  1.26315789474\n",
      "Working on K =  1.47368421053\n",
      "Working on K =  1.68421052632\n",
      "Working on K =  1.89473684211\n",
      "Working on K =  2.10526315789\n",
      "Working on K =  2.31578947368\n",
      "Working on K =  2.52631578947\n",
      "Working on K =  2.73684210526\n",
      "Working on K =  2.94736842105\n",
      "Working on K =  3.15789473684\n",
      "Working on K =  3.36842105263\n",
      "inf encountered\n",
      "Working on K =  3.57894736842\n",
      "inf encountered\n",
      "Working on K =  3.78947368421\n",
      "Working on K =  4.0\n",
      "inf encountered\n"
     ]
    }
   ],
   "source": [
    "np.random.seed(123)\n",
    "Klst = np.linspace(0, 4, 20)\n",
    "sigma_lst = np.linspace(0.01, 0.1, 6)\n",
    "\n",
    "meanlst = np.zeros((len(sigma_lst), len(Klst)))\n",
    "varlst = np.zeros((len(sigma_lst), len(Klst)))\n",
    "\n",
    "for i in range(len(sigma_lst)):\n",
    "    for j in range(len(Klst)):\n",
    "        sigma = sigma_lst[i]\n",
    "        K = Klst[j]\n",
    "        print('Working on K = ', K)\n",
    "        ulst, vlst, ylst, Ilst, siglst, ylst2 = simulate_trial(ntrials=20000, nstages=3, sigma=sigma, K=K, initI=0.778)\n",
    "        times = get_times_lst_from_y(np.array(ylst2), 0.7)\n",
    "        times_filt = times[(times > 0) & (times != np.inf)]\n",
    "        \n",
    "        if len(times_filt) < len(times):\n",
    "            print('inf encountered')\n",
    "            meanlst[i][j] = np.NAN\n",
    "            varlst[i][j] = np.NAN\n",
    "        else:\n",
    "            meanlst[i][j] = np.mean(times)\n",
    "            varlst[i][j] = np.std(times)"
   ]
  },
  {
   "cell_type": "markdown",
   "metadata": {},
   "source": [
    "### Ready, Set, Go task"
   ]
  },
  {
   "cell_type": "markdown",
   "metadata": {},
   "source": [
    "To simulate the Ready, Set, Go task, we first pick a parameter (arbitrarily within the set of parameters simulated above. We will pick $\\sigma = 0.01, I_{init} = 0.77$.\n",
    "\n",
    "From the graph above, the optimal value of $K$ for these parameters is $K \\approx 1.9$. We can now simulate the RSG task below."
   ]
  },
  {
   "cell_type": "code",
   "execution_count": 157,
   "metadata": {},
   "outputs": [
    {
     "name": "stdout",
     "output_type": "stream",
     "text": [
      "('*** sigma = ', 0.02, ' ***')\n",
      "('I = ', 0.785, 'K = ', 2.5, 'Total MSE = ', 8630.550388011185)\n"
     ]
    }
   ],
   "source": [
    "#KI optimization for subject SWE in RSG, sigma = 0.01 (found by fitting sd of responses)\n",
    "# Pick a trial duration from [400, 600], and find the MSE across the different trial durations\n",
    "\n",
    "# Initiate the trial with a fixed current, trial duration is randomized in [600, 1000]\n",
    "durations = np.linspace(600, 1000, 5)\n",
    "\n",
    "prod_time_lst = []\n",
    "prod_var_lst = []\n",
    "\n",
    "sigma_lst = [0.02] #np.linspace(0.005, 0.06, 12)\n",
    "\n",
    "nK = 10\n",
    "nI = 10\n",
    "Klst = [2.5]#np.linspace(2, 3.5, nK)\n",
    "initIlst = [0.785] #np.linspace(0.775, 0.79, nI)\n",
    "MSELST2 = []\n",
    "\n",
    "for id_s, sigma in enumerate(sigma_lst):\n",
    "    print('*** sigma = ', sigma, ' ***')\n",
    "    mse_lst = np.zeros((nI, nK))\n",
    "    for i, I in enumerate(initIlst):\n",
    "        for j, K in enumerate(Klst):\n",
    "            #print('I = ', I, 'K = ', K)\n",
    "            mse_total = 0\n",
    "            for k, time in enumerate(durations):\n",
    "                #print('Doing time #', i, '=', time)\n",
    "\n",
    "                ulst, vlst, ylst, Ilst, siglst, ylst2 = simulate_trial(ntrials=1000, nstages=3, \n",
    "                                                                       duration=time, sigma=sigma, K=K, initI=I)\n",
    "\n",
    "                Ylst2 = np.array(ylst2)\n",
    "                times = get_times_lst_from_y(np.array(Ylst2), 0.7)\n",
    "                times = times[(times > 0) & (times != np.inf)]\n",
    "\n",
    "                mse_total += np.sum((times * 10 - time)**2)\n",
    "\n",
    "            mse_lst[i][j] = mse_total\n",
    "            print('I = ', I, 'K = ', K, 'Total MSE = ', np.sqrt(np.mean(mse_total)))\n",
    "    MSELST2.append(mse_lst)\n",
    "    "
   ]
  },
  {
   "cell_type": "code",
   "execution_count": 153,
   "metadata": {
    "scrolled": false
   },
   "outputs": [],
   "source": [
    "scipy.io.savemat('PlotTools/IK_relationship_sigma_0-02_102918_1000trials.mat', {'MSELST': MSELST2,\n",
    "                                                          'Klst': Klst,\n",
    "                                                          'Ilst': initIlst})"
   ]
  },
  {
   "cell_type": "code",
   "execution_count": 134,
   "metadata": {},
   "outputs": [
    {
     "data": {
      "text/plain": [
       "<matplotlib.image.AxesImage at 0x2a1518d0>"
      ]
     },
     "execution_count": 134,
     "metadata": {},
     "output_type": "execute_result"
    },
    {
     "data": {
      "image/png": "[encoded data removed]",
      "text/plain": [
       "<Figure size 432x288 with 1 Axes>"
      ]
     },
     "metadata": {},
     "output_type": "display_data"
    }
   ],
   "source": [
    "plt.imshow(mse_lst)"
   ]
  },
  {
   "cell_type": "code",
   "execution_count": 160,
   "metadata": {
    "scrolled": false
   },
   "outputs": [
    {
     "name": "stdout",
     "output_type": "stream",
     "text": [
      "('*** sigma = ', 0.02, ' ***')\n",
      "('I = ', 0.7837133649833965, 'K = ', 2.9213348087100153, 'Total MSE = ', 7938.041320124254)\n",
      "('I = ', 0.7880453230422734, 'K = ', 2.5447168088031233, 'Total MSE = ', 10676.614631988925)\n",
      "('I = ', 0.7844541462570103, 'K = ', 2.927486524259661, 'Total MSE = ', 8246.714497301335)\n",
      "('I = ', 0.7867492128685465, 'K = ', 2.6587616155665925, 'Total MSE = ', 9509.589896520249)\n",
      "('I = ', 0.7848184621558446, 'K = ', 1.339548326448096, 'Total MSE = ', 12077.048480485619)\n",
      "('I = ', 0.7852518468572981, 'K = ', 3.267444719919221, 'Total MSE = ', 8355.351578479507)\n",
      "('I = ', 0.7890893901556585, 'K = ', 2.906196921480684, 'Total MSE = ', 10279.017462773376)\n",
      "('I = ', 0.784792116441035, 'K = ', 1.2420830941498582, 'Total MSE = ', 12895.161883435198)\n",
      "('I = ', 0.782230851899858, 'K = ', 1.389113974270706, 'Total MSE = ', 9254.679897219568)\n",
      "('I = ', 0.7845762252786488, 'K = ', 2.3586256442745057, 'Total MSE = ', 8826.48287824771)\n",
      "('I = ', 0.7815956074915967, 'K = ', 3.419840523562332, 'Total MSE = ', 8251.581666565507)\n",
      "('I = ', 0.7838513028343395, 'K = ', 3.3998904753171075, 'Total MSE = ', 8222.323272652322)\n",
      "('I = ', 0.7896729920382051, 'K = ', 3.0336397606906655, 'Total MSE = ', 10343.161992350308)\n",
      "('I = ', 0.7896264431369739, 'K = ', 2.424018653260848, 'Total MSE = ', 12930.549098936208)\n",
      "('I = ', 0.7871502662753591, 'K = ', 3.239899988658482, 'Total MSE = ', 8485.605458657621)\n",
      "('I = ', 0.788771820583182, 'K = ', 1.2943469221552273, 'Total MSE = ', 21156.013329547703)\n",
      "('I = ', 0.7886578451249961, 'K = ', 2.296918725172543, 'Total MSE = ', 12613.679082646744)\n",
      "('I = ', 0.7862664751394953, 'K = ', 1.649394308475713, 'Total MSE = ', 12614.975227878967)\n",
      "('I = ', 0.7854255863340776, 'K = ', 3.0740070560022543, 'Total MSE = ', 8522.84576887321)\n",
      "('I = ', 0.784556157546485, 'K = ', 2.7489957323739924, 'Total MSE = ', 8248.515017868367)\n",
      "('I = ', 0.784349823638559, 'K = ', 2.527684152855492, 'Total MSE = ', 8371.367869111953)\n",
      "('I = ', 0.7868006603818928, 'K = ', 1.5765950300762226, 'Total MSE = ', 14202.60187430458)\n",
      "('I = ', 0.7882458971146484, 'K = ', 2.6158907578570973, 'Total MSE = ', 10513.172689535733)\n",
      "('I = ', 0.7884045193581274, 'K = ', 2.0817742780917525, 'Total MSE = ', 13655.284691283445)\n",
      "('I = ', 0.7805130618748054, 'K = ', 2.748938537071809, 'Total MSE = ', 8304.197733676625)\n",
      "('I = ', 0.7830527458103838, 'K = ', 2.035980521542144, 'Total MSE = ', 8539.713109935252)\n",
      "('I = ', 0.7833147308497205, 'K = ', 2.3373940806487727, 'Total MSE = ', 8263.836881255584)\n",
      "('I = ', 0.788766982256631, 'K = ', 2.664263401615268, 'Total MSE = ', 10719.878730657358)\n",
      "('I = ', 0.789099325288306, 'K = ', 1.7417892945386109, 'Total MSE = ', 17399.502866461444)\n",
      "('I = ', 0.7801208128270399, 'K = ', 1.8042841122777702, 'Total MSE = ', 8507.302745288896)\n",
      "('I = ', 0.7882258614625357, 'K = ', 3.0630809979547573, 'Total MSE = ', 9249.394574781638)\n",
      "('I = ', 0.7836735620053359, 'K = ', 1.1101862290551594, 'Total MSE = ', 11802.135400002831)\n",
      "('I = ', 0.7839707461745794, 'K = ', 1.7812188743346309, 'Total MSE = ', 9613.266874481327)\n",
      "('I = ', 0.7873773498429562, 'K = ', 2.7683413129483867, 'Total MSE = ', 9641.898153372083)\n",
      "('I = ', 0.7872551891474737, 'K = ', 3.092702825454825, 'Total MSE = ', 9114.439094096795)\n",
      "('I = ', 0.7899723755589312, 'K = ', 2.3084017239161003, 'Total MSE = ', 14286.724607130915)\n",
      "('I = ', 0.7871699937952916, 'K = ', 1.1127220811674576, 'Total MSE = ', 19146.618500403667)\n",
      "('I = ', 0.7869310099369997, 'K = ', 2.148497763080192, 'Total MSE = ', 11145.290485222895)\n",
      "('I = ', 0.7849139349211717, 'K = ', 2.4413409850418963, 'Total MSE = ', 8826.49987254291)\n",
      "('I = ', 0.7827517977957053, 'K = ', 1.6495756425810555, 'Total MSE = ', 9198.353113465475)\n",
      "('I = ', 0.7825845431040656, 'K = ', 2.250813661436028, 'Total MSE = ', 8316.164981528445)\n",
      "('I = ', 0.785221074453811, 'K = ', 3.069204950359369, 'Total MSE = ', 8214.359378551684)\n",
      "('I = ', 0.7856020621987967, 'K = ', 1.7841260895485611, 'Total MSE = ', 11055.812950660842)\n",
      "('I = ', 0.7888449648068493, 'K = ', 2.706139870303349, 'Total MSE = ', 10999.672722404062)\n",
      "('I = ', 0.7896794596238328, 'K = ', 1.6432431920795358, 'Total MSE = ', 19836.781492974107)\n",
      "('I = ', 0.7820812144594669, 'K = ', 2.851726866097792, 'Total MSE = ', 8121.853236792696)\n",
      "('I = ', 0.7835569005876697, 'K = ', 2.9549064951123407, 'Total MSE = ', 8147.079231233731)\n",
      "('I = ', 0.78873743638857, 'K = ', 2.294260146092597, 'Total MSE = ', 12754.920619117942)\n",
      "('I = ', 0.7801853691312607, 'K = ', 2.8283116827306736, 'Total MSE = ', 8401.446304059795)\n",
      "('I = ', 0.7845652970453216, 'K = ', 2.608059139703358, 'Total MSE = ', 8703.171835601088)\n",
      "('I = ', 0.7805359388786927, 'K = ', 1.5094966038744932, 'Total MSE = ', 8734.420415803215)\n",
      "('I = ', 0.7891311574190676, 'K = ', 1.2402600004815536, 'Total MSE = ', 23865.372404385398)\n",
      "('I = ', 0.7841805115958878, 'K = ', 2.9634661926176236, 'Total MSE = ', 8110.425389583459)\n",
      "('I = ', 0.7854189020258129, 'K = ', 3.4551902618753507, 'Total MSE = ', 8356.356861695172)\n",
      "('I = ', 0.7865470850653259, 'K = ', 2.8942744790836223, 'Total MSE = ', 9209.91313748398)\n",
      "('I = ', 0.7831300032523165, 'K = ', 1.6458990041881179, 'Total MSE = ', 9204.955187289072)\n",
      "('I = ', 0.7850731591795124, 'K = ', 1.6395639139618516, 'Total MSE = ', 10871.315467780336)\n",
      "('I = ', 0.7875288315641285, 'K = ', 2.5366871077755646, 'Total MSE = ', 10349.57487049589)\n",
      "('I = ', 0.7889175406192297, 'K = ', 1.6395043899623507, 'Total MSE = ', 18328.55695356293)\n",
      "('I = ', 0.782628270469465, 'K = ', 2.841585919966555, 'Total MSE = ', 8177.1633223263925)\n",
      "('I = ', 0.7852923967291426, 'K = ', 2.604240877853045, 'Total MSE = ', 8731.448906109455)\n",
      "('I = ', 0.7861723032841387, 'K = ', 2.1213022659919996, 'Total MSE = ', 10612.737629848389)\n",
      "('I = ', 0.7827512316243281, 'K = ', 2.903941307337142, 'Total MSE = ', 8209.189972220158)\n",
      "('I = ', 0.7851331343977009, 'K = ', 2.600097499730661, 'Total MSE = ', 8712.215562071453)\n",
      "('I = ', 0.7878897023631252, 'K = ', 1.640303818212736, 'Total MSE = ', 15718.524103744601)\n",
      "('I = ', 0.7814706860180436, 'K = ', 2.0934197503280245, 'Total MSE = ', 8168.922817605759)\n",
      "('I = ', 0.7894011379392528, 'K = ', 3.042839199219064, 'Total MSE = ', 10046.521786170575)\n",
      "('I = ', 0.7896396568151964, 'K = ', 1.8646106681439454, 'Total MSE = ', 17179.266573401786)\n",
      "('I = ', 0.7888961062129677, 'K = ', 2.8736479748429984, 'Total MSE = ', 10386.539365929348)\n",
      "('I = ', 0.7877278899413747, 'K = ', 3.229639942088379, 'Total MSE = ', 8490.559463309824)\n",
      "('I = ', 0.782475076602174, 'K = ', 2.454110937141623, 'Total MSE = ', 7915.339537884651)\n",
      "('I = ', 0.7809621500460594, 'K = ', 1.517970313422831, 'Total MSE = ', 8642.626915469626)\n",
      "('I = ', 0.7869103294933792, 'K = ', 2.807275321790687, 'Total MSE = ', 9333.397023592213)\n",
      "('I = ', 0.7801396398432862, 'K = ', 2.35921573219618, 'Total MSE = ', 8322.427530474506)\n",
      "('I = ', 0.7821536395465627, 'K = ', 2.104353216612041, 'Total MSE = ', 8362.128915533413)\n",
      "('I = ', 0.7872586812194088, 'K = ', 3.205755722442283, 'Total MSE = ', 8856.398816674868)\n",
      "('I = ', 0.7886688212985884, 'K = ', 2.7190953109698004, 'Total MSE = ', 10931.89370603282)\n",
      "('I = ', 0.7811771817205149, 'K = ', 2.6283233665204184, 'Total MSE = ', 8091.205101837427)\n",
      "('I = ', 0.7812717696496438, 'K = ', 2.533955130682354, 'Total MSE = ', 8197.914368911157)\n",
      "('I = ', 0.7873522488965119, 'K = ', 2.6084342843109503, 'Total MSE = ', 10025.557341115755)\n",
      "('I = ', 0.7881453245642276, 'K = ', 3.0709736491061737, 'Total MSE = ', 9176.987523147234)\n",
      "('I = ', 0.7835430947222006, 'K = ', 2.29794858105856, 'Total MSE = ', 8296.451048490553)\n",
      "('I = ', 0.7892341106492304, 'K = ', 2.1889449368977916, 'Total MSE = ', 13947.666471492641)\n",
      "('I = ', 0.7870724293406302, 'K = ', 1.184551928577473, 'Total MSE = ', 18236.921341059733)\n",
      "('I = ', 0.7893380369685261, 'K = ', 1.5854490688373746, 'Total MSE = ', 19439.98456789511)\n",
      "('I = ', 0.7890586048853838, 'K = ', 3.023207263810285, 'Total MSE = ', 10018.662585395317)\n",
      "('I = ', 0.7897382958390814, 'K = ', 2.595710866948138, 'Total MSE = ', 12256.842986674832)\n",
      "('I = ', 0.7866419930572794, 'K = ', 1.4819906511540122, 'Total MSE = ', 14398.128350587795)\n",
      "('I = ', 0.7882854377618737, 'K = ', 3.0568707367738654, 'Total MSE = ', 9530.870894099868)\n"
     ]
    },
    {
     "name": "stdout",
     "output_type": "stream",
     "text": [
      "('I = ', 0.7863772378040779, 'K = ', 2.3765279940553987, 'Total MSE = ', 9888.892759050428)\n",
      "('I = ', 0.7853972056430794, 'K = ', 1.0535679903876054, 'Total MSE = ', 15488.763669189351)\n",
      "('I = ', 0.7820053097071124, 'K = ', 2.6482389364875085, 'Total MSE = ', 7995.298618563286)\n",
      "('I = ', 0.787809418057636, 'K = ', 1.0280397431123567, 'Total MSE = ', 22370.668295784104)\n",
      "('I = ', 0.780511140446812, 'K = ', 2.8671375368164416, 'Total MSE = ', 8328.823446321816)\n",
      "('I = ', 0.781548595939042, 'K = ', 1.5638375567823117, 'Total MSE = ', 8761.763521118337)\n",
      "('I = ', 0.7895825328859875, 'K = ', 2.5915853304728276, 'Total MSE = ', 12188.096652061799)\n",
      "('I = ', 0.7849008566822372, 'K = ', 1.552656542476702, 'Total MSE = ', 11599.974137902205)\n",
      "('I = ', 0.7840203148814342, 'K = ', 1.8608131417530727, 'Total MSE = ', 9371.824795630784)\n",
      "('I = ', 0.7846198334510011, 'K = ', 1.8317168260049153, 'Total MSE = ', 9881.892531291767)\n",
      "('I = ', 0.7831120194003423, 'K = ', 3.496702483644728, 'Total MSE = ', 8144.832717741967)\n"
     ]
    }
   ],
   "source": [
    "# Doing random sampling for (I,K)\n",
    "\n",
    "# Initiate the trial with a fixed current, trial duration is randomized in [600, 1000]\n",
    "durations = np.linspace(600, 1000, 5)\n",
    "\n",
    "prod_time_lst = []\n",
    "prod_var_lst = []\n",
    "\n",
    "sigma_lst = [0.02] #np.linspace(0.005, 0.06, 12)\n",
    "\n",
    "nsamples = 100\n",
    "Klst = np.random.uniform(low=1, high=3.5, size=nsamples)\n",
    "initIlst = np.random.uniform(low=0.78, high=0.79, size=nsamples)\n",
    "MSELST2 = []\n",
    "ILST = []\n",
    "KLST = []\n",
    "\n",
    "for id_s, sigma in enumerate(sigma_lst):\n",
    "    print('*** sigma = ', sigma, ' ***')\n",
    "    mse_lst = np.zeros(nsamples)\n",
    "    for i in range(nsamples):\n",
    "        I = initIlst[i]\n",
    "        K = Klst[i]\n",
    "        mse_total = 0\n",
    "        for k, time in enumerate(durations):\n",
    "            #print('Doing time #', i, '=', time)\n",
    "\n",
    "            ulst, vlst, ylst, Ilst, siglst, ylst2 = simulate_trial(ntrials=1000, nstages=3, \n",
    "                                                                   duration=time, sigma=sigma, K=K, initI=I)\n",
    "\n",
    "            Ylst2 = np.array(ylst2)\n",
    "            times = get_times_lst_from_y(np.array(Ylst2), 0.7)\n",
    "            times = times[(times > 0) & (times != np.inf)]\n",
    "\n",
    "            mse_total += np.sum((times * 10 - time)**2)\n",
    "\n",
    "        mse_lst[i] = mse_total\n",
    "        print('I = ', I, 'K = ', K, 'Total MSE = ', np.sqrt(np.mean(mse_total)))\n",
    "    MSELST2.append(mse_lst)\n",
    "    \n",
    "#plt.plot(initIlst, mse_lst)"
   ]
  },
  {
   "cell_type": "code",
   "execution_count": 192,
   "metadata": {
    "scrolled": false
   },
   "outputs": [
    {
     "name": "stdout",
     "output_type": "stream",
     "text": [
      "('*** sigma = ', 0.005, ' ***')\n",
      "('Running iteration #', 0)\n",
      "('Kmin = ', 3.473439866542528, ', Imin =', 0.7833649461950634)\n",
      "('Running iteration #', 1)\n",
      "('Kmin = ', 3.289267854099065, ', Imin =', 0.7825300873154746)\n",
      "('Running iteration #', 2)\n",
      "('Kmin = ', 3.2965264473010407, ', Imin =', 0.7823513107249025)\n",
      "('Running iteration #', 3)\n",
      "('Kmin = ', 3.0079553694380174, ', Imin =', 0.7825097800313324)\n",
      "('Running iteration #', 4)\n",
      "('Kmin = ', 3.2962773331279793, ', Imin =', 0.782306759964518)\n",
      "('*** sigma = ', 0.010000000000000002, ' ***')\n",
      "('Running iteration #', 0)\n",
      "('Kmin = ', 3.3232346489717854, ', Imin =', 0.7823708472332218)\n",
      "('Running iteration #', 1)\n",
      "('Kmin = ', 2.9079111190673945, ', Imin =', 0.781935348027479)\n",
      "('Running iteration #', 2)\n",
      "('Kmin = ', 3.201816164828163, ', Imin =', 0.7818288540201754)\n",
      "('Running iteration #', 3)\n",
      "('Kmin = ', 3.1424500397883954, ', Imin =', 0.7822303076296452)\n",
      "('Running iteration #', 4)\n",
      "('Kmin = ', 3.334621579187108, ', Imin =', 0.7838210642208151)\n",
      "('*** sigma = ', 0.015000000000000003, ' ***')\n",
      "('Running iteration #', 0)\n",
      "('Kmin = ', 3.1803413331790473, ', Imin =', 0.7822846433370731)\n",
      "('Running iteration #', 1)\n",
      "('Kmin = ', 3.1807324735411084, ', Imin =', 0.7815796438023382)\n",
      "('Running iteration #', 2)\n",
      "('Kmin = ', 3.2168433085826313, ', Imin =', 0.7824810514802883)\n",
      "('Running iteration #', 3)\n",
      "('Kmin = ', 2.8514686415095287, ', Imin =', 0.7814417861252518)\n",
      "('Running iteration #', 4)\n",
      "('Kmin = ', 3.2254021525394894, ', Imin =', 0.782323802747272)\n",
      "('*** sigma = ', 0.020000000000000004, ' ***')\n",
      "('Running iteration #', 0)\n",
      "('Kmin = ', 2.9088664285422237, ', Imin =', 0.7822350990410186)\n",
      "('Running iteration #', 1)\n",
      "('Kmin = ', 3.009037571214273, ', Imin =', 0.7830908473700567)\n",
      "('Running iteration #', 2)\n",
      "('Kmin = ', 2.4122369957899537, ', Imin =', 0.7833788977114191)\n",
      "('Running iteration #', 3)\n",
      "('Kmin = ', 2.7854873655152783, ', Imin =', 0.7831534795593255)\n",
      "('Running iteration #', 4)\n",
      "('Kmin = ', 2.8613034473413896, ', Imin =', 0.7842683383877402)\n",
      "('*** sigma = ', 0.025000000000000005, ' ***')\n",
      "('Running iteration #', 0)\n",
      "('Kmin = ', 3.1151653326665913, ', Imin =', 0.7843777139703945)\n",
      "('Running iteration #', 1)\n",
      "('Kmin = ', 3.015998002000486, ', Imin =', 0.7856851769533236)\n",
      "('Running iteration #', 2)\n",
      "('Kmin = ', 2.735560220549374, ', Imin =', 0.7831602986279567)\n",
      "('Running iteration #', 3)\n",
      "('Kmin = ', 2.5828852273905003, ', Imin =', 0.7835819205367643)\n",
      "('Running iteration #', 4)\n",
      "('Kmin = ', 2.297480147473702, ', Imin =', 0.7826178852257782)\n",
      "('*** sigma = ', 0.030000000000000006, ' ***')\n",
      "('Running iteration #', 0)\n",
      "('Kmin = ', 2.369899729508978, ', Imin =', 0.782731049113376)\n",
      "('Running iteration #', 1)\n",
      "('Kmin = ', 2.500820730006092, ', Imin =', 0.7834799214542072)\n",
      "('Running iteration #', 2)\n",
      "('Kmin = ', 2.589125755388192, ', Imin =', 0.7835237299458558)\n",
      "('Running iteration #', 3)\n",
      "('Kmin = ', 2.619459280488228, ', Imin =', 0.7850524193853644)\n",
      "('Running iteration #', 4)\n",
      "('Kmin = ', 2.6411304330075005, ', Imin =', 0.7838705729988855)\n",
      "('*** sigma = ', 0.035, ' ***')\n",
      "('Running iteration #', 0)\n",
      "('Kmin = ', 2.2455341746048028, ', Imin =', 0.7838586695922111)\n",
      "('Running iteration #', 1)\n",
      "('Kmin = ', 1.9640932046925816, ', Imin =', 0.78357313156524)\n",
      "('Running iteration #', 2)\n",
      "('Kmin = ', 2.6300092217961124, ', Imin =', 0.7830455977877003)\n",
      "('Running iteration #', 3)\n",
      "('Kmin = ', 2.6005810365142397, ', Imin =', 0.7855033509332238)\n",
      "('Running iteration #', 4)\n",
      "('Kmin = ', 2.686318500749862, ', Imin =', 0.7858646518939203)\n",
      "('*** sigma = ', 0.04, ' ***')\n",
      "('Running iteration #', 0)\n",
      "('Kmin = ', 1.9171534495406544, ', Imin =', 0.7823663600104153)\n",
      "('Running iteration #', 1)\n",
      "('Kmin = ', 2.1853642271258558, ', Imin =', 0.7837756656413933)\n",
      "('Running iteration #', 2)\n",
      "('Kmin = ', 2.6506222381173337, ', Imin =', 0.784872411203839)\n",
      "('Running iteration #', 3)\n",
      "('Kmin = ', 2.284488732420198, ', Imin =', 0.7836251573152325)\n",
      "('Running iteration #', 4)\n",
      "('Kmin = ', 2.2228736957671593, ', Imin =', 0.7833423847645811)\n",
      "('*** sigma = ', 0.045000000000000005, ' ***')\n",
      "('Running iteration #', 0)\n",
      "('Kmin = ', 2.964798709987094, ', Imin =', 0.7863135329578554)\n",
      "('Running iteration #', 1)\n",
      "('Kmin = ', 1.7411973297474765, ', Imin =', 0.7841285455248419)\n",
      "('Running iteration #', 2)\n",
      "('Kmin = ', 2.0252076596086868, ', Imin =', 0.784158829176272)\n",
      "('Running iteration #', 3)\n",
      "('Kmin = ', 2.2658823635503937, ', Imin =', 0.7849536107685108)\n",
      "('Running iteration #', 4)\n",
      "('Kmin = ', 1.9425014698120584, ', Imin =', 0.7851502845512243)\n",
      "('*** sigma = ', 0.05, ' ***')\n",
      "('Running iteration #', 0)\n",
      "('Kmin = ', 2.259362565791015, ', Imin =', 0.7873328317755987)\n",
      "('Running iteration #', 1)\n",
      "('Kmin = ', 2.0568155645494506, ', Imin =', 0.7881337407241684)\n",
      "('Running iteration #', 2)\n",
      "('Kmin = ', 2.098462016178024, ', Imin =', 0.7858866151899376)\n",
      "('Running iteration #', 3)\n",
      "('Kmin = ', 2.246652834017717, ', Imin =', 0.7856343886950561)\n",
      "('Running iteration #', 4)\n",
      "('Kmin = ', 1.861551084202704, ', Imin =', 0.7844933170644555)\n"
     ]
    }
   ],
   "source": [
    "# Doing random sampling for (I,K)\n",
    "\n",
    "# Initiate the trial with a fixed current, trial duration is randomized in [600, 1000]\n",
    "durations = np.linspace(600, 1000, 5)\n",
    "\n",
    "prod_time_lst = []\n",
    "prod_var_lst = []\n",
    "\n",
    "sigma_lst = np.linspace(0.005, 0.05, 10)\n",
    "\n",
    "nsamples = 100\n",
    "#Klst = np.random.uniform(low=1, high=3.5, size=nsamples)\n",
    "#initIlst = np.random.uniform(low=0.78, high=0.79, size=nsamples)\n",
    "MSELST2 = []\n",
    "\n",
    "maxiter = 5\n",
    "ILST = np.zeros((len(sigma_lst), maxiter))\n",
    "KLST = np.zeros((len(sigma_lst), maxiter))\n",
    "\n",
    "bar = Bar('Processing', max=1000)\n",
    "bar.start()\n",
    "\n",
    "# Do simulation several times to obtain error bars\n",
    "for id_s, sigma in enumerate(sigma_lst):\n",
    "    print('*** sigma = ', sigma, ' ***')\n",
    "    for niter in range(maxiter):\n",
    "        print('Running iteration #', niter)\n",
    "        # For each iteration, re-pick list of I and K\n",
    "        Klst = np.random.uniform(low=1, high=3.5, size=nsamples)\n",
    "        initIlst = np.random.uniform(low=0.78, high=0.79, size=nsamples)\n",
    "    \n",
    "        mse_lst = np.zeros(nsamples)\n",
    "        for i in range(nsamples):\n",
    "            I = initIlst[i]\n",
    "            K = Klst[i]\n",
    "            mse_total = 0\n",
    "            for k, time in enumerate(durations):\n",
    "                #print('Doing time #', i, '=', time)\n",
    "\n",
    "                ulst, vlst, ylst, Ilst, siglst, ylst2 = simulate_trial(ntrials=1000, nstages=3, \n",
    "                                                                       duration=time, sigma=sigma, K=K, initI=I)\n",
    "\n",
    "                Ylst2 = np.array(ylst2)\n",
    "                times = get_times_lst_from_y(np.array(Ylst2), 0.7)\n",
    "                times = times[(times > 0) & (times != np.inf)]\n",
    "\n",
    "                mse_total += np.sum((times * 10 - time)**2)\n",
    "\n",
    "            mse_lst[i] = np.sqrt(np.mean(mse_total))\n",
    "            #print('I = ', I, 'K = ', K, 'Total MSE = ', np.sqrt(np.mean(mse_total)))\n",
    "            bar.next()\n",
    "        # Determine the arg-min of the list\n",
    "        argmin = np.argsort(mse_lst)\n",
    "        Kmin = Klst[argmin[0]]\n",
    "        Imin = initIlst[argmin[0]]\n",
    "        KLST[id_s][niter] = Kmin\n",
    "        ILST[id_s][niter] = Imin\n",
    "        print('Kmin = ', Kmin, ', Imin =', Imin)\n",
    "        \n",
    "\n",
    "bar.finish()\n",
    "    \n",
    "#plt.plot(initIlst, mse_lst)"
   ]
  },
  {
   "cell_type": "code",
   "execution_count": 198,
   "metadata": {},
   "outputs": [
    {
     "data": {
      "image/png": "[encoded data removed]",
      "text/plain": [
       "<Figure size 432x288 with 1 Axes>"
      ]
     },
     "metadata": {},
     "output_type": "display_data"
    }
   ],
   "source": [
    "for i, sigma in enumerate(sigma_lst):\n",
    "    plt.plot(np.ones(5) * sigma, ILST[i,:],'b.')"
   ]
  },
  {
   "cell_type": "code",
   "execution_count": 200,
   "metadata": {},
   "outputs": [],
   "source": [
    "scipy.io.savemat('PlotTools/IK_sim_relationship.mat', {'ILST': ILST, 'KLST': KLST,\n",
    "                                            'sigma_lst': sigma_lst})"
   ]
  },
  {
   "cell_type": "code",
   "execution_count": 166,
   "metadata": {},
   "outputs": [
    {
     "data": {
      "text/plain": [
       "array([54,  8, 85, 23, 62, 38, 73,  1, 46,  3, 79, 25, 44,  5, 52, 97, 77,\n",
       "       57, 32, 39,  6, 18, 34, 64, 14,  0,  7, 50, 75, 33, 80, 86, 30, 53,\n",
       "       69, 37, 27, 13,  4, 87, 17, 31, 29, 19, 68, 88, 95, 11, 40, 41, 16,\n",
       "        9, 22, 10, 83, 71, 89, 56, 21, 58,  2, 93, 78, 28, 24, 43, 84, 76,\n",
       "       15, 81, 51, 26, 94, 72, 82, 99, 63, 42, 60, 20, 48, 49, 59, 45, 66,\n",
       "       47, 90, 74, 65, 35, 12, 67, 36, 98, 91, 55, 61, 96, 70, 92],\n",
       "      dtype=int64)"
      ]
     },
     "execution_count": 166,
     "metadata": {},
     "output_type": "execute_result"
    }
   ],
   "source": [
    "np.argsort(mse_lst)"
   ]
  },
  {
   "cell_type": "code",
   "execution_count": 144,
   "metadata": {},
   "outputs": [],
   "source": [
    "# Sort the mse list\n",
    "sorted_all = []\n",
    "argsorted_all = []\n",
    "for lst in MSELST2:\n",
    "    sorted_all.append(np.sort(lst))\n",
    "    argsorted_all.append(np.argsort(lst))"
   ]
  },
  {
   "cell_type": "code",
   "execution_count": 145,
   "metadata": {},
   "outputs": [
    {
     "data": {
      "text/plain": [
       "1.0434809333726376"
      ]
     },
     "execution_count": 145,
     "metadata": {},
     "output_type": "execute_result"
    }
   ],
   "source": [
    "np.min(Klst)"
   ]
  },
  {
   "cell_type": "code",
   "execution_count": 148,
   "metadata": {},
   "outputs": [
    {
     "data": {
      "text/plain": [
       "array([2.75272756, 3.07100811, 3.30750671, 3.16144235, 2.52640791,\n",
       "       2.83157568, 3.11525998, 2.47529917, 2.86507587, 2.77311512])"
      ]
     },
     "execution_count": 148,
     "metadata": {},
     "output_type": "execute_result"
    }
   ],
   "source": [
    "Ksorted"
   ]
  },
  {
   "cell_type": "code",
   "execution_count": 149,
   "metadata": {},
   "outputs": [
    {
     "data": {
      "text/plain": [
       "array([0.78275161, 0.78234553, 0.78457129, 0.7835961 , 0.78297385,\n",
       "       0.78313602, 0.78386971, 0.78185161, 0.78467499, 0.78232583])"
      ]
     },
     "execution_count": 149,
     "metadata": {},
     "output_type": "execute_result"
    }
   ],
   "source": [
    "Isorted"
   ]
  },
  {
   "cell_type": "code",
   "execution_count": 147,
   "metadata": {},
   "outputs": [
    {
     "name": "stderr",
     "output_type": "stream",
     "text": [
      "C:\\Users\\Sur lab\\AppData\\Local\\Continuum\\anaconda3\\lib\\site-packages\\matplotlib\\cbook\\deprecation.py:107: MatplotlibDeprecationWarning: Adding an axes using the same arguments as a previous axes currently reuses the earlier instance.  In a future version, a new instance will always be created and returned.  Meanwhile, this warning can be suppressed, and the future behavior ensured, by passing a unique label to each axes instance.\n",
      "  warnings.warn(message, mplDeprecation, stacklevel=1)\n",
      "C:\\Users\\Sur lab\\AppData\\Local\\Continuum\\anaconda3\\lib\\site-packages\\matplotlib\\cbook\\deprecation.py:107: MatplotlibDeprecationWarning: Adding an axes using the same arguments as a previous axes currently reuses the earlier instance.  In a future version, a new instance will always be created and returned.  Meanwhile, this warning can be suppressed, and the future behavior ensured, by passing a unique label to each axes instance.\n",
      "  warnings.warn(message, mplDeprecation, stacklevel=1)\n",
      "C:\\Users\\Sur lab\\AppData\\Local\\Continuum\\anaconda3\\lib\\site-packages\\matplotlib\\cbook\\deprecation.py:107: MatplotlibDeprecationWarning: Adding an axes using the same arguments as a previous axes currently reuses the earlier instance.  In a future version, a new instance will always be created and returned.  Meanwhile, this warning can be suppressed, and the future behavior ensured, by passing a unique label to each axes instance.\n",
      "  warnings.warn(message, mplDeprecation, stacklevel=1)\n",
      "C:\\Users\\Sur lab\\AppData\\Local\\Continuum\\anaconda3\\lib\\site-packages\\matplotlib\\cbook\\deprecation.py:107: MatplotlibDeprecationWarning: Adding an axes using the same arguments as a previous axes currently reuses the earlier instance.  In a future version, a new instance will always be created and returned.  Meanwhile, this warning can be suppressed, and the future behavior ensured, by passing a unique label to each axes instance.\n",
      "  warnings.warn(message, mplDeprecation, stacklevel=1)\n"
     ]
    },
    {
     "data": {
      "text/plain": [
       "[<matplotlib.lines.Line2D at 0xe348f28>]"
      ]
     },
     "execution_count": 147,
     "metadata": {},
     "output_type": "execute_result"
    },
    {
     "data": {
      "image/png": "[encoded data removed]",
      "text/plain": [
       "<Figure size 1080x360 with 2 Axes>"
      ]
     },
     "metadata": {},
     "output_type": "display_data"
    }
   ],
   "source": [
    "palette = sns.color_palette('Blues', len(MSELST2))\n",
    "plt.figure(figsize=(15, 5))\n",
    "Imeans = []\n",
    "Kmeans = []\n",
    "for i in range(len(MSELST2)):\n",
    "    Ksorted = Klst[argsorted_all[i][:10]]\n",
    "    Isorted = initIlst[argsorted_all[i][:10]]\n",
    "    Imeans.append(np.mean(Isorted))\n",
    "    Kmeans.append(np.mean(Ksorted))\n",
    "    plt.subplot('121')\n",
    "    plt.plot(np.ones(len(Ksorted)) * sigma_lst[i], Ksorted , '.', color=palette[i])\n",
    "    plt.xlabel(r'$\\sigma$')\n",
    "    plt.ylabel('K')\n",
    "    plt.subplot('122')\n",
    "    plt.xlabel(r'$\\sigma$')\n",
    "    plt.ylabel('I')\n",
    "    plt.plot(np.ones(len(Ksorted)) * sigma_lst[i], Isorted, '.', color=palette[i])\n",
    "\n",
    "plt.subplot('121')\n",
    "plt.plot(sigma_lst, Kmeans)\n",
    "plt.subplot('122')\n",
    "plt.plot(sigma_lst, Imeans)\n",
    "\n",
    "# Behavioral results\n",
    "sigma_behavior = [0.019, 0.019, 0.008, 0.02, 0.009, 0.01, 0.017, 0.0245, 0.026];\n",
    "I_behavior = [0.780, 0.779, 0.783, 0.780, 0.783, 0.782, 0.7805, 0.7792, 0.7773];\n",
    "K_behavior = [1.0, 1.0, 2.7, 1.0, 3.3, 2.7, 0.8, 0.8, 0.85];\n",
    "plt.subplot('121')\n",
    "plt.plot(sigma_behavior, K_behavior, 'or')\n",
    "plt.subplot('122')\n",
    "plt.plot(sigma_behavior, I_behavior, 'or')\n",
    "    "
   ]
  },
  {
   "cell_type": "code",
   "execution_count": null,
   "metadata": {
    "collapsed": true
   },
   "outputs": [],
   "source": [
    "def find_min_indices(mat):\n",
    "    '''Given a matrix, return the indices i, j such that mat[i][j] is the minimum entry'''\n",
    "    idmin = np.argmin(mat)\n",
    "    m, n = mat.shape\n",
    "    \n",
    "    return idmin // n, idmin % n\n",
    "\n",
    "def find_min_IK(mat, Ivals, Kvals):\n",
    "    '''Given the MSE matrix, find the I and K corresponding to the min MSE'''\n",
    "    i, j = find_min_indices(mat)\n",
    "    \n",
    "    if i == 0 or i == len(Ivals) - 1:\n",
    "        print('Warning: minimum at boundary for I')\n",
    "    \n",
    "    if j == 0 or j == len(Kvals) - 1:\n",
    "        print('Warning: minimum at boundary for K')\n",
    "    \n",
    "    return Ivals[i], Kvals[j]\n",
    "    \n",
    "\n"
   ]
  },
  {
   "cell_type": "code",
   "execution_count": null,
   "metadata": {},
   "outputs": [],
   "source": [
    "Isim2 = []\n",
    "Ksim2 = []\n",
    "for id in range(12):\n",
    "    I,K = find_min_IK(MSELST2[id], initIlst, Klst)\n",
    "    Isim2.append(I)\n",
    "    Ksim2.append(K)\n",
    "    print(I, K)"
   ]
  },
  {
   "cell_type": "code",
   "execution_count": null,
   "metadata": {
    "collapsed": true
   },
   "outputs": [],
   "source": [
    "Isim = []\n",
    "Ksim = []\n",
    "for id in range(12):\n",
    "    I,K = find_min_IK(MSELST[id], initIlst, Klst)\n",
    "    Isim.append(I)\n",
    "    Ksim.append(K)\n",
    "    print(I, K)"
   ]
  },
  {
   "cell_type": "code",
   "execution_count": null,
   "metadata": {
    "collapsed": true
   },
   "outputs": [],
   "source": [
    "# Simulation results\n",
    "\n",
    "# Behavioral results\n",
    "sigma_behavior = [0.019, 0.019, 0.008, 0.02, 0.009, 0.01, 0.017, 0.0245, 0.026];\n",
    "I_behavior = [0.780, 0.779, 0.783, 0.780, 0.783, 0.782, 0.7805, 0.7792, 0.7773];\n",
    "K_behavior = [1.0, 1.0, 2.7, 1.0, 3.3, 2.7, 0.8, 0.8, 0.85];\n",
    "\n",
    "#plt.plot(sigma_lst, I)\n",
    "plt.figure(figsize=(15, 5))\n",
    "plt.subplot('121')\n",
    "plt.plot(sigma_lst[:6], Ksim2[:6], '.', label='Simulation')\n",
    "plt.plot(sigma_behavior, K_behavior, '.', label='Observed')\n",
    "plt.xlabel(r'$\\sigma$')\n",
    "plt.ylabel(r'$K$')\n",
    "plt.legend(loc='lower left')\n",
    "\n",
    "plt.subplot('122')\n",
    "plt.plot(sigma_lst[:6], Isim2[:6], '.')\n",
    "plt.plot(sigma_behavior, I_behavior, '.')\n",
    "plt.xlabel(r'$\\sigma$')\n",
    "plt.ylabel(r'$I$')\n",
    "\n"
   ]
  },
  {
   "cell_type": "code",
   "execution_count": null,
   "metadata": {
    "collapsed": true
   },
   "outputs": [],
   "source": [
    "0.778/0.784"
   ]
  },
  {
   "cell_type": "code",
   "execution_count": null,
   "metadata": {
    "collapsed": true
   },
   "outputs": [],
   "source": [
    "find_min_IK(MSELST[1], initIlst, Klst)"
   ]
  },
  {
   "cell_type": "code",
   "execution_count": null,
   "metadata": {
    "collapsed": true
   },
   "outputs": [],
   "source": [
    "find_min_IK(MSELST[2], initIlst, Klst)"
   ]
  },
  {
   "cell_type": "code",
   "execution_count": null,
   "metadata": {
    "collapsed": true
   },
   "outputs": [],
   "source": [
    "find_min_IK(MSELST[3], initIlst, Klst)"
   ]
  },
  {
   "cell_type": "code",
   "execution_count": null,
   "metadata": {
    "collapsed": true
   },
   "outputs": [],
   "source": [
    "find_min_IK(MSELST[5], initIlst, Klst)"
   ]
  },
  {
   "cell_type": "code",
   "execution_count": null,
   "metadata": {
    "collapsed": true
   },
   "outputs": [],
   "source": [
    "find_min_IK(MSELST[0], initIlst, Klst)"
   ]
  },
  {
   "cell_type": "code",
   "execution_count": null,
   "metadata": {
    "collapsed": true
   },
   "outputs": [],
   "source": [
    "find_min_indices(MSELST[0])"
   ]
  },
  {
   "cell_type": "code",
   "execution_count": null,
   "metadata": {
    "collapsed": true,
    "scrolled": true
   },
   "outputs": [],
   "source": [
    "np.argmin(MSELST[1])"
   ]
  },
  {
   "cell_type": "code",
   "execution_count": null,
   "metadata": {
    "collapsed": true
   },
   "outputs": [],
   "source": [
    "x = np.random.rand(6, 8)"
   ]
  },
  {
   "cell_type": "code",
   "execution_count": null,
   "metadata": {
    "collapsed": true
   },
   "outputs": [],
   "source": [
    "np.argmin(x)"
   ]
  },
  {
   "cell_type": "code",
   "execution_count": null,
   "metadata": {
    "collapsed": true
   },
   "outputs": [],
   "source": [
    "np.min(x)"
   ]
  },
  {
   "cell_type": "code",
   "execution_count": null,
   "metadata": {
    "collapsed": true
   },
   "outputs": [],
   "source": [
    "x[5][4]"
   ]
  },
  {
   "cell_type": "code",
   "execution_count": null,
   "metadata": {
    "collapsed": true
   },
   "outputs": [],
   "source": [
    "mse_lst[7][5]"
   ]
  },
  {
   "cell_type": "code",
   "execution_count": null,
   "metadata": {
    "collapsed": true
   },
   "outputs": [],
   "source": [
    "np.argmin(mse_lst)"
   ]
  },
  {
   "cell_type": "code",
   "execution_count": null,
   "metadata": {
    "collapsed": true
   },
   "outputs": [],
   "source": [
    "initIlst[7]"
   ]
  },
  {
   "cell_type": "code",
   "execution_count": null,
   "metadata": {
    "collapsed": true
   },
   "outputs": [],
   "source": [
    "plt.plot(Klst, mse_lst[7,:])"
   ]
  },
  {
   "cell_type": "code",
   "execution_count": null,
   "metadata": {
    "collapsed": true
   },
   "outputs": [],
   "source": [
    "plt.figure(figsize=(5, 5))\n",
    "plt.imshow(np.flipud(np.log(mse_lst)), cmap='hot', aspect='auto',\n",
    "           extent=[np.min(Klst), np.max(Klst), np.min(initIlst), np.max(initIlst)])\n",
    "plt.xlabel(r'$K$')\n",
    "plt.ylabel(r'$I_{init}$')\n",
    "plt.colorbar(label='log MSE')\n",
    "plt.savefig('SWE_KI_optimization.pdf')"
   ]
  },
  {
   "cell_type": "code",
   "execution_count": null,
   "metadata": {
    "collapsed": true
   },
   "outputs": [],
   "source": [
    "#KI optimization for subject SWE in RSSG, sigma = 0.01 (found by fitting sd of responses)\n",
    "# Pick a trial duration from [400, 600], and find the MSE across the different trial durations\n",
    "\n",
    "# Initiate the trial with a fixed current, trial duration is randomized in [400, 600]\n",
    "durations = np.linspace(600, 1000, 11)\n",
    "\n",
    "prod_time_lst = []\n",
    "prod_var_lst = []\n",
    "\n",
    "mse_lst = np.zeros((11, 11))\n",
    "Klst = np.linspace(2.5, 3.5, 11)\n",
    "initIlst = np.linspace(0.775, 0.785, 11)\n",
    "\n",
    "for i, I in enumerate(initIlst):\n",
    "    for j, K in enumerate(Klst):\n",
    "        #print('I = ', I, 'K = ', K)\n",
    "        mse_total = 0\n",
    "        for k, time in enumerate(durations):\n",
    "            #print('Doing time #', i, '=', time)\n",
    "\n",
    "            ulst, vlst, ylst, Ilst, siglst, ylst2 = simulate_trial(ntrials=1000, nstages=4, \n",
    "                                                                   duration=time, sigma=0.01, K=K, initI=I)\n",
    "\n",
    "            Ylst2 = np.array(ylst2)\n",
    "            times = get_times_lst_from_y(np.array(Ylst2), 0.7)\n",
    "            times = times[(times > 0) & (times != np.inf)]\n",
    "\n",
    "            mse_total += np.sum((times * 10 - time)**2)\n",
    "\n",
    "        mse_lst[i][j] = mse_total\n",
    "        print('I = ', I, 'K = ', K, 'Total MSE = ', mse_total)\n",
    "    \n",
    "plt.plot(initIlst, mse_lst)"
   ]
  },
  {
   "cell_type": "code",
   "execution_count": null,
   "metadata": {
    "collapsed": true
   },
   "outputs": [],
   "source": [
    "# Initiate the trial with a fixed current, trial duration is randomized in [400, 600]\n",
    "durations = np.linspace(500, 700, 11)\n",
    "\n",
    "prod_time_lst = []\n",
    "prod_var_lst = []\n",
    "\n",
    "for i, time in enumerate(durations):\n",
    "    print('Doing time #', i, '=', time)\n",
    "    \n",
    "    ulst, vlst, ylst, Ilst, siglst, ylst2 = simulate_trial(ntrials=1000, nstages=3, \n",
    "                                                           duration=time, sigma=0.01, K=1.8, initI=0.77)\n",
    "\n",
    "    Ylst2 = np.array(ylst2)\n",
    "    times = get_times_lst_from_y(np.array(Ylst2), 0.7)\n",
    "    times = times[(times > 0) & (times != np.inf)]\n",
    "    #print('Mean level at decision time is ', np.mean(Ylst2[60,:]))\n",
    "    #print('Mean decision time is ', np.mean(times))\n",
    "    prod_time_lst.append(np.mean(times))\n",
    "    prod_var_lst.append(np.std(times))\n",
    "    \n",
    "# Plot the result, error bars represent standard deviation\n",
    "plt.plot(durations, durations, '--')\n",
    "plt.errorbar(durations, np.array(prod_time_lst) * 10, np.array(prod_var_lst) * 10)\n",
    "plt.xlabel('$t_S$')\n",
    "plt.ylabel('$t_P$')\n",
    "plt.title('Production times in RSG simulation')"
   ]
  },
  {
   "cell_type": "code",
   "execution_count": 17,
   "metadata": {},
   "outputs": [
    {
     "data": {
      "text/plain": [
       "array([[ 600],\n",
       "       [ 700],\n",
       "       [ 800],\n",
       "       [ 900],\n",
       "       [1000]], dtype=uint16)"
      ]
     },
     "execution_count": 17,
     "metadata": {},
     "output_type": "execute_result"
    }
   ],
   "source": [
    "tss"
   ]
  },
  {
   "cell_type": "code",
   "execution_count": 16,
   "metadata": {},
   "outputs": [
    {
     "name": "stdout",
     "output_type": "stream",
     "text": [
      "Doing time # 0 = [600]\n",
      "Doing time # 1 = [700]\n",
      "Doing time # 2 = [800]\n",
      "Doing time # 3 = [900]\n",
      "Doing time # 4 = [1000]\n",
      "Doing time # 0 = [600]\n",
      "Doing time # 1 = [700]\n",
      "Doing time # 2 = [800]\n",
      "Doing time # 3 = [900]\n",
      "Doing time # 4 = [1000]\n",
      "RSG results:\n",
      "Observed mean STD =  88.64726051375149\n",
      "Simulated mean STD =  88.57058940814514\n",
      "RSSG results:\n",
      "Observed mean STD =  89.78099072661946\n",
      "Simulated mean STD =  88.67370528208619\n"
     ]
    },
    {
     "data": {
      "image/png": "[encoded data removed]",
      "text/plain": [
       "<Figure size 720x360 with 2 Axes>"
      ]
     },
     "metadata": {
      "needs_background": "light"
     },
     "output_type": "display_data"
    }
   ],
   "source": [
    "# Load data for subject GB (RSG/RSSG, Seth provided)\n",
    "subject_file = 'VR_EKF_ObsAct0_20171105.mat'\n",
    "\n",
    "sigma_val = 0.026\n",
    "I_val = 0.7773\n",
    "K_val = 0.85\n",
    "\n",
    "subject_data = scipy.io.loadmat(subject_file)\n",
    "B = subject_data['B']\n",
    "ts_vec = subject_data['ts_vec']\n",
    "ta = subject_data['ta']\n",
    "tss = subject_data['tss']\n",
    "mtp_in = subject_data['mtp_in']\n",
    "stdtp_in = subject_data['stdtp_in']\n",
    "\n",
    "b = np.mean(B[:,0])\n",
    "\n",
    "# Initiate the trial with a fixed current, trial duration is randomized in [400, 600]\n",
    "durations = tss\n",
    "\n",
    "prod_time_lst = []\n",
    "prod_var_lst = []\n",
    "prod_time_lst2 = []\n",
    "prod_var_lst2 = []\n",
    "\n",
    "#1,2,Go simulation\n",
    "for i, time in enumerate(durations):\n",
    "    print('Doing time #', i, '=', time)\n",
    "    \n",
    "    ulst, vlst, ylst, Ilst, siglst, ylst2 = simulate_trial(ntrials=1000, nstages=3, duration=time, \n",
    "                                                           sigma=sigma_val, K=K_val, initI=I_val)\n",
    "\n",
    "    Ylst2 = np.array(ylst2)\n",
    "    times = get_times_lst_from_y(np.array(Ylst2), 0.7)\n",
    "    times = times[(times > 0) & (times != np.inf)]\n",
    "    #print('Mean level at decision time is ', np.mean(Ylst2[60,:]))\n",
    "    #print('Mean decision time is ', np.mean(times))\n",
    "    prod_time_lst.append(np.mean(times))\n",
    "    prod_var_lst.append(np.std(times))\n",
    "\n",
    "#1,2,3,Go simulation\n",
    "for i, time in enumerate(durations):\n",
    "    print('Doing time #', i, '=', time)\n",
    "    \n",
    "    ulst, vlst, ylst, Ilst, siglst, ylst2 = simulate_trial(ntrials=1000, nstages=4, duration=time, \n",
    "                                                           sigma=sigma_val, K=K_val, initI=I_val)\n",
    "\n",
    "    Ylst2 = np.array(ylst2)\n",
    "    times = get_times_lst_from_y(np.array(Ylst2), 0.7)\n",
    "    times = times[(times > 0) & (times != np.inf)]\n",
    "    #print('Mean level at decision time is ', np.mean(Ylst2[60,:]))\n",
    "    #print('Mean decision time is ', np.mean(times))\n",
    "    prod_time_lst2.append(np.mean(times))\n",
    "    prod_var_lst2.append(np.std(times))\n",
    "    \n",
    "# Plot the result, error bars represent standard deviation\n",
    "plt.figure(figsize=(10, 5))\n",
    "plt.subplot('121')\n",
    "plt.errorbar(tss, mtp_in[:,0], stdtp_in[:,0], color='r', label='Observed')\n",
    "#plt.errorbar(tss, mtp_in[:,1], stdtp_in[:,1], color='g')\n",
    "\n",
    "# Plot the result, error bars represent standard deviation\n",
    "plt.plot(durations, durations, '--')\n",
    "plt.errorbar(durations + 5, np.array(prod_time_lst) * 10, np.array(prod_var_lst) * 10, color='b', label='Model')\n",
    "plt.xlabel('$t_S$')\n",
    "plt.ylabel('$t_P$')\n",
    "plt.title('RSG')\n",
    "\n",
    "plt.subplot('122')\n",
    "plt.errorbar(tss, mtp_in[:,1], stdtp_in[:,1], color='r', label='Observed')\n",
    "#plt.errorbar(tss, mtp_in[:,1], stdtp_in[:,1], color='g')\n",
    "\n",
    "# Plot the result, error bars represent standard deviation\n",
    "plt.plot(durations, durations, '--')\n",
    "plt.errorbar(durations + 5, np.array(prod_time_lst2) * 10, np.array(prod_var_lst2) * 10, color='b', label='Model')\n",
    "plt.xlabel('$t_S$')\n",
    "plt.ylabel('$t_P$')\n",
    "plt.title('RSSG')\n",
    "plt.legend()\n",
    "\n",
    "print('RSG results:')\n",
    "print('Observed mean STD = ', np.mean(stdtp_in[:,0]))\n",
    "print('Simulated mean STD = ', np.mean(np.mean(prod_var_lst)* 10))\n",
    "\n",
    "print('RSSG results:')\n",
    "print('Observed mean STD = ', np.mean(stdtp_in[:,1]))\n",
    "print('Simulated mean STD = ', np.mean(np.mean(prod_var_lst2)* 10))"
   ]
  },
  {
   "cell_type": "code",
   "execution_count": null,
   "metadata": {
    "collapsed": true
   },
   "outputs": [],
   "source": [
    "# Load data for subject SWE(RSG/RSSG, Seth provided)\n",
    "swedata = scipy.io.loadmat('\n",
    "                           \n",
    "                           \n",
    "                           ')\n",
    "B = swedata['B']\n",
    "ts_vec = swedata['ts_vec']\n",
    "ta = swedata['ta']\n",
    "tss = swedata['tss']\n",
    "mtp_in = swedata['mtp_in']\n",
    "stdtp_in = swedata['stdtp_in']\n",
    "\n",
    "b = np.mean(B[:,0])\n",
    "\n",
    "\n",
    "\n",
    "# Initiate the trial with a fixed current, trial duration is randomized in [400, 600]\n",
    "durations = tss\n",
    "\n",
    "prod_time_lst = []\n",
    "prod_var_lst = []\n",
    "prod_time_lst2 = []\n",
    "prod_var_lst2 = []\n",
    "\n",
    "\n",
    "#1,2,Go simulation\n",
    "for i, time in enumerate(durations):\n",
    "    print('Doing time #', i, '=', time)\n",
    "    \n",
    "    ulst, vlst, ylst, Ilst, siglst, ylst2 = simulate_trial(ntrials=1000, nstages=3, duration=time, sigma=0.01, K=3, initI=0.782)\n",
    "\n",
    "    Ylst2 = np.array(ylst2)\n",
    "    times = get_times_lst_from_y(np.array(Ylst2), 0.7)\n",
    "    times = times[(times > 0) & (times != np.inf)]\n",
    "    #print('Mean level at decision time is ', np.mean(Ylst2[60,:]))\n",
    "    #print('Mean decision time is ', np.mean(times))\n",
    "    prod_time_lst.append(np.mean(times))\n",
    "    prod_var_lst.append(np.std(times))\n",
    "\n",
    "#1,2,3,Go simulation\n",
    "for i, time in enumerate(durations):\n",
    "    print('Doing time #', i, '=', time)\n",
    "    \n",
    "    ulst, vlst, ylst, Ilst, siglst, ylst2 = simulate_trial(ntrials=1000, nstages=4, duration=time, sigma=0.01, K=2.9, initI=0.7818)\n",
    "\n",
    "    Ylst2 = np.array(ylst2)\n",
    "    times = get_times_lst_from_y(np.array(Ylst2), 0.7)\n",
    "    times = times[(times > 0) & (times != np.inf)]\n",
    "    #print('Mean level at decision time is ', np.mean(Ylst2[60,:]))\n",
    "    #print('Mean decision time is ', np.mean(times))\n",
    "    prod_time_lst2.append(np.mean(times))\n",
    "    prod_var_lst2.append(np.std(times))\n",
    "    \n",
    "# Plot the result, error bars represent standard deviation\n",
    "plt.figure(figsize=(10, 5))\n",
    "plt.subplot('121')\n",
    "plt.errorbar(tss, mtp_in[:,0], stdtp_in[:,0], color='r', label='Observed')\n",
    "#plt.errorbar(tss, mtp_in[:,1], stdtp_in[:,1], color='g')\n",
    "\n",
    "# Plot the result, error bars represent standard deviation\n",
    "plt.plot(durations, durations, '--')\n",
    "plt.errorbar(durations + 5, np.array(prod_time_lst) * 10, np.array(prod_var_lst) * 10, color='b', label='Model')\n",
    "plt.xlabel('$t_S$')\n",
    "plt.ylabel('$t_P$')\n",
    "plt.title('RSG')\n",
    "\n",
    "plt.subplot('122')\n",
    "plt.errorbar(tss, mtp_in[:,1], stdtp_in[:,1], color='r', label='Observed')\n",
    "#plt.errorbar(tss, mtp_in[:,1], stdtp_in[:,1], color='g')\n",
    "\n",
    "# Plot the result, error bars represent standard deviation\n",
    "plt.plot(durations, durations, '--')\n",
    "plt.errorbar(durations + 5, np.array(prod_time_lst2) * 10, np.array(prod_var_lst2) * 10, color='b', label='Model')\n",
    "plt.xlabel('$t_S$')\n",
    "plt.ylabel('$t_P$')\n",
    "plt.title('RSSG')\n",
    "plt.legend()"
   ]
  },
  {
   "cell_type": "code",
   "execution_count": null,
   "metadata": {
    "collapsed": true
   },
   "outputs": [],
   "source": [
    "# Fitting the data to find sigma\n",
    "\n",
    "# Load data for subject SWE(RSG/RSSG, Seth provided)\n",
    "swedata = scipy.io.loadmat('SWE_EKF_ObsAct0_20171125.mat')\n",
    "B = swedata['B']\n",
    "ts_vec = swedata['ts_vec']\n",
    "ta = swedata['ta']\n",
    "tss = swedata['tss']\n",
    "mtp_in = swedata['mtp_in']\n",
    "stdtp_in = swedata['stdtp_in']\n",
    "\n",
    "b = np.mean(B[:,0])\n",
    "\n",
    "# Initiate the trial with a fixed current, trial duration is randomized in [400, 600]\n",
    "durations = tss\n",
    "\n",
    "prod_time_lst = []\n",
    "prod_var_lst = []\n",
    "prod_time_lst2 = []\n",
    "prod_var_lst2 = []\n",
    "\n",
    "\n",
    "#1,2,Go simulation\n",
    "for i, time in enumerate(durations):\n",
    "    print('Doing time #', i, '=', time)\n",
    "    \n",
    "    ulst, vlst, ylst, Ilst, siglst, ylst2 = simulate_trial(ntrials=10000, nstages=3, duration=time, sigma=0.01, K=3, initI=0.782)\n",
    "\n",
    "    Ylst2 = np.array(ylst2)\n",
    "    times = get_times_lst_from_y(np.array(Ylst2), 0.7)\n",
    "    times = times[(times > 0) & (times != np.inf)]\n",
    "    #print('Mean level at decision time is ', np.mean(Ylst2[60,:]))\n",
    "    #print('Mean decision time is ', np.mean(times))\n",
    "    prod_time_lst.append(np.mean(times))\n",
    "    prod_var_lst.append(np.std(times))\n",
    "    \n",
    "#1,2,3,Go simulation\n",
    "for i, time in enumerate(durations):\n",
    "    print('Doing time #', i, '=', time)\n",
    "    \n",
    "    ulst, vlst, ylst, Ilst, siglst, ylst2 = simulate_trial(ntrials=10000, nstages=4, duration=time, sigma=0.01, K=2.9, initI=0.782)\n",
    "\n",
    "    Ylst2 = np.array(ylst2)\n",
    "    times = get_times_lst_from_y(np.array(Ylst2), 0.7)\n",
    "    times = times[(times > 0) & (times != np.inf)]\n",
    "    #print('Mean level at decision time is ', np.mean(Ylst2[60,:]))\n",
    "    #print('Mean decision time is ', np.mean(times))\n",
    "    prod_time_lst2.append(np.mean(times))\n",
    "    prod_var_lst2.append(np.std(times))\n",
    "\n",
    "print('RSG results:')\n",
    "print('Observed mean STD = ', np.mean(stdtp_in[:,0]))\n",
    "print('Simulated mean STD = ', np.mean(np.mean(prod_var_lst)* 10))\n",
    "\n",
    "print('RSSG results:')\n",
    "print('Observed mean STD = ', np.mean(stdtp_in[:,1]))\n",
    "print('Simulated mean STD = ', np.mean(np.mean(prod_var_lst2)* 10))"
   ]
  },
  {
   "cell_type": "markdown",
   "metadata": {},
   "source": [
    "### Scalar variability"
   ]
  },
  {
   "cell_type": "code",
   "execution_count": null,
   "metadata": {
    "collapsed": true
   },
   "outputs": [],
   "source": [
    "# Initiate the trial with a fixed current, trial duration is randomized in [400, 600]\n",
    "sigmas = np.linspace(0.01, 0.2, 6)\n",
    "durations = np.linspace(400, 1000, 10)\n",
    "\n",
    "prod_time_lst = np.zeros((6, 10))\n",
    "prod_var_lst = np.zeros((6, 10))\n",
    "\n",
    "for i, sigma in enumerate(sigmas):\n",
    "    print('Doing sigma #', i, '=', sigma)\n",
    "    for j, duration in enumerate(durations):\n",
    "        ulst, vlst, ylst, Ilst, siglst, ylst2 = simulate_trial(ntrials=1000, nstages=3, duration=duration, sigma=sigma, K=1.89, initI=0.771)\n",
    "\n",
    "        Ylst2 = np.array(ylst2)\n",
    "        times = get_times_lst_from_y(np.array(Ylst2), 0.7)\n",
    "        times = times[(times > 0) & (times != np.inf)]\n",
    "\n",
    "        prod_time_lst[i][j] = np.mean(times)\n",
    "        prod_var_lst[i][j] = np.std(times)\n",
    "    "
   ]
  },
  {
   "cell_type": "code",
   "execution_count": null,
   "metadata": {
    "collapsed": true
   },
   "outputs": [],
   "source": [
    "colors = sns.color_palette('hls', 6)\n",
    "\n",
    "# Plot the result\n",
    "for i in range(6):\n",
    "    meanlst = prod_time_lst[i,:] * 10\n",
    "    varlst = prod_var_lst[i,:]\n",
    "\n",
    "    meanmean = np.mean(meanlst)\n",
    "    varmean = np.mean(varlst)\n",
    "    \n",
    "    plotx = np.linspace(0, meanmean * 1.2, 10)\n",
    "\n",
    "    # Do linear regression\n",
    "    m, c,_,_,_ = scipy.stats.linregress(meanlst, varlst)\n",
    "\n",
    "    plt.plot(meanlst, varlst, '.', label=r'$\\sigma = $' + str(sigmas[i])[:4], color=colors[i])\n",
    "    plt.plot(plotx, plotx * varmean / meanmean, '--', color=colors[i], linewidth=1.5)\n",
    "    #plt.errorbar(durations, np.array(prod_time_lst) * 10, np.array(prod_var_lst) * 10)\n",
    "\n",
    "plt.xlabel('$t_P$ (ms)')\n",
    "plt.ylabel('standard dev $(t_P)$  (ms)')\n",
    "plt.title('Production times in RSG simulation')\n",
    "    \n",
    "\n",
    "#plt.xlim((0, 80))\n",
    "#plt.ylim((0, 23))\n",
    "plt.legend(loc='upper left')"
   ]
  },
  {
   "cell_type": "markdown",
   "metadata": {},
   "source": [
    "### Multiple productions"
   ]
  },
  {
   "cell_type": "markdown",
   "metadata": {},
   "source": [
    "Now we simulate $S^a G^b$ where there are $a$ cues for entrainment and $b$ cues for production. Cases for $b=1$ have been simulated above.\n",
    "\n",
    "We do $a=2$ and $b=1,2,3,...$."
   ]
  },
  {
   "cell_type": "code",
   "execution_count": null,
   "metadata": {
    "collapsed": true
   },
   "outputs": [],
   "source": [
    "def simulate_trial_multiple(ntrials=1000, duration=600, nstages=10, sigma=0, K=3.0, initI=0.7, nprod=5):\n",
    "    # Initial run\n",
    "    #ntrials = 1000\n",
    "    #duration = 600 #ms\n",
    "    #nstages = 10\n",
    "    PARAMS_DICT['sigma'] = sigma\n",
    "    PARAMS_DICT['K'] = K\n",
    "    \n",
    "    nbin = int(duration / PARAMS_DICT['dt'])\n",
    "\n",
    "    state_init = [np.ones(ntrials) * initI, \n",
    "                  np.ones(ntrials) * 0.7, \n",
    "                  np.ones(ntrials) * 0.2,\n",
    "                  np.ones(ntrials) * 0.5,\n",
    "                  0.0]\n",
    "\n",
    "    if nstages > 1:\n",
    "        ulst, vlst, ylst, Ilst, siglst = start_simulation_parallel(state_init, PARAMS_DICT, nbin)\n",
    "    else:\n",
    "        ulst, vlst, ylst, Ilst, siglst = start_simulation_parallel(state_init, PARAMS_DICT, 100)\n",
    "\n",
    "    # For subsequent runs, flip the state every 100 trials\n",
    "    for k in range((nstages - 2) * 2):\n",
    "        #acoefs = 1 - acoefs\n",
    "        state_init = [Ilst[-1], ulst[-1], vlst[-1], ylst[-1], (state_init[4] + 1.0)%2]\n",
    "        if state_init[4] == 0.0:\n",
    "            ulst2, vlst2, ylst2, Ilst2, siglst2 = start_simulation_parallel(state_init, PARAMS_DICT, nbin)\n",
    "        else:\n",
    "            ulst2, vlst2, ylst2, Ilst2, siglst2 = start_simulation_parallel(state_init, PARAMS_DICT, 1)\n",
    "\n",
    "        ulst += ulst2\n",
    "        vlst += vlst2\n",
    "        ylst += ylst2\n",
    "        Ilst += Ilst2\n",
    "        siglst += siglst2\n",
    "        \n",
    "        print(state_init[4])\n",
    "\n",
    "    if nstages > 1:\n",
    "        # For the last run, produce the behavior when the threshold is reached\n",
    "        #state_init = [Ilst[-1], ulst[-1], vlst[-1], ylst[-1], 0.0]\n",
    "        #ulst2, vlst2, ylst2, Ilst2, siglst2 = start_simulation_to_thresh(state_init, PARAMS_DICT, 100)\n",
    "        #ulst += ulst2\n",
    "        #lst += vlst2\n",
    "        #ylst += ylst2\n",
    "        #Ilst += Ilst2\n",
    "        #siglst += siglst2\n",
    "        \n",
    "        # Gather the last state before nan is reached\n",
    "        for k in range(nprod):\n",
    "            state_init = [Ilst[-1], ulst[-1], vlst[-1], ylst[-1], 0.0]\n",
    "            ulst2, vlst2, ylst2, Ilst2, siglst2 = start_simulation_to_thresh(state_init, PARAMS_DICT, 100)\n",
    "            ulst += ulst2\n",
    "            vlst += vlst2\n",
    "            ylst += ylst2\n",
    "            Ilst += Ilst2\n",
    "            siglst += siglst2\n",
    "            \n",
    "            state_init = get_last_valid_arrs([Ilst, ulst, vlst, ylst]) + [1.0]\n",
    "            ulst2, vlst2, ylst2, Ilst2, siglst2 = start_simulation_parallel(state_init, PARAMS_DICT, 1)\n",
    "            ulst += ulst2\n",
    "            vlst += vlst2\n",
    "            ylst += ylst2\n",
    "            Ilst += Ilst2\n",
    "            siglst += siglst2\n",
    "\n",
    "            \n",
    "        \n",
    "        \n",
    "    else:\n",
    "        siglst[nbin] = 1\n",
    "        ylst2 = ylst\n",
    "\n",
    "    return ulst, vlst, ylst, Ilst, siglst, ylst2"
   ]
  },
  {
   "cell_type": "code",
   "execution_count": null,
   "metadata": {
    "collapsed": true
   },
   "outputs": [],
   "source": [
    "def get_last_valid(lst):\n",
    "    '''Get the last state of lst before nan'''\n",
    "    return lst[~np.isnan(lst)][-1]\n",
    "\n",
    "def get_last_valid_arr(arr):\n",
    "    '''Get the last state of arr for each run'''\n",
    "    Arr = np.array(arr)\n",
    "    states = []\n",
    "    for i in range(Arr.shape[1]):\n",
    "        lst = Arr[:,i]\n",
    "        states.append(get_last_valid(lst))\n",
    "        #print(get_last_valid(lst))\n",
    "    return np.array(states)\n",
    "\n",
    "def get_last_valid_arrs(arr_lst):\n",
    "    '''Given a list of arrays, return the init state of each variable'''\n",
    "    initlst = []\n",
    "    for arr in arr_lst:\n",
    "        initlst.append(get_last_valid_arr(arr))\n",
    "    return initlst"
   ]
  },
  {
   "cell_type": "code",
   "execution_count": null,
   "metadata": {
    "collapsed": true
   },
   "outputs": [],
   "source": [
    "def start_simulation_to_thresh(state_init, params, niter):\n",
    "    '''\n",
    "    Inputs:\n",
    "    state_init: an array which includes:\n",
    "        * I: initial current\n",
    "        * u: initial state of u\n",
    "        * v: initial state of v\n",
    "        * y: initial state of y (readout neuron)\n",
    "        * sig: state indicator (0 or 1)\n",
    "        \n",
    "    params: a dictionary of relevant parameters\n",
    "    niter: number of iterations\n",
    "    \n",
    "    Outputs: each list contains niter elements\n",
    "    u_lst: list of u activities \n",
    "    v_lst: list of v activities\n",
    "    y_lst: list of y activities\n",
    "    I_lst: list of I activities\n",
    "    sig_lst: list of sig in this simulation\n",
    "        \n",
    "    '''\n",
    "    \n",
    "    # Unpack parameters of the simulation\n",
    "    Wut = params['Wut']\n",
    "    Wuv = params['Wut']\n",
    "    Wvt = params['Wut']\n",
    "    Wvu = params['Wut']\n",
    "    dt = params['dt']\n",
    "    tau = params['tau']\n",
    "    ext = params['ext']\n",
    "    y0 = params['y0'] #The target (threshold) value of y\n",
    "    K = params['K']\n",
    "    sigma = params['sigma']\n",
    "    \n",
    "    # Unpack variables\n",
    "    I, u, v, y, sig = state_init\n",
    "    \n",
    "    ntrials = len(I)\n",
    "    \n",
    "    I = I.copy()\n",
    "    u = u.copy()\n",
    "    v = v.copy()\n",
    "    y = y.copy()\n",
    "        \n",
    "    sig_lst = []\n",
    "    u_lst = []\n",
    "    v_lst = []\n",
    "    y_lst = []\n",
    "    I_lst = []\n",
    "    \n",
    "    for i in range(niter):                \n",
    "        # I update here:\n",
    "        I += (sig * K * (y - y0)) / 100 * dt\n",
    "        \n",
    "\n",
    "        # u-v and y update\n",
    "        if sig == 0:\n",
    "            u += (-u + thresh_exp(Wut * I - Wuv * v + 0 + np.random.randn(ntrials) * sigma)) / tau * dt\n",
    "            v += (-v + thresh_exp(Wvt * I - Wvu * u + 0 + np.random.randn(ntrials) * sigma)) / tau * dt\n",
    "        else:\n",
    "            u += (-u + thresh_exp(Wut * I - Wuv * v - 50 + np.random.randn(ntrials) * sigma)) / tau * dt\n",
    "            v += (-v + thresh_exp(Wvt * I - Wvu * u + 50 + np.random.randn(ntrials) * sigma)) / tau * dt\n",
    "\n",
    "        y += (-y + u - v + np.random.randn(ntrials) * sigma) / 100 * dt\n",
    "\n",
    "        v_lst.append(v.copy())\n",
    "        u_lst.append(u.copy())\n",
    "        y_lst.append(y.copy())\n",
    "        I_lst.append(I.copy())\n",
    "        sig_lst.append(sig)\n",
    "        \n",
    "        y[y > y0] = np.nan\n",
    "        \n",
    "        #print(np.sum(~np.isnan(y)))\n",
    "        # Terminate once threshold is reached\n",
    "        if np.sum(~np.isnan(y)) == 0:\n",
    "            #print(np.sum(~np.isnan(y)))\n",
    "            #print('Breaking at ', i, '...')\n",
    "            break\n",
    "            \n",
    "    \n",
    "    return u_lst, v_lst, y_lst, I_lst, sig_lst\n"
   ]
  },
  {
   "cell_type": "code",
   "execution_count": null,
   "metadata": {
    "collapsed": true
   },
   "outputs": [],
   "source": [
    "def remove_nan_transpose(varlst):\n",
    "    Varlst = np.array(varlst)\n",
    "    res = []\n",
    "    for i in range(Varlst.shape[1]):\n",
    "        lst = Varlst[:,i]\n",
    "        \n",
    "        #Remove nan\n",
    "        lst = lst[~np.isnan(lst)]\n",
    "        \n",
    "        res.append(lst)\n",
    "        \n",
    "    return res\n",
    "        \n",
    "    \n"
   ]
  },
  {
   "cell_type": "code",
   "execution_count": null,
   "metadata": {
    "collapsed": true
   },
   "outputs": [],
   "source": [
    "def plot_simulation_parallel(ulst, vlst, ylst, Ilst, siglst, params_dict):\n",
    "    '''Plot the simulations'''\n",
    "    dt = params_dict['dt']\n",
    "    nsteps = len(ulst)\n",
    "    tlst = np.arange(nsteps).astype('int')\n",
    "    sig_lst = np.floor(tlst / 100) % 2\n",
    "    sig_lst = sig_lst.astype('int')\n",
    "    \n",
    "    ulst_arr = np.array(ulst)\n",
    "    vlst_arr = np.array(vlst)\n",
    "    ylst_arr = np.array(ylst)\n",
    "    Ilst_arr = np.array(Ilst)\n",
    "    \n",
    "    wherelst = np.array(siglst) == 1.0\n",
    "    wherelst_shifted = np.concatenate((wherelst[1:], [False]))\n",
    "    wherelst += wherelst_shifted\n",
    "    \n",
    "    #wherelst2 = np.array(siglst) == 2.0\n",
    "\n",
    "    fig, ax = plt.subplots(4, 1, figsize=(10, 10))\n",
    "    ax[0].plot(np.arange(nsteps) * dt, ulst_arr, 'b', alpha=0.2)\n",
    "    ax[0].set_ylabel('u')\n",
    "    ax[0].fill_between(np.arange(nsteps) * dt, np.min(np.array(ulst)), np.max(np.array(ulst)), where=wherelst, alpha=0.5)\n",
    "    #ax[0].fill_between(np.arange(nsteps) * dt, np.min(np.array(ulst)), np.max(np.array(ulst)), where=wherelst2, alpha=0.2)\n",
    "\n",
    "    ax[1].plot(np.arange(nsteps) * dt, vlst_arr, 'b', alpha=0.2)\n",
    "    ax[1].set_ylabel('v')\n",
    "    ax[1].fill_between(np.arange(nsteps) * dt, np.min(np.array(vlst)), np.max(np.array(vlst)), where=wherelst, alpha=0.5)\n",
    "    #ax[1].fill_between(np.arange(nsteps) * dt, np.min(np.array(vlst)), np.max(np.array(vlst)), where=wherelst2, alpha=0.2)\n",
    "\n",
    "    ax[2].plot(np.arange(nsteps) * dt, ylst_arr, 'b', alpha=0.2)\n",
    "    ax[2].set_ylabel('y')\n",
    "    ax[2].fill_between(np.arange(nsteps) * dt, np.min(np.array(ylst)), np.max(np.array(ylst)), where=wherelst, alpha=0.5)\n",
    "    #ax[2].fill_between(np.arange(nsteps) * dt, np.min(np.array(ylst)), np.max(np.array(ylst)), where=wherelst2, alpha=0.2)\n",
    "    ax[2].hlines(0.7, 0, nsteps * dt, linestyle='dotted')\n",
    "\n",
    "    ax[3].plot(np.arange(nsteps) * dt, Ilst_arr, 'b', alpha=0.2)\n",
    "    ax[3].set_ylabel('I')\n",
    "    ax[3].fill_between(np.arange(nsteps) * dt, np.min(np.array(Ilst)), np.max(np.array(Ilst)), where=wherelst, alpha=0.5)\n",
    "    #ax[3].fill_between(np.arange(nsteps) * dt, np.min(np.array(Ilst)), np.max(np.array(Ilst)), where=wherelst2, alpha=0.2)\n",
    "    ax[3].set_xlabel('Time (ms)');"
   ]
  },
  {
   "cell_type": "code",
   "execution_count": null,
   "metadata": {
    "collapsed": true
   },
   "outputs": [],
   "source": [
    "ulst, vlst, ylst, Ilst, siglst, ylst2 = simulate_trial_multiple(ntrials=100, nstages=3, duration=600, \n",
    "                                                                sigma=0.01, K=2, initI=0.771,\n",
    "                                                               nprod=10)\n",
    "\n",
    "plt.figure(figsize=(10, 5))\n",
    "a = remove_nan_transpose(ylst)\n",
    "for i in range(len(a)):\n",
    "    plt.plot(np.arange(len(a[i])) * 10, a[i], 'b', alpha=0.1)\n",
    "plt.xlabel('Time (ms)')\n",
    "plt.ylabel('y')\n",
    "plt.hlines(0.7, 0, 8000, linestyles='--')"
   ]
  }
 ],
 "metadata": {
  "kernelspec": {
   "display_name": "Python 3",
   "language": "python",
   "name": "python3"
  },
  "language_info": {
   "codemirror_mode": {
    "name": "ipython",
    "version": 3
   },
   "file_extension": ".py",
   "mimetype": "text/x-python",
   "name": "python",
   "nbconvert_exporter": "python",
   "pygments_lexer": "ipython3",
   "version": "3.7.0"
  }
 },
 "nbformat": 4,
 "nbformat_minor": 2
}
